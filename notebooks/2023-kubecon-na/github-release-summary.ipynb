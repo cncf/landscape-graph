{
 "cells": [
  {
   "cell_type": "code",
   "execution_count": null,
   "id": "4e6e1d35-e9e3-458d-a393-5f46e67f34f2",
   "metadata": {},
   "outputs": [],
   "source": [
    "import pandas as pd\n",
    "import dask.dataframe as dd\n",
    "\n",
    "pd.set_option('display.max_rows', 500)\n",
    "pd.set_option('display.max_columns', 500)\n",
    "pd.set_option('display.width', 150)"
   ]
  },
  {
   "cell_type": "code",
   "execution_count": null,
   "id": "e7fe5702-10c6-45dd-b472-7eab5adbc258",
   "metadata": {},
   "outputs": [],
   "source": [
    "\n",
    "# https://landscape.cncf.io/data/items.json\n",
    "LANDSCAPE_FNAME = '../../landscape-items.json'\n",
    "\n",
    "use_dask = False\n",
    "\n",
    "if use_dask:\n",
    "    ddf = dd.read_json(LANDSCAPE_FNAME, orient='records', blocksize=\"2MB\")\n",
    "    ddf.compute()\n",
    "    display(ddf.visualize())\n",
    "    display(ddf.head())\n",
    "else:\n",
    "    df = pd.read_json(LANDSCAPE_FNAME, orient='records')\n",
    "    display(df.head())\n"
   ]
  },
  {
   "cell_type": "code",
   "execution_count": null,
   "id": "25cdf075-38ad-4fcf-b20f-4877d5293087",
   "metadata": {},
   "outputs": [],
   "source": [
    "\n"
   ]
  }
 ],
 "metadata": {
  "kernelspec": {
   "display_name": "Python 3 (ipykernel)",
   "language": "python",
   "name": "python3"
  },
  "language_info": {
   "codemirror_mode": {
    "name": "ipython",
    "version": 3
   },
   "file_extension": ".py",
   "mimetype": "text/x-python",
   "name": "python",
   "nbconvert_exporter": "python",
   "pygments_lexer": "ipython3",
   "version": "3.11.5"
  }
 },
 "nbformat": 4,
 "nbformat_minor": 5
}
