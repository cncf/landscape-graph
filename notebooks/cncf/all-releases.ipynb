{
 "cells": [
  {
   "cell_type": "code",
   "execution_count": 2,
   "metadata": {},
   "outputs": [
    {
     "name": "stdout",
     "output_type": "stream",
     "text": [
      "          repo_name release_name               release_date language  \\\n",
      "0  argoproj/argo-cd       v2.9.0  2023-11-06 05:27:12+00:00       Go   \n",
      "1  argoproj/argo-cd       v2.8.6  2023-11-01 17:29:59+00:00       Go   \n",
      "2  argoproj/argo-cd   v2.9.0-rc4  2023-10-31 22:28:01+00:00       Go   \n",
      "3  argoproj/argo-cd       v2.8.5  2023-10-31 19:30:03+00:00       Go   \n",
      "4  argoproj/argo-cd   v2.9.0-rc3  2023-10-25 19:54:22+00:00       Go   \n",
      "\n",
      "       level  \n",
      "0  graduated  \n",
      "1  graduated  \n",
      "2  graduated  \n",
      "3  graduated  \n",
      "4  graduated  \n"
     ]
    }
   ],
   "source": [
    "import pandas as pd\n",
    "from typing import List\n",
    "\n",
    "def load_json_files(levels: List[str]) -> pd.DataFrame:\n",
    "    \"\"\"\n",
    "    Load JSON files for each level and merge them into a single dataframe.\n",
    "    Add a 'level' column to each item indicating the level it belongs to.\n",
    "    \"\"\"\n",
    "    dfs = []\n",
    "    for level in levels:\n",
    "        file_path = f'/Users/matt/gha/ospo/ospo-tools/notebooks/cncf/out/cncf-{level}-github-releases.json'\n",
    "        df = pd.read_json(file_path, lines=True)\n",
    "        df['level'] = level\n",
    "        dfs.append(df)\n",
    "    return pd.concat(dfs, ignore_index=True)\n",
    "\n",
    "# Example usage:\n",
    "levels = ['graduated', 'incubating', 'sandbox']\n",
    "combined_df = load_json_files(levels)\n",
    "print(combined_df.head())\n"
   ]
  },
  {
   "cell_type": "code",
   "execution_count": 3,
   "metadata": {},
   "outputs": [],
   "source": [
    "result = combined_df.to_csv('./out/cncf-all-github-releases.csv')\n",
    "\n"
   ]
  },
  {
   "cell_type": "code",
   "execution_count": null,
   "metadata": {},
   "outputs": [],
   "source": []
  }
 ],
 "metadata": {
  "kernelspec": {
   "display_name": ".venv",
   "language": "python",
   "name": "python3"
  },
  "language_info": {
   "codemirror_mode": {
    "name": "ipython",
    "version": 3
   },
   "file_extension": ".py",
   "mimetype": "text/x-python",
   "name": "python",
   "nbconvert_exporter": "python",
   "pygments_lexer": "ipython3",
   "version": "3.11.3"
  }
 },
 "nbformat": 4,
 "nbformat_minor": 2
}
