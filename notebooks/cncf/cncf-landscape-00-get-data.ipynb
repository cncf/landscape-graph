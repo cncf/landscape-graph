{
 "cells": [
  {
   "cell_type": "markdown",
   "metadata": {},
   "source": [
    "# CNCF Landscape: {Category, Subcategory, Project } --> Stars, Commits, Contributors, Activity"
   ]
  },
  {
   "cell_type": "markdown",
   "metadata": {},
   "source": [
    "On JupyterLab Shell Integration(s) and SList\n",
    "\n",
    "More Info: _http://safaribooksonline.com/blog/2014/02/12/using-shell-commands-effectively-ipython_\n",
    "\n",
    "---\n",
    "\n",
    "> SList instances can be used like a regular list, but they provide several methods that are useful when working with shell output. The main properties available in an SList instance are:\n",
    "> \n",
    "> * `.s` returns the elements joined together by spaces. \n",
    ">   * _This is useful for building command lines that take many arguments in a single invocation._\n",
    "> * `.n` returns the elements joined together by a newline. \n",
    ">   * _Use this when you need the original output unmodified._\n",
    "> * `.p` returns the elements as path objects, if they are filenames.\n",
    ">   * _Use this when doing more advanced path manipulation_\n",
    "> \n",
    "> In addition, SList instances support `grep()` and `fields()` methods. \n",
    "\n",
    "---"
   ]
  },
  {
   "cell_type": "code",
   "execution_count": 1,
   "metadata": {},
   "outputs": [
    {
     "name": "stdout",
     "output_type": "stream",
     "text": [
      "Package                            Version\n",
      "---------------------------------- ------------\n",
      "aiohttp                            3.8.6\n",
      "aiosignal                          1.3.1\n",
      "aiosqlite                          0.19.0\n",
      "altair                             5.2.0\n",
      "annotated-types                    0.6.0\n",
      "anyio                              3.7.1\n",
      "appnope                            0.1.3\n",
      "argon2-cffi                        23.1.0\n",
      "argon2-cffi-bindings               21.2.0\n",
      "arrow                              1.3.0\n",
      "astroid                            3.0.1\n",
      "asttokens                          2.4.1\n",
      "async-lru                          2.0.4\n",
      "async-timeout                      4.0.3\n",
      "attrs                              23.1.0\n",
      "autopep8                           2.0.4\n",
      "Babel                              2.13.1\n",
      "backoff                            2.2.1\n",
      "beautifulsoup4                     4.12.2\n",
      "bleach                             6.1.0\n",
      "bokeh                              3.3.1\n",
      "botocore                           1.33.4\n",
      "bqplot                             0.12.42\n",
      "certifi                            2023.11.17\n",
      "cffi                               1.16.0\n",
      "charset-normalizer                 3.3.2\n",
      "click                              8.1.7\n",
      "cloudpickle                        3.0.0\n",
      "comm                               0.2.0\n",
      "contourpy                          1.2.0\n",
      "cryptography                       41.0.7\n",
      "cycler                             0.12.1\n",
      "dask                               2023.11.0\n",
      "dask_labextension                  7.0.0\n",
      "dataclasses-json                   0.6.3\n",
      "debugpy                            1.8.0\n",
      "decorator                          5.1.1\n",
      "deepmerge                          1.1.0\n",
      "defusedxml                         0.7.1\n",
      "Deprecated                         1.2.14\n",
      "dill                               0.3.7\n",
      "distributed                        2023.11.0\n",
      "docstring-to-markdown              0.13\n",
      "executing                          2.0.1\n",
      "faiss-cpu                          1.7.4\n",
      "fastjsonschema                     2.19.0\n",
      "flake8                             6.1.0\n",
      "fonttools                          4.45.1\n",
      "fqdn                               1.5.1\n",
      "frozenlist                         1.4.0\n",
      "fsspec                             2023.10.0\n",
      "gast                               0.4.0\n",
      "gql                                3.4.1\n",
      "graphql-core                       3.2.3\n",
      "idna                               3.6\n",
      "importlib-metadata                 6.8.0\n",
      "inflect                            7.0.0\n",
      "ipycytoscape                       1.3.3\n",
      "ipydatagrid                        1.2.0\n",
      "ipykernel                          6.27.1\n",
      "ipython                            8.18.1\n",
      "ipywidgets                         8.1.1\n",
      "isoduration                        20.11.0\n",
      "isort                              5.12.0\n",
      "jedi                               0.19.1\n",
      "Jinja2                             3.1.2\n",
      "jmespath                           1.0.1\n",
      "jp                                 0.2.4\n",
      "jq                                 1.6.0\n",
      "json5                              0.9.14\n",
      "jsonpatch                          1.33\n",
      "jsonpath-ng                        1.6.0\n",
      "jsonpointer                        2.4\n",
      "jsonschema                         4.20.0\n",
      "jsonschema-specifications          2023.11.1\n",
      "jupyter_ai                         2.6.0\n",
      "jupyter_ai_magics                  2.6.0\n",
      "jupyter_client                     8.6.0\n",
      "jupyter_core                       5.5.0\n",
      "jupyter-events                     0.9.0\n",
      "jupyter-lsp                        2.2.1\n",
      "jupyter-resource-usage             1.0.1\n",
      "jupyter_server                     2.11.1\n",
      "jupyter_server_proxy               4.1.0\n",
      "jupyter_server_terminals           0.4.4\n",
      "jupyterlab                         4.0.9\n",
      "jupyterlab_favorites               3.2.1\n",
      "jupyterlab-lsp                     5.0.1\n",
      "jupyterlab_pygments                0.3.0\n",
      "jupyterlab_recents                 3.3.0\n",
      "jupyterlab_server                  2.25.2\n",
      "jupyterlab-spellchecker            0.8.4\n",
      "jupyterlab-visualpython            3.0.1\n",
      "jupyterlab-widgets                 3.0.9\n",
      "jupyterthemes                      0.20.0\n",
      "jupytext                           1.15.2\n",
      "kaleido                            0.2.1\n",
      "kiwisolver                         1.4.5\n",
      "langchain                          0.0.318\n",
      "langsmith                          0.0.67\n",
      "lesscpy                            0.15.1\n",
      "locket                             1.0.0\n",
      "lz4                                4.3.2\n",
      "markdown-it-py                     3.0.0\n",
      "MarkupSafe                         2.1.3\n",
      "marshmallow                        3.20.1\n",
      "matplotlib                         3.8.2\n",
      "matplotlib-inline                  0.1.6\n",
      "mccabe                             0.7.0\n",
      "mdit-py-plugins                    0.4.0\n",
      "mdurl                              0.1.2\n",
      "mistune                            3.0.2\n",
      "msgpack                            1.0.7\n",
      "multidict                          6.0.4\n",
      "mypy-extensions                    1.0.0\n",
      "nbclient                           0.7.4\n",
      "nbconvert                          7.11.0\n",
      "nbformat                           5.9.2\n",
      "nest-asyncio                       1.5.8\n",
      "notebook                           7.0.6\n",
      "notebook_shim                      0.2.3\n",
      "numpy                              1.26.2\n",
      "openai                             0.28.1\n",
      "opentelemetry-api                  1.21.0\n",
      "opentelemetry-sdk                  1.21.0\n",
      "opentelemetry-semantic-conventions 0.42b0\n",
      "overrides                          7.4.0\n",
      "packaging                          23.2\n",
      "pandas                             2.1.3\n",
      "pandocfilters                      1.5.0\n",
      "parso                              0.8.3\n",
      "partd                              1.4.1\n",
      "pexpect                            4.9.0\n",
      "Pillow                             10.1.0\n",
      "pip                                23.3.1\n",
      "platformdirs                       4.0.0\n",
      "plotly                             5.18.0\n",
      "pluggy                             1.3.0\n",
      "ply                                3.11\n",
      "prometheus-client                  0.19.0\n",
      "prompt-toolkit                     3.0.41\n",
      "psutil                             5.9.6\n",
      "psycopg2-binary                    2.9.9\n",
      "ptyprocess                         0.7.0\n",
      "pure-eval                          0.2.2\n",
      "py2vega                            0.6.1\n",
      "pyarrow                            14.0.1\n",
      "pyarrow-hotfix                     0.6\n",
      "pycodestyle                        2.11.1\n",
      "pycparser                          2.21\n",
      "pydantic                           2.5.2\n",
      "pydantic_core                      2.14.5\n",
      "pydocstyle                         6.3.0\n",
      "pyflakes                           3.1.0\n",
      "PyGithub                           2.1.1\n",
      "Pygments                           2.17.2\n",
      "PyJWT                              2.8.0\n",
      "pylint                             3.0.2\n",
      "pyls-isort                         0.2.2\n",
      "pylsp-rope                         0.1.11\n",
      "PyNaCl                             1.5.0\n",
      "pyparsing                          3.1.1\n",
      "python-dateutil                    2.8.2\n",
      "python-dotenv                      1.0.0\n",
      "python-json-logger                 2.0.7\n",
      "python-lsp-jsonrpc                 1.1.2\n",
      "python-lsp-server                  1.9.0\n",
      "pytoolconfig                       1.2.6\n",
      "pytz                               2023.3.post1\n",
      "PyYAML                             6.0.1\n",
      "pyzmq                              25.1.1\n",
      "referencing                        0.31.1\n",
      "regex                              2023.10.3\n",
      "requests                           2.31.0\n",
      "requests-toolbelt                  0.10.1\n",
      "rfc3339-validator                  0.1.4\n",
      "rfc3986-validator                  0.1.1\n",
      "rope                               1.11.0\n",
      "rpds-py                            0.13.2\n",
      "Send2Trash                         1.8.2\n",
      "setuptools                         68.2.2\n",
      "simpervisor                        1.0.0\n",
      "six                                1.16.0\n",
      "sniffio                            1.3.0\n",
      "snowballstemmer                    2.2.0\n",
      "sortedcontainers                   2.4.0\n",
      "soupsieve                          2.5\n",
      "spectate                           1.0.1\n",
      "sqlacodegen-v2                     0.1.4\n",
      "SQLAlchemy                         2.0.23\n",
      "stack-data                         0.6.3\n",
      "tabulate                           0.9.0\n",
      "tblib                              3.0.0\n",
      "tenacity                           8.2.3\n",
      "terminado                          0.18.0\n",
      "tiktoken                           0.5.1\n",
      "tinycss2                           1.2.1\n",
      "toml                               0.10.2\n",
      "tomli                              2.0.1\n",
      "tomlkit                            0.12.3\n",
      "toolz                              0.12.0\n",
      "tornado                            6.4\n",
      "tqdm                               4.66.1\n",
      "traitlets                          5.14.0\n",
      "traittypes                         0.2.1\n",
      "types-python-dateutil              2.8.19.14\n",
      "typing_extensions                  4.8.0\n",
      "typing-inspect                     0.9.0\n",
      "tzdata                             2023.3\n",
      "ujson                              5.8.0\n",
      "uri-template                       1.3.0\n",
      "urllib3                            1.26.18\n",
      "voila                              0.5.5\n",
      "wcwidth                            0.2.12\n",
      "webcolors                          1.13\n",
      "webencodings                       0.5.1\n",
      "websocket-client                   1.6.4\n",
      "websockets                         10.4\n",
      "wget                               3.2\n",
      "whatthepatch                       1.0.5\n",
      "widgetsnbextension                 4.0.9\n",
      "wrapt                              1.16.0\n",
      "xyzservices                        2023.10.1\n",
      "yapf                               0.40.2\n",
      "yarl                               1.9.3\n",
      "zict                               3.0.0\n",
      "zipp                               3.17.0\n"
     ]
    }
   ],
   "source": [
    "!pip list"
   ]
  },
  {
   "cell_type": "code",
   "execution_count": 2,
   "metadata": {},
   "outputs": [],
   "source": [
    "%load_ext jupyter_ai_magics"
   ]
  },
  {
   "cell_type": "markdown",
   "metadata": {},
   "source": [
    "### Base imports and variables"
   ]
  },
  {
   "cell_type": "code",
   "execution_count": 3,
   "metadata": {
    "notebookRunGroups": {
     "groupValue": ""
    }
   },
   "outputs": [],
   "source": [
    "import sys"
   ]
  },
  {
   "cell_type": "code",
   "execution_count": 4,
   "metadata": {},
   "outputs": [
    {
     "name": "stdout",
     "output_type": "stream",
     "text": [
      "Jupyter Kernel (venv): /Users/matt/gh/cncf/landscape-graph/.venv-ipynb/bin/python\n",
      "Output Location:       generated  (.json, .jsonl, .csv, .md, .svg, .png, ...)\n",
      "Output Landscape root: generated/cncf-landscape\n",
      "Output Projects  root: generated/cncf-projects\n"
     ]
    }
   ],
   "source": [
    "# all generated output files land here\n",
    "OUT_DIR='generated'\n",
    "\n",
    "# TODO: factor out landscape ('cncf') so this can be used for landscape(s) generically (https://landscapes.dev) \n",
    " \n",
    "CNCF_LANDSCAPE_FNAME_BASE='cncf-landscape'\n",
    "CNCF_LANDSCAPE_FNAME_ROOT=f'{OUT_DIR}/{CNCF_LANDSCAPE_FNAME_BASE}'\n",
    "\n",
    "CNCF_PROJECTS_FNAME_BASE=f'cncf-projects'\n",
    "CNCF_PROJECTS_FNAME_ROOT=f'{OUT_DIR}/{CNCF_PROJECTS_FNAME_BASE}'\n",
    "\n",
    "print(f'Jupyter Kernel (venv): {sys.executable}')\n",
    "print(f'Output Location:       {OUT_DIR}  (.json, .jsonl, .csv, .md, .svg, .png, ...)')\n",
    "print(f'Output Landscape root: {CNCF_LANDSCAPE_FNAME_ROOT}')\n",
    "print(f'Output Projects  root: {CNCF_PROJECTS_FNAME_ROOT}')"
   ]
  },
  {
   "cell_type": "markdown",
   "metadata": {},
   "source": [
    "### Create human friendly JSON (.json) and data friendly JSON Lines (.jsonl) from current landcape"
   ]
  },
  {
   "cell_type": "code",
   "execution_count": 5,
   "metadata": {},
   "outputs": [
    {
     "name": "stdout",
     "output_type": "stream",
     "text": [
      "--2023-11-29 23:42:58--  https://landscape.cncf.io/data/items.json\n",
      "Resolving landscape.cncf.io (landscape.cncf.io)... 2600:1f18:16e:df01::64, 2600:1f18:2489:8201::c8, 54.161.234.33, ...\n",
      "Connecting to landscape.cncf.io (landscape.cncf.io)|2600:1f18:16e:df01::64|:443... connected.\n",
      "HTTP request sent, awaiting response... 200 OK\n",
      "Length: 10222495 (9.7M) [application/json]\n",
      "Saving to: ‘generated/cncf-landscape.json.compact’\n",
      "\n",
      "generated/cncf-land 100%[===================>]   9.75M  5.38MB/s    in 1.8s    \n",
      "\n",
      "2023-11-29 23:43:00 (5.38 MB/s) - ‘generated/cncf-landscape.json.compact’ saved [10222495/10222495]\n",
      "\n",
      "-rw-r--r--@ 1 matt  staff   9.7M Nov 29 23:43 generated/cncf-landscape.json.compact\n"
     ]
    }
   ],
   "source": [
    "!mkdir -p {OUT_DIR}\n",
    "\n",
    "!wget -O {CNCF_LANDSCAPE_FNAME_ROOT}.json.compact https://landscape.cncf.io/data/items.json\n",
    "!ls -lh {CNCF_LANDSCAPE_FNAME_ROOT}.json.compact"
   ]
  },
  {
   "cell_type": "code",
   "execution_count": 6,
   "metadata": {},
   "outputs": [
    {
     "name": "stdout",
     "output_type": "stream",
     "text": [
      "-rw-r--r--@ 1 matt  staff    12M Nov 29 23:43 generated/cncf-landscape.json\n",
      "-rw-r--r--@ 1 matt  staff   9.7M Nov 29 23:43 generated/cncf-landscape.json.compact\n",
      "-rw-r--r--@ 1 matt  staff     0B Nov 29 23:40 generated/cncf-landscape.jsonl\n",
      "\n",
      "*Yes* indeed, that's 2+ MB of whitespace!\n",
      "\n"
     ]
    }
   ],
   "source": [
    "# create human friendly file\n",
    "!jq . {CNCF_LANDSCAPE_FNAME_ROOT}.json.compact > {CNCF_LANDSCAPE_FNAME_ROOT}.json\n",
    "!ls -lh {CNCF_LANDSCAPE_FNAME_ROOT}.json*\n",
    "!echo \"\\n*Yes* indeed, that's 2+ MB of whitespace!\\n\""
   ]
  },
  {
   "cell_type": "code",
   "execution_count": 7,
   "metadata": {},
   "outputs": [
    {
     "name": "stdout",
     "output_type": "stream",
     "text": [
      "-rw-r--r--@ 1 matt  staff   9.7M Nov 29 23:43 generated/cncf-landscape.jsonl\n",
      "    2285 generated/cncf-landscape.jsonl\n"
     ]
    }
   ],
   "source": [
    "# array of JSON --> JSONL\n",
    "!jq  -c '.[]'  {CNCF_LANDSCAPE_FNAME_ROOT}.json.compact >  {CNCF_LANDSCAPE_FNAME_ROOT}.jsonl\n",
    "!ls -lh {CNCF_LANDSCAPE_FNAME_ROOT}.jsonl\n",
    "!wc -l  {CNCF_LANDSCAPE_FNAME_ROOT}.jsonl"
   ]
  },
  {
   "cell_type": "markdown",
   "metadata": {},
   "source": [
    "### Filter Landscape: ~2200+ cards (cncf-landscape.jsonl) -->  ~180 CNCF Projects (cncf-projects.jsonl) "
   ]
  },
  {
   "cell_type": "code",
   "execution_count": 8,
   "metadata": {},
   "outputs": [
    {
     "name": "stdout",
     "output_type": "stream",
     "text": [
      "-rw-r--r--@ 1 matt  staff   9.7M Nov 29 23:43 generated/cncf-landscape.jsonl\n",
      "    2285 generated/cncf-landscape.jsonl\n",
      "\n",
      "+zsh:1> jq -c 'select(.relation == \"graduated\" or .relation == \"incubating\" or .relation == \"sandbox\")' generated/cncf-landscape.jsonl\n",
      "\n",
      "-rw-r--r--@ 1 matt  staff   4.0M Nov 29 23:43 generated/cncf-projects.jsonl\n",
      "     178 generated/cncf-projects.jsonl\n"
     ]
    }
   ],
   "source": [
    "!ls -lahF {CNCF_LANDSCAPE_FNAME_ROOT}.jsonl\n",
    "!wc -l    {CNCF_LANDSCAPE_FNAME_ROOT}.jsonl\n",
    "!echo \"\"\n",
    "\n",
    "!set -x && jq -c 'select(.relation == \"graduated\" or .relation == \"incubating\" or .relation == \"sandbox\")' {CNCF_LANDSCAPE_FNAME_ROOT}.jsonl > {CNCF_PROJECTS_FNAME_ROOT}.jsonl \n",
    "\n",
    "!echo \"\"\n",
    "!ls -lahF {CNCF_PROJECTS_FNAME_ROOT}.jsonl\n",
    "!wc -l {CNCF_PROJECTS_FNAME_ROOT}.jsonl"
   ]
  }
 ],
 "metadata": {
  "kernelspec": {
   "display_name": "Python 3 (ipykernel)",
   "language": "python",
   "name": "python3"
  },
  "language_info": {
   "codemirror_mode": {
    "name": "ipython",
    "version": 3
   },
   "file_extension": ".py",
   "mimetype": "text/x-python",
   "name": "python",
   "nbconvert_exporter": "python",
   "pygments_lexer": "ipython3",
   "version": "3.11.6"
  }
 },
 "nbformat": 4,
 "nbformat_minor": 4
}
