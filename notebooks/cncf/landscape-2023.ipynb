{
 "cells": [
  {
   "cell_type": "markdown",
   "metadata": {},
   "source": [
    "# CNCF Landscape: {Category, Subcategory, Project } --> Stars, Commits, Contributors, Activity"
   ]
  },
  {
   "cell_type": "markdown",
   "metadata": {},
   "source": [
    "### On JupyterLab Shell Integration(s) and SList \n",
    "\n",
    "More Info: _http://safaribooksonline.com/blog/2014/02/12/using-shell-commands-effectively-ipython_\n",
    "\n",
    "SList instances can be used like a regular list, but they provide several methods that are useful when working with shell output. The main properties available in an SList instance are:\n",
    "\n",
    "\n",
    "\n",
    "* `.s` returns the elements joined together by spaces. \n",
    "  * _This is useful for building command lines that take many arguments in a single invocation._\n",
    "* `.n` returns the elements joined together by a newline. \n",
    "  * _Use this when you need the original output unmodified._\n",
    "* `.p` returns the elements as path objects, if they are filenames.\\\n",
    "  * _Use this when doing more advanced path manipulation_\n",
    "\n",
    "In addition, SList instances support `grep()` and `fields()` methods. \n"
   ]
  },
  {
   "cell_type": "code",
   "execution_count": 104,
   "metadata": {},
   "outputs": [
    {
     "name": "stdout",
     "output_type": "stream",
     "text": [
      "Package                            Version\n",
      "---------------------------------- ------------\n",
      "aiohttp                            3.8.6\n",
      "aiosignal                          1.3.1\n",
      "aiosqlite                          0.19.0\n",
      "altair                             5.1.2\n",
      "annotated-types                    0.6.0\n",
      "anyio                              3.7.1\n",
      "appnope                            0.1.3\n",
      "argon2-cffi                        23.1.0\n",
      "argon2-cffi-bindings               21.2.0\n",
      "arrow                              1.3.0\n",
      "astroid                            3.0.1\n",
      "asttokens                          2.4.1\n",
      "async-lru                          2.0.4\n",
      "async-timeout                      4.0.3\n",
      "attrs                              23.1.0\n",
      "autopep8                           2.0.4\n",
      "Babel                              2.13.1\n",
      "backoff                            2.2.1\n",
      "beautifulsoup4                     4.12.2\n",
      "bleach                             6.1.0\n",
      "bokeh                              3.3.1\n",
      "botocore                           1.32.4\n",
      "bqplot                             0.12.42\n",
      "cachetools                         5.3.2\n",
      "certifi                            2023.11.17\n",
      "cffi                               1.16.0\n",
      "charset-normalizer                 3.3.2\n",
      "click                              8.1.7\n",
      "cloudpickle                        3.0.0\n",
      "comm                               0.2.0\n",
      "contourpy                          1.2.0\n",
      "cryptography                       41.0.5\n",
      "cycler                             0.12.1\n",
      "dask                               2023.11.0\n",
      "dask_labextension                  7.0.0\n",
      "dataclasses-json                   0.6.2\n",
      "debugpy                            1.8.0\n",
      "decorator                          5.1.1\n",
      "deepmerge                          1.1.0\n",
      "defusedxml                         0.7.1\n",
      "Deprecated                         1.2.14\n",
      "dill                               0.3.7\n",
      "distributed                        2023.11.0\n",
      "docstring-to-markdown              0.13\n",
      "executing                          2.0.1\n",
      "faiss-cpu                          1.7.4\n",
      "fastjsonschema                     2.19.0\n",
      "flake8                             6.1.0\n",
      "fonttools                          4.45.0\n",
      "fqdn                               1.5.1\n",
      "frozenlist                         1.4.0\n",
      "fsspec                             2023.10.0\n",
      "gast                               0.4.0\n",
      "google-api-core                    2.14.0\n",
      "google-api-python-client           2.108.0\n",
      "google-auth                        2.23.4\n",
      "google-auth-httplib2               0.1.1\n",
      "google-auth-oauthlib               1.1.0\n",
      "googleapis-common-protos           1.61.0\n",
      "gql                                3.4.1\n",
      "graphql-core                       3.2.3\n",
      "httplib2                           0.22.0\n",
      "idna                               3.4\n",
      "importlib-metadata                 6.8.0\n",
      "inflect                            7.0.0\n",
      "ipycytoscape                       1.3.3\n",
      "ipydatagrid                        1.2.0\n",
      "ipykernel                          6.26.0\n",
      "ipython                            8.17.2\n",
      "ipywidgets                         8.1.1\n",
      "isoduration                        20.11.0\n",
      "isort                              5.12.0\n",
      "jedi                               0.19.1\n",
      "Jinja2                             3.1.2\n",
      "jmespath                           1.0.1\n",
      "jp                                 0.2.4\n",
      "jq                                 1.6.0\n",
      "json5                              0.9.14\n",
      "jsonpatch                          1.33\n",
      "jsonpath-ng                        1.6.0\n",
      "jsonpointer                        2.4\n",
      "jsonschema                         4.20.0\n",
      "jsonschema-specifications          2023.11.1\n",
      "jupyter_ai                         2.6.0\n",
      "jupyter_ai_magics                  2.6.0\n",
      "jupyter_client                     8.6.0\n",
      "jupyter_core                       5.5.0\n",
      "jupyter-events                     0.9.0\n",
      "jupyter-lsp                        2.2.0\n",
      "jupyter-resource-usage             1.0.1\n",
      "jupyter_server                     2.10.1\n",
      "jupyter_server_proxy               4.1.0\n",
      "jupyter_server_terminals           0.4.4\n",
      "jupyterlab                         4.0.9\n",
      "jupyterlab_favorites               3.2.1\n",
      "jupyterlab-lsp                     5.0.0\n",
      "jupyterlab-pygments                0.2.2\n",
      "jupyterlab_recents                 3.3.0\n",
      "jupyterlab_server                  2.25.2\n",
      "jupyterlab-spellchecker            0.8.4\n",
      "jupyterlab-visualpython            3.0.1\n",
      "jupyterlab-widgets                 3.0.9\n",
      "jupyterthemes                      0.20.0\n",
      "jupytext                           1.15.2\n",
      "kaleido                            0.2.1\n",
      "kiwisolver                         1.4.5\n",
      "langchain                          0.0.318\n",
      "langsmith                          0.0.66\n",
      "lesscpy                            0.15.1\n",
      "locket                             1.0.0\n",
      "lz4                                4.3.2\n",
      "markdown-it-py                     3.0.0\n",
      "MarkupSafe                         2.1.3\n",
      "marshmallow                        3.20.1\n",
      "matplotlib                         3.8.2\n",
      "matplotlib-inline                  0.1.6\n",
      "mccabe                             0.7.0\n",
      "mdit-py-plugins                    0.4.0\n",
      "mdurl                              0.1.2\n",
      "mistune                            3.0.2\n",
      "msgpack                            1.0.7\n",
      "multidict                          6.0.4\n",
      "mypy-extensions                    1.0.0\n",
      "nbclient                           0.7.4\n",
      "nbconvert                          7.11.0\n",
      "nbformat                           5.9.2\n",
      "nest-asyncio                       1.5.8\n",
      "notebook                           7.0.6\n",
      "notebook_shim                      0.2.3\n",
      "numpy                              1.26.2\n",
      "oauthlib                           3.2.2\n",
      "openai                             0.28.1\n",
      "opentelemetry-api                  1.21.0\n",
      "opentelemetry-sdk                  1.21.0\n",
      "opentelemetry-semantic-conventions 0.42b0\n",
      "overrides                          7.4.0\n",
      "packaging                          23.2\n",
      "pandas                             2.1.3\n",
      "pandocfilters                      1.5.0\n",
      "parso                              0.8.3\n",
      "partd                              1.4.1\n",
      "pexpect                            4.8.0\n",
      "Pillow                             10.1.0\n",
      "pip                                23.3.1\n",
      "platformdirs                       4.0.0\n",
      "plotly                             5.18.0\n",
      "pluggy                             1.3.0\n",
      "ply                                3.11\n",
      "prometheus-client                  0.19.0\n",
      "prompt-toolkit                     3.0.41\n",
      "protobuf                           4.25.1\n",
      "psutil                             5.9.6\n",
      "psycopg2-binary                    2.9.9\n",
      "ptyprocess                         0.7.0\n",
      "pure-eval                          0.2.2\n",
      "py2vega                            0.6.1\n",
      "pyarrow                            14.0.1\n",
      "pyarrow-hotfix                     0.5\n",
      "pyasn1                             0.5.1\n",
      "pyasn1-modules                     0.3.0\n",
      "pycodestyle                        2.11.1\n",
      "pycparser                          2.21\n",
      "pydantic                           2.5.1\n",
      "pydantic_core                      2.14.3\n",
      "pydocstyle                         6.3.0\n",
      "pyflakes                           3.1.0\n",
      "PyGithub                           2.1.1\n",
      "Pygments                           2.17.1\n",
      "PyJWT                              2.8.0\n",
      "pylint                             3.0.2\n",
      "pyls-isort                         0.2.2\n",
      "pylsp-rope                         0.1.11\n",
      "PyNaCl                             1.5.0\n",
      "pyparsing                          3.1.1\n",
      "python-dateutil                    2.8.2\n",
      "python-dotenv                      1.0.0\n",
      "python-json-logger                 2.0.7\n",
      "python-lsp-jsonrpc                 1.1.2\n",
      "python-lsp-server                  1.9.0\n",
      "pytoolconfig                       1.2.6\n",
      "pytz                               2023.3.post1\n",
      "PyYAML                             6.0.1\n",
      "pyzmq                              25.1.1\n",
      "referencing                        0.31.0\n",
      "regex                              2023.10.3\n",
      "requests                           2.31.0\n",
      "requests-oauthlib                  1.3.1\n",
      "requests-toolbelt                  0.10.1\n",
      "rfc3339-validator                  0.1.4\n",
      "rfc3986-validator                  0.1.1\n",
      "rope                               1.11.0\n",
      "rpds-py                            0.13.1\n",
      "rsa                                4.9\n",
      "Send2Trash                         1.8.2\n",
      "setuptools                         65.5.0\n",
      "simpervisor                        1.0.0\n",
      "six                                1.16.0\n",
      "sniffio                            1.3.0\n",
      "snowballstemmer                    2.2.0\n",
      "sortedcontainers                   2.4.0\n",
      "soupsieve                          2.5\n",
      "spectate                           1.0.1\n",
      "sqlacodegen-v2                     0.1.4\n",
      "SQLAlchemy                         2.0.23\n",
      "stack-data                         0.6.3\n",
      "tabulate                           0.9.0\n",
      "tblib                              3.0.0\n",
      "tenacity                           8.2.3\n",
      "terminado                          0.18.0\n",
      "tiktoken                           0.5.1\n",
      "tinycss2                           1.2.1\n",
      "toml                               0.10.2\n",
      "tomli                              2.0.1\n",
      "tomlkit                            0.12.3\n",
      "toolz                              0.12.0\n",
      "tornado                            6.3.3\n",
      "tqdm                               4.66.1\n",
      "traitlets                          5.13.0\n",
      "traittypes                         0.2.1\n",
      "types-python-dateutil              2.8.19.14\n",
      "typing_extensions                  4.8.0\n",
      "typing-inspect                     0.9.0\n",
      "tzdata                             2023.3\n",
      "ujson                              5.8.0\n",
      "uri-template                       1.3.0\n",
      "uritemplate                        4.1.1\n",
      "urllib3                            1.26.18\n",
      "voila                              0.5.5\n",
      "wcwidth                            0.2.11\n",
      "webcolors                          1.13\n",
      "webencodings                       0.5.1\n",
      "websocket-client                   1.6.4\n",
      "websockets                         10.4\n",
      "wget                               3.2\n",
      "whatthepatch                       1.0.5\n",
      "widgetsnbextension                 4.0.9\n",
      "wrapt                              1.16.0\n",
      "xyzservices                        2023.10.1\n",
      "yapf                               0.40.2\n",
      "yarl                               1.9.3\n",
      "zict                               3.0.0\n",
      "zipp                               3.17.0\n"
     ]
    }
   ],
   "source": [
    "!pip list"
   ]
  },
  {
   "cell_type": "code",
   "execution_count": 105,
   "metadata": {},
   "outputs": [
    {
     "name": "stdout",
     "output_type": "stream",
     "text": [
      "The jupyter_ai_magics extension is already loaded. To reload it, use:\n",
      "  %reload_ext jupyter_ai_magics\n"
     ]
    }
   ],
   "source": [
    "%load_ext jupyter_ai_magics"
   ]
  },
  {
   "cell_type": "code",
   "execution_count": 106,
   "metadata": {},
   "outputs": [
    {
     "data": {
      "text/markdown": [
       "| Provider | Environment variable | Set? | Models |\n",
       "|----------|----------------------|------|--------|\n",
       "| `ai21` | `AI21_API_KEY` | <abbr title=\"You have not set this environment variable, so you cannot use this provider's models.\">❌</abbr> | `ai21:j1-large`, `ai21:j1-grande`, `ai21:j1-jumbo`, `ai21:j1-grande-instruct`, `ai21:j2-large`, `ai21:j2-grande`, `ai21:j2-jumbo`, `ai21:j2-grande-instruct`, `ai21:j2-jumbo-instruct` |\n",
       "| `bedrock` | Not applicable. | <abbr title=\"Not applicable\">N/A</abbr> | `bedrock:amazon.titan-text-express-v1`, `bedrock:ai21.j2-ultra-v1`, `bedrock:ai21.j2-mid-v1`, `bedrock:cohere.command-text-v14` |\n",
       "| `bedrock-chat` | Not applicable. | <abbr title=\"Not applicable\">N/A</abbr> | `bedrock-chat:anthropic.claude-v1`, `bedrock-chat:anthropic.claude-v2`, `bedrock-chat:anthropic.claude-instant-v1` |\n",
       "| `anthropic` | `ANTHROPIC_API_KEY` | <abbr title=\"You have not set this environment variable, so you cannot use this provider's models.\">❌</abbr> | `anthropic:claude-v1`, `anthropic:claude-v1.0`, `anthropic:claude-v1.2`, `anthropic:claude-2`, `anthropic:claude-2.0`, `anthropic:claude-instant-v1`, `anthropic:claude-instant-v1.0`, `anthropic:claude-instant-v1.2` |\n",
       "| `anthropic-chat` | `ANTHROPIC_API_KEY` | <abbr title=\"You have not set this environment variable, so you cannot use this provider's models.\">❌</abbr> | `anthropic-chat:claude-v1`, `anthropic-chat:claude-v1.0`, `anthropic-chat:claude-v1.2`, `anthropic-chat:claude-2`, `anthropic-chat:claude-2.0`, `anthropic-chat:claude-instant-v1`, `anthropic-chat:claude-instant-v1.0`, `anthropic-chat:claude-instant-v1.2` |\n",
       "| `azure-chat-openai` | `OPENAI_API_KEY` | <abbr title=\"You have not set this environment variable, so you cannot use this provider's models.\">❌</abbr> | This provider does not define a list of models. |\n",
       "| `cohere` | `COHERE_API_KEY` | <abbr title=\"You have not set this environment variable, so you cannot use this provider's models.\">❌</abbr> | `cohere:medium`, `cohere:xlarge` |\n",
       "| `gpt4all` | Not applicable. | <abbr title=\"Not applicable\">N/A</abbr> | `gpt4all:ggml-gpt4all-j-v1.2-jazzy`, `gpt4all:ggml-gpt4all-j-v1.3-groovy`, `gpt4all:ggml-gpt4all-l13b-snoozy`, `gpt4all:mistral-7b-openorca.Q4_0`, `gpt4all:mistral-7b-instruct-v0.1.Q4_0`, `gpt4all:gpt4all-falcon-q4_0`, `gpt4all:wizardlm-13b-v1.2.Q4_0`, `gpt4all:nous-hermes-llama2-13b.Q4_0`, `gpt4all:gpt4all-13b-snoozy-q4_0`, `gpt4all:mpt-7b-chat-merges-q4_0`, `gpt4all:orca-mini-3b-gguf2-q4_0`, `gpt4all:starcoder-q4_0`, `gpt4all:rift-coder-v0-7b-q4_0`, `gpt4all:em_german_mistral_v01.Q4_0` |\n",
       "| `huggingface_hub` | `HUGGINGFACEHUB_API_TOKEN` | <abbr title=\"You have not set this environment variable, so you cannot use this provider's models.\">❌</abbr> | See [https://huggingface.co/models](https://huggingface.co/models) for a list of models. Pass a model's repository ID as the model ID; for example, `huggingface_hub:ExampleOwner/example-model`. |\n",
       "| `openai` | `OPENAI_API_KEY` | <abbr title=\"You have not set this environment variable, so you cannot use this provider's models.\">❌</abbr> | `openai:text-davinci-003`, `openai:text-davinci-002`, `openai:text-curie-001`, `openai:text-babbage-001`, `openai:text-ada-001`, `openai:davinci`, `openai:curie`, `openai:babbage`, `openai:ada` |\n",
       "| `openai-chat` | `OPENAI_API_KEY` | <abbr title=\"You have not set this environment variable, so you cannot use this provider's models.\">❌</abbr> | `openai-chat:gpt-3.5-turbo`, `openai-chat:gpt-3.5-turbo-16k`, `openai-chat:gpt-3.5-turbo-0301`, `openai-chat:gpt-3.5-turbo-0613`, `openai-chat:gpt-3.5-turbo-16k-0613`, `openai-chat:gpt-4`, `openai-chat:gpt-4-0314`, `openai-chat:gpt-4-0613`, `openai-chat:gpt-4-32k`, `openai-chat:gpt-4-32k-0314`, `openai-chat:gpt-4-32k-0613` |\n",
       "| `openai-chat-new` | `OPENAI_API_KEY` | <abbr title=\"You have not set this environment variable, so you cannot use this provider's models.\">❌</abbr> | `openai-chat-new:gpt-3.5-turbo`, `openai-chat-new:gpt-3.5-turbo-16k`, `openai-chat-new:gpt-3.5-turbo-0301`, `openai-chat-new:gpt-3.5-turbo-0613`, `openai-chat-new:gpt-3.5-turbo-16k-0613`, `openai-chat-new:gpt-4`, `openai-chat-new:gpt-4-0314`, `openai-chat-new:gpt-4-0613`, `openai-chat-new:gpt-4-32k`, `openai-chat-new:gpt-4-32k-0314`, `openai-chat-new:gpt-4-32k-0613` |\n",
       "| `sagemaker-endpoint` | Not applicable. | <abbr title=\"Not applicable\">N/A</abbr> | Specify an endpoint name as the model ID. In addition, you must specify a region name, request schema, and response path. For more information, see the documentation about [SageMaker endpoints deployment](https://docs.aws.amazon.com/sagemaker/latest/dg/realtime-endpoints-deployment.html) and about [using magic commands with SageMaker endpoints](https://jupyter-ai.readthedocs.io/en/latest/users/index.html#using-magic-commands-with-sagemaker-endpoints). |\n",
       "\n",
       "Aliases and custom commands:\n",
       "\n",
       "| Name | Target |\n",
       "|------|--------|\n",
       "| `gpt2` | `huggingface_hub:gpt2` |\n",
       "| `gpt3` | `openai:text-davinci-003` |\n",
       "| `chatgpt` | `openai-chat:gpt-3.5-turbo` |\n",
       "| `gpt4` | `openai-chat:gpt-4` |\n",
       "| `titan` | `bedrock:amazon.titan-tg1-large` |\n"
      ],
      "text/plain": [
       "ai21\n",
       "Requires environment variable AI21_API_KEY (not set)\n",
       "* ai21:j1-large\n",
       "* ai21:j1-grande\n",
       "* ai21:j1-jumbo\n",
       "* ai21:j1-grande-instruct\n",
       "* ai21:j2-large\n",
       "* ai21:j2-grande\n",
       "* ai21:j2-jumbo\n",
       "* ai21:j2-grande-instruct\n",
       "* ai21:j2-jumbo-instruct\n",
       "\n",
       "bedrock\n",
       "* bedrock:amazon.titan-text-express-v1\n",
       "* bedrock:ai21.j2-ultra-v1\n",
       "* bedrock:ai21.j2-mid-v1\n",
       "* bedrock:cohere.command-text-v14\n",
       "\n",
       "bedrock-chat\n",
       "* bedrock-chat:anthropic.claude-v1\n",
       "* bedrock-chat:anthropic.claude-v2\n",
       "* bedrock-chat:anthropic.claude-instant-v1\n",
       "\n",
       "anthropic\n",
       "Requires environment variable ANTHROPIC_API_KEY (not set)\n",
       "* anthropic:claude-v1\n",
       "* anthropic:claude-v1.0\n",
       "* anthropic:claude-v1.2\n",
       "* anthropic:claude-2\n",
       "* anthropic:claude-2.0\n",
       "* anthropic:claude-instant-v1\n",
       "* anthropic:claude-instant-v1.0\n",
       "* anthropic:claude-instant-v1.2\n",
       "\n",
       "anthropic-chat\n",
       "Requires environment variable ANTHROPIC_API_KEY (not set)\n",
       "* anthropic-chat:claude-v1\n",
       "* anthropic-chat:claude-v1.0\n",
       "* anthropic-chat:claude-v1.2\n",
       "* anthropic-chat:claude-2\n",
       "* anthropic-chat:claude-2.0\n",
       "* anthropic-chat:claude-instant-v1\n",
       "* anthropic-chat:claude-instant-v1.0\n",
       "* anthropic-chat:claude-instant-v1.2\n",
       "\n",
       "azure-chat-openai\n",
       "Requires environment variable OPENAI_API_KEY (not set)\n",
       "* This provider does not define a list of models.\n",
       "\n",
       "cohere\n",
       "Requires environment variable COHERE_API_KEY (not set)\n",
       "* cohere:medium\n",
       "* cohere:xlarge\n",
       "\n",
       "gpt4all\n",
       "* gpt4all:ggml-gpt4all-j-v1.2-jazzy\n",
       "* gpt4all:ggml-gpt4all-j-v1.3-groovy\n",
       "* gpt4all:ggml-gpt4all-l13b-snoozy\n",
       "* gpt4all:mistral-7b-openorca.Q4_0\n",
       "* gpt4all:mistral-7b-instruct-v0.1.Q4_0\n",
       "* gpt4all:gpt4all-falcon-q4_0\n",
       "* gpt4all:wizardlm-13b-v1.2.Q4_0\n",
       "* gpt4all:nous-hermes-llama2-13b.Q4_0\n",
       "* gpt4all:gpt4all-13b-snoozy-q4_0\n",
       "* gpt4all:mpt-7b-chat-merges-q4_0\n",
       "* gpt4all:orca-mini-3b-gguf2-q4_0\n",
       "* gpt4all:starcoder-q4_0\n",
       "* gpt4all:rift-coder-v0-7b-q4_0\n",
       "* gpt4all:em_german_mistral_v01.Q4_0\n",
       "\n",
       "huggingface_hub\n",
       "Requires environment variable HUGGINGFACEHUB_API_TOKEN (not set)\n",
       "* See [https://huggingface.co/models](https://huggingface.co/models) for a list of models. Pass a model's repository ID as the model ID; for example, `huggingface_hub:ExampleOwner/example-model`.\n",
       "\n",
       "openai\n",
       "Requires environment variable OPENAI_API_KEY (not set)\n",
       "* openai:text-davinci-003\n",
       "* openai:text-davinci-002\n",
       "* openai:text-curie-001\n",
       "* openai:text-babbage-001\n",
       "* openai:text-ada-001\n",
       "* openai:davinci\n",
       "* openai:curie\n",
       "* openai:babbage\n",
       "* openai:ada\n",
       "\n",
       "openai-chat\n",
       "Requires environment variable OPENAI_API_KEY (not set)\n",
       "* openai-chat:gpt-3.5-turbo\n",
       "* openai-chat:gpt-3.5-turbo-16k\n",
       "* openai-chat:gpt-3.5-turbo-0301\n",
       "* openai-chat:gpt-3.5-turbo-0613\n",
       "* openai-chat:gpt-3.5-turbo-16k-0613\n",
       "* openai-chat:gpt-4\n",
       "* openai-chat:gpt-4-0314\n",
       "* openai-chat:gpt-4-0613\n",
       "* openai-chat:gpt-4-32k\n",
       "* openai-chat:gpt-4-32k-0314\n",
       "* openai-chat:gpt-4-32k-0613\n",
       "\n",
       "openai-chat-new\n",
       "Requires environment variable OPENAI_API_KEY (not set)\n",
       "* openai-chat-new:gpt-3.5-turbo\n",
       "* openai-chat-new:gpt-3.5-turbo-16k\n",
       "* openai-chat-new:gpt-3.5-turbo-0301\n",
       "* openai-chat-new:gpt-3.5-turbo-0613\n",
       "* openai-chat-new:gpt-3.5-turbo-16k-0613\n",
       "* openai-chat-new:gpt-4\n",
       "* openai-chat-new:gpt-4-0314\n",
       "* openai-chat-new:gpt-4-0613\n",
       "* openai-chat-new:gpt-4-32k\n",
       "* openai-chat-new:gpt-4-32k-0314\n",
       "* openai-chat-new:gpt-4-32k-0613\n",
       "\n",
       "sagemaker-endpoint\n",
       "* Specify an endpoint name as the model ID. In addition, you must specify a region name, request schema, and response path. For more information, see the documentation about [SageMaker endpoints deployment](https://docs.aws.amazon.com/sagemaker/latest/dg/realtime-endpoints-deployment.html) and about [using magic commands with SageMaker endpoints](https://jupyter-ai.readthedocs.io/en/latest/users/index.html#using-magic-commands-with-sagemaker-endpoints).\n",
       "\n",
       "\n",
       "Aliases and custom commands:\n",
       "gpt2 - huggingface_hub:gpt2\n",
       "gpt3 - openai:text-davinci-003\n",
       "chatgpt - openai-chat:gpt-3.5-turbo\n",
       "gpt4 - openai-chat:gpt-4\n",
       "titan - bedrock:amazon.titan-tg1-large\n"
      ]
     },
     "execution_count": 106,
     "metadata": {},
     "output_type": "execute_result"
    }
   ],
   "source": [
    "%ai list"
   ]
  },
  {
   "cell_type": "code",
   "execution_count": 107,
   "metadata": {},
   "outputs": [
    {
     "name": "stdout",
     "output_type": "stream",
     "text": [
      "Usage: %%ai [OPTIONS] MODEL_ID\n",
      "\n",
      "  Invokes a language model identified by MODEL_ID, with the prompt being\n",
      "  contained in all lines after the first. Both local model IDs and global\n",
      "  model IDs (with the provider ID explicitly prefixed, followed by a colon)\n",
      "  are accepted.\n",
      "\n",
      "  To view available language models, please run `%ai list`.\n",
      "\n",
      "Options:\n",
      "  -f, --format [code|html|image|json|markdown|math|md|text]\n",
      "                                  IPython display to use when rendering\n",
      "                                  output. [default=\"markdown\"]\n",
      "  -r, --reset                     Clears the conversation transcript used when\n",
      "                                  interacting with an OpenAI chat model\n",
      "                                  provider. Does nothing with other providers.\n",
      "  -n, --region-name TEXT          AWS region name, e.g. 'us-east-1'. Required\n",
      "                                  for SageMaker provider; does nothing with\n",
      "                                  other providers.\n",
      "  -q, --request-schema TEXT       The JSON object the endpoint expects, with\n",
      "                                  the prompt being substituted into any value\n",
      "                                  that matches the string literal '<prompt>'.\n",
      "                                  Required for SageMaker provider; does\n",
      "                                  nothing with other providers.\n",
      "  -p, --response-path TEXT        A JSONPath string that retrieves the\n",
      "                                  language model's output from the endpoint's\n",
      "                                  JSON response. Required for SageMaker\n",
      "                                  provider; does nothing with other providers.\n",
      "  -m, --model-parameters TEXT     A JSON value that specifies extra values\n",
      "                                  that will be passed to the model. The\n",
      "                                  accepted value parsed to a dict, unpacked\n",
      "                                  and passed as-is to the provider class.\n",
      "  --help                          Show this message and exit.\n",
      "------------------------------------------------------------------------------\n",
      "Usage: %ai [OPTIONS] COMMAND [ARGS]...\n",
      "\n",
      "  Invokes a subcommand.\n",
      "\n",
      "Options:\n",
      "  --help  Show this message and exit.\n",
      "\n",
      "Commands:\n",
      "  delete    Delete an alias. See `%ai delete --help` for options.\n",
      "  error     Explains the most recent error.\n",
      "  help      Show this message and exit.\n",
      "  list      List language models. See `%ai list --help` for options.\n",
      "  register  Register a new alias. See `%ai register --help` for options.\n",
      "  update    Update the target of an alias. See `%ai update --help` for\n",
      "            options.\n",
      "\n"
     ]
    }
   ],
   "source": [
    "%ai help"
   ]
  },
  {
   "cell_type": "markdown",
   "metadata": {},
   "source": [
    "## Base imports and variables"
   ]
  },
  {
   "cell_type": "code",
   "execution_count": 108,
   "metadata": {},
   "outputs": [
    {
     "name": "stdout",
     "output_type": "stream",
     "text": [
      "Jupyter Kernel (venv): /Users/matt/gh/cncf/landscape-graph/.venv-ipynb/bin/python\n",
      "Output Location:       generated  (.json, .jsonl, .csv, .md, ...)\n",
      "Output Landscape root: generated/cncf-landscape-*\n",
      "Output Projects  root: generated/cncf-projects-*\n"
     ]
    }
   ],
   "source": [
    "import os\n",
    "import pandas as pd\n",
    "\n",
    "import sys\n",
    "\n",
    "from dotenv import load_dotenv\n",
    "\n",
    "load_dotenv()\n",
    "\n",
    "OUT_DIR='generated'\n",
    "CNCF_LANDSCAPE_FNAME_BASE='cncf-landscape'\n",
    "CNCF_LANDSCAPE_FNAME_ROOT=f'{OUT_DIR}/{CNCF_LANDSCAPE_FNAME_BASE}'\n",
    "\n",
    "CNCF_PROJECTS_FNAME_BASE=f'cncf-projects'\n",
    "CNCF_PROJECTS_FNAME_ROOT=f'{OUT_DIR}/{CNCF_PROJECTS_FNAME_BASE}'\n",
    "\n",
    "print(f'Jupyter Kernel (venv): {sys.executable}')\n",
    "print(f'Output Location:       {OUT_DIR}  (.json, .jsonl, .csv, .md, ...)')\n",
    "print(f'Output Landscape root: {CNCF_LANDSCAPE_FNAME_ROOT}-*')\n",
    "print(f'Output Projects  root: {CNCF_PROJECTS_FNAME_ROOT}-*')"
   ]
  },
  {
   "cell_type": "markdown",
   "metadata": {},
   "source": [
    "## download landscape data"
   ]
  },
  {
   "cell_type": "code",
   "execution_count": 109,
   "metadata": {},
   "outputs": [
    {
     "name": "stdout",
     "output_type": "stream",
     "text": [
      "--2023-11-27 12:51:53--  https://landscape.cncf.io/data/items.json\n",
      "Resolving landscape.cncf.io (landscape.cncf.io)... 2600:1f18:16e:df00::64, 2600:1f18:2489:8200::c8, 44.217.161.11, ...\n",
      "Connecting to landscape.cncf.io (landscape.cncf.io)|2600:1f18:16e:df00::64|:443... connected.\n",
      "HTTP request sent, awaiting response... 200 OK\n",
      "Length: 10200329 (9.7M) [application/json]\n",
      "Saving to: ‘generated/cncf-landscape.json.compact’\n",
      "\n",
      "generated/cncf-land 100%[===================>]   9.73M  5.78MB/s    in 1.7s    \n",
      "\n",
      "2023-11-27 12:51:55 (5.78 MB/s) - ‘generated/cncf-landscape.json.compact’ saved [10200329/10200329]\n",
      "\n",
      "-rw-r--r--  1 matt  staff   9.7M Nov 27 12:51 generated/cncf-landscape.json.compact\n"
     ]
    }
   ],
   "source": [
    "# create directory for generated files\n",
    "!mkdir -p {OUT_DIR}\n",
    "\n",
    "#Get the current landscape json (array) file\n",
    "!wget -O {CNCF_LANDSCAPE_FNAME_ROOT}.json.compact https://landscape.cncf.io/data/items.json\n",
    "!ls -lh {CNCF_LANDSCAPE_FNAME_ROOT}.json.compact"
   ]
  },
  {
   "cell_type": "markdown",
   "metadata": {},
   "source": [
    "### compact -> human friendly, generate csv"
   ]
  },
  {
   "cell_type": "code",
   "execution_count": 110,
   "metadata": {},
   "outputs": [
    {
     "name": "stdout",
     "output_type": "stream",
     "text": [
      "Yes indeed, that's 2+ MB of whitespace!\n",
      "\n",
      "-rw-r--r--  1 matt  staff    12M Nov 27 12:51 generated/cncf-landscape.json\n",
      "-rw-r--r--  1 matt  staff   9.7M Nov 27 12:51 generated/cncf-landscape.json.compact\n",
      "-rw-r--r--  1 matt  staff   9.7M Nov 27 12:50 generated/cncf-landscape.jsonl\n"
     ]
    }
   ],
   "source": [
    "!jq . {CNCF_LANDSCAPE_FNAME_ROOT}.json.compact > {CNCF_LANDSCAPE_FNAME_ROOT}.json\n",
    "\n",
    "!echo \"Yes indeed, that's 2+ MB of whitespace!\\n\"\n",
    "!ls -lh {CNCF_LANDSCAPE_FNAME_ROOT}.json* "
   ]
  },
  {
   "cell_type": "code",
   "execution_count": 111,
   "metadata": {},
   "outputs": [],
   "source": [
    "# !jq '.items[] | [.relation, .category, .subcategory, .id, .name, .flatName, .repo, .repo_name, .org_name, .contributorsCount, .commitsThisYear, .stars, .github_data, .extra, .industries, .headquarters, .crunchbase, .image_data .twitter] | @csv'  {CNCF_LANDSCAPE_FNAME_ROOT}.json.compact >  {CNCF_LANDSCAPE_FNAME_ROOT}.csv\n",
    "# !ls -lh  {CNCF_LANDSCAPE_FNAME_ROOT}.csv"
   ]
  },
  {
   "cell_type": "code",
   "execution_count": null,
   "metadata": {},
   "outputs": [],
   "source": []
  },
  {
   "cell_type": "code",
   "execution_count": 112,
   "metadata": {},
   "outputs": [],
   "source": [
    "# array of JSON --> JSONL\n",
    "!jq  -c '.[]'  {CNCF_LANDSCAPE_FNAME_ROOT}.json >  {CNCF_LANDSCAPE_FNAME_ROOT}.jsonl"
   ]
  },
  {
   "cell_type": "markdown",
   "metadata": {},
   "source": [
    "## Filter 1200+ cards/entities --> ~180 CNCF Projects --> cncf-projects.jsonl"
   ]
  },
  {
   "cell_type": "code",
   "execution_count": 113,
   "metadata": {},
   "outputs": [
    {
     "name": "stdout",
     "output_type": "stream",
     "text": [
      "-rw-r--r--  1 matt  staff     0B Nov 22 15:41 {CNCF_LANDSCAPE_FNAME_ROOT}.jsonl\n",
      "       0 {CNCF_LANDSCAPE_FNAME_ROOT}.jsonl\n",
      "-rw-r--r--  1 matt  staff     0B Nov 27 12:51 cncf-projects.jsonl\n",
      "       0 cncf-projects.jsonl\n"
     ]
    }
   ],
   "source": [
    "%%bash\n",
    "\n",
    "ls -lahF {CNCF_LANDSCAPE_FNAME_ROOT}.jsonl\n",
    "wc -l    {CNCF_LANDSCAPE_FNAME_ROOT}.jsonl\n",
    "\n",
    "# landscape | select(CNCF Projects) --> cncf-projects.jsonl\n",
    "jq -c 'select(.relation == \"graduated\" or .relation == \"incubating\" or .relation == \"sandbox\")'  {CNCF_LANDSCAPE_FNAME_ROOT}.jsonl > cncf-projects.jsonl \n",
    "\n",
    "ls -lahF cncf-projects.jsonl\n",
    "wc -l cncf-projects.jsonl"
   ]
  },
  {
   "cell_type": "markdown",
   "metadata": {},
   "source": [
    "### DataFrame helpers (safe_set_index(), split_org_repo()"
   ]
  },
  {
   "cell_type": "code",
   "execution_count": 114,
   "metadata": {},
   "outputs": [],
   "source": [
    "import pandas as pd\n",
    "\n",
    "pd.set_option('display.max_rows', 512)\n",
    "pd.set_option('display.max_columns', 512)\n",
    "pd.set_option('display.width', 512)\n",
    "\n",
    "# https://plotly.com/python/pandas-backend\n",
    "pd.options.plotting.backend = \"plotly\"\n",
    "\n",
    "def safe_set_index(df:         pd.DataFrame, \n",
    "                   idx_wanted: list[str],\n",
    "                   sort:       bool = True,\n",
    "                   inplace:    bool = True) -> pd.DataFrame:\n",
    "    '''check to see if the index is already set, else, data loss as set_index can be destructive'''\n",
    "    \n",
    "    idx_existing = list(df.index.names)\n",
    "\n",
    "    if idx_wanted == idx_existing:\n",
    "        print(f'\\n*** WARNING: attempt to set index to what it already is thwarted! \\n')\n",
    "    else:\n",
    "        df.set_index(idx_wanted, verify_integrity=True, inplace=inplace)\n",
    "        print(f'\\t Index changed from {idx_existing} --> {list(df.index.names)}') \n",
    "\n",
    "    if sort:\n",
    "        df.sort_index(inplace=inplace)\n",
    "\n",
    "    return df\n",
    "\n",
    "def split_org_repo(df:      pd.DataFrame, \n",
    "                   colname: str,\n",
    "                   drop:    bool = False,\n",
    "                   newcol_org_name:  str = 'org_name',\n",
    "                   newcol_repo_name: str = 'repo_name') -> pd.DataFrame:\n",
    "    '''split_org_repo(df, colname) - org_name/repo_name --> org_name, repo_name'''\n",
    "    \n",
    "    if colname is None:\n",
    "        raise ValueError('split_org_repo: missing colname!')\n",
    "\n",
    "    # https://swdevnotes.com/python/2022/extract-data-from-json-in-pandas-dataframe/\n",
    "    # expand=True returns a dataframe  which we can rename columns on\n",
    "    \n",
    "    df_newcols = df[colname].copy().str.split(pat='/', n=1, expand=True)\n",
    "    df_newcols.rename(columns={0: newcol_org_name, 1: newcol_repo_name}, inplace=True)\n",
    "\n",
    "    if drop:\n",
    "        df.drop(colname, axis=1, inplace=True)\n",
    "\n",
    "    df = pd.concat([df,df_newcols], axis=1)\n",
    "    return df"
   ]
  },
  {
   "cell_type": "markdown",
   "metadata": {},
   "source": [
    "## Load and prep the Landscape from cncf-projects.jsonl"
   ]
  },
  {
   "cell_type": "code",
   "execution_count": 115,
   "metadata": {},
   "outputs": [
    {
     "name": "stdout",
     "output_type": "stream",
     "text": [
      "<class 'pandas.core.frame.DataFrame'>\n",
      "RangeIndex: 2276 entries, 0 to 2275\n",
      "Data columns (total 60 columns):\n",
      " #   Column                    Non-Null Count  Dtype  \n",
      "---  ------                    --------------  -----  \n",
      " 0   name                      2276 non-null   object \n",
      " 1   homepage_url              2276 non-null   object \n",
      " 2   repo_url                  755 non-null    object \n",
      " 3   logo                      2276 non-null   object \n",
      " 4   twitter                   1882 non-null   object \n",
      " 5   crunchbase                2274 non-null   object \n",
      " 6   github_data               755 non-null    object \n",
      " 7   repos                     755 non-null    object \n",
      " 8   github_start_commit_data  755 non-null    object \n",
      " 9   image_data                2276 non-null   object \n",
      " 10  firstCommitDate           755 non-null    object \n",
      " 11  firstCommitLink           755 non-null    object \n",
      " 12  latestCommitDate          755 non-null    object \n",
      " 13  latestCommitLink          755 non-null    object \n",
      " 14  releaseDate               632 non-null    object \n",
      " 15  releaseLink               632 non-null    object \n",
      " 16  commitsThisYear           2276 non-null   int64  \n",
      " 17  contributorsCount         755 non-null    float64\n",
      " 18  contributorsLink          755 non-null    object \n",
      " 19  language                  742 non-null    object \n",
      " 20  stars                     755 non-null    float64\n",
      " 21  license                   2276 non-null   object \n",
      " 22  headquarters              2276 non-null   object \n",
      " 23  latestTweetDate           1694 non-null   object \n",
      " 24  description               2261 non-null   object \n",
      " 25  organization              2275 non-null   object \n",
      " 26  crunchbaseData            2276 non-null   object \n",
      " 27  path                      2276 non-null   object \n",
      " 28  landscape                 2276 non-null   object \n",
      " 29  category                  2276 non-null   object \n",
      " 30  amount                    1849 non-null   object \n",
      " 31  oss                       2276 non-null   bool   \n",
      " 32  href                      2276 non-null   object \n",
      " 33  bestPracticeBadgeId       2276 non-null   int64  \n",
      " 34  bestPracticePercentage    226 non-null    float64\n",
      " 35  industries                2276 non-null   object \n",
      " 36  starsPresent              2276 non-null   bool   \n",
      " 37  starsAsText               2276 non-null   object \n",
      " 38  marketCapPresent          2276 non-null   bool   \n",
      " 39  marketCapAsText           2276 non-null   object \n",
      " 40  id                        2276 non-null   object \n",
      " 41  flatName                  2276 non-null   object \n",
      " 42  member                    2276 non-null   object \n",
      " 43  relation                  2276 non-null   object \n",
      " 44  isSubsidiaryProject       2276 non-null   bool   \n",
      " 45  project                   183 non-null    object \n",
      " 46  extra                     258 non-null    object \n",
      " 47  amountKind                946 non-null    object \n",
      " 48  yahoo_finance_data        427 non-null    object \n",
      " 49  allow_duplicate_repo      61 non-null     float64\n",
      " 50  joined                    809 non-null    object \n",
      " 51  url_for_bestpractices     12 non-null     object \n",
      " 52  project_org               9 non-null      object \n",
      " 53  open_source               19 non-null     float64\n",
      " 54  enduser                   151 non-null    float64\n",
      " 55  stock_ticker              3 non-null      object \n",
      " 56  second_path               1 non-null      object \n",
      " 57  branch                    2 non-null      object \n",
      " 58  hideLicense               1125 non-null   float64\n",
      " 59  unnamed_organization      34 non-null     float64\n",
      "dtypes: bool(4), float64(8), int64(2), object(46)\n",
      "memory usage: 1004.8+ KB\n",
      "None\n"
     ]
    }
   ],
   "source": [
    "file_path = f'{CNCF_LANDSCAPE_FNAME_ROOT}.jsonl'\n",
    "\n",
    "if os.path.exists(file_path) and os.path.getsize(file_path) > 0:\n",
    "    df_projects = pd.read_json(file_path, lines=True)\n",
    "else:\n",
    "    print(f\"File {file_path} does not exist or is empty.\")\n",
    "\n",
    "print(df_projects.info())"
   ]
  },
  {
   "cell_type": "code",
   "execution_count": 116,
   "metadata": {},
   "outputs": [
    {
     "data": {
      "text/html": [
       "<div>\n",
       "<style scoped>\n",
       "    .dataframe tbody tr th:only-of-type {\n",
       "        vertical-align: middle;\n",
       "    }\n",
       "\n",
       "    .dataframe tbody tr th {\n",
       "        vertical-align: top;\n",
       "    }\n",
       "\n",
       "    .dataframe thead th {\n",
       "        text-align: right;\n",
       "    }\n",
       "</style>\n",
       "<table border=\"1\" class=\"dataframe\">\n",
       "  <thead>\n",
       "    <tr style=\"text-align: right;\">\n",
       "      <th></th>\n",
       "      <th>name</th>\n",
       "      <th>homepage_url</th>\n",
       "      <th>repo_url</th>\n",
       "      <th>logo</th>\n",
       "      <th>twitter</th>\n",
       "      <th>crunchbase</th>\n",
       "      <th>github_data</th>\n",
       "      <th>repos</th>\n",
       "      <th>github_start_commit_data</th>\n",
       "      <th>image_data</th>\n",
       "      <th>firstCommitDate</th>\n",
       "      <th>firstCommitLink</th>\n",
       "      <th>latestCommitDate</th>\n",
       "      <th>latestCommitLink</th>\n",
       "      <th>releaseDate</th>\n",
       "      <th>releaseLink</th>\n",
       "      <th>commitsThisYear</th>\n",
       "      <th>contributorsCount</th>\n",
       "      <th>contributorsLink</th>\n",
       "      <th>language</th>\n",
       "      <th>stars</th>\n",
       "      <th>license</th>\n",
       "      <th>headquarters</th>\n",
       "      <th>latestTweetDate</th>\n",
       "      <th>description</th>\n",
       "      <th>organization</th>\n",
       "      <th>crunchbaseData</th>\n",
       "      <th>path</th>\n",
       "      <th>landscape</th>\n",
       "      <th>category</th>\n",
       "      <th>amount</th>\n",
       "      <th>oss</th>\n",
       "      <th>href</th>\n",
       "      <th>bestPracticeBadgeId</th>\n",
       "      <th>bestPracticePercentage</th>\n",
       "      <th>industries</th>\n",
       "      <th>starsPresent</th>\n",
       "      <th>starsAsText</th>\n",
       "      <th>marketCapPresent</th>\n",
       "      <th>marketCapAsText</th>\n",
       "      <th>id</th>\n",
       "      <th>flatName</th>\n",
       "      <th>member</th>\n",
       "      <th>relation</th>\n",
       "      <th>isSubsidiaryProject</th>\n",
       "      <th>project</th>\n",
       "      <th>extra</th>\n",
       "      <th>amountKind</th>\n",
       "      <th>yahoo_finance_data</th>\n",
       "      <th>allow_duplicate_repo</th>\n",
       "      <th>joined</th>\n",
       "      <th>url_for_bestpractices</th>\n",
       "      <th>project_org</th>\n",
       "      <th>open_source</th>\n",
       "      <th>enduser</th>\n",
       "      <th>stock_ticker</th>\n",
       "      <th>second_path</th>\n",
       "      <th>branch</th>\n",
       "      <th>hideLicense</th>\n",
       "      <th>unnamed_organization</th>\n",
       "    </tr>\n",
       "  </thead>\n",
       "  <tbody>\n",
       "    <tr>\n",
       "      <th>0</th>\n",
       "      <td>Airship</td>\n",
       "      <td>https://www.airshipit.org/</td>\n",
       "      <td>https://github.com/airshipit/treasuremap</td>\n",
       "      <td>airship.svg</td>\n",
       "      <td>https://twitter.com/airshipproject</td>\n",
       "      <td>https://www.crunchbase.com/organization/open-i...</td>\n",
       "      <td>{'languages': [{'name': 'Shell', 'value': 3022...</td>\n",
       "      <td>[{'url': 'https://github.com/airshipit/treasur...</td>\n",
       "      <td>{'start_commit_link': '/airshipit/treasuremap/...</td>\n",
       "      <td>{'fileName': 'airship.svg', 'hash': 'kS96vnkPA...</td>\n",
       "      <td>2018-08-14T23:50:18Z</td>\n",
       "      <td>https://github.com/airshipit/treasuremap/commi...</td>\n",
       "      <td>2021-11-18T19:35:10Z</td>\n",
       "      <td>https://github.com/airshipit/treasuremap/commi...</td>\n",
       "      <td>2021-12-06T20:04:17Z</td>\n",
       "      <td>https://github.com/airshipit/treasuremap/releases</td>\n",
       "      <td>0</td>\n",
       "      <td>117.0</td>\n",
       "      <td>https://github.com/airshipit/treasuremap/graph...</td>\n",
       "      <td>Shell</td>\n",
       "      <td>49.0</td>\n",
       "      <td>Apache License 2.0</td>\n",
       "      <td>Austin, Texas</td>\n",
       "      <td>{'text': '8 months ago', 'value': '890', 'orig...</td>\n",
       "      <td>Reference Airship manifests, CICD, and referen...</td>\n",
       "      <td>Open Infrastructure Foundation</td>\n",
       "      <td>{'name': 'Open Infrastructure Foundation', 'de...</td>\n",
       "      <td>Provisioning / Automation &amp; Configuration</td>\n",
       "      <td>Provisioning / Automation &amp; Configuration</td>\n",
       "      <td>Provisioning</td>\n",
       "      <td>N/A</td>\n",
       "      <td>True</td>\n",
       "      <td>logos/airship.svg</td>\n",
       "      <td>0</td>\n",
       "      <td>NaN</td>\n",
       "      <td>[]</td>\n",
       "      <td>True</td>\n",
       "      <td>49</td>\n",
       "      <td>False</td>\n",
       "      <td>N/A</td>\n",
       "      <td>airship</td>\n",
       "      <td>Airship</td>\n",
       "      <td>False</td>\n",
       "      <td>False</td>\n",
       "      <td>False</td>\n",
       "      <td>NaN</td>\n",
       "      <td>NaN</td>\n",
       "      <td>NaN</td>\n",
       "      <td>NaN</td>\n",
       "      <td>NaN</td>\n",
       "      <td>NaN</td>\n",
       "      <td>NaN</td>\n",
       "      <td>NaN</td>\n",
       "      <td>NaN</td>\n",
       "      <td>NaN</td>\n",
       "      <td>NaN</td>\n",
       "      <td>NaN</td>\n",
       "      <td>NaN</td>\n",
       "      <td>NaN</td>\n",
       "      <td>NaN</td>\n",
       "    </tr>\n",
       "    <tr>\n",
       "      <th>1</th>\n",
       "      <td>Akri</td>\n",
       "      <td>https://docs.akri.sh</td>\n",
       "      <td>https://github.com/project-akri/akri</td>\n",
       "      <td>akri.svg</td>\n",
       "      <td>https://twitter.com/ProjectAkri</td>\n",
       "      <td>https://www.crunchbase.com/organization/cloud-...</td>\n",
       "      <td>{'languages': [{'name': 'Rust', 'value': 10535...</td>\n",
       "      <td>[{'url': 'https://github.com/project-akri/akri...</td>\n",
       "      <td>{'start_commit_link': '/project-akri/akri/comm...</td>\n",
       "      <td>{'fileName': 'akri.svg', 'hash': '2nK42JQaM8qF...</td>\n",
       "      <td>2020-10-14T00:42:19Z</td>\n",
       "      <td>https://github.com/project-akri/akri/commit/94...</td>\n",
       "      <td>{'text': '3 months ago', 'value': '940', 'orig...</td>\n",
       "      <td>https://github.com/project-akri/akri/commit/98...</td>\n",
       "      <td>{'text': '7 months ago', 'value': '900', 'orig...</td>\n",
       "      <td>https://github.com/project-akri/akri/releases</td>\n",
       "      <td>197</td>\n",
       "      <td>34.0</td>\n",
       "      <td>https://github.com/project-akri/akri/graphs/co...</td>\n",
       "      <td>Rust</td>\n",
       "      <td>996.0</td>\n",
       "      <td>Apache License 2.0</td>\n",
       "      <td>San Francisco, California</td>\n",
       "      <td>{'text': '7 months ago', 'value': '900', 'orig...</td>\n",
       "      <td>A Kubernetes Resource Interface for the Edge</td>\n",
       "      <td>Cloud Native Computing Foundation (CNCF)</td>\n",
       "      <td>{'name': 'Cloud Native Computing Foundation (C...</td>\n",
       "      <td>Provisioning / Automation &amp; Configuration</td>\n",
       "      <td>Provisioning / Automation &amp; Configuration</td>\n",
       "      <td>Provisioning</td>\n",
       "      <td>3000000</td>\n",
       "      <td>True</td>\n",
       "      <td>logos/akri.svg</td>\n",
       "      <td>5339</td>\n",
       "      <td>99.0</td>\n",
       "      <td>[Cloud Computing, Cloud Infrastructure, Non Pr...</td>\n",
       "      <td>True</td>\n",
       "      <td>996</td>\n",
       "      <td>True</td>\n",
       "      <td>$3M</td>\n",
       "      <td>akri</td>\n",
       "      <td>Akri</td>\n",
       "      <td>False</td>\n",
       "      <td>sandbox</td>\n",
       "      <td>False</td>\n",
       "      <td>sandbox</td>\n",
       "      <td>{'accepted': '2021-09-14', 'annual_review_date...</td>\n",
       "      <td>funding</td>\n",
       "      <td>NaN</td>\n",
       "      <td>NaN</td>\n",
       "      <td>NaN</td>\n",
       "      <td>NaN</td>\n",
       "      <td>NaN</td>\n",
       "      <td>NaN</td>\n",
       "      <td>NaN</td>\n",
       "      <td>NaN</td>\n",
       "      <td>NaN</td>\n",
       "      <td>NaN</td>\n",
       "      <td>NaN</td>\n",
       "      <td>NaN</td>\n",
       "    </tr>\n",
       "    <tr>\n",
       "      <th>2</th>\n",
       "      <td>Ansible</td>\n",
       "      <td>https://www.ansible.com/</td>\n",
       "      <td>https://github.com/ansible/ansible</td>\n",
       "      <td>ansible.svg</td>\n",
       "      <td>https://twitter.com/ansible</td>\n",
       "      <td>https://www.crunchbase.com/organization/red-hat</td>\n",
       "      <td>{'languages': [{'name': 'Python', 'value': 927...</td>\n",
       "      <td>[{'url': 'https://github.com/ansible/ansible',...</td>\n",
       "      <td>{'start_commit_link': '/ansible/ansible/commit...</td>\n",
       "      <td>{'fileName': 'ansible.svg', 'hash': 'XHYuAuMuT...</td>\n",
       "      <td>2012-02-23T19:17:24Z</td>\n",
       "      <td>https://github.com/ansible/ansible/commit/f314...</td>\n",
       "      <td>{'text': '2 months ago', 'value': '950', 'orig...</td>\n",
       "      <td>https://github.com/ansible/ansible/commit/7d98...</td>\n",
       "      <td>{'text': '3 months ago', 'value': '940', 'orig...</td>\n",
       "      <td>https://github.com/ansible/ansible/releases</td>\n",
       "      <td>959</td>\n",
       "      <td>6780.0</td>\n",
       "      <td>https://github.com/ansible/ansible/graphs/cont...</td>\n",
       "      <td>Python</td>\n",
       "      <td>58659.0</td>\n",
       "      <td>GNU General Public License v3.0</td>\n",
       "      <td>Raleigh, North Carolina</td>\n",
       "      <td>{'text': '7 months ago', 'value': '900', 'orig...</td>\n",
       "      <td>Ansible is a radically simple IT automation pl...</td>\n",
       "      <td>Red Hat</td>\n",
       "      <td>{'name': 'Red Hat', 'description': 'Red Hat is...</td>\n",
       "      <td>Provisioning / Automation &amp; Configuration</td>\n",
       "      <td>Provisioning / Automation &amp; Configuration</td>\n",
       "      <td>Provisioning</td>\n",
       "      <td>NaN</td>\n",
       "      <td>True</td>\n",
       "      <td>logos/ansible.svg</td>\n",
       "      <td>2372</td>\n",
       "      <td>66.0</td>\n",
       "      <td>[Enterprise Software, InsurTech, Linux, Open S...</td>\n",
       "      <td>True</td>\n",
       "      <td>58,659</td>\n",
       "      <td>True</td>\n",
       "      <td>$M</td>\n",
       "      <td>ansible</td>\n",
       "      <td>Ansible</td>\n",
       "      <td>Platinum</td>\n",
       "      <td>member</td>\n",
       "      <td>False</td>\n",
       "      <td>NaN</td>\n",
       "      <td>NaN</td>\n",
       "      <td>NaN</td>\n",
       "      <td>{'effective_ticker': 'IBM'}</td>\n",
       "      <td>NaN</td>\n",
       "      <td>NaN</td>\n",
       "      <td>NaN</td>\n",
       "      <td>NaN</td>\n",
       "      <td>NaN</td>\n",
       "      <td>NaN</td>\n",
       "      <td>NaN</td>\n",
       "      <td>NaN</td>\n",
       "      <td>NaN</td>\n",
       "      <td>NaN</td>\n",
       "      <td>NaN</td>\n",
       "    </tr>\n",
       "    <tr>\n",
       "      <th>3</th>\n",
       "      <td>Apollo</td>\n",
       "      <td>https://www.apolloconfig.com/</td>\n",
       "      <td>https://github.com/apolloconfig/apollo</td>\n",
       "      <td>apollo.svg</td>\n",
       "      <td>NaN</td>\n",
       "      <td>https://www.crunchbase.com/organization/ctrip</td>\n",
       "      <td>{'languages': [{'name': 'Java', 'value': 22675...</td>\n",
       "      <td>[{'url': 'https://github.com/apolloconfig/apol...</td>\n",
       "      <td>{'start_commit_link': '/ctripcorp/apollo/commi...</td>\n",
       "      <td>{'fileName': 'apollo.svg', 'hash': 'peWJyyZdPz...</td>\n",
       "      <td>2016-03-04T10:24:23Z</td>\n",
       "      <td>https://github.com/ctripcorp/apollo/commit/7f8...</td>\n",
       "      <td>{'text': '2 months ago', 'value': '950', 'orig...</td>\n",
       "      <td>https://github.com/apolloconfig/apollo/commit/...</td>\n",
       "      <td>{'text': '10 months ago', 'value': '870', 'ori...</td>\n",
       "      <td>https://github.com/apolloconfig/apollo/releases</td>\n",
       "      <td>96</td>\n",
       "      <td>170.0</td>\n",
       "      <td>https://github.com/apolloconfig/apollo/graphs/...</td>\n",
       "      <td>Java</td>\n",
       "      <td>28360.0</td>\n",
       "      <td>Apache License 2.0</td>\n",
       "      <td>Singapore, Singapore</td>\n",
       "      <td>NaN</td>\n",
       "      <td>Apollo is a reliable open-source configuration...</td>\n",
       "      <td>Trip.com</td>\n",
       "      <td>{'name': 'Trip.com', 'description': 'Trip.com ...</td>\n",
       "      <td>Provisioning / Automation &amp; Configuration</td>\n",
       "      <td>Provisioning / Automation &amp; Configuration</td>\n",
       "      <td>Provisioning</td>\n",
       "      <td>NaN</td>\n",
       "      <td>True</td>\n",
       "      <td>logos/apollo.svg</td>\n",
       "      <td>0</td>\n",
       "      <td>NaN</td>\n",
       "      <td>[Hospitality, Tourism, Travel]</td>\n",
       "      <td>True</td>\n",
       "      <td>28,360</td>\n",
       "      <td>True</td>\n",
       "      <td>$M</td>\n",
       "      <td>apollo</td>\n",
       "      <td>Apollo</td>\n",
       "      <td>False</td>\n",
       "      <td>False</td>\n",
       "      <td>False</td>\n",
       "      <td>NaN</td>\n",
       "      <td>NaN</td>\n",
       "      <td>NaN</td>\n",
       "      <td>{'effective_ticker': 'CTRP.VI'}</td>\n",
       "      <td>NaN</td>\n",
       "      <td>NaN</td>\n",
       "      <td>NaN</td>\n",
       "      <td>NaN</td>\n",
       "      <td>NaN</td>\n",
       "      <td>NaN</td>\n",
       "      <td>NaN</td>\n",
       "      <td>NaN</td>\n",
       "      <td>NaN</td>\n",
       "      <td>NaN</td>\n",
       "      <td>NaN</td>\n",
       "    </tr>\n",
       "    <tr>\n",
       "      <th>4</th>\n",
       "      <td>AWS CloudFormation</td>\n",
       "      <td>https://aws.amazon.com/cloudformation/</td>\n",
       "      <td>NaN</td>\n",
       "      <td>aws-cloudformation.svg</td>\n",
       "      <td>https://twitter.com/awscloudformer</td>\n",
       "      <td>https://www.crunchbase.com/organization/amazon...</td>\n",
       "      <td>NaN</td>\n",
       "      <td>NaN</td>\n",
       "      <td>NaN</td>\n",
       "      <td>{'fileName': 'aws-cloud-formation.svg', 'hash'...</td>\n",
       "      <td>NaN</td>\n",
       "      <td>None</td>\n",
       "      <td>NaN</td>\n",
       "      <td>None</td>\n",
       "      <td>NaN</td>\n",
       "      <td>NaN</td>\n",
       "      <td>0</td>\n",
       "      <td>NaN</td>\n",
       "      <td>NaN</td>\n",
       "      <td>None</td>\n",
       "      <td>NaN</td>\n",
       "      <td>NotOpenSource</td>\n",
       "      <td>Seattle, Washington</td>\n",
       "      <td>{'text': '8 months ago', 'value': '890', 'orig...</td>\n",
       "      <td>AWS CloudFormation provides a common language ...</td>\n",
       "      <td>Amazon Web Services</td>\n",
       "      <td>{'name': 'Amazon Web Services', 'description':...</td>\n",
       "      <td>Provisioning / Automation &amp; Configuration</td>\n",
       "      <td>Provisioning / Automation &amp; Configuration</td>\n",
       "      <td>Provisioning</td>\n",
       "      <td>NaN</td>\n",
       "      <td>False</td>\n",
       "      <td>logos/aws-cloud-formation.svg</td>\n",
       "      <td>0</td>\n",
       "      <td>NaN</td>\n",
       "      <td>[Consulting, DevOps, Information Services, Inf...</td>\n",
       "      <td>True</td>\n",
       "      <td></td>\n",
       "      <td>True</td>\n",
       "      <td>$M</td>\n",
       "      <td>aws-cloud-formation</td>\n",
       "      <td>AWS CloudFormation</td>\n",
       "      <td>Platinum</td>\n",
       "      <td>member</td>\n",
       "      <td>False</td>\n",
       "      <td>NaN</td>\n",
       "      <td>NaN</td>\n",
       "      <td>NaN</td>\n",
       "      <td>{'effective_ticker': 'AMZN'}</td>\n",
       "      <td>NaN</td>\n",
       "      <td>NaN</td>\n",
       "      <td>NaN</td>\n",
       "      <td>NaN</td>\n",
       "      <td>NaN</td>\n",
       "      <td>NaN</td>\n",
       "      <td>NaN</td>\n",
       "      <td>NaN</td>\n",
       "      <td>NaN</td>\n",
       "      <td>NaN</td>\n",
       "      <td>NaN</td>\n",
       "    </tr>\n",
       "  </tbody>\n",
       "</table>\n",
       "</div>"
      ],
      "text/plain": [
       "                 name                            homepage_url                                  repo_url                    logo                             twitter                                         crunchbase                                        github_data                                              repos                           github_start_commit_data                                         image_data       firstCommitDate                                    firstCommitLink  \\\n",
       "0             Airship              https://www.airshipit.org/  https://github.com/airshipit/treasuremap             airship.svg  https://twitter.com/airshipproject  https://www.crunchbase.com/organization/open-i...  {'languages': [{'name': 'Shell', 'value': 3022...  [{'url': 'https://github.com/airshipit/treasur...  {'start_commit_link': '/airshipit/treasuremap/...  {'fileName': 'airship.svg', 'hash': 'kS96vnkPA...  2018-08-14T23:50:18Z  https://github.com/airshipit/treasuremap/commi...   \n",
       "1                Akri                    https://docs.akri.sh      https://github.com/project-akri/akri                akri.svg     https://twitter.com/ProjectAkri  https://www.crunchbase.com/organization/cloud-...  {'languages': [{'name': 'Rust', 'value': 10535...  [{'url': 'https://github.com/project-akri/akri...  {'start_commit_link': '/project-akri/akri/comm...  {'fileName': 'akri.svg', 'hash': '2nK42JQaM8qF...  2020-10-14T00:42:19Z  https://github.com/project-akri/akri/commit/94...   \n",
       "2             Ansible                https://www.ansible.com/        https://github.com/ansible/ansible             ansible.svg         https://twitter.com/ansible    https://www.crunchbase.com/organization/red-hat  {'languages': [{'name': 'Python', 'value': 927...  [{'url': 'https://github.com/ansible/ansible',...  {'start_commit_link': '/ansible/ansible/commit...  {'fileName': 'ansible.svg', 'hash': 'XHYuAuMuT...  2012-02-23T19:17:24Z  https://github.com/ansible/ansible/commit/f314...   \n",
       "3              Apollo           https://www.apolloconfig.com/    https://github.com/apolloconfig/apollo              apollo.svg                                 NaN      https://www.crunchbase.com/organization/ctrip  {'languages': [{'name': 'Java', 'value': 22675...  [{'url': 'https://github.com/apolloconfig/apol...  {'start_commit_link': '/ctripcorp/apollo/commi...  {'fileName': 'apollo.svg', 'hash': 'peWJyyZdPz...  2016-03-04T10:24:23Z  https://github.com/ctripcorp/apollo/commit/7f8...   \n",
       "4  AWS CloudFormation  https://aws.amazon.com/cloudformation/                                       NaN  aws-cloudformation.svg  https://twitter.com/awscloudformer  https://www.crunchbase.com/organization/amazon...                                                NaN                                                NaN                                                NaN  {'fileName': 'aws-cloud-formation.svg', 'hash'...                   NaN                                               None   \n",
       "\n",
       "                                    latestCommitDate                                   latestCommitLink                                        releaseDate                                        releaseLink  commitsThisYear  contributorsCount                                   contributorsLink language    stars                          license               headquarters                                    latestTweetDate                                        description  \\\n",
       "0                               2021-11-18T19:35:10Z  https://github.com/airshipit/treasuremap/commi...                               2021-12-06T20:04:17Z  https://github.com/airshipit/treasuremap/releases                0              117.0  https://github.com/airshipit/treasuremap/graph...    Shell     49.0               Apache License 2.0              Austin, Texas  {'text': '8 months ago', 'value': '890', 'orig...  Reference Airship manifests, CICD, and referen...   \n",
       "1  {'text': '3 months ago', 'value': '940', 'orig...  https://github.com/project-akri/akri/commit/98...  {'text': '7 months ago', 'value': '900', 'orig...      https://github.com/project-akri/akri/releases              197               34.0  https://github.com/project-akri/akri/graphs/co...     Rust    996.0               Apache License 2.0  San Francisco, California  {'text': '7 months ago', 'value': '900', 'orig...       A Kubernetes Resource Interface for the Edge   \n",
       "2  {'text': '2 months ago', 'value': '950', 'orig...  https://github.com/ansible/ansible/commit/7d98...  {'text': '3 months ago', 'value': '940', 'orig...        https://github.com/ansible/ansible/releases              959             6780.0  https://github.com/ansible/ansible/graphs/cont...   Python  58659.0  GNU General Public License v3.0    Raleigh, North Carolina  {'text': '7 months ago', 'value': '900', 'orig...  Ansible is a radically simple IT automation pl...   \n",
       "3  {'text': '2 months ago', 'value': '950', 'orig...  https://github.com/apolloconfig/apollo/commit/...  {'text': '10 months ago', 'value': '870', 'ori...    https://github.com/apolloconfig/apollo/releases               96              170.0  https://github.com/apolloconfig/apollo/graphs/...     Java  28360.0               Apache License 2.0       Singapore, Singapore                                                NaN  Apollo is a reliable open-source configuration...   \n",
       "4                                                NaN                                               None                                                NaN                                                NaN                0                NaN                                                NaN     None      NaN                    NotOpenSource        Seattle, Washington  {'text': '8 months ago', 'value': '890', 'orig...  AWS CloudFormation provides a common language ...   \n",
       "\n",
       "                               organization                                     crunchbaseData                                       path                                  landscape      category   amount    oss                           href  bestPracticeBadgeId  bestPracticePercentage                                         industries  starsPresent starsAsText  marketCapPresent marketCapAsText                   id            flatName    member relation  isSubsidiaryProject  project  \\\n",
       "0            Open Infrastructure Foundation  {'name': 'Open Infrastructure Foundation', 'de...  Provisioning / Automation & Configuration  Provisioning / Automation & Configuration  Provisioning      N/A   True              logos/airship.svg                    0                     NaN                                                 []          True          49             False             N/A              airship             Airship     False    False                False      NaN   \n",
       "1  Cloud Native Computing Foundation (CNCF)  {'name': 'Cloud Native Computing Foundation (C...  Provisioning / Automation & Configuration  Provisioning / Automation & Configuration  Provisioning  3000000   True                 logos/akri.svg                 5339                    99.0  [Cloud Computing, Cloud Infrastructure, Non Pr...          True         996              True             $3M                 akri                Akri     False  sandbox                False  sandbox   \n",
       "2                                   Red Hat  {'name': 'Red Hat', 'description': 'Red Hat is...  Provisioning / Automation & Configuration  Provisioning / Automation & Configuration  Provisioning      NaN   True              logos/ansible.svg                 2372                    66.0  [Enterprise Software, InsurTech, Linux, Open S...          True      58,659              True              $M              ansible             Ansible  Platinum   member                False      NaN   \n",
       "3                                  Trip.com  {'name': 'Trip.com', 'description': 'Trip.com ...  Provisioning / Automation & Configuration  Provisioning / Automation & Configuration  Provisioning      NaN   True               logos/apollo.svg                    0                     NaN                     [Hospitality, Tourism, Travel]          True      28,360              True              $M               apollo              Apollo     False    False                False      NaN   \n",
       "4                       Amazon Web Services  {'name': 'Amazon Web Services', 'description':...  Provisioning / Automation & Configuration  Provisioning / Automation & Configuration  Provisioning      NaN  False  logos/aws-cloud-formation.svg                    0                     NaN  [Consulting, DevOps, Information Services, Inf...          True                          True              $M  aws-cloud-formation  AWS CloudFormation  Platinum   member                False      NaN   \n",
       "\n",
       "                                               extra amountKind               yahoo_finance_data  allow_duplicate_repo joined url_for_bestpractices project_org  open_source  enduser stock_ticker second_path branch  hideLicense  unnamed_organization  \n",
       "0                                                NaN        NaN                              NaN                   NaN    NaN                   NaN         NaN          NaN      NaN          NaN         NaN    NaN          NaN                   NaN  \n",
       "1  {'accepted': '2021-09-14', 'annual_review_date...    funding                              NaN                   NaN    NaN                   NaN         NaN          NaN      NaN          NaN         NaN    NaN          NaN                   NaN  \n",
       "2                                                NaN        NaN      {'effective_ticker': 'IBM'}                   NaN    NaN                   NaN         NaN          NaN      NaN          NaN         NaN    NaN          NaN                   NaN  \n",
       "3                                                NaN        NaN  {'effective_ticker': 'CTRP.VI'}                   NaN    NaN                   NaN         NaN          NaN      NaN          NaN         NaN    NaN          NaN                   NaN  \n",
       "4                                                NaN        NaN     {'effective_ticker': 'AMZN'}                   NaN    NaN                   NaN         NaN          NaN      NaN          NaN         NaN    NaN          NaN                   NaN  "
      ]
     },
     "execution_count": 116,
     "metadata": {},
     "output_type": "execute_result"
    }
   ],
   "source": [
    "df_projects.head()"
   ]
  },
  {
   "cell_type": "markdown",
   "metadata": {},
   "source": [
    "### cols += { subcategory, repo, org_name, repo_name }"
   ]
  },
  {
   "cell_type": "code",
   "execution_count": 117,
   "metadata": {},
   "outputs": [],
   "source": [
    "# clean up path to strip out the category (path := category / subcategory)\n",
    "df_projects['subcategory'] = df_projects['path'].str.split('/').str[-1]\n",
    "\n",
    "# https://github.com/theOrg/theRepo --> theOrg/theRepo\n",
    "df_projects['repo'] = df_projects['repo_url'].astype('string').str.removeprefix('https://github.com/')\n",
    "\n",
    "# theOrg/theRepo --> theOrg, theRepo\n",
    "df_projects = split_org_repo(df_projects, 'repo')"
   ]
  },
  {
   "cell_type": "code",
   "execution_count": 118,
   "metadata": {},
   "outputs": [
    {
     "data": {
      "text/html": [
       "<div>\n",
       "<style scoped>\n",
       "    .dataframe tbody tr th:only-of-type {\n",
       "        vertical-align: middle;\n",
       "    }\n",
       "\n",
       "    .dataframe tbody tr th {\n",
       "        vertical-align: top;\n",
       "    }\n",
       "\n",
       "    .dataframe thead th {\n",
       "        text-align: right;\n",
       "    }\n",
       "</style>\n",
       "<table border=\"1\" class=\"dataframe\">\n",
       "  <thead>\n",
       "    <tr style=\"text-align: right;\">\n",
       "      <th></th>\n",
       "      <th>name</th>\n",
       "      <th>homepage_url</th>\n",
       "      <th>repo_url</th>\n",
       "      <th>logo</th>\n",
       "      <th>twitter</th>\n",
       "      <th>crunchbase</th>\n",
       "      <th>github_data</th>\n",
       "      <th>repos</th>\n",
       "      <th>github_start_commit_data</th>\n",
       "      <th>image_data</th>\n",
       "      <th>firstCommitDate</th>\n",
       "      <th>firstCommitLink</th>\n",
       "      <th>latestCommitDate</th>\n",
       "      <th>latestCommitLink</th>\n",
       "      <th>releaseDate</th>\n",
       "      <th>releaseLink</th>\n",
       "      <th>commitsThisYear</th>\n",
       "      <th>contributorsCount</th>\n",
       "      <th>contributorsLink</th>\n",
       "      <th>language</th>\n",
       "      <th>stars</th>\n",
       "      <th>license</th>\n",
       "      <th>headquarters</th>\n",
       "      <th>latestTweetDate</th>\n",
       "      <th>description</th>\n",
       "      <th>organization</th>\n",
       "      <th>crunchbaseData</th>\n",
       "      <th>path</th>\n",
       "      <th>landscape</th>\n",
       "      <th>category</th>\n",
       "      <th>amount</th>\n",
       "      <th>oss</th>\n",
       "      <th>href</th>\n",
       "      <th>bestPracticeBadgeId</th>\n",
       "      <th>bestPracticePercentage</th>\n",
       "      <th>industries</th>\n",
       "      <th>starsPresent</th>\n",
       "      <th>starsAsText</th>\n",
       "      <th>marketCapPresent</th>\n",
       "      <th>marketCapAsText</th>\n",
       "      <th>id</th>\n",
       "      <th>flatName</th>\n",
       "      <th>member</th>\n",
       "      <th>relation</th>\n",
       "      <th>isSubsidiaryProject</th>\n",
       "      <th>project</th>\n",
       "      <th>extra</th>\n",
       "      <th>amountKind</th>\n",
       "      <th>yahoo_finance_data</th>\n",
       "      <th>allow_duplicate_repo</th>\n",
       "      <th>joined</th>\n",
       "      <th>url_for_bestpractices</th>\n",
       "      <th>project_org</th>\n",
       "      <th>open_source</th>\n",
       "      <th>enduser</th>\n",
       "      <th>stock_ticker</th>\n",
       "      <th>second_path</th>\n",
       "      <th>branch</th>\n",
       "      <th>hideLicense</th>\n",
       "      <th>unnamed_organization</th>\n",
       "      <th>subcategory</th>\n",
       "      <th>repo</th>\n",
       "      <th>org_name</th>\n",
       "      <th>repo_name</th>\n",
       "    </tr>\n",
       "  </thead>\n",
       "  <tbody>\n",
       "    <tr>\n",
       "      <th>0</th>\n",
       "      <td>Airship</td>\n",
       "      <td>https://www.airshipit.org/</td>\n",
       "      <td>https://github.com/airshipit/treasuremap</td>\n",
       "      <td>airship.svg</td>\n",
       "      <td>https://twitter.com/airshipproject</td>\n",
       "      <td>https://www.crunchbase.com/organization/open-i...</td>\n",
       "      <td>{'languages': [{'name': 'Shell', 'value': 3022...</td>\n",
       "      <td>[{'url': 'https://github.com/airshipit/treasur...</td>\n",
       "      <td>{'start_commit_link': '/airshipit/treasuremap/...</td>\n",
       "      <td>{'fileName': 'airship.svg', 'hash': 'kS96vnkPA...</td>\n",
       "      <td>2018-08-14T23:50:18Z</td>\n",
       "      <td>https://github.com/airshipit/treasuremap/commi...</td>\n",
       "      <td>2021-11-18T19:35:10Z</td>\n",
       "      <td>https://github.com/airshipit/treasuremap/commi...</td>\n",
       "      <td>2021-12-06T20:04:17Z</td>\n",
       "      <td>https://github.com/airshipit/treasuremap/releases</td>\n",
       "      <td>0</td>\n",
       "      <td>117.0</td>\n",
       "      <td>https://github.com/airshipit/treasuremap/graph...</td>\n",
       "      <td>Shell</td>\n",
       "      <td>49.0</td>\n",
       "      <td>Apache License 2.0</td>\n",
       "      <td>Austin, Texas</td>\n",
       "      <td>{'text': '8 months ago', 'value': '890', 'orig...</td>\n",
       "      <td>Reference Airship manifests, CICD, and referen...</td>\n",
       "      <td>Open Infrastructure Foundation</td>\n",
       "      <td>{'name': 'Open Infrastructure Foundation', 'de...</td>\n",
       "      <td>Provisioning / Automation &amp; Configuration</td>\n",
       "      <td>Provisioning / Automation &amp; Configuration</td>\n",
       "      <td>Provisioning</td>\n",
       "      <td>N/A</td>\n",
       "      <td>True</td>\n",
       "      <td>logos/airship.svg</td>\n",
       "      <td>0</td>\n",
       "      <td>NaN</td>\n",
       "      <td>[]</td>\n",
       "      <td>True</td>\n",
       "      <td>49</td>\n",
       "      <td>False</td>\n",
       "      <td>N/A</td>\n",
       "      <td>airship</td>\n",
       "      <td>Airship</td>\n",
       "      <td>False</td>\n",
       "      <td>False</td>\n",
       "      <td>False</td>\n",
       "      <td>NaN</td>\n",
       "      <td>NaN</td>\n",
       "      <td>NaN</td>\n",
       "      <td>NaN</td>\n",
       "      <td>NaN</td>\n",
       "      <td>NaN</td>\n",
       "      <td>NaN</td>\n",
       "      <td>NaN</td>\n",
       "      <td>NaN</td>\n",
       "      <td>NaN</td>\n",
       "      <td>NaN</td>\n",
       "      <td>NaN</td>\n",
       "      <td>NaN</td>\n",
       "      <td>NaN</td>\n",
       "      <td>NaN</td>\n",
       "      <td>Automation &amp; Configuration</td>\n",
       "      <td>airshipit/treasuremap</td>\n",
       "      <td>airshipit</td>\n",
       "      <td>treasuremap</td>\n",
       "    </tr>\n",
       "    <tr>\n",
       "      <th>1</th>\n",
       "      <td>Akri</td>\n",
       "      <td>https://docs.akri.sh</td>\n",
       "      <td>https://github.com/project-akri/akri</td>\n",
       "      <td>akri.svg</td>\n",
       "      <td>https://twitter.com/ProjectAkri</td>\n",
       "      <td>https://www.crunchbase.com/organization/cloud-...</td>\n",
       "      <td>{'languages': [{'name': 'Rust', 'value': 10535...</td>\n",
       "      <td>[{'url': 'https://github.com/project-akri/akri...</td>\n",
       "      <td>{'start_commit_link': '/project-akri/akri/comm...</td>\n",
       "      <td>{'fileName': 'akri.svg', 'hash': '2nK42JQaM8qF...</td>\n",
       "      <td>2020-10-14T00:42:19Z</td>\n",
       "      <td>https://github.com/project-akri/akri/commit/94...</td>\n",
       "      <td>{'text': '3 months ago', 'value': '940', 'orig...</td>\n",
       "      <td>https://github.com/project-akri/akri/commit/98...</td>\n",
       "      <td>{'text': '7 months ago', 'value': '900', 'orig...</td>\n",
       "      <td>https://github.com/project-akri/akri/releases</td>\n",
       "      <td>197</td>\n",
       "      <td>34.0</td>\n",
       "      <td>https://github.com/project-akri/akri/graphs/co...</td>\n",
       "      <td>Rust</td>\n",
       "      <td>996.0</td>\n",
       "      <td>Apache License 2.0</td>\n",
       "      <td>San Francisco, California</td>\n",
       "      <td>{'text': '7 months ago', 'value': '900', 'orig...</td>\n",
       "      <td>A Kubernetes Resource Interface for the Edge</td>\n",
       "      <td>Cloud Native Computing Foundation (CNCF)</td>\n",
       "      <td>{'name': 'Cloud Native Computing Foundation (C...</td>\n",
       "      <td>Provisioning / Automation &amp; Configuration</td>\n",
       "      <td>Provisioning / Automation &amp; Configuration</td>\n",
       "      <td>Provisioning</td>\n",
       "      <td>3000000</td>\n",
       "      <td>True</td>\n",
       "      <td>logos/akri.svg</td>\n",
       "      <td>5339</td>\n",
       "      <td>99.0</td>\n",
       "      <td>[Cloud Computing, Cloud Infrastructure, Non Pr...</td>\n",
       "      <td>True</td>\n",
       "      <td>996</td>\n",
       "      <td>True</td>\n",
       "      <td>$3M</td>\n",
       "      <td>akri</td>\n",
       "      <td>Akri</td>\n",
       "      <td>False</td>\n",
       "      <td>sandbox</td>\n",
       "      <td>False</td>\n",
       "      <td>sandbox</td>\n",
       "      <td>{'accepted': '2021-09-14', 'annual_review_date...</td>\n",
       "      <td>funding</td>\n",
       "      <td>NaN</td>\n",
       "      <td>NaN</td>\n",
       "      <td>NaN</td>\n",
       "      <td>NaN</td>\n",
       "      <td>NaN</td>\n",
       "      <td>NaN</td>\n",
       "      <td>NaN</td>\n",
       "      <td>NaN</td>\n",
       "      <td>NaN</td>\n",
       "      <td>NaN</td>\n",
       "      <td>NaN</td>\n",
       "      <td>NaN</td>\n",
       "      <td>Automation &amp; Configuration</td>\n",
       "      <td>project-akri/akri</td>\n",
       "      <td>project-akri</td>\n",
       "      <td>akri</td>\n",
       "    </tr>\n",
       "    <tr>\n",
       "      <th>2</th>\n",
       "      <td>Ansible</td>\n",
       "      <td>https://www.ansible.com/</td>\n",
       "      <td>https://github.com/ansible/ansible</td>\n",
       "      <td>ansible.svg</td>\n",
       "      <td>https://twitter.com/ansible</td>\n",
       "      <td>https://www.crunchbase.com/organization/red-hat</td>\n",
       "      <td>{'languages': [{'name': 'Python', 'value': 927...</td>\n",
       "      <td>[{'url': 'https://github.com/ansible/ansible',...</td>\n",
       "      <td>{'start_commit_link': '/ansible/ansible/commit...</td>\n",
       "      <td>{'fileName': 'ansible.svg', 'hash': 'XHYuAuMuT...</td>\n",
       "      <td>2012-02-23T19:17:24Z</td>\n",
       "      <td>https://github.com/ansible/ansible/commit/f314...</td>\n",
       "      <td>{'text': '2 months ago', 'value': '950', 'orig...</td>\n",
       "      <td>https://github.com/ansible/ansible/commit/7d98...</td>\n",
       "      <td>{'text': '3 months ago', 'value': '940', 'orig...</td>\n",
       "      <td>https://github.com/ansible/ansible/releases</td>\n",
       "      <td>959</td>\n",
       "      <td>6780.0</td>\n",
       "      <td>https://github.com/ansible/ansible/graphs/cont...</td>\n",
       "      <td>Python</td>\n",
       "      <td>58659.0</td>\n",
       "      <td>GNU General Public License v3.0</td>\n",
       "      <td>Raleigh, North Carolina</td>\n",
       "      <td>{'text': '7 months ago', 'value': '900', 'orig...</td>\n",
       "      <td>Ansible is a radically simple IT automation pl...</td>\n",
       "      <td>Red Hat</td>\n",
       "      <td>{'name': 'Red Hat', 'description': 'Red Hat is...</td>\n",
       "      <td>Provisioning / Automation &amp; Configuration</td>\n",
       "      <td>Provisioning / Automation &amp; Configuration</td>\n",
       "      <td>Provisioning</td>\n",
       "      <td>NaN</td>\n",
       "      <td>True</td>\n",
       "      <td>logos/ansible.svg</td>\n",
       "      <td>2372</td>\n",
       "      <td>66.0</td>\n",
       "      <td>[Enterprise Software, InsurTech, Linux, Open S...</td>\n",
       "      <td>True</td>\n",
       "      <td>58,659</td>\n",
       "      <td>True</td>\n",
       "      <td>$M</td>\n",
       "      <td>ansible</td>\n",
       "      <td>Ansible</td>\n",
       "      <td>Platinum</td>\n",
       "      <td>member</td>\n",
       "      <td>False</td>\n",
       "      <td>NaN</td>\n",
       "      <td>NaN</td>\n",
       "      <td>NaN</td>\n",
       "      <td>{'effective_ticker': 'IBM'}</td>\n",
       "      <td>NaN</td>\n",
       "      <td>NaN</td>\n",
       "      <td>NaN</td>\n",
       "      <td>NaN</td>\n",
       "      <td>NaN</td>\n",
       "      <td>NaN</td>\n",
       "      <td>NaN</td>\n",
       "      <td>NaN</td>\n",
       "      <td>NaN</td>\n",
       "      <td>NaN</td>\n",
       "      <td>NaN</td>\n",
       "      <td>Automation &amp; Configuration</td>\n",
       "      <td>ansible/ansible</td>\n",
       "      <td>ansible</td>\n",
       "      <td>ansible</td>\n",
       "    </tr>\n",
       "  </tbody>\n",
       "</table>\n",
       "</div>"
      ],
      "text/plain": [
       "      name                homepage_url                                  repo_url         logo                             twitter                                         crunchbase                                        github_data                                              repos                           github_start_commit_data                                         image_data       firstCommitDate                                    firstCommitLink                                   latestCommitDate  \\\n",
       "0  Airship  https://www.airshipit.org/  https://github.com/airshipit/treasuremap  airship.svg  https://twitter.com/airshipproject  https://www.crunchbase.com/organization/open-i...  {'languages': [{'name': 'Shell', 'value': 3022...  [{'url': 'https://github.com/airshipit/treasur...  {'start_commit_link': '/airshipit/treasuremap/...  {'fileName': 'airship.svg', 'hash': 'kS96vnkPA...  2018-08-14T23:50:18Z  https://github.com/airshipit/treasuremap/commi...                               2021-11-18T19:35:10Z   \n",
       "1     Akri        https://docs.akri.sh      https://github.com/project-akri/akri     akri.svg     https://twitter.com/ProjectAkri  https://www.crunchbase.com/organization/cloud-...  {'languages': [{'name': 'Rust', 'value': 10535...  [{'url': 'https://github.com/project-akri/akri...  {'start_commit_link': '/project-akri/akri/comm...  {'fileName': 'akri.svg', 'hash': '2nK42JQaM8qF...  2020-10-14T00:42:19Z  https://github.com/project-akri/akri/commit/94...  {'text': '3 months ago', 'value': '940', 'orig...   \n",
       "2  Ansible    https://www.ansible.com/        https://github.com/ansible/ansible  ansible.svg         https://twitter.com/ansible    https://www.crunchbase.com/organization/red-hat  {'languages': [{'name': 'Python', 'value': 927...  [{'url': 'https://github.com/ansible/ansible',...  {'start_commit_link': '/ansible/ansible/commit...  {'fileName': 'ansible.svg', 'hash': 'XHYuAuMuT...  2012-02-23T19:17:24Z  https://github.com/ansible/ansible/commit/f314...  {'text': '2 months ago', 'value': '950', 'orig...   \n",
       "\n",
       "                                    latestCommitLink                                        releaseDate                                        releaseLink  commitsThisYear  contributorsCount                                   contributorsLink language    stars                          license               headquarters                                    latestTweetDate                                        description                              organization  \\\n",
       "0  https://github.com/airshipit/treasuremap/commi...                               2021-12-06T20:04:17Z  https://github.com/airshipit/treasuremap/releases                0              117.0  https://github.com/airshipit/treasuremap/graph...    Shell     49.0               Apache License 2.0              Austin, Texas  {'text': '8 months ago', 'value': '890', 'orig...  Reference Airship manifests, CICD, and referen...            Open Infrastructure Foundation   \n",
       "1  https://github.com/project-akri/akri/commit/98...  {'text': '7 months ago', 'value': '900', 'orig...      https://github.com/project-akri/akri/releases              197               34.0  https://github.com/project-akri/akri/graphs/co...     Rust    996.0               Apache License 2.0  San Francisco, California  {'text': '7 months ago', 'value': '900', 'orig...       A Kubernetes Resource Interface for the Edge  Cloud Native Computing Foundation (CNCF)   \n",
       "2  https://github.com/ansible/ansible/commit/7d98...  {'text': '3 months ago', 'value': '940', 'orig...        https://github.com/ansible/ansible/releases              959             6780.0  https://github.com/ansible/ansible/graphs/cont...   Python  58659.0  GNU General Public License v3.0    Raleigh, North Carolina  {'text': '7 months ago', 'value': '900', 'orig...  Ansible is a radically simple IT automation pl...                                   Red Hat   \n",
       "\n",
       "                                      crunchbaseData                                       path                                  landscape      category   amount   oss               href  bestPracticeBadgeId  bestPracticePercentage                                         industries  starsPresent starsAsText  marketCapPresent marketCapAsText       id flatName    member relation  isSubsidiaryProject  project                                              extra amountKind           yahoo_finance_data  \\\n",
       "0  {'name': 'Open Infrastructure Foundation', 'de...  Provisioning / Automation & Configuration  Provisioning / Automation & Configuration  Provisioning      N/A  True  logos/airship.svg                    0                     NaN                                                 []          True          49             False             N/A  airship  Airship     False    False                False      NaN                                                NaN        NaN                          NaN   \n",
       "1  {'name': 'Cloud Native Computing Foundation (C...  Provisioning / Automation & Configuration  Provisioning / Automation & Configuration  Provisioning  3000000  True     logos/akri.svg                 5339                    99.0  [Cloud Computing, Cloud Infrastructure, Non Pr...          True         996              True             $3M     akri     Akri     False  sandbox                False  sandbox  {'accepted': '2021-09-14', 'annual_review_date...    funding                          NaN   \n",
       "2  {'name': 'Red Hat', 'description': 'Red Hat is...  Provisioning / Automation & Configuration  Provisioning / Automation & Configuration  Provisioning      NaN  True  logos/ansible.svg                 2372                    66.0  [Enterprise Software, InsurTech, Linux, Open S...          True      58,659              True              $M  ansible  Ansible  Platinum   member                False      NaN                                                NaN        NaN  {'effective_ticker': 'IBM'}   \n",
       "\n",
       "   allow_duplicate_repo joined url_for_bestpractices project_org  open_source  enduser stock_ticker second_path branch  hideLicense  unnamed_organization                  subcategory                   repo      org_name    repo_name  \n",
       "0                   NaN    NaN                   NaN         NaN          NaN      NaN          NaN         NaN    NaN          NaN                   NaN   Automation & Configuration  airshipit/treasuremap     airshipit  treasuremap  \n",
       "1                   NaN    NaN                   NaN         NaN          NaN      NaN          NaN         NaN    NaN          NaN                   NaN   Automation & Configuration      project-akri/akri  project-akri         akri  \n",
       "2                   NaN    NaN                   NaN         NaN          NaN      NaN          NaN         NaN    NaN          NaN                   NaN   Automation & Configuration        ansible/ansible       ansible      ansible  "
      ]
     },
     "execution_count": 118,
     "metadata": {},
     "output_type": "execute_result"
    }
   ],
   "source": [
    "df_projects.head(3)"
   ]
  },
  {
   "cell_type": "markdown",
   "metadata": {},
   "source": [
    "## Create a smaller (cleaner) dataframe to work with"
   ]
  },
  {
   "cell_type": "code",
   "execution_count": 119,
   "metadata": {},
   "outputs": [
    {
     "data": {
      "text/html": [
       "<div>\n",
       "<style scoped>\n",
       "    .dataframe tbody tr th:only-of-type {\n",
       "        vertical-align: middle;\n",
       "    }\n",
       "\n",
       "    .dataframe tbody tr th {\n",
       "        vertical-align: top;\n",
       "    }\n",
       "\n",
       "    .dataframe thead th {\n",
       "        text-align: right;\n",
       "    }\n",
       "</style>\n",
       "<table border=\"1\" class=\"dataframe\">\n",
       "  <thead>\n",
       "    <tr style=\"text-align: right;\">\n",
       "      <th></th>\n",
       "      <th>relation</th>\n",
       "      <th>category</th>\n",
       "      <th>subcategory</th>\n",
       "      <th>id</th>\n",
       "      <th>name</th>\n",
       "      <th>flatName</th>\n",
       "      <th>repo</th>\n",
       "      <th>repo_name</th>\n",
       "      <th>org_name</th>\n",
       "      <th>contributorsCount</th>\n",
       "      <th>commitsThisYear</th>\n",
       "      <th>stars</th>\n",
       "      <th>github_data</th>\n",
       "      <th>extra</th>\n",
       "      <th>industries</th>\n",
       "      <th>headquarters</th>\n",
       "      <th>image_data</th>\n",
       "    </tr>\n",
       "  </thead>\n",
       "  <tbody>\n",
       "    <tr>\n",
       "      <th>0</th>\n",
       "      <td>False</td>\n",
       "      <td>Provisioning</td>\n",
       "      <td>Automation &amp; Configuration</td>\n",
       "      <td>airship</td>\n",
       "      <td>Airship</td>\n",
       "      <td>Airship</td>\n",
       "      <td>airshipit/treasuremap</td>\n",
       "      <td>treasuremap</td>\n",
       "      <td>airshipit</td>\n",
       "      <td>117.0</td>\n",
       "      <td>0</td>\n",
       "      <td>49.0</td>\n",
       "      <td>{'languages': [{'name': 'Shell', 'value': 3022...</td>\n",
       "      <td>NaN</td>\n",
       "      <td>[]</td>\n",
       "      <td>Austin, Texas</td>\n",
       "      <td>{'fileName': 'airship.svg', 'hash': 'kS96vnkPA...</td>\n",
       "    </tr>\n",
       "    <tr>\n",
       "      <th>1</th>\n",
       "      <td>sandbox</td>\n",
       "      <td>Provisioning</td>\n",
       "      <td>Automation &amp; Configuration</td>\n",
       "      <td>akri</td>\n",
       "      <td>Akri</td>\n",
       "      <td>Akri</td>\n",
       "      <td>project-akri/akri</td>\n",
       "      <td>akri</td>\n",
       "      <td>project-akri</td>\n",
       "      <td>34.0</td>\n",
       "      <td>197</td>\n",
       "      <td>996.0</td>\n",
       "      <td>{'languages': [{'name': 'Rust', 'value': 10535...</td>\n",
       "      <td>{'accepted': '2021-09-14', 'annual_review_date...</td>\n",
       "      <td>[Cloud Computing, Cloud Infrastructure, Non Pr...</td>\n",
       "      <td>San Francisco, California</td>\n",
       "      <td>{'fileName': 'akri.svg', 'hash': '2nK42JQaM8qF...</td>\n",
       "    </tr>\n",
       "    <tr>\n",
       "      <th>2</th>\n",
       "      <td>member</td>\n",
       "      <td>Provisioning</td>\n",
       "      <td>Automation &amp; Configuration</td>\n",
       "      <td>ansible</td>\n",
       "      <td>Ansible</td>\n",
       "      <td>Ansible</td>\n",
       "      <td>ansible/ansible</td>\n",
       "      <td>ansible</td>\n",
       "      <td>ansible</td>\n",
       "      <td>6780.0</td>\n",
       "      <td>959</td>\n",
       "      <td>58659.0</td>\n",
       "      <td>{'languages': [{'name': 'Python', 'value': 927...</td>\n",
       "      <td>NaN</td>\n",
       "      <td>[Enterprise Software, InsurTech, Linux, Open S...</td>\n",
       "      <td>Raleigh, North Carolina</td>\n",
       "      <td>{'fileName': 'ansible.svg', 'hash': 'XHYuAuMuT...</td>\n",
       "    </tr>\n",
       "    <tr>\n",
       "      <th>3</th>\n",
       "      <td>False</td>\n",
       "      <td>Provisioning</td>\n",
       "      <td>Automation &amp; Configuration</td>\n",
       "      <td>apollo</td>\n",
       "      <td>Apollo</td>\n",
       "      <td>Apollo</td>\n",
       "      <td>apolloconfig/apollo</td>\n",
       "      <td>apollo</td>\n",
       "      <td>apolloconfig</td>\n",
       "      <td>170.0</td>\n",
       "      <td>96</td>\n",
       "      <td>28360.0</td>\n",
       "      <td>{'languages': [{'name': 'Java', 'value': 22675...</td>\n",
       "      <td>NaN</td>\n",
       "      <td>[Hospitality, Tourism, Travel]</td>\n",
       "      <td>Singapore, Singapore</td>\n",
       "      <td>{'fileName': 'apollo.svg', 'hash': 'peWJyyZdPz...</td>\n",
       "    </tr>\n",
       "    <tr>\n",
       "      <th>4</th>\n",
       "      <td>member</td>\n",
       "      <td>Provisioning</td>\n",
       "      <td>Automation &amp; Configuration</td>\n",
       "      <td>aws-cloud-formation</td>\n",
       "      <td>AWS CloudFormation</td>\n",
       "      <td>AWS CloudFormation</td>\n",
       "      <td>&lt;NA&gt;</td>\n",
       "      <td>&lt;NA&gt;</td>\n",
       "      <td>&lt;NA&gt;</td>\n",
       "      <td>NaN</td>\n",
       "      <td>0</td>\n",
       "      <td>NaN</td>\n",
       "      <td>NaN</td>\n",
       "      <td>NaN</td>\n",
       "      <td>[Consulting, DevOps, Information Services, Inf...</td>\n",
       "      <td>Seattle, Washington</td>\n",
       "      <td>{'fileName': 'aws-cloud-formation.svg', 'hash'...</td>\n",
       "    </tr>\n",
       "  </tbody>\n",
       "</table>\n",
       "</div>"
      ],
      "text/plain": [
       "  relation      category                  subcategory                   id                name            flatName                   repo    repo_name      org_name  contributorsCount  commitsThisYear    stars                                        github_data                                              extra                                         industries               headquarters                                         image_data\n",
       "0    False  Provisioning   Automation & Configuration              airship             Airship             Airship  airshipit/treasuremap  treasuremap     airshipit              117.0                0     49.0  {'languages': [{'name': 'Shell', 'value': 3022...                                                NaN                                                 []              Austin, Texas  {'fileName': 'airship.svg', 'hash': 'kS96vnkPA...\n",
       "1  sandbox  Provisioning   Automation & Configuration                 akri                Akri                Akri      project-akri/akri         akri  project-akri               34.0              197    996.0  {'languages': [{'name': 'Rust', 'value': 10535...  {'accepted': '2021-09-14', 'annual_review_date...  [Cloud Computing, Cloud Infrastructure, Non Pr...  San Francisco, California  {'fileName': 'akri.svg', 'hash': '2nK42JQaM8qF...\n",
       "2   member  Provisioning   Automation & Configuration              ansible             Ansible             Ansible        ansible/ansible      ansible       ansible             6780.0              959  58659.0  {'languages': [{'name': 'Python', 'value': 927...                                                NaN  [Enterprise Software, InsurTech, Linux, Open S...    Raleigh, North Carolina  {'fileName': 'ansible.svg', 'hash': 'XHYuAuMuT...\n",
       "3    False  Provisioning   Automation & Configuration               apollo              Apollo              Apollo    apolloconfig/apollo       apollo  apolloconfig              170.0               96  28360.0  {'languages': [{'name': 'Java', 'value': 22675...                                                NaN                     [Hospitality, Tourism, Travel]       Singapore, Singapore  {'fileName': 'apollo.svg', 'hash': 'peWJyyZdPz...\n",
       "4   member  Provisioning   Automation & Configuration  aws-cloud-formation  AWS CloudFormation  AWS CloudFormation                   <NA>         <NA>          <NA>                NaN                0      NaN                                                NaN                                                NaN  [Consulting, DevOps, Information Services, Inf...        Seattle, Washington  {'fileName': 'aws-cloud-formation.svg', 'hash'..."
      ]
     },
     "execution_count": 119,
     "metadata": {},
     "output_type": "execute_result"
    }
   ],
   "source": [
    "# df2=df[['B','D','F']].rename({'B':'X','D':'Y','F':'Z'}, axis=1)\n",
    "df = df_projects.reset_index()\n",
    "df = df[[\n",
    "    'relation',\n",
    "    'category',\n",
    "    'subcategory',\n",
    "    'id',\n",
    "    'name',\n",
    "    'flatName',\n",
    "    'repo',\n",
    "    'repo_name',\n",
    "    'org_name',\n",
    "    'contributorsCount',\n",
    "    'commitsThisYear',\n",
    "    'stars',\n",
    "    'github_data',\n",
    "    'extra',\n",
    "    'industries',\n",
    "    'headquarters',\n",
    "    'image_data']].copy()\n",
    "\n",
    "df.head()"
   ]
  },
  {
   "cell_type": "code",
   "execution_count": 120,
   "metadata": {},
   "outputs": [
    {
     "name": "stdout",
     "output_type": "stream",
     "text": [
      "before nulls removed: (2276, 17)\n",
      "after nulls removed: (226, 17)\n"
     ]
    }
   ],
   "source": [
    "print(f'before nulls removed: {df.shape}')\n",
    "df = df.dropna().copy()\n",
    "print(f'after nulls removed: {df.shape}')"
   ]
  },
  {
   "cell_type": "code",
   "execution_count": 121,
   "metadata": {},
   "outputs": [
    {
     "name": "stdout",
     "output_type": "stream",
     "text": [
      "CATEGORIES\n",
      "['Provisioning', 'Runtime', 'Orchestration & Management', 'App Definition and Development', 'Platform', 'Serverless', 'Observability and Analysis', 'Wasm']\n",
      "\n",
      "SUBCATEGORIES\n",
      "[' Automation & Configuration', ' Container Registry', ' Security & Compliance', ' Key Management', ' Cloud Native Storage', ' Container Runtime', ' Cloud Native Network', ' Scheduling & Orchestration', ' Coordination & Service Discovery', ' Remote Procedure Call', ' Service Proxy', ' API Gateway', ' Service Mesh', ' Database', ' Streaming & Messaging', ' Application Definition & Image Build', ' Continuous Integration & Delivery', ' Certified Kubernetes - Distribution', ' Certified Kubernetes - Hosted', ' Certified Kubernetes - Installer', 'Container Service', ' Framework', ' Installable Platform', ' Monitoring', ' Feature Flagging', ' Logging', ' Tracing', ' Chaos Engineering', ' Continuous Optimization', ' Runtimes', ' Orchestration & Management']\n",
      "\n",
      "ORG_NAMES\n",
      "['project-akri', 'cdk8s-team', 'cloud-custodian', 'devstream-io', 'kcl-lang', 'GoogleContainerTools', 'kubedl-io', 'kubeedge', 'meshery', 'metal3-io', 'openyurtio', 'superedge', 'tinkerbell', 'distribution', 'dragonflyoss', 'goharbor', 'project-zot', 'openclarity', 'aserto-dev', 'bcgit', 'cert-manager', 'confidential-containers', 'containerssh', 'curiefense', 'dexidp', 'Keyfactor', 'external-secrets', 'falcosecurity', 'hexa-org', 'in-toto', 'keycloak', 'keylime', 'Checkmarx', 'kubearmor', 'stackrox', 'kubescape', 'kubewarden', 'kyverno', 'notaryproject', 'open-policy-agent', 'opcr-io', 'openfga', 'paralus', 'parallaxsecond', 'normation', 'secureCodeBox', 'sigstore', 'slimtoolkit', 'getsops', 'cilium', 'theupdateframework', 'AthenZ', 'spiffe', 'tellerops', 'carina-io', 'cubeFS', 'opencurve', 'hwameistor', 'k8up-io', 'longhorn', 'openebs', 'oras-project', 'piraeusdatastore', 'rook', 'v6d-io', 'containerd', 'cri-o', 'inclavare-containers', 'krustlet', 'kuasar-io', 'lima-vm', 'rkt', 'virtual-kubelet', 'WasmEdge', 'antrea-io', 'cni-genie', 'containernetworking', 'FabEdge', 'kubeovn', 'kube-vip', 'networkservicemesh', 'submariner-io', 'armadaproject', 'projectcapsule', 'clusternet', 'clusterpedia-io', 'crossplane', 'eraser-dev', 'fluid-cloudnative', 'karmada-io', 'kcp-dev', 'kedacore', 'kestra-io', 'knative', 'kube-green', 'kube-rs', 'kubeflow', 'kubernetes', 'kubereboot', 'open-cluster-management-io', 'OpenFunction', 'serverless-devs', 'volcano-sh', 'wasmCloud', 'coredns', 'etcd-io', 'k8gb-io', 'xline-kv', 'grpc', 'bfenetworks', 'projectcontour', 'envoyproxy', 'metallb', 'openelb', 'emissary-ingress', 'aeraki-mesh', 'istio', 'kumahq', 'linkerd', 'merbridge', 'cisco-open', 'openservicemesh', 'servicemeshinterface', 'service-mesh-performance', 'traefik', 'qdrant', 'schemahero', 'authzed', 'StarRocks', 'tikv', 'vdaas', 'vitessio', 'semi-technologies', 'ydb-platform', 'cloudevents', 'banzaicloud', 'memphisdev', 'nats-io', 'pravega', 'strimzi', 'tremor-rs', 'userver-framework', 'artifacthub', 'backstage', 'buildpacks', 'carvel-dev', 'dapr', 'devfile', 'devspace-cloud', 'gefyrahq', 'helm', 'ko-build', 'konveyor', 'krator-rs', 'kubevela', 'kubevirt', 'kudobuilder', 'microcks', 'metalbear-co', 'nocalhost', 'operator-framework', 'getporter', 'quarkusio', 'sealerio', 'serverlessworkflow', 'telepresenceio', 'vscode-kubernetes-tools', 'argoproj', 'brigadecore', 'bytebase', 'vmware-tanzu', 'fluxcd', 'keptn', 'liquibase', 'open-gitops', 'openkruise', 'pipe-cd', 'Unleash', 'werf', 'k3s-io', 'QingCloudAppcenter', 'kubeclipper', 'kubesphere', 'kapetacom', 'cortexproject', 'foniod', 'headlamp-k8s', 'inspektor-gadget', 'sustainable-computing-io', 'kuberhealthy', 'micrometer-metrics', 'OpenObservability', 'pixie-io', 'prometheus', 'runsidekick', 'skooner-k8s', 'thanos-io', 'trickstercache', 'open-feature', 'fluent', 'opensearch-project', 'parseablehq', 'jaegertracing', 'open-telemetry', 'opentracing', 'chaos-mesh', 'chaosblade-io', 'litmuschaos', 'opencost', 'stealthrocket', 'wasmerio']\n",
      "\n"
     ]
    }
   ],
   "source": [
    "categories = df['category'].drop_duplicates().tolist()\n",
    "print(f'CATEGORIES\\n{categories}\\n')\n",
    "\n",
    "subcategories = df['subcategory'].drop_duplicates().tolist()\n",
    "print(f'SUBCATEGORIES\\n{subcategories}\\n')\n",
    "\n",
    "org_names = df['org_name'].drop_duplicates().tolist()\n",
    "print(f'ORG_NAMES\\n{org_names}\\n')\n"
   ]
  },
  {
   "cell_type": "code",
   "execution_count": 122,
   "metadata": {},
   "outputs": [
    {
     "data": {
      "text/html": [
       "<div>\n",
       "<style scoped>\n",
       "    .dataframe tbody tr th:only-of-type {\n",
       "        vertical-align: middle;\n",
       "    }\n",
       "\n",
       "    .dataframe tbody tr th {\n",
       "        vertical-align: top;\n",
       "    }\n",
       "\n",
       "    .dataframe thead th {\n",
       "        text-align: right;\n",
       "    }\n",
       "</style>\n",
       "<table border=\"1\" class=\"dataframe\">\n",
       "  <thead>\n",
       "    <tr style=\"text-align: right;\">\n",
       "      <th></th>\n",
       "      <th>relation</th>\n",
       "      <th>category</th>\n",
       "      <th>subcategory</th>\n",
       "      <th>id</th>\n",
       "      <th>name</th>\n",
       "      <th>flatName</th>\n",
       "      <th>repo</th>\n",
       "      <th>repo_name</th>\n",
       "      <th>org_name</th>\n",
       "      <th>contributorsCount</th>\n",
       "      <th>commitsThisYear</th>\n",
       "      <th>stars</th>\n",
       "      <th>github_data</th>\n",
       "      <th>extra</th>\n",
       "      <th>industries</th>\n",
       "      <th>headquarters</th>\n",
       "      <th>image_data</th>\n",
       "    </tr>\n",
       "  </thead>\n",
       "  <tbody>\n",
       "    <tr>\n",
       "      <th>1</th>\n",
       "      <td>sandbox</td>\n",
       "      <td>Provisioning</td>\n",
       "      <td>Automation &amp; Configuration</td>\n",
       "      <td>akri</td>\n",
       "      <td>Akri</td>\n",
       "      <td>Akri</td>\n",
       "      <td>project-akri/akri</td>\n",
       "      <td>akri</td>\n",
       "      <td>project-akri</td>\n",
       "      <td>34.0</td>\n",
       "      <td>197</td>\n",
       "      <td>996.0</td>\n",
       "      <td>{'languages': [{'name': 'Rust', 'value': 10535...</td>\n",
       "      <td>{'accepted': '2021-09-14', 'annual_review_date...</td>\n",
       "      <td>[Cloud Computing, Cloud Infrastructure, Non Pr...</td>\n",
       "      <td>San Francisco, California</td>\n",
       "      <td>{'fileName': 'akri.svg', 'hash': '2nK42JQaM8qF...</td>\n",
       "    </tr>\n",
       "    <tr>\n",
       "      <th>7</th>\n",
       "      <td>sandbox</td>\n",
       "      <td>Provisioning</td>\n",
       "      <td>Automation &amp; Configuration</td>\n",
       "      <td>cdk-for-kubernetes-cdk8s</td>\n",
       "      <td>CDK for Kubernetes (CDK8s)</td>\n",
       "      <td>CDK for Kubernetes (CDK8s)</td>\n",
       "      <td>cdk8s-team/cdk8s</td>\n",
       "      <td>cdk8s</td>\n",
       "      <td>cdk8s-team</td>\n",
       "      <td>78.0</td>\n",
       "      <td>434</td>\n",
       "      <td>3818.0</td>\n",
       "      <td>{'languages': [{'name': 'JavaScript', 'value':...</td>\n",
       "      <td>{'accepted': '2020-11-10', 'annual_review_url'...</td>\n",
       "      <td>[Cloud Computing, Cloud Infrastructure, Non Pr...</td>\n",
       "      <td>San Francisco, California</td>\n",
       "      <td>{'fileName': 'cdk-for-kubernetes-cdk8s.svg', '...</td>\n",
       "    </tr>\n",
       "    <tr>\n",
       "      <th>10</th>\n",
       "      <td>incubating</td>\n",
       "      <td>Provisioning</td>\n",
       "      <td>Automation &amp; Configuration</td>\n",
       "      <td>cloud-custodian</td>\n",
       "      <td>Cloud Custodian</td>\n",
       "      <td>Cloud Custodian</td>\n",
       "      <td>cloud-custodian/cloud-custodian</td>\n",
       "      <td>cloud-custodian</td>\n",
       "      <td>cloud-custodian</td>\n",
       "      <td>441.0</td>\n",
       "      <td>522</td>\n",
       "      <td>4951.0</td>\n",
       "      <td>{'languages': [{'name': 'Python', 'value': 771...</td>\n",
       "      <td>{'accepted': '2020-06-25', 'dev_stats_url': 'h...</td>\n",
       "      <td>[Cloud Computing, Cloud Infrastructure, Non Pr...</td>\n",
       "      <td>San Francisco, California</td>\n",
       "      <td>{'fileName': 'cloud-custodian.svg', 'hash': '0...</td>\n",
       "    </tr>\n",
       "    <tr>\n",
       "      <th>13</th>\n",
       "      <td>sandbox</td>\n",
       "      <td>Provisioning</td>\n",
       "      <td>Automation &amp; Configuration</td>\n",
       "      <td>dev-stream</td>\n",
       "      <td>DevStream</td>\n",
       "      <td>DevStream</td>\n",
       "      <td>devstream-io/devstream</td>\n",
       "      <td>devstream</td>\n",
       "      <td>devstream-io</td>\n",
       "      <td>62.0</td>\n",
       "      <td>515</td>\n",
       "      <td>815.0</td>\n",
       "      <td>{'languages': [{'name': 'Go', 'value': 31401, ...</td>\n",
       "      <td>{'accepted': '2022-06-17', 'dev_stats_url': 'h...</td>\n",
       "      <td>[Cloud Computing, Cloud Infrastructure, Non Pr...</td>\n",
       "      <td>San Francisco, California</td>\n",
       "      <td>{'fileName': 'dev-stream.svg', 'hash': 'R9wN8R...</td>\n",
       "    </tr>\n",
       "    <tr>\n",
       "      <th>18</th>\n",
       "      <td>sandbox</td>\n",
       "      <td>Provisioning</td>\n",
       "      <td>Automation &amp; Configuration</td>\n",
       "      <td>kcl</td>\n",
       "      <td>KCL</td>\n",
       "      <td>KCL</td>\n",
       "      <td>kcl-lang/kcl</td>\n",
       "      <td>kcl</td>\n",
       "      <td>kcl-lang</td>\n",
       "      <td>15.0</td>\n",
       "      <td>329</td>\n",
       "      <td>808.0</td>\n",
       "      <td>{'languages': [{'name': 'Rust', 'value': 28654...</td>\n",
       "      <td>{'accepted': '2023-09-20', 'dev_stats_url': 'h...</td>\n",
       "      <td>[Cloud Computing, Cloud Infrastructure, Non Pr...</td>\n",
       "      <td>San Francisco, California</td>\n",
       "      <td>{'fileName': 'kcl.svg', 'hash': 'vzDONy6/3IQev...</td>\n",
       "    </tr>\n",
       "  </tbody>\n",
       "</table>\n",
       "</div>"
      ],
      "text/plain": [
       "      relation      category                  subcategory                        id                        name                    flatName                             repo        repo_name         org_name  contributorsCount  commitsThisYear   stars                                        github_data                                              extra                                         industries               headquarters                                         image_data\n",
       "1      sandbox  Provisioning   Automation & Configuration                      akri                        Akri                        Akri                project-akri/akri             akri     project-akri               34.0              197   996.0  {'languages': [{'name': 'Rust', 'value': 10535...  {'accepted': '2021-09-14', 'annual_review_date...  [Cloud Computing, Cloud Infrastructure, Non Pr...  San Francisco, California  {'fileName': 'akri.svg', 'hash': '2nK42JQaM8qF...\n",
       "7      sandbox  Provisioning   Automation & Configuration  cdk-for-kubernetes-cdk8s  CDK for Kubernetes (CDK8s)  CDK for Kubernetes (CDK8s)                 cdk8s-team/cdk8s            cdk8s       cdk8s-team               78.0              434  3818.0  {'languages': [{'name': 'JavaScript', 'value':...  {'accepted': '2020-11-10', 'annual_review_url'...  [Cloud Computing, Cloud Infrastructure, Non Pr...  San Francisco, California  {'fileName': 'cdk-for-kubernetes-cdk8s.svg', '...\n",
       "10  incubating  Provisioning   Automation & Configuration           cloud-custodian             Cloud Custodian             Cloud Custodian  cloud-custodian/cloud-custodian  cloud-custodian  cloud-custodian              441.0              522  4951.0  {'languages': [{'name': 'Python', 'value': 771...  {'accepted': '2020-06-25', 'dev_stats_url': 'h...  [Cloud Computing, Cloud Infrastructure, Non Pr...  San Francisco, California  {'fileName': 'cloud-custodian.svg', 'hash': '0...\n",
       "13     sandbox  Provisioning   Automation & Configuration                dev-stream                   DevStream                   DevStream           devstream-io/devstream        devstream     devstream-io               62.0              515   815.0  {'languages': [{'name': 'Go', 'value': 31401, ...  {'accepted': '2022-06-17', 'dev_stats_url': 'h...  [Cloud Computing, Cloud Infrastructure, Non Pr...  San Francisco, California  {'fileName': 'dev-stream.svg', 'hash': 'R9wN8R...\n",
       "18     sandbox  Provisioning   Automation & Configuration                       kcl                         KCL                         KCL                     kcl-lang/kcl              kcl         kcl-lang               15.0              329   808.0  {'languages': [{'name': 'Rust', 'value': 28654...  {'accepted': '2023-09-20', 'dev_stats_url': 'h...  [Cloud Computing, Cloud Infrastructure, Non Pr...  San Francisco, California  {'fileName': 'kcl.svg', 'hash': 'vzDONy6/3IQev..."
      ]
     },
     "execution_count": 122,
     "metadata": {},
     "output_type": "execute_result"
    }
   ],
   "source": [
    "df.head()"
   ]
  },
  {
   "cell_type": "code",
   "execution_count": 123,
   "metadata": {},
   "outputs": [
    {
     "name": "stdout",
     "output_type": "stream",
     "text": [
      "<class 'pandas.core.frame.DataFrame'>\n",
      "Index: 226 entries, 1 to 2242\n",
      "Data columns (total 17 columns):\n",
      " #   Column             Non-Null Count  Dtype  \n",
      "---  ------             --------------  -----  \n",
      " 0   relation           226 non-null    object \n",
      " 1   category           226 non-null    object \n",
      " 2   subcategory        226 non-null    object \n",
      " 3   id                 226 non-null    object \n",
      " 4   name               226 non-null    object \n",
      " 5   flatName           226 non-null    object \n",
      " 6   repo               226 non-null    string \n",
      " 7   repo_name          226 non-null    string \n",
      " 8   org_name           226 non-null    string \n",
      " 9   contributorsCount  226 non-null    float64\n",
      " 10  commitsThisYear    226 non-null    int64  \n",
      " 11  stars              226 non-null    float64\n",
      " 12  github_data        226 non-null    object \n",
      " 13  extra              226 non-null    object \n",
      " 14  industries         226 non-null    object \n",
      " 15  headquarters       226 non-null    object \n",
      " 16  image_data         226 non-null    object \n",
      "dtypes: float64(2), int64(1), object(11), string(3)\n",
      "memory usage: 31.8+ KB\n"
     ]
    }
   ],
   "source": [
    "df.info()"
   ]
  },
  {
   "cell_type": "code",
   "execution_count": 124,
   "metadata": {},
   "outputs": [
    {
     "data": {
      "text/html": [
       "<div>\n",
       "<style scoped>\n",
       "    .dataframe tbody tr th:only-of-type {\n",
       "        vertical-align: middle;\n",
       "    }\n",
       "\n",
       "    .dataframe tbody tr th {\n",
       "        vertical-align: top;\n",
       "    }\n",
       "\n",
       "    .dataframe thead th {\n",
       "        text-align: right;\n",
       "    }\n",
       "</style>\n",
       "<table border=\"1\" class=\"dataframe\">\n",
       "  <thead>\n",
       "    <tr style=\"text-align: right;\">\n",
       "      <th></th>\n",
       "      <th>contributorsCount</th>\n",
       "      <th>commitsThisYear</th>\n",
       "      <th>stars</th>\n",
       "    </tr>\n",
       "  </thead>\n",
       "  <tbody>\n",
       "    <tr>\n",
       "      <th>count</th>\n",
       "      <td>226.000000</td>\n",
       "      <td>226.000000</td>\n",
       "      <td>226.000000</td>\n",
       "    </tr>\n",
       "    <tr>\n",
       "      <th>mean</th>\n",
       "      <td>218.530973</td>\n",
       "      <td>962.371681</td>\n",
       "      <td>5351.601770</td>\n",
       "    </tr>\n",
       "    <tr>\n",
       "      <th>std</th>\n",
       "      <td>428.580200</td>\n",
       "      <td>1707.273141</td>\n",
       "      <td>9788.969626</td>\n",
       "    </tr>\n",
       "    <tr>\n",
       "      <th>min</th>\n",
       "      <td>4.000000</td>\n",
       "      <td>0.000000</td>\n",
       "      <td>8.000000</td>\n",
       "    </tr>\n",
       "    <tr>\n",
       "      <th>25%</th>\n",
       "      <td>35.250000</td>\n",
       "      <td>126.250000</td>\n",
       "      <td>765.750000</td>\n",
       "    </tr>\n",
       "    <tr>\n",
       "      <th>50%</th>\n",
       "      <td>80.500000</td>\n",
       "      <td>399.000000</td>\n",
       "      <td>1959.500000</td>\n",
       "    </tr>\n",
       "    <tr>\n",
       "      <th>75%</th>\n",
       "      <td>245.500000</td>\n",
       "      <td>976.000000</td>\n",
       "      <td>5888.250000</td>\n",
       "    </tr>\n",
       "    <tr>\n",
       "      <th>max</th>\n",
       "      <td>4842.000000</td>\n",
       "      <td>12533.000000</td>\n",
       "      <td>101881.000000</td>\n",
       "    </tr>\n",
       "  </tbody>\n",
       "</table>\n",
       "</div>"
      ],
      "text/plain": [
       "       contributorsCount  commitsThisYear          stars\n",
       "count         226.000000       226.000000     226.000000\n",
       "mean          218.530973       962.371681    5351.601770\n",
       "std           428.580200      1707.273141    9788.969626\n",
       "min             4.000000         0.000000       8.000000\n",
       "25%            35.250000       126.250000     765.750000\n",
       "50%            80.500000       399.000000    1959.500000\n",
       "75%           245.500000       976.000000    5888.250000\n",
       "max          4842.000000     12533.000000  101881.000000"
      ]
     },
     "execution_count": 124,
     "metadata": {},
     "output_type": "execute_result"
    }
   ],
   "source": [
    "df.describe()"
   ]
  },
  {
   "cell_type": "code",
   "execution_count": 125,
   "metadata": {},
   "outputs": [
    {
     "data": {
      "text/plain": [
       "Index([   1,    7,   10,   13,   18,   20,   21,   22,   29,   30,\n",
       "       ...\n",
       "        987,  996,  998, 1001, 1015, 2166, 2168, 2172, 2173, 2242], dtype='int64', length=226)"
      ]
     },
     "execution_count": 125,
     "metadata": {},
     "output_type": "execute_result"
    }
   ],
   "source": [
    "df.index"
   ]
  },
  {
   "cell_type": "markdown",
   "metadata": {},
   "source": [
    "## Set Index "
   ]
  },
  {
   "cell_type": "code",
   "execution_count": 126,
   "metadata": {},
   "outputs": [
    {
     "name": "stdout",
     "output_type": "stream",
     "text": [
      "\t Index changed from [None] --> ['category', 'subcategory', 'relation', 'id']\n"
     ]
    },
    {
     "data": {
      "text/html": [
       "<div>\n",
       "<style scoped>\n",
       "    .dataframe tbody tr th:only-of-type {\n",
       "        vertical-align: middle;\n",
       "    }\n",
       "\n",
       "    .dataframe tbody tr th {\n",
       "        vertical-align: top;\n",
       "    }\n",
       "\n",
       "    .dataframe thead th {\n",
       "        text-align: right;\n",
       "    }\n",
       "</style>\n",
       "<table border=\"1\" class=\"dataframe\">\n",
       "  <thead>\n",
       "    <tr style=\"text-align: right;\">\n",
       "      <th></th>\n",
       "      <th></th>\n",
       "      <th></th>\n",
       "      <th></th>\n",
       "      <th>contributorsCount</th>\n",
       "      <th>commitsThisYear</th>\n",
       "      <th>stars</th>\n",
       "    </tr>\n",
       "    <tr>\n",
       "      <th>category</th>\n",
       "      <th>subcategory</th>\n",
       "      <th>relation</th>\n",
       "      <th>id</th>\n",
       "      <th></th>\n",
       "      <th></th>\n",
       "      <th></th>\n",
       "    </tr>\n",
       "  </thead>\n",
       "  <tbody>\n",
       "    <tr>\n",
       "      <th rowspan=\"55\" valign=\"top\">App Definition and Development</th>\n",
       "      <th rowspan=\"25\" valign=\"top\">Application Definition &amp; Image Build</th>\n",
       "      <th rowspan=\"2\" valign=\"top\">False</th>\n",
       "      <th>gefyra</th>\n",
       "      <td>13.0</td>\n",
       "      <td>786</td>\n",
       "      <td>550.0</td>\n",
       "    </tr>\n",
       "    <tr>\n",
       "      <th>mirrord</th>\n",
       "      <td>28.0</td>\n",
       "      <td>846</td>\n",
       "      <td>2949.0</td>\n",
       "    </tr>\n",
       "    <tr>\n",
       "      <th>graduated</th>\n",
       "      <th>helm</th>\n",
       "      <td>766.0</td>\n",
       "      <td>407</td>\n",
       "      <td>24953.0</td>\n",
       "    </tr>\n",
       "    <tr>\n",
       "      <th rowspan=\"6\" valign=\"top\">incubating</th>\n",
       "      <th>backstage</th>\n",
       "      <td>1629.0</td>\n",
       "      <td>12533</td>\n",
       "      <td>23285.0</td>\n",
       "    </tr>\n",
       "    <tr>\n",
       "      <th>buildpacks</th>\n",
       "      <td>123.0</td>\n",
       "      <td>951</td>\n",
       "      <td>2139.0</td>\n",
       "    </tr>\n",
       "    <tr>\n",
       "      <th>dapr</th>\n",
       "      <td>247.0</td>\n",
       "      <td>967</td>\n",
       "      <td>22320.0</td>\n",
       "    </tr>\n",
       "    <tr>\n",
       "      <th>kube-vela</th>\n",
       "      <td>225.0</td>\n",
       "      <td>708</td>\n",
       "      <td>5598.0</td>\n",
       "    </tr>\n",
       "    <tr>\n",
       "      <th>kube-virt</th>\n",
       "      <td>341.0</td>\n",
       "      <td>2588</td>\n",
       "      <td>4529.0</td>\n",
       "    </tr>\n",
       "    <tr>\n",
       "      <th>operator-framework</th>\n",
       "      <td>334.0</td>\n",
       "      <td>149</td>\n",
       "      <td>6706.0</td>\n",
       "    </tr>\n",
       "    <tr>\n",
       "      <th>member</th>\n",
       "      <th>quarkus</th>\n",
       "      <td>984.0</td>\n",
       "      <td>7580</td>\n",
       "      <td>12421.0</td>\n",
       "    </tr>\n",
       "    <tr>\n",
       "      <th rowspan=\"15\" valign=\"top\">sandbox</th>\n",
       "      <th>artifact-hub</th>\n",
       "      <td>35.0</td>\n",
       "      <td>254</td>\n",
       "      <td>1364.0</td>\n",
       "    </tr>\n",
       "    <tr>\n",
       "      <th>carvel</th>\n",
       "      <td>68.0</td>\n",
       "      <td>54</td>\n",
       "      <td>1477.0</td>\n",
       "    </tr>\n",
       "    <tr>\n",
       "      <th>dev-space</th>\n",
       "      <td>6.0</td>\n",
       "      <td>0</td>\n",
       "      <td>99.0</td>\n",
       "    </tr>\n",
       "    <tr>\n",
       "      <th>devfile</th>\n",
       "      <td>22.0</td>\n",
       "      <td>15</td>\n",
       "      <td>192.0</td>\n",
       "    </tr>\n",
       "    <tr>\n",
       "      <th>ko</th>\n",
       "      <td>83.0</td>\n",
       "      <td>253</td>\n",
       "      <td>6328.0</td>\n",
       "    </tr>\n",
       "    <tr>\n",
       "      <th>konveyor</th>\n",
       "      <td>14.0</td>\n",
       "      <td>137</td>\n",
       "      <td>18.0</td>\n",
       "    </tr>\n",
       "    <tr>\n",
       "      <th>krator</th>\n",
       "      <td>24.0</td>\n",
       "      <td>0</td>\n",
       "      <td>133.0</td>\n",
       "    </tr>\n",
       "    <tr>\n",
       "      <th>kudo</th>\n",
       "      <td>65.0</td>\n",
       "      <td>0</td>\n",
       "      <td>1127.0</td>\n",
       "    </tr>\n",
       "    <tr>\n",
       "      <th>microcks</th>\n",
       "      <td>36.0</td>\n",
       "      <td>180</td>\n",
       "      <td>940.0</td>\n",
       "    </tr>\n",
       "    <tr>\n",
       "      <th>nocalhost</th>\n",
       "      <td>50.0</td>\n",
       "      <td>36</td>\n",
       "      <td>1681.0</td>\n",
       "    </tr>\n",
       "    <tr>\n",
       "      <th>porter</th>\n",
       "      <td>97.0</td>\n",
       "      <td>492</td>\n",
       "      <td>1053.0</td>\n",
       "    </tr>\n",
       "    <tr>\n",
       "      <th>sealer</th>\n",
       "      <td>74.0</td>\n",
       "      <td>227</td>\n",
       "      <td>1921.0</td>\n",
       "    </tr>\n",
       "    <tr>\n",
       "      <th>serverless-workflow</th>\n",
       "      <td>41.0</td>\n",
       "      <td>40</td>\n",
       "      <td>620.0</td>\n",
       "    </tr>\n",
       "    <tr>\n",
       "      <th>telepresence</th>\n",
       "      <td>87.0</td>\n",
       "      <td>1382</td>\n",
       "      <td>6022.0</td>\n",
       "    </tr>\n",
       "    <tr>\n",
       "      <th>visual-studio-code-kubernetes-tools</th>\n",
       "      <td>87.0</td>\n",
       "      <td>27</td>\n",
       "      <td>627.0</td>\n",
       "    </tr>\n",
       "    <tr>\n",
       "      <th rowspan=\"13\" valign=\"top\">Continuous Integration &amp; Delivery</th>\n",
       "      <th rowspan=\"3\" valign=\"top\">False</th>\n",
       "      <th>bytebase</th>\n",
       "      <td>66.0</td>\n",
       "      <td>4904</td>\n",
       "      <td>6863.0</td>\n",
       "    </tr>\n",
       "    <tr>\n",
       "      <th>liquibase</th>\n",
       "      <td>736.0</td>\n",
       "      <td>1308</td>\n",
       "      <td>4062.0</td>\n",
       "    </tr>\n",
       "    <tr>\n",
       "      <th>unleash</th>\n",
       "      <td>189.0</td>\n",
       "      <td>2396</td>\n",
       "      <td>9122.0</td>\n",
       "    </tr>\n",
       "    <tr>\n",
       "      <th>archived</th>\n",
       "      <th>brigade</th>\n",
       "      <td>109.0</td>\n",
       "      <td>0</td>\n",
       "      <td>2390.0</td>\n",
       "    </tr>\n",
       "    <tr>\n",
       "      <th rowspan=\"2\" valign=\"top\">graduated</th>\n",
       "      <th>argo</th>\n",
       "      <td>1154.0</td>\n",
       "      <td>1338</td>\n",
       "      <td>14145.0</td>\n",
       "    </tr>\n",
       "    <tr>\n",
       "      <th>flux</th>\n",
       "      <td>140.0</td>\n",
       "      <td>689</td>\n",
       "      <td>5300.0</td>\n",
       "    </tr>\n",
       "    <tr>\n",
       "      <th rowspan=\"2\" valign=\"top\">incubating</th>\n",
       "      <th>keptn</th>\n",
       "      <td>123.0</td>\n",
       "      <td>437</td>\n",
       "      <td>1800.0</td>\n",
       "    </tr>\n",
       "    <tr>\n",
       "      <th>open-kruise</th>\n",
       "      <td>114.0</td>\n",
       "      <td>126</td>\n",
       "      <td>4081.0</td>\n",
       "    </tr>\n",
       "    <tr>\n",
       "      <th rowspan=\"2\" valign=\"top\">member</th>\n",
       "      <th>cartographer</th>\n",
       "      <td>29.0</td>\n",
       "      <td>128</td>\n",
       "      <td>427.0</td>\n",
       "    </tr>\n",
       "    <tr>\n",
       "      <th>flagger</th>\n",
       "      <td>198.0</td>\n",
       "      <td>274</td>\n",
       "      <td>4419.0</td>\n",
       "    </tr>\n",
       "    <tr>\n",
       "      <th rowspan=\"3\" valign=\"top\">sandbox</th>\n",
       "      <th>open-git-ops</th>\n",
       "      <td>14.0</td>\n",
       "      <td>32</td>\n",
       "      <td>728.0</td>\n",
       "    </tr>\n",
       "    <tr>\n",
       "      <th>pipe-cd</th>\n",
       "      <td>66.0</td>\n",
       "      <td>454</td>\n",
       "      <td>830.0</td>\n",
       "    </tr>\n",
       "    <tr>\n",
       "      <th>werf</th>\n",
       "      <td>62.0</td>\n",
       "      <td>1272</td>\n",
       "      <td>3760.0</td>\n",
       "    </tr>\n",
       "    <tr>\n",
       "      <th rowspan=\"9\" valign=\"top\">Database</th>\n",
       "      <th rowspan=\"4\" valign=\"top\">False</th>\n",
       "      <th>qdrant</th>\n",
       "      <td>66.0</td>\n",
       "      <td>930</td>\n",
       "      <td>12977.0</td>\n",
       "    </tr>\n",
       "    <tr>\n",
       "      <th>star-rocks</th>\n",
       "      <td>266.0</td>\n",
       "      <td>6087</td>\n",
       "      <td>5428.0</td>\n",
       "    </tr>\n",
       "    <tr>\n",
       "      <th>weaviate</th>\n",
       "      <td>78.0</td>\n",
       "      <td>2721</td>\n",
       "      <td>7601.0</td>\n",
       "    </tr>\n",
       "    <tr>\n",
       "      <th>ydb</th>\n",
       "      <td>1652.0</td>\n",
       "      <td>6966</td>\n",
       "      <td>3050.0</td>\n",
       "    </tr>\n",
       "    <tr>\n",
       "      <th rowspan=\"2\" valign=\"top\">graduated</th>\n",
       "      <th>ti-kv</th>\n",
       "      <td>412.0</td>\n",
       "      <td>690</td>\n",
       "      <td>13617.0</td>\n",
       "    </tr>\n",
       "    <tr>\n",
       "      <th>vitess</th>\n",
       "      <td>379.0</td>\n",
       "      <td>2283</td>\n",
       "      <td>16897.0</td>\n",
       "    </tr>\n",
       "    <tr>\n",
       "      <th rowspan=\"2\" valign=\"top\">member</th>\n",
       "      <th>spice-db</th>\n",
       "      <td>35.0</td>\n",
       "      <td>1236</td>\n",
       "      <td>3856.0</td>\n",
       "    </tr>\n",
       "    <tr>\n",
       "      <th>vald</th>\n",
       "      <td>26.0</td>\n",
       "      <td>437</td>\n",
       "      <td>1416.0</td>\n",
       "    </tr>\n",
       "    <tr>\n",
       "      <th>sandbox</th>\n",
       "      <th>schema-hero</th>\n",
       "      <td>41.0</td>\n",
       "      <td>138</td>\n",
       "      <td>843.0</td>\n",
       "    </tr>\n",
       "    <tr>\n",
       "      <th rowspan=\"8\" valign=\"top\">Streaming &amp; Messaging</th>\n",
       "      <th>False</th>\n",
       "      <th>userver</th>\n",
       "      <td>225.0</td>\n",
       "      <td>1142</td>\n",
       "      <td>1989.0</td>\n",
       "    </tr>\n",
       "    <tr>\n",
       "      <th rowspan=\"2\" valign=\"top\">incubating</th>\n",
       "      <th>cloud-events</th>\n",
       "      <td>304.0</td>\n",
       "      <td>365</td>\n",
       "      <td>6396.0</td>\n",
       "    </tr>\n",
       "    <tr>\n",
       "      <th>nats</th>\n",
       "      <td>683.0</td>\n",
       "      <td>4595</td>\n",
       "      <td>24451.0</td>\n",
       "    </tr>\n",
       "    <tr>\n",
       "      <th rowspan=\"2\" valign=\"top\">member</th>\n",
       "      <th>koperator</th>\n",
       "      <td>66.0</td>\n",
       "      <td>127</td>\n",
       "      <td>730.0</td>\n",
       "    </tr>\n",
       "    <tr>\n",
       "      <th>memphis</th>\n",
       "      <td>40.0</td>\n",
       "      <td>2840</td>\n",
       "      <td>2883.0</td>\n",
       "    </tr>\n",
       "    <tr>\n",
       "      <th rowspan=\"3\" valign=\"top\">sandbox</th>\n",
       "      <th>pravega</th>\n",
       "      <td>100.0</td>\n",
       "      <td>121</td>\n",
       "      <td>1910.0</td>\n",
       "    </tr>\n",
       "    <tr>\n",
       "      <th>strimzi</th>\n",
       "      <td>284.0</td>\n",
       "      <td>2111</td>\n",
       "      <td>4720.0</td>\n",
       "    </tr>\n",
       "    <tr>\n",
       "      <th>tremor</th>\n",
       "      <td>50.0</td>\n",
       "      <td>463</td>\n",
       "      <td>774.0</td>\n",
       "    </tr>\n",
       "    <tr>\n",
       "      <th rowspan=\"26\" valign=\"top\">Observability and Analysis</th>\n",
       "      <th rowspan=\"3\" valign=\"top\">Chaos Engineering</th>\n",
       "      <th rowspan=\"2\" valign=\"top\">incubating</th>\n",
       "      <th>chaos-mesh</th>\n",
       "      <td>177.0</td>\n",
       "      <td>138</td>\n",
       "      <td>5951.0</td>\n",
       "    </tr>\n",
       "    <tr>\n",
       "      <th>litmus</th>\n",
       "      <td>193.0</td>\n",
       "      <td>141</td>\n",
       "      <td>3830.0</td>\n",
       "    </tr>\n",
       "    <tr>\n",
       "      <th>sandbox</th>\n",
       "      <th>chaosblade</th>\n",
       "      <td>45.0</td>\n",
       "      <td>13</td>\n",
       "      <td>5501.0</td>\n",
       "    </tr>\n",
       "    <tr>\n",
       "      <th>Continuous Optimization</th>\n",
       "      <th>sandbox</th>\n",
       "      <th>open-cost</th>\n",
       "      <td>100.0</td>\n",
       "      <td>909</td>\n",
       "      <td>4107.0</td>\n",
       "    </tr>\n",
       "    <tr>\n",
       "      <th>Feature Flagging</th>\n",
       "      <th>incubating</th>\n",
       "      <th>open-feature</th>\n",
       "      <td>23.0</td>\n",
       "      <td>43</td>\n",
       "      <td>375.0</td>\n",
       "    </tr>\n",
       "    <tr>\n",
       "      <th rowspan=\"3\" valign=\"top\">Logging</th>\n",
       "      <th>False</th>\n",
       "      <th>parseable</th>\n",
       "      <td>26.0</td>\n",
       "      <td>276</td>\n",
       "      <td>1398.0</td>\n",
       "    </tr>\n",
       "    <tr>\n",
       "      <th>graduated</th>\n",
       "      <th>fluentd</th>\n",
       "      <td>261.0</td>\n",
       "      <td>220</td>\n",
       "      <td>12199.0</td>\n",
       "    </tr>\n",
       "    <tr>\n",
       "      <th>member</th>\n",
       "      <th>open-search</th>\n",
       "      <td>1886.0</td>\n",
       "      <td>1418</td>\n",
       "      <td>7592.0</td>\n",
       "    </tr>\n",
       "    <tr>\n",
       "      <th rowspan=\"15\" valign=\"top\">Monitoring</th>\n",
       "      <th>False</th>\n",
       "      <th>sidekick</th>\n",
       "      <td>11.0</td>\n",
       "      <td>56</td>\n",
       "      <td>1659.0</td>\n",
       "    </tr>\n",
       "    <tr>\n",
       "      <th>graduated</th>\n",
       "      <th>prometheus</th>\n",
       "      <td>973.0</td>\n",
       "      <td>1135</td>\n",
       "      <td>49987.0</td>\n",
       "    </tr>\n",
       "    <tr>\n",
       "      <th rowspan=\"3\" valign=\"top\">incubating</th>\n",
       "      <th>cortex</th>\n",
       "      <td>277.0</td>\n",
       "      <td>409</td>\n",
       "      <td>5211.0</td>\n",
       "    </tr>\n",
       "    <tr>\n",
       "      <th>open-metrics</th>\n",
       "      <td>33.0</td>\n",
       "      <td>2</td>\n",
       "      <td>2149.0</td>\n",
       "    </tr>\n",
       "    <tr>\n",
       "      <th>thanos</th>\n",
       "      <td>590.0</td>\n",
       "      <td>626</td>\n",
       "      <td>12103.0</td>\n",
       "    </tr>\n",
       "    <tr>\n",
       "      <th rowspan=\"2\" valign=\"top\">member</th>\n",
       "      <th>hubble</th>\n",
       "      <td>45.0</td>\n",
       "      <td>293</td>\n",
       "      <td>2862.0</td>\n",
       "    </tr>\n",
       "    <tr>\n",
       "      <th>micrometer</th>\n",
       "      <td>266.0</td>\n",
       "      <td>803</td>\n",
       "      <td>4112.0</td>\n",
       "    </tr>\n",
       "    <tr>\n",
       "      <th rowspan=\"8\" valign=\"top\">sandbox</th>\n",
       "      <th>fonio</th>\n",
       "      <td>6.0</td>\n",
       "      <td>0</td>\n",
       "      <td>407.0</td>\n",
       "    </tr>\n",
       "    <tr>\n",
       "      <th>headlamp</th>\n",
       "      <td>39.0</td>\n",
       "      <td>1172</td>\n",
       "      <td>1157.0</td>\n",
       "    </tr>\n",
       "    <tr>\n",
       "      <th>inspektor-gadget</th>\n",
       "      <td>38.0</td>\n",
       "      <td>1978</td>\n",
       "      <td>1579.0</td>\n",
       "    </tr>\n",
       "    <tr>\n",
       "      <th>kepler</th>\n",
       "      <td>50.0</td>\n",
       "      <td>1184</td>\n",
       "      <td>637.0</td>\n",
       "    </tr>\n",
       "    <tr>\n",
       "      <th>kuberhealthy</th>\n",
       "      <td>89.0</td>\n",
       "      <td>68</td>\n",
       "      <td>1790.0</td>\n",
       "    </tr>\n",
       "    <tr>\n",
       "      <th>pixie</th>\n",
       "      <td>83.0</td>\n",
       "      <td>1373</td>\n",
       "      <td>4867.0</td>\n",
       "    </tr>\n",
       "    <tr>\n",
       "      <th>skooner</th>\n",
       "      <td>58.0</td>\n",
       "      <td>40</td>\n",
       "      <td>1161.0</td>\n",
       "    </tr>\n",
       "    <tr>\n",
       "      <th>trickster</th>\n",
       "      <td>67.0</td>\n",
       "      <td>21</td>\n",
       "      <td>1908.0</td>\n",
       "    </tr>\n",
       "    <tr>\n",
       "      <th rowspan=\"3\" valign=\"top\">Tracing</th>\n",
       "      <th>archived</th>\n",
       "      <th>open-tracing</th>\n",
       "      <td>54.0</td>\n",
       "      <td>0</td>\n",
       "      <td>3481.0</td>\n",
       "    </tr>\n",
       "    <tr>\n",
       "      <th>graduated</th>\n",
       "      <th>jaeger</th>\n",
       "      <td>293.0</td>\n",
       "      <td>404</td>\n",
       "      <td>18318.0</td>\n",
       "    </tr>\n",
       "    <tr>\n",
       "      <th>incubating</th>\n",
       "      <th>open-telemetry</th>\n",
       "      <td>194.0</td>\n",
       "      <td>704</td>\n",
       "      <td>1652.0</td>\n",
       "    </tr>\n",
       "    <tr>\n",
       "      <th rowspan=\"43\" valign=\"top\">Orchestration &amp; Management</th>\n",
       "      <th>API Gateway</th>\n",
       "      <th>incubating</th>\n",
       "      <th>emissary-ingress</th>\n",
       "      <td>244.0</td>\n",
       "      <td>314</td>\n",
       "      <td>4149.0</td>\n",
       "    </tr>\n",
       "    <tr>\n",
       "      <th rowspan=\"4\" valign=\"top\">Coordination &amp; Service Discovery</th>\n",
       "      <th rowspan=\"2\" valign=\"top\">graduated</th>\n",
       "      <th>core-dns</th>\n",
       "      <td>370.0</td>\n",
       "      <td>341</td>\n",
       "      <td>11071.0</td>\n",
       "    </tr>\n",
       "    <tr>\n",
       "      <th>etcd</th>\n",
       "      <td>968.0</td>\n",
       "      <td>1761</td>\n",
       "      <td>44537.0</td>\n",
       "    </tr>\n",
       "    <tr>\n",
       "      <th rowspan=\"2\" valign=\"top\">sandbox</th>\n",
       "      <th>k8gb</th>\n",
       "      <td>21.0</td>\n",
       "      <td>245</td>\n",
       "      <td>642.0</td>\n",
       "    </tr>\n",
       "    <tr>\n",
       "      <th>xline</th>\n",
       "      <td>13.0</td>\n",
       "      <td>536</td>\n",
       "      <td>336.0</td>\n",
       "    </tr>\n",
       "    <tr>\n",
       "      <th>Remote Procedure Call</th>\n",
       "      <th>incubating</th>\n",
       "      <th>g-rpc</th>\n",
       "      <td>972.0</td>\n",
       "      <td>1982</td>\n",
       "      <td>39066.0</td>\n",
       "    </tr>\n",
       "    <tr>\n",
       "      <th rowspan=\"22\" valign=\"top\">Scheduling &amp; Orchestration</th>\n",
       "      <th>False</th>\n",
       "      <th>kestra</th>\n",
       "      <td>39.0</td>\n",
       "      <td>979</td>\n",
       "      <td>4929.0</td>\n",
       "    </tr>\n",
       "    <tr>\n",
       "      <th rowspan=\"2\" valign=\"top\">graduated</th>\n",
       "      <th>keda</th>\n",
       "      <td>302.0</td>\n",
       "      <td>396</td>\n",
       "      <td>6831.0</td>\n",
       "    </tr>\n",
       "    <tr>\n",
       "      <th>kubernetes</th>\n",
       "      <td>4842.0</td>\n",
       "      <td>7549</td>\n",
       "      <td>101881.0</td>\n",
       "    </tr>\n",
       "    <tr>\n",
       "      <th rowspan=\"4\" valign=\"top\">incubating</th>\n",
       "      <th>crossplane</th>\n",
       "      <td>182.0</td>\n",
       "      <td>1525</td>\n",
       "      <td>7516.0</td>\n",
       "    </tr>\n",
       "    <tr>\n",
       "      <th>knative</th>\n",
       "      <td>285.0</td>\n",
       "      <td>655</td>\n",
       "      <td>5113.0</td>\n",
       "    </tr>\n",
       "    <tr>\n",
       "      <th>kubeflow</th>\n",
       "      <td>298.0</td>\n",
       "      <td>237</td>\n",
       "      <td>12992.0</td>\n",
       "    </tr>\n",
       "    <tr>\n",
       "      <th>volcano</th>\n",
       "      <td>246.0</td>\n",
       "      <td>429</td>\n",
       "      <td>3339.0</td>\n",
       "    </tr>\n",
       "    <tr>\n",
       "      <th>member</th>\n",
       "      <th>kube-green</th>\n",
       "      <td>10.0</td>\n",
       "      <td>194</td>\n",
       "      <td>684.0</td>\n",
       "    </tr>\n",
       "    <tr>\n",
       "      <th rowspan=\"14\" valign=\"top\">sandbox</th>\n",
       "      <th>armada</th>\n",
       "      <td>74.0</td>\n",
       "      <td>774</td>\n",
       "      <td>356.0</td>\n",
       "    </tr>\n",
       "    <tr>\n",
       "      <th>capsule</th>\n",
       "      <td>57.0</td>\n",
       "      <td>210</td>\n",
       "      <td>1292.0</td>\n",
       "    </tr>\n",
       "    <tr>\n",
       "      <th>clusternet</th>\n",
       "      <td>43.0</td>\n",
       "      <td>174</td>\n",
       "      <td>1228.0</td>\n",
       "    </tr>\n",
       "    <tr>\n",
       "      <th>clusterpedia</th>\n",
       "      <td>38.0</td>\n",
       "      <td>216</td>\n",
       "      <td>654.0</td>\n",
       "    </tr>\n",
       "    <tr>\n",
       "      <th>eraser</th>\n",
       "      <td>29.0</td>\n",
       "      <td>274</td>\n",
       "      <td>246.0</td>\n",
       "    </tr>\n",
       "    <tr>\n",
       "      <th>fluid</th>\n",
       "      <td>535.0</td>\n",
       "      <td>771</td>\n",
       "      <td>1405.0</td>\n",
       "    </tr>\n",
       "    <tr>\n",
       "      <th>karmada</th>\n",
       "      <td>212.0</td>\n",
       "      <td>1488</td>\n",
       "      <td>3532.0</td>\n",
       "    </tr>\n",
       "    <tr>\n",
       "      <th>kcp</th>\n",
       "      <td>693.0</td>\n",
       "      <td>8907</td>\n",
       "      <td>2148.0</td>\n",
       "    </tr>\n",
       "    <tr>\n",
       "      <th>kube-rs</th>\n",
       "      <td>113.0</td>\n",
       "      <td>194</td>\n",
       "      <td>2348.0</td>\n",
       "    </tr>\n",
       "    <tr>\n",
       "      <th>kured</th>\n",
       "      <td>64.0</td>\n",
       "      <td>224</td>\n",
       "      <td>1930.0</td>\n",
       "    </tr>\n",
       "    <tr>\n",
       "      <th>open-cluster-management</th>\n",
       "      <td>33.0</td>\n",
       "      <td>87</td>\n",
       "      <td>228.0</td>\n",
       "    </tr>\n",
       "    <tr>\n",
       "      <th>open-function</th>\n",
       "      <td>30.0</td>\n",
       "      <td>125</td>\n",
       "      <td>1266.0</td>\n",
       "    </tr>\n",
       "    <tr>\n",
       "      <th>serverless-devs</th>\n",
       "      <td>41.0</td>\n",
       "      <td>70</td>\n",
       "      <td>1561.0</td>\n",
       "    </tr>\n",
       "    <tr>\n",
       "      <th>wasm-cloud</th>\n",
       "      <td>441.0</td>\n",
       "      <td>2360</td>\n",
       "      <td>2215.0</td>\n",
       "    </tr>\n",
       "    <tr>\n",
       "      <th rowspan=\"10\" valign=\"top\">Service Mesh</th>\n",
       "      <th rowspan=\"2\" valign=\"top\">archived</th>\n",
       "      <th>open-service-mesh</th>\n",
       "      <td>99.0</td>\n",
       "      <td>76</td>\n",
       "      <td>2589.0</td>\n",
       "    </tr>\n",
       "    <tr>\n",
       "      <th>service-mesh-interface-smi</th>\n",
       "      <td>36.0</td>\n",
       "      <td>0</td>\n",
       "      <td>1045.0</td>\n",
       "    </tr>\n",
       "    <tr>\n",
       "      <th rowspan=\"2\" valign=\"top\">graduated</th>\n",
       "      <th>istio</th>\n",
       "      <td>1121.0</td>\n",
       "      <td>2473</td>\n",
       "      <td>33694.0</td>\n",
       "    </tr>\n",
       "    <tr>\n",
       "      <th>linkerd</th>\n",
       "      <td>330.0</td>\n",
       "      <td>1122</td>\n",
       "      <td>9881.0</td>\n",
       "    </tr>\n",
       "    <tr>\n",
       "      <th rowspan=\"2\" valign=\"top\">member</th>\n",
       "      <th>nasp</th>\n",
       "      <td>7.0</td>\n",
       "      <td>60</td>\n",
       "      <td>24.0</td>\n",
       "    </tr>\n",
       "    <tr>\n",
       "      <th>traefik-mesh</th>\n",
       "      <td>32.0</td>\n",
       "      <td>1</td>\n",
       "      <td>1915.0</td>\n",
       "    </tr>\n",
       "    <tr>\n",
       "      <th rowspan=\"4\" valign=\"top\">sandbox</th>\n",
       "      <th>aeraki-mesh</th>\n",
       "      <td>31.0</td>\n",
       "      <td>89</td>\n",
       "      <td>694.0</td>\n",
       "    </tr>\n",
       "    <tr>\n",
       "      <th>kuma</th>\n",
       "      <td>95.0</td>\n",
       "      <td>1598</td>\n",
       "      <td>3286.0</td>\n",
       "    </tr>\n",
       "    <tr>\n",
       "      <th>merbridge</th>\n",
       "      <td>24.0</td>\n",
       "      <td>41</td>\n",
       "      <td>666.0</td>\n",
       "    </tr>\n",
       "    <tr>\n",
       "      <th>service-mesh-performance</th>\n",
       "      <td>93.0</td>\n",
       "      <td>58</td>\n",
       "      <td>259.0</td>\n",
       "    </tr>\n",
       "    <tr>\n",
       "      <th rowspan=\"5\" valign=\"top\">Service Proxy</th>\n",
       "      <th>graduated</th>\n",
       "      <th>envoy</th>\n",
       "      <td>1216.0</td>\n",
       "      <td>3695</td>\n",
       "      <td>22759.0</td>\n",
       "    </tr>\n",
       "    <tr>\n",
       "      <th>incubating</th>\n",
       "      <th>contour</th>\n",
       "      <td>211.0</td>\n",
       "      <td>539</td>\n",
       "      <td>3503.0</td>\n",
       "    </tr>\n",
       "    <tr>\n",
       "      <th rowspan=\"3\" valign=\"top\">sandbox</th>\n",
       "      <th>bfe</th>\n",
       "      <td>102.0</td>\n",
       "      <td>21</td>\n",
       "      <td>5946.0</td>\n",
       "    </tr>\n",
       "    <tr>\n",
       "      <th>metal-lb</th>\n",
       "      <td>173.0</td>\n",
       "      <td>297</td>\n",
       "      <td>6095.0</td>\n",
       "    </tr>\n",
       "    <tr>\n",
       "      <th>open-elb</th>\n",
       "      <td>31.0</td>\n",
       "      <td>18</td>\n",
       "      <td>1423.0</td>\n",
       "    </tr>\n",
       "    <tr>\n",
       "      <th rowspan=\"5\" valign=\"top\">Platform</th>\n",
       "      <th>Certified Kubernetes - Distribution</th>\n",
       "      <th>sandbox</th>\n",
       "      <th>k3s</th>\n",
       "      <td>212.0</td>\n",
       "      <td>442</td>\n",
       "      <td>24517.0</td>\n",
       "    </tr>\n",
       "    <tr>\n",
       "      <th>Certified Kubernetes - Hosted</th>\n",
       "      <th>member</th>\n",
       "      <th>kube-sphere-qke</th>\n",
       "      <td>19.0</td>\n",
       "      <td>2</td>\n",
       "      <td>28.0</td>\n",
       "    </tr>\n",
       "    <tr>\n",
       "      <th rowspan=\"2\" valign=\"top\">Certified Kubernetes - Installer</th>\n",
       "      <th>member</th>\n",
       "      <th>kubekey</th>\n",
       "      <td>100.0</td>\n",
       "      <td>458</td>\n",
       "      <td>1812.0</td>\n",
       "    </tr>\n",
       "    <tr>\n",
       "      <th>sandbox</th>\n",
       "      <th>kube-clipper</th>\n",
       "      <td>16.0</td>\n",
       "      <td>212</td>\n",
       "      <td>223.0</td>\n",
       "    </tr>\n",
       "    <tr>\n",
       "      <th>Container Service</th>\n",
       "      <th>False</th>\n",
       "      <th>kapeta</th>\n",
       "      <td>467.0</td>\n",
       "      <td>4567</td>\n",
       "      <td>23.0</td>\n",
       "    </tr>\n",
       "    <tr>\n",
       "      <th rowspan=\"59\" valign=\"top\">Provisioning</th>\n",
       "      <th rowspan=\"13\" valign=\"top\">Automation &amp; Configuration</th>\n",
       "      <th rowspan=\"2\" valign=\"top\">incubating</th>\n",
       "      <th>cloud-custodian</th>\n",
       "      <td>441.0</td>\n",
       "      <td>522</td>\n",
       "      <td>4951.0</td>\n",
       "    </tr>\n",
       "    <tr>\n",
       "      <th>kube-edge</th>\n",
       "      <td>330.0</td>\n",
       "      <td>496</td>\n",
       "      <td>6058.0</td>\n",
       "    </tr>\n",
       "    <tr>\n",
       "      <th rowspan=\"11\" valign=\"top\">sandbox</th>\n",
       "      <th>akri</th>\n",
       "      <td>34.0</td>\n",
       "      <td>197</td>\n",
       "      <td>996.0</td>\n",
       "    </tr>\n",
       "    <tr>\n",
       "      <th>cdk-for-kubernetes-cdk8s</th>\n",
       "      <td>78.0</td>\n",
       "      <td>434</td>\n",
       "      <td>3818.0</td>\n",
       "    </tr>\n",
       "    <tr>\n",
       "      <th>dev-stream</th>\n",
       "      <td>62.0</td>\n",
       "      <td>515</td>\n",
       "      <td>815.0</td>\n",
       "    </tr>\n",
       "    <tr>\n",
       "      <th>kcl</th>\n",
       "      <td>15.0</td>\n",
       "      <td>329</td>\n",
       "      <td>808.0</td>\n",
       "    </tr>\n",
       "    <tr>\n",
       "      <th>kpt</th>\n",
       "      <td>96.0</td>\n",
       "      <td>246</td>\n",
       "      <td>1546.0</td>\n",
       "    </tr>\n",
       "    <tr>\n",
       "      <th>kube-dl</th>\n",
       "      <td>23.0</td>\n",
       "      <td>7</td>\n",
       "      <td>445.0</td>\n",
       "    </tr>\n",
       "    <tr>\n",
       "      <th>meshery</th>\n",
       "      <td>591.0</td>\n",
       "      <td>8173</td>\n",
       "      <td>3660.0</td>\n",
       "    </tr>\n",
       "    <tr>\n",
       "      <th>metal</th>\n",
       "      <td>102.0</td>\n",
       "      <td>291</td>\n",
       "      <td>463.0</td>\n",
       "    </tr>\n",
       "    <tr>\n",
       "      <th>open-yurt</th>\n",
       "      <td>112.0</td>\n",
       "      <td>380</td>\n",
       "      <td>1553.0</td>\n",
       "    </tr>\n",
       "    <tr>\n",
       "      <th>super-edge</th>\n",
       "      <td>54.0</td>\n",
       "      <td>67</td>\n",
       "      <td>959.0</td>\n",
       "    </tr>\n",
       "    <tr>\n",
       "      <th>tinkerbell</th>\n",
       "      <td>52.0</td>\n",
       "      <td>249</td>\n",
       "      <td>812.0</td>\n",
       "    </tr>\n",
       "    <tr>\n",
       "      <th rowspan=\"4\" valign=\"top\">Container Registry</th>\n",
       "      <th>graduated</th>\n",
       "      <th>harbor</th>\n",
       "      <td>347.0</td>\n",
       "      <td>442</td>\n",
       "      <td>20890.0</td>\n",
       "    </tr>\n",
       "    <tr>\n",
       "      <th>incubating</th>\n",
       "      <th>dragonfly</th>\n",
       "      <td>58.0</td>\n",
       "      <td>796</td>\n",
       "      <td>1614.0</td>\n",
       "    </tr>\n",
       "    <tr>\n",
       "      <th rowspan=\"2\" valign=\"top\">sandbox</th>\n",
       "      <th>distribution</th>\n",
       "      <td>519.0</td>\n",
       "      <td>350</td>\n",
       "      <td>7856.0</td>\n",
       "    </tr>\n",
       "    <tr>\n",
       "      <th>zot</th>\n",
       "      <td>30.0</td>\n",
       "      <td>409</td>\n",
       "      <td>484.0</td>\n",
       "    </tr>\n",
       "    <tr>\n",
       "      <th rowspan=\"4\" valign=\"top\">Key Management</th>\n",
       "      <th rowspan=\"2\" valign=\"top\">graduated</th>\n",
       "      <th>spiffe</th>\n",
       "      <td>56.0</td>\n",
       "      <td>19</td>\n",
       "      <td>1213.0</td>\n",
       "    </tr>\n",
       "    <tr>\n",
       "      <th>spire</th>\n",
       "      <td>153.0</td>\n",
       "      <td>737</td>\n",
       "      <td>1392.0</td>\n",
       "    </tr>\n",
       "    <tr>\n",
       "      <th rowspan=\"2\" valign=\"top\">sandbox</th>\n",
       "      <th>athenz</th>\n",
       "      <td>76.0</td>\n",
       "      <td>371</td>\n",
       "      <td>803.0</td>\n",
       "    </tr>\n",
       "    <tr>\n",
       "      <th>teller</th>\n",
       "      <td>25.0</td>\n",
       "      <td>14</td>\n",
       "      <td>1844.0</td>\n",
       "    </tr>\n",
       "    <tr>\n",
       "      <th rowspan=\"38\" valign=\"top\">Security &amp; Compliance</th>\n",
       "      <th rowspan=\"5\" valign=\"top\">False</th>\n",
       "      <th>kics</th>\n",
       "      <td>117.0</td>\n",
       "      <td>1850</td>\n",
       "      <td>1708.0</td>\n",
       "    </tr>\n",
       "    <tr>\n",
       "      <th>rudder</th>\n",
       "      <td>46.0</td>\n",
       "      <td>1561</td>\n",
       "      <td>454.0</td>\n",
       "    </tr>\n",
       "    <tr>\n",
       "      <th>secure-code-box</th>\n",
       "      <td>68.0</td>\n",
       "      <td>1154</td>\n",
       "      <td>638.0</td>\n",
       "    </tr>\n",
       "    <tr>\n",
       "      <th>sigstore</th>\n",
       "      <td>55.0</td>\n",
       "      <td>607</td>\n",
       "      <td>395.0</td>\n",
       "    </tr>\n",
       "    <tr>\n",
       "      <th>stack-rox</th>\n",
       "      <td>125.0</td>\n",
       "      <td>3555</td>\n",
       "      <td>1041.0</td>\n",
       "    </tr>\n",
       "    <tr>\n",
       "      <th rowspan=\"2\" valign=\"top\">graduated</th>\n",
       "      <th>open-policy-agent-opa</th>\n",
       "      <td>420.0</td>\n",
       "      <td>592</td>\n",
       "      <td>8496.0</td>\n",
       "    </tr>\n",
       "    <tr>\n",
       "      <th>the-update-framework-tuf</th>\n",
       "      <td>97.0</td>\n",
       "      <td>554</td>\n",
       "      <td>1541.0</td>\n",
       "    </tr>\n",
       "    <tr>\n",
       "      <th rowspan=\"6\" valign=\"top\">incubating</th>\n",
       "      <th>cert-manager</th>\n",
       "      <td>410.0</td>\n",
       "      <td>801</td>\n",
       "      <td>10730.0</td>\n",
       "    </tr>\n",
       "    <tr>\n",
       "      <th>falco</th>\n",
       "      <td>199.0</td>\n",
       "      <td>807</td>\n",
       "      <td>6313.0</td>\n",
       "    </tr>\n",
       "    <tr>\n",
       "      <th>in-toto</th>\n",
       "      <td>40.0</td>\n",
       "      <td>224</td>\n",
       "      <td>763.0</td>\n",
       "    </tr>\n",
       "    <tr>\n",
       "      <th>keycloak</th>\n",
       "      <td>1259.0</td>\n",
       "      <td>2735</td>\n",
       "      <td>17472.0</td>\n",
       "    </tr>\n",
       "    <tr>\n",
       "      <th>kyverno</th>\n",
       "      <td>255.0</td>\n",
       "      <td>1928</td>\n",
       "      <td>4402.0</td>\n",
       "    </tr>\n",
       "    <tr>\n",
       "      <th>notary</th>\n",
       "      <td>35.0</td>\n",
       "      <td>192</td>\n",
       "      <td>214.0</td>\n",
       "    </tr>\n",
       "    <tr>\n",
       "      <th rowspan=\"9\" valign=\"top\">member</th>\n",
       "      <th>api-clarity</th>\n",
       "      <td>25.0</td>\n",
       "      <td>46</td>\n",
       "      <td>417.0</td>\n",
       "    </tr>\n",
       "    <tr>\n",
       "      <th>aserto</th>\n",
       "      <td>8.0</td>\n",
       "      <td>42</td>\n",
       "      <td>23.0</td>\n",
       "    </tr>\n",
       "    <tr>\n",
       "      <th>bouncy-castle</th>\n",
       "      <td>126.0</td>\n",
       "      <td>1363</td>\n",
       "      <td>2036.0</td>\n",
       "    </tr>\n",
       "    <tr>\n",
       "      <th>ejbca-community</th>\n",
       "      <td>79.0</td>\n",
       "      <td>1440</td>\n",
       "      <td>343.0</td>\n",
       "    </tr>\n",
       "    <tr>\n",
       "      <th>kube-clarity</th>\n",
       "      <td>32.0</td>\n",
       "      <td>176</td>\n",
       "      <td>1080.0</td>\n",
       "    </tr>\n",
       "    <tr>\n",
       "      <th>kube-linter</th>\n",
       "      <td>67.0</td>\n",
       "      <td>140</td>\n",
       "      <td>2455.0</td>\n",
       "    </tr>\n",
       "    <tr>\n",
       "      <th>tetragon</th>\n",
       "      <td>62.0</td>\n",
       "      <td>1250</td>\n",
       "      <td>2595.0</td>\n",
       "    </tr>\n",
       "    <tr>\n",
       "      <th>topaz</th>\n",
       "      <td>10.0</td>\n",
       "      <td>207</td>\n",
       "      <td>721.0</td>\n",
       "    </tr>\n",
       "    <tr>\n",
       "      <th>vm-clarity</th>\n",
       "      <td>22.0</td>\n",
       "      <td>505</td>\n",
       "      <td>59.0</td>\n",
       "    </tr>\n",
       "    <tr>\n",
       "      <th rowspan=\"16\" valign=\"top\">sandbox</th>\n",
       "      <th>confidential-containers</th>\n",
       "      <td>20.0</td>\n",
       "      <td>182</td>\n",
       "      <td>70.0</td>\n",
       "    </tr>\n",
       "    <tr>\n",
       "      <th>container-ssh</th>\n",
       "      <td>14.0</td>\n",
       "      <td>10</td>\n",
       "      <td>2410.0</td>\n",
       "    </tr>\n",
       "    <tr>\n",
       "      <th>curiefense</th>\n",
       "      <td>38.0</td>\n",
       "      <td>822</td>\n",
       "      <td>668.0</td>\n",
       "    </tr>\n",
       "    <tr>\n",
       "      <th>dex</th>\n",
       "      <td>219.0</td>\n",
       "      <td>328</td>\n",
       "      <td>8440.0</td>\n",
       "    </tr>\n",
       "    <tr>\n",
       "      <th>external-secrets</th>\n",
       "      <td>273.0</td>\n",
       "      <td>402</td>\n",
       "      <td>3102.0</td>\n",
       "    </tr>\n",
       "    <tr>\n",
       "      <th>hexa</th>\n",
       "      <td>15.0</td>\n",
       "      <td>142</td>\n",
       "      <td>74.0</td>\n",
       "    </tr>\n",
       "    <tr>\n",
       "      <th>keylime</th>\n",
       "      <td>73.0</td>\n",
       "      <td>529</td>\n",
       "      <td>350.0</td>\n",
       "    </tr>\n",
       "    <tr>\n",
       "      <th>kube-armor</th>\n",
       "      <td>82.0</td>\n",
       "      <td>518</td>\n",
       "      <td>832.0</td>\n",
       "    </tr>\n",
       "    <tr>\n",
       "      <th>kubescape</th>\n",
       "      <td>118.0</td>\n",
       "      <td>841</td>\n",
       "      <td>8887.0</td>\n",
       "    </tr>\n",
       "    <tr>\n",
       "      <th>kubewarden</th>\n",
       "      <td>15.0</td>\n",
       "      <td>198</td>\n",
       "      <td>146.0</td>\n",
       "    </tr>\n",
       "    <tr>\n",
       "      <th>open-fga</th>\n",
       "      <td>35.0</td>\n",
       "      <td>499</td>\n",
       "      <td>1487.0</td>\n",
       "    </tr>\n",
       "    <tr>\n",
       "      <th>open-policy-containers</th>\n",
       "      <td>13.0</td>\n",
       "      <td>106</td>\n",
       "      <td>168.0</td>\n",
       "    </tr>\n",
       "    <tr>\n",
       "      <th>paralus</th>\n",
       "      <td>22.0</td>\n",
       "      <td>99</td>\n",
       "      <td>834.0</td>\n",
       "    </tr>\n",
       "    <tr>\n",
       "      <th>parsec</th>\n",
       "      <td>33.0</td>\n",
       "      <td>77</td>\n",
       "      <td>423.0</td>\n",
       "    </tr>\n",
       "    <tr>\n",
       "      <th>slim-toolkit</th>\n",
       "      <td>65.0</td>\n",
       "      <td>154</td>\n",
       "      <td>17269.0</td>\n",
       "    </tr>\n",
       "    <tr>\n",
       "      <th>sops</th>\n",
       "      <td>133.0</td>\n",
       "      <td>147</td>\n",
       "      <td>13823.0</td>\n",
       "    </tr>\n",
       "    <tr>\n",
       "      <th rowspan=\"29\" valign=\"top\">Runtime</th>\n",
       "      <th rowspan=\"9\" valign=\"top\">Cloud Native Network</th>\n",
       "      <th>graduated</th>\n",
       "      <th>cilium</th>\n",
       "      <td>749.0</td>\n",
       "      <td>5064</td>\n",
       "      <td>16516.0</td>\n",
       "    </tr>\n",
       "    <tr>\n",
       "      <th>incubating</th>\n",
       "      <th>container-network-interface-cni</th>\n",
       "      <td>167.0</td>\n",
       "      <td>65</td>\n",
       "      <td>5031.0</td>\n",
       "    </tr>\n",
       "    <tr>\n",
       "      <th rowspan=\"7\" valign=\"top\">sandbox</th>\n",
       "      <th>antrea</th>\n",
       "      <td>114.0</td>\n",
       "      <td>670</td>\n",
       "      <td>1528.0</td>\n",
       "    </tr>\n",
       "    <tr>\n",
       "      <th>cni-genie</th>\n",
       "      <td>23.0</td>\n",
       "      <td>0</td>\n",
       "      <td>516.0</td>\n",
       "    </tr>\n",
       "    <tr>\n",
       "      <th>fab-edge</th>\n",
       "      <td>19.0</td>\n",
       "      <td>110</td>\n",
       "      <td>499.0</td>\n",
       "    </tr>\n",
       "    <tr>\n",
       "      <th>kube-ovn</th>\n",
       "      <td>98.0</td>\n",
       "      <td>751</td>\n",
       "      <td>1675.0</td>\n",
       "    </tr>\n",
       "    <tr>\n",
       "      <th>kube-vip</th>\n",
       "      <td>72.0</td>\n",
       "      <td>226</td>\n",
       "      <td>1444.0</td>\n",
       "    </tr>\n",
       "    <tr>\n",
       "      <th>network-service-mesh</th>\n",
       "      <td>20.0</td>\n",
       "      <td>8</td>\n",
       "      <td>8.0</td>\n",
       "    </tr>\n",
       "    <tr>\n",
       "      <th>submariner</th>\n",
       "      <td>45.0</td>\n",
       "      <td>318</td>\n",
       "      <td>2211.0</td>\n",
       "    </tr>\n",
       "    <tr>\n",
       "      <th rowspan=\"11\" valign=\"top\">Cloud Native Storage</th>\n",
       "      <th>graduated</th>\n",
       "      <th>rook</th>\n",
       "      <td>694.0</td>\n",
       "      <td>1313</td>\n",
       "      <td>11830.0</td>\n",
       "    </tr>\n",
       "    <tr>\n",
       "      <th rowspan=\"2\" valign=\"top\">incubating</th>\n",
       "      <th>cube-fs</th>\n",
       "      <td>124.0</td>\n",
       "      <td>1062</td>\n",
       "      <td>3706.0</td>\n",
       "    </tr>\n",
       "    <tr>\n",
       "      <th>longhorn</th>\n",
       "      <td>595.0</td>\n",
       "      <td>3626</td>\n",
       "      <td>5715.0</td>\n",
       "    </tr>\n",
       "    <tr>\n",
       "      <th rowspan=\"8\" valign=\"top\">sandbox</th>\n",
       "      <th>carina</th>\n",
       "      <td>20.0</td>\n",
       "      <td>65</td>\n",
       "      <td>631.0</td>\n",
       "    </tr>\n",
       "    <tr>\n",
       "      <th>curve</th>\n",
       "      <td>94.0</td>\n",
       "      <td>283</td>\n",
       "      <td>2045.0</td>\n",
       "    </tr>\n",
       "    <tr>\n",
       "      <th>hwamei-stor</th>\n",
       "      <td>43.0</td>\n",
       "      <td>1239</td>\n",
       "      <td>439.0</td>\n",
       "    </tr>\n",
       "    <tr>\n",
       "      <th>k8up</th>\n",
       "      <td>47.0</td>\n",
       "      <td>230</td>\n",
       "      <td>453.0</td>\n",
       "    </tr>\n",
       "    <tr>\n",
       "      <th>open-ebs</th>\n",
       "      <td>234.0</td>\n",
       "      <td>10</td>\n",
       "      <td>8321.0</td>\n",
       "    </tr>\n",
       "    <tr>\n",
       "      <th>oras</th>\n",
       "      <td>54.0</td>\n",
       "      <td>261</td>\n",
       "      <td>1069.0</td>\n",
       "    </tr>\n",
       "    <tr>\n",
       "      <th>piraeus-datastore</th>\n",
       "      <td>22.0</td>\n",
       "      <td>140</td>\n",
       "      <td>294.0</td>\n",
       "    </tr>\n",
       "    <tr>\n",
       "      <th>vineyard</th>\n",
       "      <td>38.0</td>\n",
       "      <td>428</td>\n",
       "      <td>751.0</td>\n",
       "    </tr>\n",
       "    <tr>\n",
       "      <th rowspan=\"9\" valign=\"top\">Container Runtime</th>\n",
       "      <th>False</th>\n",
       "      <th>kuasar</th>\n",
       "      <td>23.0</td>\n",
       "      <td>116</td>\n",
       "      <td>894.0</td>\n",
       "    </tr>\n",
       "    <tr>\n",
       "      <th>archived</th>\n",
       "      <th>rkt</th>\n",
       "      <td>248.0</td>\n",
       "      <td>0</td>\n",
       "      <td>8838.0</td>\n",
       "    </tr>\n",
       "    <tr>\n",
       "      <th rowspan=\"2\" valign=\"top\">graduated</th>\n",
       "      <th>containerd</th>\n",
       "      <td>611.0</td>\n",
       "      <td>1631</td>\n",
       "      <td>14857.0</td>\n",
       "    </tr>\n",
       "    <tr>\n",
       "      <th>cri-o</th>\n",
       "      <td>303.0</td>\n",
       "      <td>1031</td>\n",
       "      <td>4754.0</td>\n",
       "    </tr>\n",
       "    <tr>\n",
       "      <th rowspan=\"5\" valign=\"top\">sandbox</th>\n",
       "      <th>inclavare-containers</th>\n",
       "      <td>27.0</td>\n",
       "      <td>2</td>\n",
       "      <td>556.0</td>\n",
       "    </tr>\n",
       "    <tr>\n",
       "      <th>krustlet</th>\n",
       "      <td>50.0</td>\n",
       "      <td>0</td>\n",
       "      <td>3486.0</td>\n",
       "    </tr>\n",
       "    <tr>\n",
       "      <th>lima</th>\n",
       "      <td>88.0</td>\n",
       "      <td>879</td>\n",
       "      <td>12610.0</td>\n",
       "    </tr>\n",
       "    <tr>\n",
       "      <th>virtual-kubelet</th>\n",
       "      <td>128.0</td>\n",
       "      <td>56</td>\n",
       "      <td>3915.0</td>\n",
       "    </tr>\n",
       "    <tr>\n",
       "      <th>wasm-edge-runtime</th>\n",
       "      <td>154.0</td>\n",
       "      <td>599</td>\n",
       "      <td>6674.0</td>\n",
       "    </tr>\n",
       "    <tr>\n",
       "      <th rowspan=\"4\" valign=\"top\">Serverless</th>\n",
       "      <th>Framework</th>\n",
       "      <th>incubating</th>\n",
       "      <th>dapr-serverless</th>\n",
       "      <td>247.0</td>\n",
       "      <td>967</td>\n",
       "      <td>22320.0</td>\n",
       "    </tr>\n",
       "    <tr>\n",
       "      <th rowspan=\"3\" valign=\"top\">Installable Platform</th>\n",
       "      <th>graduated</th>\n",
       "      <th>keda-serverless</th>\n",
       "      <td>302.0</td>\n",
       "      <td>396</td>\n",
       "      <td>6831.0</td>\n",
       "    </tr>\n",
       "    <tr>\n",
       "      <th>incubating</th>\n",
       "      <th>knative-serverless</th>\n",
       "      <td>285.0</td>\n",
       "      <td>655</td>\n",
       "      <td>5113.0</td>\n",
       "    </tr>\n",
       "    <tr>\n",
       "      <th>sandbox</th>\n",
       "      <th>open-function-serverless</th>\n",
       "      <td>30.0</td>\n",
       "      <td>125</td>\n",
       "      <td>1266.0</td>\n",
       "    </tr>\n",
       "    <tr>\n",
       "      <th rowspan=\"5\" valign=\"top\">Wasm</th>\n",
       "      <th>Orchestration &amp; Management</th>\n",
       "      <th>member</th>\n",
       "      <th>meshery-wasm</th>\n",
       "      <td>591.0</td>\n",
       "      <td>8173</td>\n",
       "      <td>3660.0</td>\n",
       "    </tr>\n",
       "    <tr>\n",
       "      <th rowspan=\"4\" valign=\"top\">Runtimes</th>\n",
       "      <th rowspan=\"2\" valign=\"top\">False</th>\n",
       "      <th>timecraft</th>\n",
       "      <td>4.0</td>\n",
       "      <td>1116</td>\n",
       "      <td>300.0</td>\n",
       "    </tr>\n",
       "    <tr>\n",
       "      <th>wasmer</th>\n",
       "      <td>169.0</td>\n",
       "      <td>4021</td>\n",
       "      <td>16300.0</td>\n",
       "    </tr>\n",
       "    <tr>\n",
       "      <th rowspan=\"2\" valign=\"top\">sandbox</th>\n",
       "      <th>krustlet-wasm</th>\n",
       "      <td>50.0</td>\n",
       "      <td>0</td>\n",
       "      <td>3486.0</td>\n",
       "    </tr>\n",
       "    <tr>\n",
       "      <th>wasm-edge-wasm</th>\n",
       "      <td>154.0</td>\n",
       "      <td>599</td>\n",
       "      <td>6674.0</td>\n",
       "    </tr>\n",
       "  </tbody>\n",
       "</table>\n",
       "</div>"
      ],
      "text/plain": [
       "                                                                                                                     contributorsCount  commitsThisYear     stars\n",
       "category                       subcategory                           relation   id                                                                               \n",
       "App Definition and Development  Application Definition & Image Build False      gefyra                                            13.0              786     550.0\n",
       "                                                                                mirrord                                           28.0              846    2949.0\n",
       "                                                                     graduated  helm                                             766.0              407   24953.0\n",
       "                                                                     incubating backstage                                       1629.0            12533   23285.0\n",
       "                                                                                buildpacks                                       123.0              951    2139.0\n",
       "                                                                                dapr                                             247.0              967   22320.0\n",
       "                                                                                kube-vela                                        225.0              708    5598.0\n",
       "                                                                                kube-virt                                        341.0             2588    4529.0\n",
       "                                                                                operator-framework                               334.0              149    6706.0\n",
       "                                                                     member     quarkus                                          984.0             7580   12421.0\n",
       "                                                                     sandbox    artifact-hub                                      35.0              254    1364.0\n",
       "                                                                                carvel                                            68.0               54    1477.0\n",
       "                                                                                dev-space                                          6.0                0      99.0\n",
       "                                                                                devfile                                           22.0               15     192.0\n",
       "                                                                                ko                                                83.0              253    6328.0\n",
       "                                                                                konveyor                                          14.0              137      18.0\n",
       "                                                                                krator                                            24.0                0     133.0\n",
       "                                                                                kudo                                              65.0                0    1127.0\n",
       "                                                                                microcks                                          36.0              180     940.0\n",
       "                                                                                nocalhost                                         50.0               36    1681.0\n",
       "                                                                                porter                                            97.0              492    1053.0\n",
       "                                                                                sealer                                            74.0              227    1921.0\n",
       "                                                                                serverless-workflow                               41.0               40     620.0\n",
       "                                                                                telepresence                                      87.0             1382    6022.0\n",
       "                                                                                visual-studio-code-kubernetes-tools               87.0               27     627.0\n",
       "                                Continuous Integration & Delivery    False      bytebase                                          66.0             4904    6863.0\n",
       "                                                                                liquibase                                        736.0             1308    4062.0\n",
       "                                                                                unleash                                          189.0             2396    9122.0\n",
       "                                                                     archived   brigade                                          109.0                0    2390.0\n",
       "                                                                     graduated  argo                                            1154.0             1338   14145.0\n",
       "                                                                                flux                                             140.0              689    5300.0\n",
       "                                                                     incubating keptn                                            123.0              437    1800.0\n",
       "                                                                                open-kruise                                      114.0              126    4081.0\n",
       "                                                                     member     cartographer                                      29.0              128     427.0\n",
       "                                                                                flagger                                          198.0              274    4419.0\n",
       "                                                                     sandbox    open-git-ops                                      14.0               32     728.0\n",
       "                                                                                pipe-cd                                           66.0              454     830.0\n",
       "                                                                                werf                                              62.0             1272    3760.0\n",
       "                                Database                             False      qdrant                                            66.0              930   12977.0\n",
       "                                                                                star-rocks                                       266.0             6087    5428.0\n",
       "                                                                                weaviate                                          78.0             2721    7601.0\n",
       "                                                                                ydb                                             1652.0             6966    3050.0\n",
       "                                                                     graduated  ti-kv                                            412.0              690   13617.0\n",
       "                                                                                vitess                                           379.0             2283   16897.0\n",
       "                                                                     member     spice-db                                          35.0             1236    3856.0\n",
       "                                                                                vald                                              26.0              437    1416.0\n",
       "                                                                     sandbox    schema-hero                                       41.0              138     843.0\n",
       "                                Streaming & Messaging                False      userver                                          225.0             1142    1989.0\n",
       "                                                                     incubating cloud-events                                     304.0              365    6396.0\n",
       "                                                                                nats                                             683.0             4595   24451.0\n",
       "                                                                     member     koperator                                         66.0              127     730.0\n",
       "                                                                                memphis                                           40.0             2840    2883.0\n",
       "                                                                     sandbox    pravega                                          100.0              121    1910.0\n",
       "                                                                                strimzi                                          284.0             2111    4720.0\n",
       "                                                                                tremor                                            50.0              463     774.0\n",
       "Observability and Analysis      Chaos Engineering                    incubating chaos-mesh                                       177.0              138    5951.0\n",
       "                                                                                litmus                                           193.0              141    3830.0\n",
       "                                                                     sandbox    chaosblade                                        45.0               13    5501.0\n",
       "                                Continuous Optimization              sandbox    open-cost                                        100.0              909    4107.0\n",
       "                                Feature Flagging                     incubating open-feature                                      23.0               43     375.0\n",
       "                                Logging                              False      parseable                                         26.0              276    1398.0\n",
       "                                                                     graduated  fluentd                                          261.0              220   12199.0\n",
       "                                                                     member     open-search                                     1886.0             1418    7592.0\n",
       "                                Monitoring                           False      sidekick                                          11.0               56    1659.0\n",
       "                                                                     graduated  prometheus                                       973.0             1135   49987.0\n",
       "                                                                     incubating cortex                                           277.0              409    5211.0\n",
       "                                                                                open-metrics                                      33.0                2    2149.0\n",
       "                                                                                thanos                                           590.0              626   12103.0\n",
       "                                                                     member     hubble                                            45.0              293    2862.0\n",
       "                                                                                micrometer                                       266.0              803    4112.0\n",
       "                                                                     sandbox    fonio                                              6.0                0     407.0\n",
       "                                                                                headlamp                                          39.0             1172    1157.0\n",
       "                                                                                inspektor-gadget                                  38.0             1978    1579.0\n",
       "                                                                                kepler                                            50.0             1184     637.0\n",
       "                                                                                kuberhealthy                                      89.0               68    1790.0\n",
       "                                                                                pixie                                             83.0             1373    4867.0\n",
       "                                                                                skooner                                           58.0               40    1161.0\n",
       "                                                                                trickster                                         67.0               21    1908.0\n",
       "                                Tracing                              archived   open-tracing                                      54.0                0    3481.0\n",
       "                                                                     graduated  jaeger                                           293.0              404   18318.0\n",
       "                                                                     incubating open-telemetry                                   194.0              704    1652.0\n",
       "Orchestration & Management      API Gateway                          incubating emissary-ingress                                 244.0              314    4149.0\n",
       "                                Coordination & Service Discovery     graduated  core-dns                                         370.0              341   11071.0\n",
       "                                                                                etcd                                             968.0             1761   44537.0\n",
       "                                                                     sandbox    k8gb                                              21.0              245     642.0\n",
       "                                                                                xline                                             13.0              536     336.0\n",
       "                                Remote Procedure Call                incubating g-rpc                                            972.0             1982   39066.0\n",
       "                                Scheduling & Orchestration           False      kestra                                            39.0              979    4929.0\n",
       "                                                                     graduated  keda                                             302.0              396    6831.0\n",
       "                                                                                kubernetes                                      4842.0             7549  101881.0\n",
       "                                                                     incubating crossplane                                       182.0             1525    7516.0\n",
       "                                                                                knative                                          285.0              655    5113.0\n",
       "                                                                                kubeflow                                         298.0              237   12992.0\n",
       "                                                                                volcano                                          246.0              429    3339.0\n",
       "                                                                     member     kube-green                                        10.0              194     684.0\n",
       "                                                                     sandbox    armada                                            74.0              774     356.0\n",
       "                                                                                capsule                                           57.0              210    1292.0\n",
       "                                                                                clusternet                                        43.0              174    1228.0\n",
       "                                                                                clusterpedia                                      38.0              216     654.0\n",
       "                                                                                eraser                                            29.0              274     246.0\n",
       "                                                                                fluid                                            535.0              771    1405.0\n",
       "                                                                                karmada                                          212.0             1488    3532.0\n",
       "                                                                                kcp                                              693.0             8907    2148.0\n",
       "                                                                                kube-rs                                          113.0              194    2348.0\n",
       "                                                                                kured                                             64.0              224    1930.0\n",
       "                                                                                open-cluster-management                           33.0               87     228.0\n",
       "                                                                                open-function                                     30.0              125    1266.0\n",
       "                                                                                serverless-devs                                   41.0               70    1561.0\n",
       "                                                                                wasm-cloud                                       441.0             2360    2215.0\n",
       "                                Service Mesh                         archived   open-service-mesh                                 99.0               76    2589.0\n",
       "                                                                                service-mesh-interface-smi                        36.0                0    1045.0\n",
       "                                                                     graduated  istio                                           1121.0             2473   33694.0\n",
       "                                                                                linkerd                                          330.0             1122    9881.0\n",
       "                                                                     member     nasp                                               7.0               60      24.0\n",
       "                                                                                traefik-mesh                                      32.0                1    1915.0\n",
       "                                                                     sandbox    aeraki-mesh                                       31.0               89     694.0\n",
       "                                                                                kuma                                              95.0             1598    3286.0\n",
       "                                                                                merbridge                                         24.0               41     666.0\n",
       "                                                                                service-mesh-performance                          93.0               58     259.0\n",
       "                                Service Proxy                        graduated  envoy                                           1216.0             3695   22759.0\n",
       "                                                                     incubating contour                                          211.0              539    3503.0\n",
       "                                                                     sandbox    bfe                                              102.0               21    5946.0\n",
       "                                                                                metal-lb                                         173.0              297    6095.0\n",
       "                                                                                open-elb                                          31.0               18    1423.0\n",
       "Platform                        Certified Kubernetes - Distribution  sandbox    k3s                                              212.0              442   24517.0\n",
       "                                Certified Kubernetes - Hosted        member     kube-sphere-qke                                   19.0                2      28.0\n",
       "                                Certified Kubernetes - Installer     member     kubekey                                          100.0              458    1812.0\n",
       "                                                                     sandbox    kube-clipper                                      16.0              212     223.0\n",
       "                               Container Service                     False      kapeta                                           467.0             4567      23.0\n",
       "Provisioning                    Automation & Configuration           incubating cloud-custodian                                  441.0              522    4951.0\n",
       "                                                                                kube-edge                                        330.0              496    6058.0\n",
       "                                                                     sandbox    akri                                              34.0              197     996.0\n",
       "                                                                                cdk-for-kubernetes-cdk8s                          78.0              434    3818.0\n",
       "                                                                                dev-stream                                        62.0              515     815.0\n",
       "                                                                                kcl                                               15.0              329     808.0\n",
       "                                                                                kpt                                               96.0              246    1546.0\n",
       "                                                                                kube-dl                                           23.0                7     445.0\n",
       "                                                                                meshery                                          591.0             8173    3660.0\n",
       "                                                                                metal                                            102.0              291     463.0\n",
       "                                                                                open-yurt                                        112.0              380    1553.0\n",
       "                                                                                super-edge                                        54.0               67     959.0\n",
       "                                                                                tinkerbell                                        52.0              249     812.0\n",
       "                                Container Registry                   graduated  harbor                                           347.0              442   20890.0\n",
       "                                                                     incubating dragonfly                                         58.0              796    1614.0\n",
       "                                                                     sandbox    distribution                                     519.0              350    7856.0\n",
       "                                                                                zot                                               30.0              409     484.0\n",
       "                                Key Management                       graduated  spiffe                                            56.0               19    1213.0\n",
       "                                                                                spire                                            153.0              737    1392.0\n",
       "                                                                     sandbox    athenz                                            76.0              371     803.0\n",
       "                                                                                teller                                            25.0               14    1844.0\n",
       "                                Security & Compliance                False      kics                                             117.0             1850    1708.0\n",
       "                                                                                rudder                                            46.0             1561     454.0\n",
       "                                                                                secure-code-box                                   68.0             1154     638.0\n",
       "                                                                                sigstore                                          55.0              607     395.0\n",
       "                                                                                stack-rox                                        125.0             3555    1041.0\n",
       "                                                                     graduated  open-policy-agent-opa                            420.0              592    8496.0\n",
       "                                                                                the-update-framework-tuf                          97.0              554    1541.0\n",
       "                                                                     incubating cert-manager                                     410.0              801   10730.0\n",
       "                                                                                falco                                            199.0              807    6313.0\n",
       "                                                                                in-toto                                           40.0              224     763.0\n",
       "                                                                                keycloak                                        1259.0             2735   17472.0\n",
       "                                                                                kyverno                                          255.0             1928    4402.0\n",
       "                                                                                notary                                            35.0              192     214.0\n",
       "                                                                     member     api-clarity                                       25.0               46     417.0\n",
       "                                                                                aserto                                             8.0               42      23.0\n",
       "                                                                                bouncy-castle                                    126.0             1363    2036.0\n",
       "                                                                                ejbca-community                                   79.0             1440     343.0\n",
       "                                                                                kube-clarity                                      32.0              176    1080.0\n",
       "                                                                                kube-linter                                       67.0              140    2455.0\n",
       "                                                                                tetragon                                          62.0             1250    2595.0\n",
       "                                                                                topaz                                             10.0              207     721.0\n",
       "                                                                                vm-clarity                                        22.0              505      59.0\n",
       "                                                                     sandbox    confidential-containers                           20.0              182      70.0\n",
       "                                                                                container-ssh                                     14.0               10    2410.0\n",
       "                                                                                curiefense                                        38.0              822     668.0\n",
       "                                                                                dex                                              219.0              328    8440.0\n",
       "                                                                                external-secrets                                 273.0              402    3102.0\n",
       "                                                                                hexa                                              15.0              142      74.0\n",
       "                                                                                keylime                                           73.0              529     350.0\n",
       "                                                                                kube-armor                                        82.0              518     832.0\n",
       "                                                                                kubescape                                        118.0              841    8887.0\n",
       "                                                                                kubewarden                                        15.0              198     146.0\n",
       "                                                                                open-fga                                          35.0              499    1487.0\n",
       "                                                                                open-policy-containers                            13.0              106     168.0\n",
       "                                                                                paralus                                           22.0               99     834.0\n",
       "                                                                                parsec                                            33.0               77     423.0\n",
       "                                                                                slim-toolkit                                      65.0              154   17269.0\n",
       "                                                                                sops                                             133.0              147   13823.0\n",
       "Runtime                         Cloud Native Network                 graduated  cilium                                           749.0             5064   16516.0\n",
       "                                                                     incubating container-network-interface-cni                  167.0               65    5031.0\n",
       "                                                                     sandbox    antrea                                           114.0              670    1528.0\n",
       "                                                                                cni-genie                                         23.0                0     516.0\n",
       "                                                                                fab-edge                                          19.0              110     499.0\n",
       "                                                                                kube-ovn                                          98.0              751    1675.0\n",
       "                                                                                kube-vip                                          72.0              226    1444.0\n",
       "                                                                                network-service-mesh                              20.0                8       8.0\n",
       "                                                                                submariner                                        45.0              318    2211.0\n",
       "                                Cloud Native Storage                 graduated  rook                                             694.0             1313   11830.0\n",
       "                                                                     incubating cube-fs                                          124.0             1062    3706.0\n",
       "                                                                                longhorn                                         595.0             3626    5715.0\n",
       "                                                                     sandbox    carina                                            20.0               65     631.0\n",
       "                                                                                curve                                             94.0              283    2045.0\n",
       "                                                                                hwamei-stor                                       43.0             1239     439.0\n",
       "                                                                                k8up                                              47.0              230     453.0\n",
       "                                                                                open-ebs                                         234.0               10    8321.0\n",
       "                                                                                oras                                              54.0              261    1069.0\n",
       "                                                                                piraeus-datastore                                 22.0              140     294.0\n",
       "                                                                                vineyard                                          38.0              428     751.0\n",
       "                                Container Runtime                    False      kuasar                                            23.0              116     894.0\n",
       "                                                                     archived   rkt                                              248.0                0    8838.0\n",
       "                                                                     graduated  containerd                                       611.0             1631   14857.0\n",
       "                                                                                cri-o                                            303.0             1031    4754.0\n",
       "                                                                     sandbox    inclavare-containers                              27.0                2     556.0\n",
       "                                                                                krustlet                                          50.0                0    3486.0\n",
       "                                                                                lima                                              88.0              879   12610.0\n",
       "                                                                                virtual-kubelet                                  128.0               56    3915.0\n",
       "                                                                                wasm-edge-runtime                                154.0              599    6674.0\n",
       "Serverless                      Framework                            incubating dapr-serverless                                  247.0              967   22320.0\n",
       "                                Installable Platform                 graduated  keda-serverless                                  302.0              396    6831.0\n",
       "                                                                     incubating knative-serverless                               285.0              655    5113.0\n",
       "                                                                     sandbox    open-function-serverless                          30.0              125    1266.0\n",
       "Wasm                            Orchestration & Management           member     meshery-wasm                                     591.0             8173    3660.0\n",
       "                                Runtimes                             False      timecraft                                          4.0             1116     300.0\n",
       "                                                                                wasmer                                           169.0             4021   16300.0\n",
       "                                                                     sandbox    krustlet-wasm                                     50.0                0    3486.0\n",
       "                                                                                wasm-edge-wasm                                   154.0              599    6674.0"
      ]
     },
     "execution_count": 126,
     "metadata": {},
     "output_type": "execute_result"
    }
   ],
   "source": [
    "# index --> ['relation', 'category', 'subcategory', 'id']\n",
    "\n",
    "#safe_set_index(df, ['relation', 'category', 'subcategory', 'id'])\n",
    "safe_set_index(df, ['category', 'subcategory', 'relation', 'id'])\n",
    "\n",
    "df_numeric = df.select_dtypes(include=['int64', 'float64'])\n",
    "df_numeric"
   ]
  },
  {
   "cell_type": "code",
   "execution_count": 127,
   "metadata": {},
   "outputs": [],
   "source": [
    "# Aggregation at level 0\n",
    "df_level0_relation = df_numeric.groupby(level=0).sum()  # or .mean(), .count(), etc.\n",
    "\n",
    "# Aggregation at level 1\n",
    "df_level1_category = df_numeric.groupby(level=1).sum()  # or .mean(), .count(), etc.\n",
    "\n",
    "# Aggregation at level 2\n",
    "df_level2_subcategory = df_numeric.groupby(level=2).sum()  # or .mean(), .count(), etc.\n",
    "\n",
    "# Aggregation at level 3\n",
    "# df_level3 = df.groupby(level=3).sum()  # or .mean(), .count(), etc."
   ]
  },
  {
   "cell_type": "code",
   "execution_count": 128,
   "metadata": {},
   "outputs": [
    {
     "name": "stdout",
     "output_type": "stream",
     "text": [
      "Aggregations at df_level0_relation\n",
      "\n",
      "                                contributorsCount  commitsThisYear     stars\n",
      "category                                                                    \n",
      "App Definition and Development            13186.0            77222  296517.0\n",
      "Observability and Analysis                 5877.0            13426  155993.0\n",
      "Orchestration & Management                14796.0            43105  357274.0\n",
      "Platform                                    814.0             5681   26603.0\n",
      "Provisioning                               7979.0            41827  185859.0\n",
      "Runtime                                    4904.0            20183  121266.0\n",
      "Serverless                                  864.0             2143   35530.0\n",
      "Wasm                                        968.0            13909   30420.0\n",
      "\n",
      "Aggregations at df_level1_category\n",
      "\n",
      "                                       contributorsCount  commitsThisYear     stars\n",
      "subcategory                                                                        \n",
      " API Gateway                                       244.0              314    4149.0\n",
      " Application Definition & Image Build             5479.0            30612  129052.0\n",
      " Automation & Configuration                       1990.0            11906   26884.0\n",
      " Certified Kubernetes - Distribution               212.0              442   24517.0\n",
      " Certified Kubernetes - Hosted                      19.0                2      28.0\n",
      " Certified Kubernetes - Installer                  116.0              670    2035.0\n",
      " Chaos Engineering                                 415.0              292   15282.0\n",
      " Cloud Native Network                             1307.0             7212   29428.0\n",
      " Cloud Native Storage                             1965.0             8657   35254.0\n",
      " Container Registry                                954.0             1997   30844.0\n",
      " Container Runtime                                1632.0             4314   56584.0\n",
      " Continuous Integration & Delivery                3000.0            13358   57927.0\n",
      " Continuous Optimization                           100.0              909    4107.0\n",
      " Coordination & Service Discovery                 1372.0             2883   56586.0\n",
      " Database                                         2955.0            21488   65685.0\n",
      " Feature Flagging                                   23.0               43     375.0\n",
      " Framework                                         247.0              967   22320.0\n",
      " Installable Platform                              617.0             1176   13210.0\n",
      " Key Management                                    310.0             1141    5252.0\n",
      " Logging                                          2173.0             1914   21189.0\n",
      " Monitoring                                       2625.0             9160   91589.0\n",
      " Orchestration & Management                        591.0             8173    3660.0\n",
      " Remote Procedure Call                             972.0             1982   39066.0\n",
      " Runtimes                                          377.0             5736   26760.0\n",
      " Scheduling & Orchestration                       8607.0            27838  163694.0\n",
      " Security & Compliance                            4725.0            26783  122879.0\n",
      " Service Mesh                                     1868.0             5518   54053.0\n",
      " Service Proxy                                    1733.0             4570   39726.0\n",
      " Streaming & Messaging                            1752.0            11764   43853.0\n",
      " Tracing                                           541.0             1108   23451.0\n",
      "Container Service                                  467.0             4567      23.0\n",
      "\n",
      "Aggregations at df_level2_subcategory\n",
      "\n",
      "            contributorsCount  commitsThisYear     stars\n",
      "relation                                                \n",
      "False                  4469.0            47944   84330.0\n",
      "archived                546.0               76   18343.0\n",
      "graduated             17259.0            36282  474390.0\n",
      "incubating            12493.0            46039  302656.0\n",
      "member                 4765.0            29193   58570.0\n",
      "sandbox                9856.0            57962  271173.0\n",
      "\n"
     ]
    }
   ],
   "source": [
    "print(f'Aggregations at df_level0_relation\\n\\n{df_level0_relation}\\n')\n",
    "print(f'Aggregations at df_level1_category\\n\\n{df_level1_category}\\n')\n",
    "print(f'Aggregations at df_level2_subcategory\\n\\n{df_level2_subcategory}\\n')"
   ]
  },
  {
   "cell_type": "code",
   "execution_count": 129,
   "metadata": {},
   "outputs": [],
   "source": [
    "# print(f'df.index.names: {df.index.names}\\n\\n')\n",
    "# #print(f'df.index.levels: {df.index.levels}\\n\\n')\n",
    "\n",
    "# for level in df.index.levels:\n",
    "#     print(f'level: {level}\\n')"
   ]
  },
  {
   "cell_type": "markdown",
   "metadata": {},
   "source": [
    "## Generate Sunbursts and Treemaps for { Contributors Count, Commits this year, Stars }"
   ]
  },
  {
   "cell_type": "markdown",
   "metadata": {},
   "source": [
    "### Helpers"
   ]
  },
  {
   "cell_type": "code",
   "execution_count": 130,
   "metadata": {},
   "outputs": [],
   "source": [
    "import plotly.io as pio\n",
    "import plotly.express as px\n",
    "import plotly.graph_objects as go"
   ]
  },
  {
   "cell_type": "code",
   "execution_count": 131,
   "metadata": {},
   "outputs": [],
   "source": [
    "# Light to Dark Transition:\n",
    "# color_discrete_map={'sandbox': '#ADD8E6', 'incubating': '#87CEEB', 'graduated': '#000080'}\n",
    "#\n",
    "# sandbox: Light Blue (#ADD8E6)\n",
    "# incubating: Medium Blue (#87CEEB)\n",
    "# graduated: Dark Blue (#000080)\n",
    "\n",
    "# Warm to Cool Transition:\n",
    "# color_discrete_map={'sandbox': '#FFA500', 'incubating': '#FFD700', 'graduated': '#008000'}\n",
    "#\n",
    "# sandbox: Orange (#FFA500)\n",
    "# incubating: Yellow (#FFD700)\n",
    "# graduated: Green (#008000)\n",
    "\n",
    "# Warm to Cool 2 Transition:\n",
    "# color_discrete_map={'sandbox': '#FFD700', 'incubating': '#87CEEB', 'graduated': '#008000'}\n",
    "#\n",
    "# sandbox: Yellow (#FFD700)\n",
    "# incubating: Medium Blue (#87CEEB)\n",
    "# graduated: Green (#008000)\n",
    "\n",
    "color_discrete_map_pastel = {\n",
    "    \"App Definition and Development\": \"#a2cffe\",\n",
    "    \"Observability and Analysis\": \"#8efac1\",\n",
    "    \"Orchestration & Management\": \"#fc9d9a\",\n",
    "    \"Platform\": \"#c0eb75\",\n",
    "    \"Provisioning\": \"#f2a2e8\",\n",
    "    \"Runtime\": \"#fffe7a\",\n",
    "    \"Serverless\": \"#d3d3d3\"\n",
    "}\n",
    "\n",
    "color_discrete_map1 = {\n",
    "    \"App Definition and Development\": \"#264653\",\n",
    "    \"Observability and Analysis\": \"#2a9d8f\",\n",
    "    \"Orchestration & Management\": \"#e9c46a\",\n",
    "    \"Platform\": \"#f4a261\",\n",
    "    \"Provisioning\": \"#e76f51\",\n",
    "    \"Runtime\": \"#6d6875\",\n",
    "    \"Serverless\": \"#fca311\"\n",
    "}\n",
    "\n",
    "\n",
    "color_discrete_map2 = {\n",
    "    \"App Definition and Development\": \"#003f5c\",\n",
    "    \"Observability and Analysis\": \"#58508d\",\n",
    "    \"Orchestration & Management\": \"#bc5090\",\n",
    "    \"Platform\": \"#ff6361\",\n",
    "    \"Provisioning\": \"#ffa600\",\n",
    "    \"Runtime\": \"#2f4b7c\",\n",
    "    \"Serverless\": \"#665191\"\n",
    "}\n",
    "color_discrete_map3 = {\n",
    "    \"App Definition and Development\": \"#165aa7\",\n",
    "    \"Observability and Analysis\": \"#cb495c\",\n",
    "    \"Orchestration & Management\": \"#bb60d5\",\n",
    "    \"Platform\": \"#f47915\",\n",
    "    \"Provisioning\": \"#06ab54\",\n",
    "    \"Runtime\": \"#002070\",\n",
    "    \"Serverless\": \"#b27d12\"\n",
    "}\n",
    "\n",
    "color_discrete_map4 = {\n",
    "    \"App Definition and Development\": \"#1f77b4\",\n",
    "    \"Observability and Analysis\": \"#ff7f0e\",\n",
    "    \"Orchestration & Management\": \"#2ca02c\",\n",
    "    \"Platform\": \"#d62728\",\n",
    "    \"Provisioning\": \"#9467bd\",\n",
    "    \"Runtime\": \"#8c564b\",\n",
    "    \"Serverless\": \"#e377c2\"\n",
    "}\n"
   ]
  },
  {
   "cell_type": "code",
   "execution_count": 132,
   "metadata": {},
   "outputs": [],
   "source": [
    "def create_figure(plotly_func,\n",
    "                  df,\n",
    "                  values=None,\n",
    "                  height: int = 1200,\n",
    "                  width: int = 1200,\n",
    "                  title: str = 'Missing Title',\n",
    "                  path=['category', 'subcategory', 'relation', 'id'],\n",
    "                  color='category',\n",
    "                  color_discrete_map=color_discrete_map2,\n",
    "                  branchvalues: str = None) -> go.Figure:\n",
    "    \n",
    "    fig = plotly_func(data_frame=df,\n",
    "                      values=values,\n",
    "                      height=height,\n",
    "                      width=width,\n",
    "                      title=title,\n",
    "                      path=path,\n",
    "                      color=color,\n",
    "                      color_discrete_map=color_discrete_map,\n",
    "                      branchvalues='total')\n",
    "    return fig\n",
    "\n",
    "\n",
    "def create_sunburst(df, **kwargs) -> go.Figure:\n",
    "    return create_figure(px.sunburst, df, **kwargs)\n",
    "\n",
    "\n",
    "def create_treemap(df, **kwargs) -> go.Figure:\n",
    "    return create_figure(px.treemap, df, **kwargs)"
   ]
  },
  {
   "cell_type": "markdown",
   "metadata": {},
   "source": [
    "### Create Figures (Sunbursts, Treemaps) "
   ]
  },
  {
   "cell_type": "code",
   "execution_count": 133,
   "metadata": {},
   "outputs": [],
   "source": [
    "# make index columns accessible for charting as normal columns\n",
    "df_reset = df.reset_index()\n",
    "\n",
    "figs = {}\n",
    "\n",
    "sunb_contributorsCount = create_sunburst(df_reset, values='contributorsCount', title='sunburst: 🪴 Contributor Count (NOT UNIQUE ACROSS PROJECTS!) 🪴')\n",
    "sunb_commitsThisYear   = create_sunburst(df_reset, values='commitsThisYear',   title='sunburst: 📄 Commits This Year 📄')\n",
    "sunb_stars             = create_sunburst(df_reset, values='stars',             title='sunburst: ⭐ Stars ⭐')\n",
    "\n",
    "tree_contributorsCount = create_treemap(df_reset, values='contributorsCount',  title='treemap: 🪴 Contributor Count (NOT UNIQUE ACROSS PROJECTS!) 🪴')\n",
    "tree_commitsThisYear   = create_treemap(df_reset, values='commitsThisYear',    title='treemap: 📄 Commits This Year 📄')\n",
    "tree_stars             = create_treemap(df_reset, values='stars',              title='treemap: ⭐ Stars ⭐')\n",
    "\n",
    "figs['sunb_contributorsCount'] = sunb_contributorsCount\n",
    "figs['sunb_commitsThisYear']   = sunb_commitsThisYear\n",
    "figs['sunb_stars']             = sunb_stars\n",
    "\n",
    "figs['tree_contributorsCount'] = tree_contributorsCount\n",
    "figs['tree_commitsThisYear']   = tree_commitsThisYear\n",
    "figs['tree_stars']             = tree_stars"
   ]
  },
  {
   "cell_type": "markdown",
   "metadata": {},
   "source": [
    "### Save figures as .svg files"
   ]
  },
  {
   "cell_type": "code",
   "execution_count": 144,
   "metadata": {},
   "outputs": [
    {
     "name": "stdout",
     "output_type": "stream",
     "text": [
      "```![Image description](generated/fig_sunb_contributorsCount.svg)```\n",
      "```![Image description](generated/fig_sunb_commitsThisYear.svg)```\n",
      "```![Image description](generated/fig_sunb_stars.svg)```\n",
      "```![Image description](generated/fig_tree_contributorsCount.svg)```\n",
      "```![Image description](generated/fig_tree_commitsThisYear.svg)```\n",
      "```![Image description](generated/fig_tree_stars.svg)```\n"
     ]
    }
   ],
   "source": [
    "for key, fig in figs.items():\n",
    "    file_name = f'{OUT_DIR}/fig_{key}.svg'\n",
    "    fig.write_image(file_name, format='svg')\n",
    "\n",
    "    # Emit raw markdown for image description\n",
    "    markdown = f\"![Image description]({file_name})\"\n",
    "    print(f\"```{markdown}```\")"
   ]
  },
  {
   "cell_type": "code",
   "execution_count": 135,
   "metadata": {},
   "outputs": [],
   "source": [
    "# save --> files so viewable in markdown cells\n",
    "#\n",
    "# ![Image description](path_to_image.png)"
   ]
  },
  {
   "cell_type": "markdown",
   "metadata": {},
   "source": [
    "### Display Sunbursts"
   ]
  },
  {
   "cell_type": "code",
   "execution_count": 136,
   "metadata": {},
   "outputs": [
    {
     "data": {
      "application/vnd.plotly.v1+json": {
       "config": {
        "plotlyServerURL": "https://plot.ly"
       },
       "data": [
        {
         "branchvalues": "total",
         "customdata": [
          [
           "Orchestration & Management"
          ],
          [
           "Runtime"
          ],
          [
           "Provisioning"
          ],
          [
           "Runtime"
          ],
          [
           "Orchestration & Management"
          ],
          [
           "Orchestration & Management"
          ],
          [
           "Observability and Analysis"
          ],
          [
           "Runtime"
          ],
          [
           "Orchestration & Management"
          ],
          [
           "Runtime"
          ],
          [
           "Provisioning"
          ],
          [
           "Runtime"
          ],
          [
           "Provisioning"
          ],
          [
           "App Definition and Development"
          ],
          [
           "App Definition and Development"
          ],
          [
           "Provisioning"
          ],
          [
           "App Definition and Development"
          ],
          [
           "Provisioning"
          ],
          [
           "Provisioning"
          ],
          [
           "Provisioning"
          ],
          [
           "Provisioning"
          ],
          [
           "Orchestration & Management"
          ],
          [
           "Orchestration & Management"
          ],
          [
           "Orchestration & Management"
          ],
          [
           "Provisioning"
          ],
          [
           "Serverless"
          ],
          [
           "Runtime"
          ],
          [
           "Orchestration & Management"
          ],
          [
           "Orchestration & Management"
          ],
          [
           "Orchestration & Management"
          ],
          [
           "Provisioning"
          ],
          [
           "Runtime"
          ],
          [
           "Provisioning"
          ],
          [
           "App Definition and Development"
          ],
          [
           "Orchestration & Management"
          ],
          [
           "App Definition and Development"
          ],
          [
           "Provisioning"
          ],
          [
           "App Definition and Development"
          ],
          [
           "Orchestration & Management"
          ],
          [
           "Provisioning"
          ],
          [
           "App Definition and Development"
          ],
          [
           "Provisioning"
          ],
          [
           "App Definition and Development"
          ],
          [
           "App Definition and Development"
          ],
          [
           "App Definition and Development"
          ],
          [
           "Runtime"
          ],
          [
           "Observability and Analysis"
          ],
          [
           "Observability and Analysis"
          ],
          [
           "Provisioning"
          ],
          [
           "Provisioning"
          ],
          [
           "App Definition and Development"
          ],
          [
           "App Definition and Development"
          ],
          [
           "Runtime"
          ],
          [
           "Orchestration & Management"
          ],
          [
           "Provisioning"
          ],
          [
           "Provisioning"
          ],
          [
           "Provisioning"
          ],
          [
           "Runtime"
          ],
          [
           "Observability and Analysis"
          ],
          [
           "Orchestration & Management"
          ],
          [
           "Orchestration & Management"
          ],
          [
           "Platform"
          ],
          [
           "Runtime"
          ],
          [
           "Platform"
          ],
          [
           "Orchestration & Management"
          ],
          [
           "Runtime"
          ],
          [
           "Observability and Analysis"
          ],
          [
           "Observability and Analysis"
          ],
          [
           "Provisioning"
          ],
          [
           "App Definition and Development"
          ],
          [
           "Provisioning"
          ],
          [
           "Provisioning"
          ],
          [
           "App Definition and Development"
          ],
          [
           "Observability and Analysis"
          ],
          [
           "Orchestration & Management"
          ],
          [
           "Runtime"
          ],
          [
           "Observability and Analysis"
          ],
          [
           "Orchestration & Management"
          ],
          [
           "App Definition and Development"
          ],
          [
           "Observability and Analysis"
          ],
          [
           "App Definition and Development"
          ],
          [
           "Runtime"
          ],
          [
           "Provisioning"
          ],
          [
           "Orchestration & Management"
          ],
          [
           "Provisioning"
          ],
          [
           "Runtime"
          ],
          [
           "Orchestration & Management"
          ],
          [
           "Platform"
          ],
          [
           "App Definition and Development"
          ],
          [
           "Orchestration & Management"
          ],
          [
           "App Definition and Development"
          ],
          [
           "Observability and Analysis"
          ],
          [
           "Orchestration & Management"
          ],
          [
           "Provisioning"
          ],
          [
           "Provisioning"
          ],
          [
           "Orchestration & Management"
          ],
          [
           "Orchestration & Management"
          ],
          [
           "Provisioning"
          ],
          [
           "Runtime"
          ],
          [
           "Provisioning"
          ],
          [
           "Platform"
          ],
          [
           "Platform"
          ],
          [
           "App Definition and Development"
          ],
          [
           "Provisioning"
          ],
          [
           "Provisioning"
          ],
          [
           "Orchestration & Management"
          ],
          [
           "Serverless"
          ],
          [
           "Observability and Analysis"
          ],
          [
           "App Definition and Development"
          ],
          [
           "Orchestration & Management"
          ],
          [
           "Provisioning"
          ],
          [
           "Provisioning"
          ],
          [
           "Provisioning"
          ],
          [
           "Orchestration & Management"
          ],
          [
           "Orchestration & Management"
          ],
          [
           "App Definition and Development"
          ],
          [
           "App Definition and Development"
          ],
          [
           "App Definition and Development"
          ],
          [
           "Provisioning"
          ],
          [
           "App Definition and Development"
          ],
          [
           "Runtime"
          ],
          [
           "Serverless"
          ],
          [
           "Wasm"
          ],
          [
           "Runtime"
          ],
          [
           "App Definition and Development"
          ],
          [
           "Runtime"
          ],
          [
           "Orchestration & Management"
          ],
          [
           "App Definition and Development"
          ],
          [
           "Observability and Analysis"
          ],
          [
           "App Definition and Development"
          ],
          [
           "Observability and Analysis"
          ],
          [
           "App Definition and Development"
          ],
          [
           "App Definition and Development"
          ],
          [
           "Observability and Analysis"
          ],
          [
           "App Definition and Development"
          ],
          [
           "App Definition and Development"
          ],
          [
           "Observability and Analysis"
          ],
          [
           "Provisioning"
          ],
          [
           "Runtime"
          ],
          [
           "App Definition and Development"
          ],
          [
           "Runtime"
          ],
          [
           "Runtime"
          ],
          [
           "Observability and Analysis"
          ],
          [
           "Provisioning"
          ],
          [
           "App Definition and Development"
          ],
          [
           "App Definition and Development"
          ],
          [
           "Provisioning"
          ],
          [
           "Orchestration & Management"
          ],
          [
           "App Definition and Development"
          ],
          [
           "Orchestration & Management"
          ],
          [
           "Orchestration & Management"
          ],
          [
           "Observability and Analysis"
          ],
          [
           "Provisioning"
          ],
          [
           "Provisioning"
          ],
          [
           "Provisioning"
          ],
          [
           "Provisioning"
          ],
          [
           "Runtime"
          ],
          [
           "Observability and Analysis"
          ],
          [
           "Provisioning"
          ],
          [
           "Orchestration & Management"
          ],
          [
           "Observability and Analysis"
          ],
          [
           "Orchestration & Management"
          ],
          [
           "Provisioning"
          ],
          [
           "Wasm"
          ],
          [
           "Provisioning"
          ],
          [
           "Orchestration & Management"
          ],
          [
           "App Definition and Development"
          ],
          [
           "App Definition and Development"
          ],
          [
           "Orchestration & Management"
          ],
          [
           "App Definition and Development"
          ],
          [
           "Runtime"
          ],
          [
           "App Definition and Development"
          ],
          [
           "Provisioning"
          ],
          [
           "Observability and Analysis"
          ],
          [
           "Observability and Analysis"
          ],
          [
           "Orchestration & Management"
          ],
          [
           "Provisioning"
          ],
          [
           "Provisioning"
          ],
          [
           "Observability and Analysis"
          ],
          [
           "Observability and Analysis"
          ],
          [
           "App Definition and Development"
          ],
          [
           "App Definition and Development"
          ],
          [
           "Orchestration & Management"
          ],
          [
           "Provisioning"
          ],
          [
           "Observability and Analysis"
          ],
          [
           "Orchestration & Management"
          ],
          [
           "Runtime"
          ],
          [
           "Serverless"
          ],
          [
           "Orchestration & Management"
          ],
          [
           "App Definition and Development"
          ],
          [
           "Observability and Analysis"
          ],
          [
           "App Definition and Development"
          ],
          [
           "App Definition and Development"
          ],
          [
           "App Definition and Development"
          ],
          [
           "Orchestration & Management"
          ],
          [
           "Runtime"
          ],
          [
           "App Definition and Development"
          ],
          [
           "App Definition and Development"
          ],
          [
           "Provisioning"
          ],
          [
           "Provisioning"
          ],
          [
           "Runtime"
          ],
          [
           "Provisioning"
          ],
          [
           "App Definition and Development"
          ],
          [
           "App Definition and Development"
          ],
          [
           "App Definition and Development"
          ],
          [
           "Wasm"
          ],
          [
           "Provisioning"
          ],
          [
           "Provisioning"
          ],
          [
           "App Definition and Development"
          ],
          [
           "Runtime"
          ],
          [
           "Provisioning"
          ],
          [
           "App Definition and Development"
          ],
          [
           "Provisioning"
          ],
          [
           "Provisioning"
          ],
          [
           "Observability and Analysis"
          ],
          [
           "Provisioning"
          ],
          [
           "Provisioning"
          ],
          [
           "Orchestration & Management"
          ],
          [
           "Runtime"
          ],
          [
           "Wasm"
          ],
          [
           "Wasm"
          ],
          [
           "App Definition and Development"
          ],
          [
           "App Definition and Development"
          ],
          [
           "App Definition and Development"
          ],
          [
           "Orchestration & Management"
          ],
          [
           "Provisioning"
          ],
          [
           "App Definition and Development"
          ],
          [
           "Runtime"
          ],
          [
           "App Definition and Development"
          ],
          [
           "App Definition and Development"
          ],
          [
           "Observability and Analysis"
          ],
          [
           "Observability and Analysis"
          ],
          [
           "Wasm"
          ],
          [
           "Orchestration & Management"
          ],
          [
           "Provisioning"
          ],
          [
           "App Definition and Development"
          ],
          [
           "Platform"
          ],
          [
           "Runtime"
          ],
          [
           "App Definition and Development"
          ],
          [
           "Orchestration & Management"
          ],
          [
           "Observability and Analysis"
          ],
          [
           "App Definition and Development"
          ],
          [
           "Runtime"
          ],
          [
           "Runtime"
          ],
          [
           "Provisioning"
          ],
          [
           "Runtime"
          ],
          [
           "App Definition and Development"
          ],
          [
           "Orchestration & Management"
          ],
          [
           "App Definition and Development"
          ],
          [
           "Serverless"
          ],
          [
           "Provisioning"
          ],
          [
           "Observability and Analysis"
          ],
          [
           "Observability and Analysis"
          ],
          [
           "Orchestration & Management"
          ],
          [
           "Provisioning"
          ],
          [
           "Orchestration & Management"
          ],
          [
           "Orchestration & Management"
          ],
          [
           "Observability and Analysis"
          ],
          [
           "Orchestration & Management"
          ],
          [
           "App Definition and Development"
          ],
          [
           "Provisioning"
          ],
          [
           "Observability and Analysis"
          ],
          [
           "Runtime"
          ],
          [
           "Runtime"
          ],
          [
           "Provisioning"
          ],
          [
           "App Definition and Development"
          ],
          [
           "Observability and Analysis"
          ],
          [
           "Serverless"
          ],
          [
           "Serverless"
          ],
          [
           "Observability and Analysis"
          ],
          [
           "Orchestration & Management"
          ],
          [
           "Orchestration & Management"
          ],
          [
           "Provisioning"
          ],
          [
           "Orchestration & Management"
          ],
          [
           "App Definition and Development"
          ],
          [
           "Observability and Analysis"
          ],
          [
           "App Definition and Development"
          ],
          [
           "Platform"
          ],
          [
           "Platform"
          ],
          [
           "App Definition and Development"
          ],
          [
           "App Definition and Development"
          ],
          [
           "Observability and Analysis"
          ],
          [
           "Observability and Analysis"
          ],
          [
           "Wasm"
          ],
          [
           "Orchestration & Management"
          ],
          [
           "Provisioning"
          ],
          [
           "Orchestration & Management"
          ],
          [
           "App Definition and Development"
          ],
          [
           "App Definition and Development"
          ],
          [
           "Provisioning"
          ],
          [
           "Platform"
          ],
          [
           "Platform"
          ],
          [
           "Observability and Analysis"
          ],
          [
           "Runtime"
          ],
          [
           "Runtime"
          ],
          [
           "Provisioning"
          ],
          [
           "Runtime"
          ],
          [
           "App Definition and Development"
          ],
          [
           "Observability and Analysis"
          ],
          [
           "Orchestration & Management"
          ],
          [
           "App Definition and Development"
          ],
          [
           "Serverless"
          ],
          [
           "Provisioning"
          ],
          [
           "Observability and Analysis"
          ],
          [
           "Wasm"
          ],
          [
           "Orchestration & Management"
          ],
          [
           "Provisioning"
          ],
          [
           "Orchestration & Management"
          ],
          [
           "Orchestration & Management"
          ],
          [
           "App Definition and Development"
          ],
          [
           "Orchestration & Management"
          ],
          [
           "App Definition and Development"
          ],
          [
           "Provisioning"
          ],
          [
           "Platform"
          ],
          [
           "Platform"
          ],
          [
           "Platform"
          ],
          [
           "Observability and Analysis"
          ],
          [
           "Runtime"
          ],
          [
           "Runtime"
          ],
          [
           "Provisioning"
          ],
          [
           "Runtime"
          ],
          [
           "App Definition and Development"
          ],
          [
           "Observability and Analysis"
          ],
          [
           "Orchestration & Management"
          ],
          [
           "App Definition and Development"
          ],
          [
           "Observability and Analysis"
          ],
          [
           "Serverless"
          ],
          [
           "Serverless"
          ],
          [
           "Provisioning"
          ],
          [
           "Observability and Analysis"
          ],
          [
           "Observability and Analysis"
          ],
          [
           "Wasm"
          ],
          [
           "Orchestration & Management"
          ],
          [
           "Wasm"
          ],
          [
           "Orchestration & Management"
          ],
          [
           "Provisioning"
          ],
          [
           "Orchestration & Management"
          ],
          [
           "Orchestration & Management"
          ],
          [
           "App Definition and Development"
          ],
          [
           "Observability and Analysis"
          ],
          [
           "Platform"
          ],
          [
           "App Definition and Development"
          ],
          [
           "Observability and Analysis"
          ],
          [
           "Orchestration & Management"
          ],
          [
           "Platform"
          ],
          [
           "Provisioning"
          ],
          [
           "Runtime"
          ],
          [
           "Serverless"
          ],
          [
           "Wasm"
          ]
         ],
         "domain": {
          "x": [
           0,
           1
          ],
          "y": [
           0,
           1
          ]
         },
         "hovertemplate": "labels=%{label}<br>stars=%{value}<br>parent=%{parent}<br>id=%{id}<br>category=%{customdata[0]}<extra></extra>",
         "ids": [
          "Orchestration & Management/ Service Mesh/sandbox/aeraki-mesh",
          "Runtime/ Cloud Native Network/incubating/container-network-interface-cni",
          "Provisioning/ Security & Compliance/sandbox/container-ssh",
          "Runtime/ Container Runtime/graduated/containerd",
          "Orchestration & Management/ Service Proxy/incubating/contour",
          "Orchestration & Management/ Coordination & Service Discovery/graduated/core-dns",
          "Observability and Analysis/ Monitoring/incubating/cortex",
          "Runtime/ Container Runtime/graduated/cri-o",
          "Orchestration & Management/ Scheduling & Orchestration/incubating/crossplane",
          "Runtime/ Cloud Native Storage/incubating/cube-fs",
          "Provisioning/ Security & Compliance/sandbox/curiefense",
          "Runtime/ Cloud Native Storage/sandbox/curve",
          "Provisioning/ Security & Compliance/sandbox/confidential-containers",
          "App Definition and Development/ Application Definition & Image Build/incubating/dapr",
          "App Definition and Development/ Application Definition & Image Build/sandbox/dev-space",
          "Provisioning/ Automation & Configuration/sandbox/dev-stream",
          "App Definition and Development/ Application Definition & Image Build/sandbox/devfile",
          "Provisioning/ Security & Compliance/sandbox/dex",
          "Provisioning/ Container Registry/sandbox/distribution",
          "Provisioning/ Container Registry/incubating/dragonfly",
          "Provisioning/ Security & Compliance/member/ejbca-community",
          "Orchestration & Management/ Service Proxy/graduated/envoy",
          "Orchestration & Management/ Scheduling & Orchestration/sandbox/eraser",
          "Orchestration & Management/ Coordination & Service Discovery/graduated/etcd",
          "Provisioning/ Security & Compliance/sandbox/external-secrets",
          "Serverless/ Framework/incubating/dapr-serverless",
          "Runtime/ Cloud Native Network/sandbox/cni-genie",
          "Orchestration & Management/ API Gateway/incubating/emissary-ingress",
          "Orchestration & Management/ Scheduling & Orchestration/sandbox/clusternet",
          "Orchestration & Management/ Scheduling & Orchestration/sandbox/clusterpedia",
          "Provisioning/ Automation & Configuration/sandbox/akri",
          "Runtime/ Cloud Native Network/sandbox/antrea",
          "Provisioning/ Security & Compliance/member/api-clarity",
          "App Definition and Development/ Continuous Integration & Delivery/graduated/argo",
          "Orchestration & Management/ Scheduling & Orchestration/sandbox/armada",
          "App Definition and Development/ Application Definition & Image Build/sandbox/artifact-hub",
          "Provisioning/ Key Management/sandbox/athenz",
          "App Definition and Development/ Application Definition & Image Build/incubating/backstage",
          "Orchestration & Management/ Service Proxy/sandbox/bfe",
          "Provisioning/ Security & Compliance/member/bouncy-castle",
          "App Definition and Development/ Continuous Integration & Delivery/archived/brigade",
          "Provisioning/ Security & Compliance/member/aserto",
          "App Definition and Development/ Continuous Integration & Delivery/False/bytebase",
          "App Definition and Development/ Streaming & Messaging/incubating/cloud-events",
          "App Definition and Development/ Application Definition & Image Build/incubating/buildpacks",
          "Runtime/ Cloud Native Network/graduated/cilium",
          "Observability and Analysis/ Chaos Engineering/sandbox/chaosblade",
          "Observability and Analysis/ Chaos Engineering/incubating/chaos-mesh",
          "Provisioning/ Security & Compliance/incubating/cert-manager",
          "Provisioning/ Automation & Configuration/incubating/cloud-custodian",
          "App Definition and Development/ Application Definition & Image Build/sandbox/carvel",
          "App Definition and Development/ Continuous Integration & Delivery/member/cartographer",
          "Runtime/ Cloud Native Storage/sandbox/carina",
          "Orchestration & Management/ Scheduling & Orchestration/sandbox/capsule",
          "Provisioning/ Automation & Configuration/sandbox/cdk-for-kubernetes-cdk8s",
          "Provisioning/ Automation & Configuration/sandbox/kcl",
          "Provisioning/ Security & Compliance/incubating/in-toto",
          "Runtime/ Container Runtime/sandbox/inclavare-containers",
          "Observability and Analysis/ Monitoring/sandbox/inspektor-gadget",
          "Orchestration & Management/ Service Mesh/graduated/istio",
          "Orchestration & Management/ Coordination & Service Discovery/sandbox/k8gb",
          "Platform/ Certified Kubernetes - Distribution/sandbox/k3s",
          "Runtime/ Cloud Native Storage/sandbox/k8up",
          "Platform/Container Service/False/kapeta",
          "Orchestration & Management/ Scheduling & Orchestration/sandbox/karmada",
          "Runtime/ Cloud Native Storage/sandbox/hwamei-stor",
          "Observability and Analysis/ Tracing/graduated/jaeger",
          "Observability and Analysis/ Monitoring/member/hubble",
          "Provisioning/ Container Registry/graduated/harbor",
          "App Definition and Development/ Application Definition & Image Build/graduated/helm",
          "Provisioning/ Security & Compliance/sandbox/hexa",
          "Provisioning/ Security & Compliance/incubating/falco",
          "App Definition and Development/ Continuous Integration & Delivery/member/flagger",
          "Observability and Analysis/ Logging/graduated/fluentd",
          "Orchestration & Management/ Scheduling & Orchestration/sandbox/fluid",
          "Runtime/ Cloud Native Network/sandbox/fab-edge",
          "Observability and Analysis/ Monitoring/sandbox/fonio",
          "Orchestration & Management/ Remote Procedure Call/incubating/g-rpc",
          "App Definition and Development/ Application Definition & Image Build/False/gefyra",
          "Observability and Analysis/ Monitoring/sandbox/headlamp",
          "App Definition and Development/ Continuous Integration & Delivery/graduated/flux",
          "Runtime/ Cloud Native Network/sandbox/kube-vip",
          "Provisioning/ Automation & Configuration/incubating/kube-edge",
          "Orchestration & Management/ Scheduling & Orchestration/member/kube-green",
          "Provisioning/ Security & Compliance/member/kube-linter",
          "Runtime/ Cloud Native Network/sandbox/kube-ovn",
          "Orchestration & Management/ Scheduling & Orchestration/sandbox/kube-rs",
          "Platform/ Certified Kubernetes - Hosted/member/kube-sphere-qke",
          "App Definition and Development/ Application Definition & Image Build/incubating/kube-vela",
          "Orchestration & Management/ Scheduling & Orchestration/incubating/kubeflow",
          "App Definition and Development/ Application Definition & Image Build/sandbox/kudo",
          "Observability and Analysis/ Monitoring/sandbox/kuberhealthy",
          "Orchestration & Management/ Scheduling & Orchestration/graduated/kubernetes",
          "Provisioning/ Security & Compliance/sandbox/kubescape",
          "Provisioning/ Security & Compliance/sandbox/kubewarden",
          "Orchestration & Management/ Service Mesh/sandbox/kuma",
          "Orchestration & Management/ Scheduling & Orchestration/sandbox/kured",
          "Provisioning/ Security & Compliance/incubating/kyverno",
          "Runtime/ Container Runtime/sandbox/lima",
          "Provisioning/ Automation & Configuration/sandbox/kube-dl",
          "Platform/ Certified Kubernetes - Installer/member/kubekey",
          "Platform/ Certified Kubernetes - Installer/sandbox/kube-clipper",
          "App Definition and Development/ Application Definition & Image Build/incubating/kube-virt",
          "Provisioning/ Security & Compliance/sandbox/kube-armor",
          "Provisioning/ Security & Compliance/member/kube-clarity",
          "Orchestration & Management/ Scheduling & Orchestration/sandbox/kcp",
          "Serverless/ Installable Platform/graduated/keda-serverless",
          "Observability and Analysis/ Monitoring/sandbox/kepler",
          "App Definition and Development/ Continuous Integration & Delivery/incubating/keptn",
          "Orchestration & Management/ Scheduling & Orchestration/False/kestra",
          "Provisioning/ Security & Compliance/incubating/keycloak",
          "Provisioning/ Security & Compliance/sandbox/keylime",
          "Provisioning/ Security & Compliance/False/kics",
          "Orchestration & Management/ Scheduling & Orchestration/incubating/knative",
          "Orchestration & Management/ Scheduling & Orchestration/graduated/keda",
          "App Definition and Development/ Application Definition & Image Build/sandbox/ko",
          "App Definition and Development/ Application Definition & Image Build/sandbox/konveyor",
          "App Definition and Development/ Streaming & Messaging/member/koperator",
          "Provisioning/ Automation & Configuration/sandbox/kpt",
          "App Definition and Development/ Application Definition & Image Build/sandbox/krator",
          "Runtime/ Container Runtime/sandbox/krustlet",
          "Serverless/ Installable Platform/incubating/knative-serverless",
          "Wasm/ Runtimes/sandbox/krustlet-wasm",
          "Runtime/ Container Runtime/False/kuasar",
          "App Definition and Development/ Streaming & Messaging/member/memphis",
          "Runtime/ Cloud Native Storage/incubating/longhorn",
          "Orchestration & Management/ Service Mesh/graduated/linkerd",
          "App Definition and Development/ Continuous Integration & Delivery/False/liquibase",
          "Observability and Analysis/ Chaos Engineering/incubating/litmus",
          "App Definition and Development/ Database/False/qdrant",
          "Observability and Analysis/ Monitoring/graduated/prometheus",
          "App Definition and Development/ Streaming & Messaging/sandbox/pravega",
          "App Definition and Development/ Application Definition & Image Build/sandbox/porter",
          "Observability and Analysis/ Monitoring/sandbox/pixie",
          "App Definition and Development/ Application Definition & Image Build/incubating/operator-framework",
          "App Definition and Development/ Continuous Integration & Delivery/sandbox/pipe-cd",
          "Observability and Analysis/ Logging/False/parseable",
          "Provisioning/ Security & Compliance/sandbox/paralus",
          "Runtime/ Cloud Native Storage/sandbox/oras",
          "App Definition and Development/ Application Definition & Image Build/member/quarkus",
          "Runtime/ Cloud Native Storage/sandbox/piraeus-datastore",
          "Runtime/ Container Runtime/archived/rkt",
          "Observability and Analysis/ Monitoring/sandbox/skooner",
          "Provisioning/ Security & Compliance/False/rudder",
          "App Definition and Development/ Database/sandbox/schema-hero",
          "App Definition and Development/ Application Definition & Image Build/sandbox/sealer",
          "Provisioning/ Security & Compliance/False/secure-code-box",
          "Orchestration & Management/ Scheduling & Orchestration/sandbox/serverless-devs",
          "App Definition and Development/ Application Definition & Image Build/sandbox/serverless-workflow",
          "Orchestration & Management/ Service Mesh/archived/service-mesh-interface-smi",
          "Orchestration & Management/ Service Mesh/sandbox/service-mesh-performance",
          "Observability and Analysis/ Monitoring/False/sidekick",
          "Provisioning/ Security & Compliance/False/sigstore",
          "Provisioning/ Automation & Configuration/sandbox/open-yurt",
          "Provisioning/ Security & Compliance/sandbox/slim-toolkit",
          "Provisioning/ Security & Compliance/sandbox/sops",
          "Runtime/ Cloud Native Storage/graduated/rook",
          "Observability and Analysis/ Tracing/archived/open-tracing",
          "Provisioning/ Security & Compliance/sandbox/parsec",
          "Orchestration & Management/ Service Mesh/archived/open-service-mesh",
          "Observability and Analysis/ Tracing/incubating/open-telemetry",
          "Orchestration & Management/ Service Mesh/sandbox/merbridge",
          "Provisioning/ Automation & Configuration/sandbox/meshery",
          "Wasm/ Orchestration & Management/member/meshery-wasm",
          "Provisioning/ Automation & Configuration/sandbox/metal",
          "Orchestration & Management/ Service Proxy/sandbox/metal-lb",
          "App Definition and Development/ Application Definition & Image Build/sandbox/microcks",
          "App Definition and Development/ Application Definition & Image Build/False/mirrord",
          "Orchestration & Management/ Service Mesh/member/nasp",
          "App Definition and Development/ Streaming & Messaging/incubating/nats",
          "Runtime/ Cloud Native Network/sandbox/network-service-mesh",
          "App Definition and Development/ Application Definition & Image Build/sandbox/nocalhost",
          "Provisioning/ Security & Compliance/incubating/notary",
          "Observability and Analysis/ Monitoring/member/micrometer",
          "Observability and Analysis/ Continuous Optimization/sandbox/open-cost",
          "Orchestration & Management/ Scheduling & Orchestration/sandbox/open-cluster-management",
          "Provisioning/ Security & Compliance/sandbox/open-policy-containers",
          "Provisioning/ Security & Compliance/graduated/open-policy-agent-opa",
          "Observability and Analysis/ Monitoring/incubating/open-metrics",
          "Observability and Analysis/ Logging/member/open-search",
          "App Definition and Development/ Continuous Integration & Delivery/sandbox/open-git-ops",
          "App Definition and Development/ Continuous Integration & Delivery/incubating/open-kruise",
          "Orchestration & Management/ Scheduling & Orchestration/sandbox/open-function",
          "Provisioning/ Security & Compliance/sandbox/open-fga",
          "Observability and Analysis/ Feature Flagging/incubating/open-feature",
          "Orchestration & Management/ Service Proxy/sandbox/open-elb",
          "Runtime/ Cloud Native Storage/sandbox/open-ebs",
          "Serverless/ Installable Platform/sandbox/open-function-serverless",
          "Orchestration & Management/ Service Mesh/member/traefik-mesh",
          "App Definition and Development/ Streaming & Messaging/sandbox/tremor",
          "Observability and Analysis/ Monitoring/sandbox/trickster",
          "App Definition and Development/ Continuous Integration & Delivery/False/unleash",
          "App Definition and Development/ Streaming & Messaging/False/userver",
          "App Definition and Development/ Database/member/vald",
          "Orchestration & Management/ Scheduling & Orchestration/incubating/volcano",
          "Runtime/ Container Runtime/sandbox/virtual-kubelet",
          "App Definition and Development/ Application Definition & Image Build/sandbox/visual-studio-code-kubernetes-tools",
          "App Definition and Development/ Database/graduated/vitess",
          "Provisioning/ Security & Compliance/member/vm-clarity",
          "Provisioning/ Security & Compliance/member/topaz",
          "Runtime/ Cloud Native Storage/sandbox/vineyard",
          "Provisioning/ Automation & Configuration/sandbox/tinkerbell",
          "App Definition and Development/ Database/False/star-rocks",
          "App Definition and Development/ Database/graduated/ti-kv",
          "App Definition and Development/ Database/member/spice-db",
          "Wasm/ Runtimes/False/timecraft",
          "Provisioning/ Key Management/graduated/spire",
          "Provisioning/ Security & Compliance/False/stack-rox",
          "App Definition and Development/ Streaming & Messaging/sandbox/strimzi",
          "Runtime/ Cloud Native Network/sandbox/submariner",
          "Provisioning/ Key Management/graduated/spiffe",
          "App Definition and Development/ Application Definition & Image Build/sandbox/telepresence",
          "Provisioning/ Key Management/sandbox/teller",
          "Provisioning/ Security & Compliance/member/tetragon",
          "Observability and Analysis/ Monitoring/incubating/thanos",
          "Provisioning/ Security & Compliance/graduated/the-update-framework-tuf",
          "Provisioning/ Automation & Configuration/sandbox/super-edge",
          "Orchestration & Management/ Scheduling & Orchestration/sandbox/wasm-cloud",
          "Runtime/ Container Runtime/sandbox/wasm-edge-runtime",
          "Wasm/ Runtimes/sandbox/wasm-edge-wasm",
          "Wasm/ Runtimes/False/wasmer",
          "App Definition and Development/ Database/False/ydb",
          "App Definition and Development/ Database/False/weaviate",
          "App Definition and Development/ Continuous Integration & Delivery/sandbox/werf",
          "Orchestration & Management/ Coordination & Service Discovery/sandbox/xline",
          "Provisioning/ Container Registry/sandbox/zot",
          "App Definition and Development/ Application Definition & Image Build/False",
          "Runtime/ Container Runtime/False",
          "App Definition and Development/ Continuous Integration & Delivery/False",
          "App Definition and Development/ Database/False",
          "Observability and Analysis/ Logging/False",
          "Observability and Analysis/ Monitoring/False",
          "Wasm/ Runtimes/False",
          "Orchestration & Management/ Scheduling & Orchestration/False",
          "Provisioning/ Security & Compliance/False",
          "App Definition and Development/ Streaming & Messaging/False",
          "Platform/Container Service/False",
          "Runtime/ Container Runtime/archived",
          "App Definition and Development/ Continuous Integration & Delivery/archived",
          "Orchestration & Management/ Service Mesh/archived",
          "Observability and Analysis/ Tracing/archived",
          "App Definition and Development/ Application Definition & Image Build/graduated",
          "Runtime/ Cloud Native Network/graduated",
          "Runtime/ Cloud Native Storage/graduated",
          "Provisioning/ Container Registry/graduated",
          "Runtime/ Container Runtime/graduated",
          "App Definition and Development/ Continuous Integration & Delivery/graduated",
          "Orchestration & Management/ Coordination & Service Discovery/graduated",
          "App Definition and Development/ Database/graduated",
          "Serverless/ Installable Platform/graduated",
          "Provisioning/ Key Management/graduated",
          "Observability and Analysis/ Logging/graduated",
          "Observability and Analysis/ Monitoring/graduated",
          "Orchestration & Management/ Scheduling & Orchestration/graduated",
          "Provisioning/ Security & Compliance/graduated",
          "Orchestration & Management/ Service Mesh/graduated",
          "Orchestration & Management/ Service Proxy/graduated",
          "Observability and Analysis/ Tracing/graduated",
          "Orchestration & Management/ API Gateway/incubating",
          "App Definition and Development/ Application Definition & Image Build/incubating",
          "Provisioning/ Automation & Configuration/incubating",
          "Observability and Analysis/ Chaos Engineering/incubating",
          "Runtime/ Cloud Native Network/incubating",
          "Runtime/ Cloud Native Storage/incubating",
          "Provisioning/ Container Registry/incubating",
          "App Definition and Development/ Continuous Integration & Delivery/incubating",
          "Observability and Analysis/ Feature Flagging/incubating",
          "Serverless/ Framework/incubating",
          "Serverless/ Installable Platform/incubating",
          "Observability and Analysis/ Monitoring/incubating",
          "Orchestration & Management/ Remote Procedure Call/incubating",
          "Orchestration & Management/ Scheduling & Orchestration/incubating",
          "Provisioning/ Security & Compliance/incubating",
          "Orchestration & Management/ Service Proxy/incubating",
          "App Definition and Development/ Streaming & Messaging/incubating",
          "Observability and Analysis/ Tracing/incubating",
          "App Definition and Development/ Application Definition & Image Build/member",
          "Platform/ Certified Kubernetes - Hosted/member",
          "Platform/ Certified Kubernetes - Installer/member",
          "App Definition and Development/ Continuous Integration & Delivery/member",
          "App Definition and Development/ Database/member",
          "Observability and Analysis/ Logging/member",
          "Observability and Analysis/ Monitoring/member",
          "Wasm/ Orchestration & Management/member",
          "Orchestration & Management/ Scheduling & Orchestration/member",
          "Provisioning/ Security & Compliance/member",
          "Orchestration & Management/ Service Mesh/member",
          "App Definition and Development/ Streaming & Messaging/member",
          "App Definition and Development/ Application Definition & Image Build/sandbox",
          "Provisioning/ Automation & Configuration/sandbox",
          "Platform/ Certified Kubernetes - Distribution/sandbox",
          "Platform/ Certified Kubernetes - Installer/sandbox",
          "Observability and Analysis/ Chaos Engineering/sandbox",
          "Runtime/ Cloud Native Network/sandbox",
          "Runtime/ Cloud Native Storage/sandbox",
          "Provisioning/ Container Registry/sandbox",
          "Runtime/ Container Runtime/sandbox",
          "App Definition and Development/ Continuous Integration & Delivery/sandbox",
          "Observability and Analysis/ Continuous Optimization/sandbox",
          "Orchestration & Management/ Coordination & Service Discovery/sandbox",
          "App Definition and Development/ Database/sandbox",
          "Serverless/ Installable Platform/sandbox",
          "Provisioning/ Key Management/sandbox",
          "Observability and Analysis/ Monitoring/sandbox",
          "Wasm/ Runtimes/sandbox",
          "Orchestration & Management/ Scheduling & Orchestration/sandbox",
          "Provisioning/ Security & Compliance/sandbox",
          "Orchestration & Management/ Service Mesh/sandbox",
          "Orchestration & Management/ Service Proxy/sandbox",
          "App Definition and Development/ Streaming & Messaging/sandbox",
          "Orchestration & Management/ API Gateway",
          "App Definition and Development/ Application Definition & Image Build",
          "Provisioning/ Automation & Configuration",
          "Platform/ Certified Kubernetes - Distribution",
          "Platform/ Certified Kubernetes - Hosted",
          "Platform/ Certified Kubernetes - Installer",
          "Observability and Analysis/ Chaos Engineering",
          "Runtime/ Cloud Native Network",
          "Runtime/ Cloud Native Storage",
          "Provisioning/ Container Registry",
          "Runtime/ Container Runtime",
          "App Definition and Development/ Continuous Integration & Delivery",
          "Observability and Analysis/ Continuous Optimization",
          "Orchestration & Management/ Coordination & Service Discovery",
          "App Definition and Development/ Database",
          "Observability and Analysis/ Feature Flagging",
          "Serverless/ Framework",
          "Serverless/ Installable Platform",
          "Provisioning/ Key Management",
          "Observability and Analysis/ Logging",
          "Observability and Analysis/ Monitoring",
          "Wasm/ Orchestration & Management",
          "Orchestration & Management/ Remote Procedure Call",
          "Wasm/ Runtimes",
          "Orchestration & Management/ Scheduling & Orchestration",
          "Provisioning/ Security & Compliance",
          "Orchestration & Management/ Service Mesh",
          "Orchestration & Management/ Service Proxy",
          "App Definition and Development/ Streaming & Messaging",
          "Observability and Analysis/ Tracing",
          "Platform/Container Service",
          "App Definition and Development",
          "Observability and Analysis",
          "Orchestration & Management",
          "Platform",
          "Provisioning",
          "Runtime",
          "Serverless",
          "Wasm"
         ],
         "labels": [
          "aeraki-mesh",
          "container-network-interface-cni",
          "container-ssh",
          "containerd",
          "contour",
          "core-dns",
          "cortex",
          "cri-o",
          "crossplane",
          "cube-fs",
          "curiefense",
          "curve",
          "confidential-containers",
          "dapr",
          "dev-space",
          "dev-stream",
          "devfile",
          "dex",
          "distribution",
          "dragonfly",
          "ejbca-community",
          "envoy",
          "eraser",
          "etcd",
          "external-secrets",
          "dapr-serverless",
          "cni-genie",
          "emissary-ingress",
          "clusternet",
          "clusterpedia",
          "akri",
          "antrea",
          "api-clarity",
          "argo",
          "armada",
          "artifact-hub",
          "athenz",
          "backstage",
          "bfe",
          "bouncy-castle",
          "brigade",
          "aserto",
          "bytebase",
          "cloud-events",
          "buildpacks",
          "cilium",
          "chaosblade",
          "chaos-mesh",
          "cert-manager",
          "cloud-custodian",
          "carvel",
          "cartographer",
          "carina",
          "capsule",
          "cdk-for-kubernetes-cdk8s",
          "kcl",
          "in-toto",
          "inclavare-containers",
          "inspektor-gadget",
          "istio",
          "k8gb",
          "k3s",
          "k8up",
          "kapeta",
          "karmada",
          "hwamei-stor",
          "jaeger",
          "hubble",
          "harbor",
          "helm",
          "hexa",
          "falco",
          "flagger",
          "fluentd",
          "fluid",
          "fab-edge",
          "fonio",
          "g-rpc",
          "gefyra",
          "headlamp",
          "flux",
          "kube-vip",
          "kube-edge",
          "kube-green",
          "kube-linter",
          "kube-ovn",
          "kube-rs",
          "kube-sphere-qke",
          "kube-vela",
          "kubeflow",
          "kudo",
          "kuberhealthy",
          "kubernetes",
          "kubescape",
          "kubewarden",
          "kuma",
          "kured",
          "kyverno",
          "lima",
          "kube-dl",
          "kubekey",
          "kube-clipper",
          "kube-virt",
          "kube-armor",
          "kube-clarity",
          "kcp",
          "keda-serverless",
          "kepler",
          "keptn",
          "kestra",
          "keycloak",
          "keylime",
          "kics",
          "knative",
          "keda",
          "ko",
          "konveyor",
          "koperator",
          "kpt",
          "krator",
          "krustlet",
          "knative-serverless",
          "krustlet-wasm",
          "kuasar",
          "memphis",
          "longhorn",
          "linkerd",
          "liquibase",
          "litmus",
          "qdrant",
          "prometheus",
          "pravega",
          "porter",
          "pixie",
          "operator-framework",
          "pipe-cd",
          "parseable",
          "paralus",
          "oras",
          "quarkus",
          "piraeus-datastore",
          "rkt",
          "skooner",
          "rudder",
          "schema-hero",
          "sealer",
          "secure-code-box",
          "serverless-devs",
          "serverless-workflow",
          "service-mesh-interface-smi",
          "service-mesh-performance",
          "sidekick",
          "sigstore",
          "open-yurt",
          "slim-toolkit",
          "sops",
          "rook",
          "open-tracing",
          "parsec",
          "open-service-mesh",
          "open-telemetry",
          "merbridge",
          "meshery",
          "meshery-wasm",
          "metal",
          "metal-lb",
          "microcks",
          "mirrord",
          "nasp",
          "nats",
          "network-service-mesh",
          "nocalhost",
          "notary",
          "micrometer",
          "open-cost",
          "open-cluster-management",
          "open-policy-containers",
          "open-policy-agent-opa",
          "open-metrics",
          "open-search",
          "open-git-ops",
          "open-kruise",
          "open-function",
          "open-fga",
          "open-feature",
          "open-elb",
          "open-ebs",
          "open-function-serverless",
          "traefik-mesh",
          "tremor",
          "trickster",
          "unleash",
          "userver",
          "vald",
          "volcano",
          "virtual-kubelet",
          "visual-studio-code-kubernetes-tools",
          "vitess",
          "vm-clarity",
          "topaz",
          "vineyard",
          "tinkerbell",
          "star-rocks",
          "ti-kv",
          "spice-db",
          "timecraft",
          "spire",
          "stack-rox",
          "strimzi",
          "submariner",
          "spiffe",
          "telepresence",
          "teller",
          "tetragon",
          "thanos",
          "the-update-framework-tuf",
          "super-edge",
          "wasm-cloud",
          "wasm-edge-runtime",
          "wasm-edge-wasm",
          "wasmer",
          "ydb",
          "weaviate",
          "werf",
          "xline",
          "zot",
          "False",
          "False",
          "False",
          "False",
          "False",
          "False",
          "False",
          "False",
          "False",
          "False",
          "False",
          "archived",
          "archived",
          "archived",
          "archived",
          "graduated",
          "graduated",
          "graduated",
          "graduated",
          "graduated",
          "graduated",
          "graduated",
          "graduated",
          "graduated",
          "graduated",
          "graduated",
          "graduated",
          "graduated",
          "graduated",
          "graduated",
          "graduated",
          "graduated",
          "incubating",
          "incubating",
          "incubating",
          "incubating",
          "incubating",
          "incubating",
          "incubating",
          "incubating",
          "incubating",
          "incubating",
          "incubating",
          "incubating",
          "incubating",
          "incubating",
          "incubating",
          "incubating",
          "incubating",
          "incubating",
          "member",
          "member",
          "member",
          "member",
          "member",
          "member",
          "member",
          "member",
          "member",
          "member",
          "member",
          "member",
          "sandbox",
          "sandbox",
          "sandbox",
          "sandbox",
          "sandbox",
          "sandbox",
          "sandbox",
          "sandbox",
          "sandbox",
          "sandbox",
          "sandbox",
          "sandbox",
          "sandbox",
          "sandbox",
          "sandbox",
          "sandbox",
          "sandbox",
          "sandbox",
          "sandbox",
          "sandbox",
          "sandbox",
          "sandbox",
          " API Gateway",
          " Application Definition & Image Build",
          " Automation & Configuration",
          " Certified Kubernetes - Distribution",
          " Certified Kubernetes - Hosted",
          " Certified Kubernetes - Installer",
          " Chaos Engineering",
          " Cloud Native Network",
          " Cloud Native Storage",
          " Container Registry",
          " Container Runtime",
          " Continuous Integration & Delivery",
          " Continuous Optimization",
          " Coordination & Service Discovery",
          " Database",
          " Feature Flagging",
          " Framework",
          " Installable Platform",
          " Key Management",
          " Logging",
          " Monitoring",
          " Orchestration & Management",
          " Remote Procedure Call",
          " Runtimes",
          " Scheduling & Orchestration",
          " Security & Compliance",
          " Service Mesh",
          " Service Proxy",
          " Streaming & Messaging",
          " Tracing",
          "Container Service",
          "App Definition and Development",
          "Observability and Analysis",
          "Orchestration & Management",
          "Platform",
          "Provisioning",
          "Runtime",
          "Serverless",
          "Wasm"
         ],
         "marker": {
          "colors": [
           "#bc5090",
           "#2f4b7c",
           "#ffa600",
           "#2f4b7c",
           "#bc5090",
           "#bc5090",
           "#58508d",
           "#2f4b7c",
           "#bc5090",
           "#2f4b7c",
           "#ffa600",
           "#2f4b7c",
           "#ffa600",
           "#003f5c",
           "#003f5c",
           "#ffa600",
           "#003f5c",
           "#ffa600",
           "#ffa600",
           "#ffa600",
           "#ffa600",
           "#bc5090",
           "#bc5090",
           "#bc5090",
           "#ffa600",
           "#665191",
           "#2f4b7c",
           "#bc5090",
           "#bc5090",
           "#bc5090",
           "#ffa600",
           "#2f4b7c",
           "#ffa600",
           "#003f5c",
           "#bc5090",
           "#003f5c",
           "#ffa600",
           "#003f5c",
           "#bc5090",
           "#ffa600",
           "#003f5c",
           "#ffa600",
           "#003f5c",
           "#003f5c",
           "#003f5c",
           "#2f4b7c",
           "#58508d",
           "#58508d",
           "#ffa600",
           "#ffa600",
           "#003f5c",
           "#003f5c",
           "#2f4b7c",
           "#bc5090",
           "#ffa600",
           "#ffa600",
           "#ffa600",
           "#2f4b7c",
           "#58508d",
           "#bc5090",
           "#bc5090",
           "#ff6361",
           "#2f4b7c",
           "#ff6361",
           "#bc5090",
           "#2f4b7c",
           "#58508d",
           "#58508d",
           "#ffa600",
           "#003f5c",
           "#ffa600",
           "#ffa600",
           "#003f5c",
           "#58508d",
           "#bc5090",
           "#2f4b7c",
           "#58508d",
           "#bc5090",
           "#003f5c",
           "#58508d",
           "#003f5c",
           "#2f4b7c",
           "#ffa600",
           "#bc5090",
           "#ffa600",
           "#2f4b7c",
           "#bc5090",
           "#ff6361",
           "#003f5c",
           "#bc5090",
           "#003f5c",
           "#58508d",
           "#bc5090",
           "#ffa600",
           "#ffa600",
           "#bc5090",
           "#bc5090",
           "#ffa600",
           "#2f4b7c",
           "#ffa600",
           "#ff6361",
           "#ff6361",
           "#003f5c",
           "#ffa600",
           "#ffa600",
           "#bc5090",
           "#665191",
           "#58508d",
           "#003f5c",
           "#bc5090",
           "#ffa600",
           "#ffa600",
           "#ffa600",
           "#bc5090",
           "#bc5090",
           "#003f5c",
           "#003f5c",
           "#003f5c",
           "#ffa600",
           "#003f5c",
           "#2f4b7c",
           "#665191",
           "#B6E880",
           "#2f4b7c",
           "#003f5c",
           "#2f4b7c",
           "#bc5090",
           "#003f5c",
           "#58508d",
           "#003f5c",
           "#58508d",
           "#003f5c",
           "#003f5c",
           "#58508d",
           "#003f5c",
           "#003f5c",
           "#58508d",
           "#ffa600",
           "#2f4b7c",
           "#003f5c",
           "#2f4b7c",
           "#2f4b7c",
           "#58508d",
           "#ffa600",
           "#003f5c",
           "#003f5c",
           "#ffa600",
           "#bc5090",
           "#003f5c",
           "#bc5090",
           "#bc5090",
           "#58508d",
           "#ffa600",
           "#ffa600",
           "#ffa600",
           "#ffa600",
           "#2f4b7c",
           "#58508d",
           "#ffa600",
           "#bc5090",
           "#58508d",
           "#bc5090",
           "#ffa600",
           "#B6E880",
           "#ffa600",
           "#bc5090",
           "#003f5c",
           "#003f5c",
           "#bc5090",
           "#003f5c",
           "#2f4b7c",
           "#003f5c",
           "#ffa600",
           "#58508d",
           "#58508d",
           "#bc5090",
           "#ffa600",
           "#ffa600",
           "#58508d",
           "#58508d",
           "#003f5c",
           "#003f5c",
           "#bc5090",
           "#ffa600",
           "#58508d",
           "#bc5090",
           "#2f4b7c",
           "#665191",
           "#bc5090",
           "#003f5c",
           "#58508d",
           "#003f5c",
           "#003f5c",
           "#003f5c",
           "#bc5090",
           "#2f4b7c",
           "#003f5c",
           "#003f5c",
           "#ffa600",
           "#ffa600",
           "#2f4b7c",
           "#ffa600",
           "#003f5c",
           "#003f5c",
           "#003f5c",
           "#B6E880",
           "#ffa600",
           "#ffa600",
           "#003f5c",
           "#2f4b7c",
           "#ffa600",
           "#003f5c",
           "#ffa600",
           "#ffa600",
           "#58508d",
           "#ffa600",
           "#ffa600",
           "#bc5090",
           "#2f4b7c",
           "#B6E880",
           "#B6E880",
           "#003f5c",
           "#003f5c",
           "#003f5c",
           "#bc5090",
           "#ffa600",
           "#003f5c",
           "#2f4b7c",
           "#003f5c",
           "#003f5c",
           "#58508d",
           "#58508d",
           "#B6E880",
           "#bc5090",
           "#ffa600",
           "#003f5c",
           "#ff6361",
           "#2f4b7c",
           "#003f5c",
           "#bc5090",
           "#58508d",
           "#003f5c",
           "#2f4b7c",
           "#2f4b7c",
           "#ffa600",
           "#2f4b7c",
           "#003f5c",
           "#bc5090",
           "#003f5c",
           "#665191",
           "#ffa600",
           "#58508d",
           "#58508d",
           "#bc5090",
           "#ffa600",
           "#bc5090",
           "#bc5090",
           "#58508d",
           "#bc5090",
           "#003f5c",
           "#ffa600",
           "#58508d",
           "#2f4b7c",
           "#2f4b7c",
           "#ffa600",
           "#003f5c",
           "#58508d",
           "#665191",
           "#665191",
           "#58508d",
           "#bc5090",
           "#bc5090",
           "#ffa600",
           "#bc5090",
           "#003f5c",
           "#58508d",
           "#003f5c",
           "#ff6361",
           "#ff6361",
           "#003f5c",
           "#003f5c",
           "#58508d",
           "#58508d",
           "#B6E880",
           "#bc5090",
           "#ffa600",
           "#bc5090",
           "#003f5c",
           "#003f5c",
           "#ffa600",
           "#ff6361",
           "#ff6361",
           "#58508d",
           "#2f4b7c",
           "#2f4b7c",
           "#ffa600",
           "#2f4b7c",
           "#003f5c",
           "#58508d",
           "#bc5090",
           "#003f5c",
           "#665191",
           "#ffa600",
           "#58508d",
           "#B6E880",
           "#bc5090",
           "#ffa600",
           "#bc5090",
           "#bc5090",
           "#003f5c",
           "#bc5090",
           "#003f5c",
           "#ffa600",
           "#ff6361",
           "#ff6361",
           "#ff6361",
           "#58508d",
           "#2f4b7c",
           "#2f4b7c",
           "#ffa600",
           "#2f4b7c",
           "#003f5c",
           "#58508d",
           "#bc5090",
           "#003f5c",
           "#58508d",
           "#665191",
           "#665191",
           "#ffa600",
           "#58508d",
           "#58508d",
           "#B6E880",
           "#bc5090",
           "#B6E880",
           "#bc5090",
           "#ffa600",
           "#bc5090",
           "#bc5090",
           "#003f5c",
           "#58508d",
           "#ff6361",
           "#003f5c",
           "#58508d",
           "#bc5090",
           "#ff6361",
           "#ffa600",
           "#2f4b7c",
           "#665191",
           "#B6E880"
          ]
         },
         "name": "",
         "parents": [
          "Orchestration & Management/ Service Mesh/sandbox",
          "Runtime/ Cloud Native Network/incubating",
          "Provisioning/ Security & Compliance/sandbox",
          "Runtime/ Container Runtime/graduated",
          "Orchestration & Management/ Service Proxy/incubating",
          "Orchestration & Management/ Coordination & Service Discovery/graduated",
          "Observability and Analysis/ Monitoring/incubating",
          "Runtime/ Container Runtime/graduated",
          "Orchestration & Management/ Scheduling & Orchestration/incubating",
          "Runtime/ Cloud Native Storage/incubating",
          "Provisioning/ Security & Compliance/sandbox",
          "Runtime/ Cloud Native Storage/sandbox",
          "Provisioning/ Security & Compliance/sandbox",
          "App Definition and Development/ Application Definition & Image Build/incubating",
          "App Definition and Development/ Application Definition & Image Build/sandbox",
          "Provisioning/ Automation & Configuration/sandbox",
          "App Definition and Development/ Application Definition & Image Build/sandbox",
          "Provisioning/ Security & Compliance/sandbox",
          "Provisioning/ Container Registry/sandbox",
          "Provisioning/ Container Registry/incubating",
          "Provisioning/ Security & Compliance/member",
          "Orchestration & Management/ Service Proxy/graduated",
          "Orchestration & Management/ Scheduling & Orchestration/sandbox",
          "Orchestration & Management/ Coordination & Service Discovery/graduated",
          "Provisioning/ Security & Compliance/sandbox",
          "Serverless/ Framework/incubating",
          "Runtime/ Cloud Native Network/sandbox",
          "Orchestration & Management/ API Gateway/incubating",
          "Orchestration & Management/ Scheduling & Orchestration/sandbox",
          "Orchestration & Management/ Scheduling & Orchestration/sandbox",
          "Provisioning/ Automation & Configuration/sandbox",
          "Runtime/ Cloud Native Network/sandbox",
          "Provisioning/ Security & Compliance/member",
          "App Definition and Development/ Continuous Integration & Delivery/graduated",
          "Orchestration & Management/ Scheduling & Orchestration/sandbox",
          "App Definition and Development/ Application Definition & Image Build/sandbox",
          "Provisioning/ Key Management/sandbox",
          "App Definition and Development/ Application Definition & Image Build/incubating",
          "Orchestration & Management/ Service Proxy/sandbox",
          "Provisioning/ Security & Compliance/member",
          "App Definition and Development/ Continuous Integration & Delivery/archived",
          "Provisioning/ Security & Compliance/member",
          "App Definition and Development/ Continuous Integration & Delivery/False",
          "App Definition and Development/ Streaming & Messaging/incubating",
          "App Definition and Development/ Application Definition & Image Build/incubating",
          "Runtime/ Cloud Native Network/graduated",
          "Observability and Analysis/ Chaos Engineering/sandbox",
          "Observability and Analysis/ Chaos Engineering/incubating",
          "Provisioning/ Security & Compliance/incubating",
          "Provisioning/ Automation & Configuration/incubating",
          "App Definition and Development/ Application Definition & Image Build/sandbox",
          "App Definition and Development/ Continuous Integration & Delivery/member",
          "Runtime/ Cloud Native Storage/sandbox",
          "Orchestration & Management/ Scheduling & Orchestration/sandbox",
          "Provisioning/ Automation & Configuration/sandbox",
          "Provisioning/ Automation & Configuration/sandbox",
          "Provisioning/ Security & Compliance/incubating",
          "Runtime/ Container Runtime/sandbox",
          "Observability and Analysis/ Monitoring/sandbox",
          "Orchestration & Management/ Service Mesh/graduated",
          "Orchestration & Management/ Coordination & Service Discovery/sandbox",
          "Platform/ Certified Kubernetes - Distribution/sandbox",
          "Runtime/ Cloud Native Storage/sandbox",
          "Platform/Container Service/False",
          "Orchestration & Management/ Scheduling & Orchestration/sandbox",
          "Runtime/ Cloud Native Storage/sandbox",
          "Observability and Analysis/ Tracing/graduated",
          "Observability and Analysis/ Monitoring/member",
          "Provisioning/ Container Registry/graduated",
          "App Definition and Development/ Application Definition & Image Build/graduated",
          "Provisioning/ Security & Compliance/sandbox",
          "Provisioning/ Security & Compliance/incubating",
          "App Definition and Development/ Continuous Integration & Delivery/member",
          "Observability and Analysis/ Logging/graduated",
          "Orchestration & Management/ Scheduling & Orchestration/sandbox",
          "Runtime/ Cloud Native Network/sandbox",
          "Observability and Analysis/ Monitoring/sandbox",
          "Orchestration & Management/ Remote Procedure Call/incubating",
          "App Definition and Development/ Application Definition & Image Build/False",
          "Observability and Analysis/ Monitoring/sandbox",
          "App Definition and Development/ Continuous Integration & Delivery/graduated",
          "Runtime/ Cloud Native Network/sandbox",
          "Provisioning/ Automation & Configuration/incubating",
          "Orchestration & Management/ Scheduling & Orchestration/member",
          "Provisioning/ Security & Compliance/member",
          "Runtime/ Cloud Native Network/sandbox",
          "Orchestration & Management/ Scheduling & Orchestration/sandbox",
          "Platform/ Certified Kubernetes - Hosted/member",
          "App Definition and Development/ Application Definition & Image Build/incubating",
          "Orchestration & Management/ Scheduling & Orchestration/incubating",
          "App Definition and Development/ Application Definition & Image Build/sandbox",
          "Observability and Analysis/ Monitoring/sandbox",
          "Orchestration & Management/ Scheduling & Orchestration/graduated",
          "Provisioning/ Security & Compliance/sandbox",
          "Provisioning/ Security & Compliance/sandbox",
          "Orchestration & Management/ Service Mesh/sandbox",
          "Orchestration & Management/ Scheduling & Orchestration/sandbox",
          "Provisioning/ Security & Compliance/incubating",
          "Runtime/ Container Runtime/sandbox",
          "Provisioning/ Automation & Configuration/sandbox",
          "Platform/ Certified Kubernetes - Installer/member",
          "Platform/ Certified Kubernetes - Installer/sandbox",
          "App Definition and Development/ Application Definition & Image Build/incubating",
          "Provisioning/ Security & Compliance/sandbox",
          "Provisioning/ Security & Compliance/member",
          "Orchestration & Management/ Scheduling & Orchestration/sandbox",
          "Serverless/ Installable Platform/graduated",
          "Observability and Analysis/ Monitoring/sandbox",
          "App Definition and Development/ Continuous Integration & Delivery/incubating",
          "Orchestration & Management/ Scheduling & Orchestration/False",
          "Provisioning/ Security & Compliance/incubating",
          "Provisioning/ Security & Compliance/sandbox",
          "Provisioning/ Security & Compliance/False",
          "Orchestration & Management/ Scheduling & Orchestration/incubating",
          "Orchestration & Management/ Scheduling & Orchestration/graduated",
          "App Definition and Development/ Application Definition & Image Build/sandbox",
          "App Definition and Development/ Application Definition & Image Build/sandbox",
          "App Definition and Development/ Streaming & Messaging/member",
          "Provisioning/ Automation & Configuration/sandbox",
          "App Definition and Development/ Application Definition & Image Build/sandbox",
          "Runtime/ Container Runtime/sandbox",
          "Serverless/ Installable Platform/incubating",
          "Wasm/ Runtimes/sandbox",
          "Runtime/ Container Runtime/False",
          "App Definition and Development/ Streaming & Messaging/member",
          "Runtime/ Cloud Native Storage/incubating",
          "Orchestration & Management/ Service Mesh/graduated",
          "App Definition and Development/ Continuous Integration & Delivery/False",
          "Observability and Analysis/ Chaos Engineering/incubating",
          "App Definition and Development/ Database/False",
          "Observability and Analysis/ Monitoring/graduated",
          "App Definition and Development/ Streaming & Messaging/sandbox",
          "App Definition and Development/ Application Definition & Image Build/sandbox",
          "Observability and Analysis/ Monitoring/sandbox",
          "App Definition and Development/ Application Definition & Image Build/incubating",
          "App Definition and Development/ Continuous Integration & Delivery/sandbox",
          "Observability and Analysis/ Logging/False",
          "Provisioning/ Security & Compliance/sandbox",
          "Runtime/ Cloud Native Storage/sandbox",
          "App Definition and Development/ Application Definition & Image Build/member",
          "Runtime/ Cloud Native Storage/sandbox",
          "Runtime/ Container Runtime/archived",
          "Observability and Analysis/ Monitoring/sandbox",
          "Provisioning/ Security & Compliance/False",
          "App Definition and Development/ Database/sandbox",
          "App Definition and Development/ Application Definition & Image Build/sandbox",
          "Provisioning/ Security & Compliance/False",
          "Orchestration & Management/ Scheduling & Orchestration/sandbox",
          "App Definition and Development/ Application Definition & Image Build/sandbox",
          "Orchestration & Management/ Service Mesh/archived",
          "Orchestration & Management/ Service Mesh/sandbox",
          "Observability and Analysis/ Monitoring/False",
          "Provisioning/ Security & Compliance/False",
          "Provisioning/ Automation & Configuration/sandbox",
          "Provisioning/ Security & Compliance/sandbox",
          "Provisioning/ Security & Compliance/sandbox",
          "Runtime/ Cloud Native Storage/graduated",
          "Observability and Analysis/ Tracing/archived",
          "Provisioning/ Security & Compliance/sandbox",
          "Orchestration & Management/ Service Mesh/archived",
          "Observability and Analysis/ Tracing/incubating",
          "Orchestration & Management/ Service Mesh/sandbox",
          "Provisioning/ Automation & Configuration/sandbox",
          "Wasm/ Orchestration & Management/member",
          "Provisioning/ Automation & Configuration/sandbox",
          "Orchestration & Management/ Service Proxy/sandbox",
          "App Definition and Development/ Application Definition & Image Build/sandbox",
          "App Definition and Development/ Application Definition & Image Build/False",
          "Orchestration & Management/ Service Mesh/member",
          "App Definition and Development/ Streaming & Messaging/incubating",
          "Runtime/ Cloud Native Network/sandbox",
          "App Definition and Development/ Application Definition & Image Build/sandbox",
          "Provisioning/ Security & Compliance/incubating",
          "Observability and Analysis/ Monitoring/member",
          "Observability and Analysis/ Continuous Optimization/sandbox",
          "Orchestration & Management/ Scheduling & Orchestration/sandbox",
          "Provisioning/ Security & Compliance/sandbox",
          "Provisioning/ Security & Compliance/graduated",
          "Observability and Analysis/ Monitoring/incubating",
          "Observability and Analysis/ Logging/member",
          "App Definition and Development/ Continuous Integration & Delivery/sandbox",
          "App Definition and Development/ Continuous Integration & Delivery/incubating",
          "Orchestration & Management/ Scheduling & Orchestration/sandbox",
          "Provisioning/ Security & Compliance/sandbox",
          "Observability and Analysis/ Feature Flagging/incubating",
          "Orchestration & Management/ Service Proxy/sandbox",
          "Runtime/ Cloud Native Storage/sandbox",
          "Serverless/ Installable Platform/sandbox",
          "Orchestration & Management/ Service Mesh/member",
          "App Definition and Development/ Streaming & Messaging/sandbox",
          "Observability and Analysis/ Monitoring/sandbox",
          "App Definition and Development/ Continuous Integration & Delivery/False",
          "App Definition and Development/ Streaming & Messaging/False",
          "App Definition and Development/ Database/member",
          "Orchestration & Management/ Scheduling & Orchestration/incubating",
          "Runtime/ Container Runtime/sandbox",
          "App Definition and Development/ Application Definition & Image Build/sandbox",
          "App Definition and Development/ Database/graduated",
          "Provisioning/ Security & Compliance/member",
          "Provisioning/ Security & Compliance/member",
          "Runtime/ Cloud Native Storage/sandbox",
          "Provisioning/ Automation & Configuration/sandbox",
          "App Definition and Development/ Database/False",
          "App Definition and Development/ Database/graduated",
          "App Definition and Development/ Database/member",
          "Wasm/ Runtimes/False",
          "Provisioning/ Key Management/graduated",
          "Provisioning/ Security & Compliance/False",
          "App Definition and Development/ Streaming & Messaging/sandbox",
          "Runtime/ Cloud Native Network/sandbox",
          "Provisioning/ Key Management/graduated",
          "App Definition and Development/ Application Definition & Image Build/sandbox",
          "Provisioning/ Key Management/sandbox",
          "Provisioning/ Security & Compliance/member",
          "Observability and Analysis/ Monitoring/incubating",
          "Provisioning/ Security & Compliance/graduated",
          "Provisioning/ Automation & Configuration/sandbox",
          "Orchestration & Management/ Scheduling & Orchestration/sandbox",
          "Runtime/ Container Runtime/sandbox",
          "Wasm/ Runtimes/sandbox",
          "Wasm/ Runtimes/False",
          "App Definition and Development/ Database/False",
          "App Definition and Development/ Database/False",
          "App Definition and Development/ Continuous Integration & Delivery/sandbox",
          "Orchestration & Management/ Coordination & Service Discovery/sandbox",
          "Provisioning/ Container Registry/sandbox",
          "App Definition and Development/ Application Definition & Image Build",
          "Runtime/ Container Runtime",
          "App Definition and Development/ Continuous Integration & Delivery",
          "App Definition and Development/ Database",
          "Observability and Analysis/ Logging",
          "Observability and Analysis/ Monitoring",
          "Wasm/ Runtimes",
          "Orchestration & Management/ Scheduling & Orchestration",
          "Provisioning/ Security & Compliance",
          "App Definition and Development/ Streaming & Messaging",
          "Platform/Container Service",
          "Runtime/ Container Runtime",
          "App Definition and Development/ Continuous Integration & Delivery",
          "Orchestration & Management/ Service Mesh",
          "Observability and Analysis/ Tracing",
          "App Definition and Development/ Application Definition & Image Build",
          "Runtime/ Cloud Native Network",
          "Runtime/ Cloud Native Storage",
          "Provisioning/ Container Registry",
          "Runtime/ Container Runtime",
          "App Definition and Development/ Continuous Integration & Delivery",
          "Orchestration & Management/ Coordination & Service Discovery",
          "App Definition and Development/ Database",
          "Serverless/ Installable Platform",
          "Provisioning/ Key Management",
          "Observability and Analysis/ Logging",
          "Observability and Analysis/ Monitoring",
          "Orchestration & Management/ Scheduling & Orchestration",
          "Provisioning/ Security & Compliance",
          "Orchestration & Management/ Service Mesh",
          "Orchestration & Management/ Service Proxy",
          "Observability and Analysis/ Tracing",
          "Orchestration & Management/ API Gateway",
          "App Definition and Development/ Application Definition & Image Build",
          "Provisioning/ Automation & Configuration",
          "Observability and Analysis/ Chaos Engineering",
          "Runtime/ Cloud Native Network",
          "Runtime/ Cloud Native Storage",
          "Provisioning/ Container Registry",
          "App Definition and Development/ Continuous Integration & Delivery",
          "Observability and Analysis/ Feature Flagging",
          "Serverless/ Framework",
          "Serverless/ Installable Platform",
          "Observability and Analysis/ Monitoring",
          "Orchestration & Management/ Remote Procedure Call",
          "Orchestration & Management/ Scheduling & Orchestration",
          "Provisioning/ Security & Compliance",
          "Orchestration & Management/ Service Proxy",
          "App Definition and Development/ Streaming & Messaging",
          "Observability and Analysis/ Tracing",
          "App Definition and Development/ Application Definition & Image Build",
          "Platform/ Certified Kubernetes - Hosted",
          "Platform/ Certified Kubernetes - Installer",
          "App Definition and Development/ Continuous Integration & Delivery",
          "App Definition and Development/ Database",
          "Observability and Analysis/ Logging",
          "Observability and Analysis/ Monitoring",
          "Wasm/ Orchestration & Management",
          "Orchestration & Management/ Scheduling & Orchestration",
          "Provisioning/ Security & Compliance",
          "Orchestration & Management/ Service Mesh",
          "App Definition and Development/ Streaming & Messaging",
          "App Definition and Development/ Application Definition & Image Build",
          "Provisioning/ Automation & Configuration",
          "Platform/ Certified Kubernetes - Distribution",
          "Platform/ Certified Kubernetes - Installer",
          "Observability and Analysis/ Chaos Engineering",
          "Runtime/ Cloud Native Network",
          "Runtime/ Cloud Native Storage",
          "Provisioning/ Container Registry",
          "Runtime/ Container Runtime",
          "App Definition and Development/ Continuous Integration & Delivery",
          "Observability and Analysis/ Continuous Optimization",
          "Orchestration & Management/ Coordination & Service Discovery",
          "App Definition and Development/ Database",
          "Serverless/ Installable Platform",
          "Provisioning/ Key Management",
          "Observability and Analysis/ Monitoring",
          "Wasm/ Runtimes",
          "Orchestration & Management/ Scheduling & Orchestration",
          "Provisioning/ Security & Compliance",
          "Orchestration & Management/ Service Mesh",
          "Orchestration & Management/ Service Proxy",
          "App Definition and Development/ Streaming & Messaging",
          "Orchestration & Management",
          "App Definition and Development",
          "Provisioning",
          "Platform",
          "Platform",
          "Platform",
          "Observability and Analysis",
          "Runtime",
          "Runtime",
          "Provisioning",
          "Runtime",
          "App Definition and Development",
          "Observability and Analysis",
          "Orchestration & Management",
          "App Definition and Development",
          "Observability and Analysis",
          "Serverless",
          "Serverless",
          "Provisioning",
          "Observability and Analysis",
          "Observability and Analysis",
          "Wasm",
          "Orchestration & Management",
          "Wasm",
          "Orchestration & Management",
          "Provisioning",
          "Orchestration & Management",
          "Orchestration & Management",
          "App Definition and Development",
          "Observability and Analysis",
          "Platform",
          "",
          "",
          "",
          "",
          "",
          "",
          "",
          ""
         ],
         "type": "sunburst",
         "values": [
          694,
          5031,
          2410,
          14857,
          3503,
          11071,
          5211,
          4754,
          7516,
          3706,
          668,
          2045,
          70,
          22320,
          99,
          815,
          192,
          8440,
          7856,
          1614,
          343,
          22759,
          246,
          44537,
          3102,
          22320,
          516,
          4149,
          1228,
          654,
          996,
          1528,
          417,
          14145,
          356,
          1364,
          803,
          23285,
          5946,
          2036,
          2390,
          23,
          6863,
          6396,
          2139,
          16516,
          5501,
          5951,
          10730,
          4951,
          1477,
          427,
          631,
          1292,
          3818,
          808,
          763,
          556,
          1579,
          33694,
          642,
          24517,
          453,
          23,
          3532,
          439,
          18318,
          2862,
          20890,
          24953,
          74,
          6313,
          4419,
          12199,
          1405,
          499,
          407,
          39066,
          550,
          1157,
          5300,
          1444,
          6058,
          684,
          2455,
          1675,
          2348,
          28,
          5598,
          12992,
          1127,
          1790,
          101881,
          8887,
          146,
          3286,
          1930,
          4402,
          12610,
          445,
          1812,
          223,
          4529,
          832,
          1080,
          2148,
          6831,
          637,
          1800,
          4929,
          17472,
          350,
          1708,
          5113,
          6831,
          6328,
          18,
          730,
          1546,
          133,
          3486,
          5113,
          3486,
          894,
          2883,
          5715,
          9881,
          4062,
          3830,
          12977,
          49987,
          1910,
          1053,
          4867,
          6706,
          830,
          1398,
          834,
          1069,
          12421,
          294,
          8838,
          1161,
          454,
          843,
          1921,
          638,
          1561,
          620,
          1045,
          259,
          1659,
          395,
          1553,
          17269,
          13823,
          11830,
          3481,
          423,
          2589,
          1652,
          666,
          3660,
          3660,
          463,
          6095,
          940,
          2949,
          24,
          24451,
          8,
          1681,
          214,
          4112,
          4107,
          228,
          168,
          8496,
          2149,
          7592,
          728,
          4081,
          1266,
          1487,
          375,
          1423,
          8321,
          1266,
          1915,
          774,
          1908,
          9122,
          1989,
          1416,
          3339,
          3915,
          627,
          16897,
          59,
          721,
          751,
          812,
          5428,
          13617,
          3856,
          300,
          1392,
          1041,
          4720,
          2211,
          1213,
          6022,
          1844,
          2595,
          12103,
          1541,
          959,
          2215,
          6674,
          6674,
          16300,
          3050,
          7601,
          3760,
          336,
          484,
          3499,
          894,
          20047,
          29056,
          1398,
          1659,
          16600,
          4929,
          4236,
          1989,
          23,
          8838,
          2390,
          3634,
          3481,
          24953,
          16516,
          11830,
          20890,
          19611,
          19445,
          55608,
          30514,
          6831,
          2605,
          12199,
          49987,
          108712,
          10037,
          43575,
          22759,
          18318,
          4149,
          64577,
          11009,
          9781,
          5031,
          9421,
          1614,
          5881,
          375,
          22320,
          5113,
          19463,
          39066,
          28960,
          39894,
          3503,
          30847,
          1652,
          12421,
          28,
          1812,
          4846,
          5272,
          7592,
          6974,
          3660,
          684,
          9729,
          1939,
          3613,
          23602,
          15875,
          24517,
          223,
          5501,
          7881,
          14003,
          8340,
          27241,
          5318,
          4107,
          978,
          843,
          1266,
          2647,
          13506,
          10160,
          20409,
          58983,
          4905,
          13464,
          7404,
          4149,
          129052,
          26884,
          24517,
          28,
          2035,
          15282,
          29428,
          35254,
          30844,
          56584,
          57927,
          4107,
          56586,
          65685,
          375,
          22320,
          13210,
          5252,
          21189,
          91589,
          3660,
          39066,
          26760,
          163694,
          122879,
          54053,
          39726,
          43853,
          23451,
          23,
          296517,
          155993,
          357274,
          26603,
          185859,
          121266,
          35530,
          30420
         ]
        }
       ],
       "layout": {
        "height": 1200,
        "legend": {
         "tracegroupgap": 0
        },
        "template": {
         "data": {
          "bar": [
           {
            "error_x": {
             "color": "#2a3f5f"
            },
            "error_y": {
             "color": "#2a3f5f"
            },
            "marker": {
             "line": {
              "color": "#E5ECF6",
              "width": 0.5
             },
             "pattern": {
              "fillmode": "overlay",
              "size": 10,
              "solidity": 0.2
             }
            },
            "type": "bar"
           }
          ],
          "barpolar": [
           {
            "marker": {
             "line": {
              "color": "#E5ECF6",
              "width": 0.5
             },
             "pattern": {
              "fillmode": "overlay",
              "size": 10,
              "solidity": 0.2
             }
            },
            "type": "barpolar"
           }
          ],
          "carpet": [
           {
            "aaxis": {
             "endlinecolor": "#2a3f5f",
             "gridcolor": "white",
             "linecolor": "white",
             "minorgridcolor": "white",
             "startlinecolor": "#2a3f5f"
            },
            "baxis": {
             "endlinecolor": "#2a3f5f",
             "gridcolor": "white",
             "linecolor": "white",
             "minorgridcolor": "white",
             "startlinecolor": "#2a3f5f"
            },
            "type": "carpet"
           }
          ],
          "choropleth": [
           {
            "colorbar": {
             "outlinewidth": 0,
             "ticks": ""
            },
            "type": "choropleth"
           }
          ],
          "contour": [
           {
            "colorbar": {
             "outlinewidth": 0,
             "ticks": ""
            },
            "colorscale": [
             [
              0,
              "#0d0887"
             ],
             [
              0.1111111111111111,
              "#46039f"
             ],
             [
              0.2222222222222222,
              "#7201a8"
             ],
             [
              0.3333333333333333,
              "#9c179e"
             ],
             [
              0.4444444444444444,
              "#bd3786"
             ],
             [
              0.5555555555555556,
              "#d8576b"
             ],
             [
              0.6666666666666666,
              "#ed7953"
             ],
             [
              0.7777777777777778,
              "#fb9f3a"
             ],
             [
              0.8888888888888888,
              "#fdca26"
             ],
             [
              1,
              "#f0f921"
             ]
            ],
            "type": "contour"
           }
          ],
          "contourcarpet": [
           {
            "colorbar": {
             "outlinewidth": 0,
             "ticks": ""
            },
            "type": "contourcarpet"
           }
          ],
          "heatmap": [
           {
            "colorbar": {
             "outlinewidth": 0,
             "ticks": ""
            },
            "colorscale": [
             [
              0,
              "#0d0887"
             ],
             [
              0.1111111111111111,
              "#46039f"
             ],
             [
              0.2222222222222222,
              "#7201a8"
             ],
             [
              0.3333333333333333,
              "#9c179e"
             ],
             [
              0.4444444444444444,
              "#bd3786"
             ],
             [
              0.5555555555555556,
              "#d8576b"
             ],
             [
              0.6666666666666666,
              "#ed7953"
             ],
             [
              0.7777777777777778,
              "#fb9f3a"
             ],
             [
              0.8888888888888888,
              "#fdca26"
             ],
             [
              1,
              "#f0f921"
             ]
            ],
            "type": "heatmap"
           }
          ],
          "heatmapgl": [
           {
            "colorbar": {
             "outlinewidth": 0,
             "ticks": ""
            },
            "colorscale": [
             [
              0,
              "#0d0887"
             ],
             [
              0.1111111111111111,
              "#46039f"
             ],
             [
              0.2222222222222222,
              "#7201a8"
             ],
             [
              0.3333333333333333,
              "#9c179e"
             ],
             [
              0.4444444444444444,
              "#bd3786"
             ],
             [
              0.5555555555555556,
              "#d8576b"
             ],
             [
              0.6666666666666666,
              "#ed7953"
             ],
             [
              0.7777777777777778,
              "#fb9f3a"
             ],
             [
              0.8888888888888888,
              "#fdca26"
             ],
             [
              1,
              "#f0f921"
             ]
            ],
            "type": "heatmapgl"
           }
          ],
          "histogram": [
           {
            "marker": {
             "pattern": {
              "fillmode": "overlay",
              "size": 10,
              "solidity": 0.2
             }
            },
            "type": "histogram"
           }
          ],
          "histogram2d": [
           {
            "colorbar": {
             "outlinewidth": 0,
             "ticks": ""
            },
            "colorscale": [
             [
              0,
              "#0d0887"
             ],
             [
              0.1111111111111111,
              "#46039f"
             ],
             [
              0.2222222222222222,
              "#7201a8"
             ],
             [
              0.3333333333333333,
              "#9c179e"
             ],
             [
              0.4444444444444444,
              "#bd3786"
             ],
             [
              0.5555555555555556,
              "#d8576b"
             ],
             [
              0.6666666666666666,
              "#ed7953"
             ],
             [
              0.7777777777777778,
              "#fb9f3a"
             ],
             [
              0.8888888888888888,
              "#fdca26"
             ],
             [
              1,
              "#f0f921"
             ]
            ],
            "type": "histogram2d"
           }
          ],
          "histogram2dcontour": [
           {
            "colorbar": {
             "outlinewidth": 0,
             "ticks": ""
            },
            "colorscale": [
             [
              0,
              "#0d0887"
             ],
             [
              0.1111111111111111,
              "#46039f"
             ],
             [
              0.2222222222222222,
              "#7201a8"
             ],
             [
              0.3333333333333333,
              "#9c179e"
             ],
             [
              0.4444444444444444,
              "#bd3786"
             ],
             [
              0.5555555555555556,
              "#d8576b"
             ],
             [
              0.6666666666666666,
              "#ed7953"
             ],
             [
              0.7777777777777778,
              "#fb9f3a"
             ],
             [
              0.8888888888888888,
              "#fdca26"
             ],
             [
              1,
              "#f0f921"
             ]
            ],
            "type": "histogram2dcontour"
           }
          ],
          "mesh3d": [
           {
            "colorbar": {
             "outlinewidth": 0,
             "ticks": ""
            },
            "type": "mesh3d"
           }
          ],
          "parcoords": [
           {
            "line": {
             "colorbar": {
              "outlinewidth": 0,
              "ticks": ""
             }
            },
            "type": "parcoords"
           }
          ],
          "pie": [
           {
            "automargin": true,
            "type": "pie"
           }
          ],
          "scatter": [
           {
            "fillpattern": {
             "fillmode": "overlay",
             "size": 10,
             "solidity": 0.2
            },
            "type": "scatter"
           }
          ],
          "scatter3d": [
           {
            "line": {
             "colorbar": {
              "outlinewidth": 0,
              "ticks": ""
             }
            },
            "marker": {
             "colorbar": {
              "outlinewidth": 0,
              "ticks": ""
             }
            },
            "type": "scatter3d"
           }
          ],
          "scattercarpet": [
           {
            "marker": {
             "colorbar": {
              "outlinewidth": 0,
              "ticks": ""
             }
            },
            "type": "scattercarpet"
           }
          ],
          "scattergeo": [
           {
            "marker": {
             "colorbar": {
              "outlinewidth": 0,
              "ticks": ""
             }
            },
            "type": "scattergeo"
           }
          ],
          "scattergl": [
           {
            "marker": {
             "colorbar": {
              "outlinewidth": 0,
              "ticks": ""
             }
            },
            "type": "scattergl"
           }
          ],
          "scattermapbox": [
           {
            "marker": {
             "colorbar": {
              "outlinewidth": 0,
              "ticks": ""
             }
            },
            "type": "scattermapbox"
           }
          ],
          "scatterpolar": [
           {
            "marker": {
             "colorbar": {
              "outlinewidth": 0,
              "ticks": ""
             }
            },
            "type": "scatterpolar"
           }
          ],
          "scatterpolargl": [
           {
            "marker": {
             "colorbar": {
              "outlinewidth": 0,
              "ticks": ""
             }
            },
            "type": "scatterpolargl"
           }
          ],
          "scatterternary": [
           {
            "marker": {
             "colorbar": {
              "outlinewidth": 0,
              "ticks": ""
             }
            },
            "type": "scatterternary"
           }
          ],
          "surface": [
           {
            "colorbar": {
             "outlinewidth": 0,
             "ticks": ""
            },
            "colorscale": [
             [
              0,
              "#0d0887"
             ],
             [
              0.1111111111111111,
              "#46039f"
             ],
             [
              0.2222222222222222,
              "#7201a8"
             ],
             [
              0.3333333333333333,
              "#9c179e"
             ],
             [
              0.4444444444444444,
              "#bd3786"
             ],
             [
              0.5555555555555556,
              "#d8576b"
             ],
             [
              0.6666666666666666,
              "#ed7953"
             ],
             [
              0.7777777777777778,
              "#fb9f3a"
             ],
             [
              0.8888888888888888,
              "#fdca26"
             ],
             [
              1,
              "#f0f921"
             ]
            ],
            "type": "surface"
           }
          ],
          "table": [
           {
            "cells": {
             "fill": {
              "color": "#EBF0F8"
             },
             "line": {
              "color": "white"
             }
            },
            "header": {
             "fill": {
              "color": "#C8D4E3"
             },
             "line": {
              "color": "white"
             }
            },
            "type": "table"
           }
          ]
         },
         "layout": {
          "annotationdefaults": {
           "arrowcolor": "#2a3f5f",
           "arrowhead": 0,
           "arrowwidth": 1
          },
          "autotypenumbers": "strict",
          "coloraxis": {
           "colorbar": {
            "outlinewidth": 0,
            "ticks": ""
           }
          },
          "colorscale": {
           "diverging": [
            [
             0,
             "#8e0152"
            ],
            [
             0.1,
             "#c51b7d"
            ],
            [
             0.2,
             "#de77ae"
            ],
            [
             0.3,
             "#f1b6da"
            ],
            [
             0.4,
             "#fde0ef"
            ],
            [
             0.5,
             "#f7f7f7"
            ],
            [
             0.6,
             "#e6f5d0"
            ],
            [
             0.7,
             "#b8e186"
            ],
            [
             0.8,
             "#7fbc41"
            ],
            [
             0.9,
             "#4d9221"
            ],
            [
             1,
             "#276419"
            ]
           ],
           "sequential": [
            [
             0,
             "#0d0887"
            ],
            [
             0.1111111111111111,
             "#46039f"
            ],
            [
             0.2222222222222222,
             "#7201a8"
            ],
            [
             0.3333333333333333,
             "#9c179e"
            ],
            [
             0.4444444444444444,
             "#bd3786"
            ],
            [
             0.5555555555555556,
             "#d8576b"
            ],
            [
             0.6666666666666666,
             "#ed7953"
            ],
            [
             0.7777777777777778,
             "#fb9f3a"
            ],
            [
             0.8888888888888888,
             "#fdca26"
            ],
            [
             1,
             "#f0f921"
            ]
           ],
           "sequentialminus": [
            [
             0,
             "#0d0887"
            ],
            [
             0.1111111111111111,
             "#46039f"
            ],
            [
             0.2222222222222222,
             "#7201a8"
            ],
            [
             0.3333333333333333,
             "#9c179e"
            ],
            [
             0.4444444444444444,
             "#bd3786"
            ],
            [
             0.5555555555555556,
             "#d8576b"
            ],
            [
             0.6666666666666666,
             "#ed7953"
            ],
            [
             0.7777777777777778,
             "#fb9f3a"
            ],
            [
             0.8888888888888888,
             "#fdca26"
            ],
            [
             1,
             "#f0f921"
            ]
           ]
          },
          "colorway": [
           "#636efa",
           "#EF553B",
           "#00cc96",
           "#ab63fa",
           "#FFA15A",
           "#19d3f3",
           "#FF6692",
           "#B6E880",
           "#FF97FF",
           "#FECB52"
          ],
          "font": {
           "color": "#2a3f5f"
          },
          "geo": {
           "bgcolor": "white",
           "lakecolor": "white",
           "landcolor": "#E5ECF6",
           "showlakes": true,
           "showland": true,
           "subunitcolor": "white"
          },
          "hoverlabel": {
           "align": "left"
          },
          "hovermode": "closest",
          "mapbox": {
           "style": "light"
          },
          "paper_bgcolor": "white",
          "plot_bgcolor": "#E5ECF6",
          "polar": {
           "angularaxis": {
            "gridcolor": "white",
            "linecolor": "white",
            "ticks": ""
           },
           "bgcolor": "#E5ECF6",
           "radialaxis": {
            "gridcolor": "white",
            "linecolor": "white",
            "ticks": ""
           }
          },
          "scene": {
           "xaxis": {
            "backgroundcolor": "#E5ECF6",
            "gridcolor": "white",
            "gridwidth": 2,
            "linecolor": "white",
            "showbackground": true,
            "ticks": "",
            "zerolinecolor": "white"
           },
           "yaxis": {
            "backgroundcolor": "#E5ECF6",
            "gridcolor": "white",
            "gridwidth": 2,
            "linecolor": "white",
            "showbackground": true,
            "ticks": "",
            "zerolinecolor": "white"
           },
           "zaxis": {
            "backgroundcolor": "#E5ECF6",
            "gridcolor": "white",
            "gridwidth": 2,
            "linecolor": "white",
            "showbackground": true,
            "ticks": "",
            "zerolinecolor": "white"
           }
          },
          "shapedefaults": {
           "line": {
            "color": "#2a3f5f"
           }
          },
          "ternary": {
           "aaxis": {
            "gridcolor": "white",
            "linecolor": "white",
            "ticks": ""
           },
           "baxis": {
            "gridcolor": "white",
            "linecolor": "white",
            "ticks": ""
           },
           "bgcolor": "#E5ECF6",
           "caxis": {
            "gridcolor": "white",
            "linecolor": "white",
            "ticks": ""
           }
          },
          "title": {
           "x": 0.05
          },
          "xaxis": {
           "automargin": true,
           "gridcolor": "white",
           "linecolor": "white",
           "ticks": "",
           "title": {
            "standoff": 15
           },
           "zerolinecolor": "white",
           "zerolinewidth": 2
          },
          "yaxis": {
           "automargin": true,
           "gridcolor": "white",
           "linecolor": "white",
           "ticks": "",
           "title": {
            "standoff": 15
           },
           "zerolinecolor": "white",
           "zerolinewidth": 2
          }
         }
        },
        "title": {
         "text": "sunburst: ⭐ Stars ⭐"
        },
        "width": 1200
       }
      }
     },
     "metadata": {},
     "output_type": "display_data"
    }
   ],
   "source": [
    "figs['sunb_stars'].show()"
   ]
  },
  {
   "cell_type": "code",
   "execution_count": 137,
   "metadata": {},
   "outputs": [
    {
     "data": {
      "application/vnd.plotly.v1+json": {
       "config": {
        "plotlyServerURL": "https://plot.ly"
       },
       "data": [
        {
         "branchvalues": "total",
         "customdata": [
          [
           "Orchestration & Management"
          ],
          [
           "Runtime"
          ],
          [
           "Provisioning"
          ],
          [
           "Runtime"
          ],
          [
           "Orchestration & Management"
          ],
          [
           "Orchestration & Management"
          ],
          [
           "Observability and Analysis"
          ],
          [
           "Runtime"
          ],
          [
           "Orchestration & Management"
          ],
          [
           "Runtime"
          ],
          [
           "Provisioning"
          ],
          [
           "Runtime"
          ],
          [
           "Provisioning"
          ],
          [
           "App Definition and Development"
          ],
          [
           "App Definition and Development"
          ],
          [
           "Provisioning"
          ],
          [
           "App Definition and Development"
          ],
          [
           "Provisioning"
          ],
          [
           "Provisioning"
          ],
          [
           "Provisioning"
          ],
          [
           "Provisioning"
          ],
          [
           "Orchestration & Management"
          ],
          [
           "Orchestration & Management"
          ],
          [
           "Orchestration & Management"
          ],
          [
           "Provisioning"
          ],
          [
           "Serverless"
          ],
          [
           "Runtime"
          ],
          [
           "Orchestration & Management"
          ],
          [
           "Orchestration & Management"
          ],
          [
           "Orchestration & Management"
          ],
          [
           "Provisioning"
          ],
          [
           "Runtime"
          ],
          [
           "Provisioning"
          ],
          [
           "App Definition and Development"
          ],
          [
           "Orchestration & Management"
          ],
          [
           "App Definition and Development"
          ],
          [
           "Provisioning"
          ],
          [
           "App Definition and Development"
          ],
          [
           "Orchestration & Management"
          ],
          [
           "Provisioning"
          ],
          [
           "App Definition and Development"
          ],
          [
           "Provisioning"
          ],
          [
           "App Definition and Development"
          ],
          [
           "App Definition and Development"
          ],
          [
           "App Definition and Development"
          ],
          [
           "Runtime"
          ],
          [
           "Observability and Analysis"
          ],
          [
           "Observability and Analysis"
          ],
          [
           "Provisioning"
          ],
          [
           "Provisioning"
          ],
          [
           "App Definition and Development"
          ],
          [
           "App Definition and Development"
          ],
          [
           "Runtime"
          ],
          [
           "Orchestration & Management"
          ],
          [
           "Provisioning"
          ],
          [
           "Provisioning"
          ],
          [
           "Provisioning"
          ],
          [
           "Runtime"
          ],
          [
           "Observability and Analysis"
          ],
          [
           "Orchestration & Management"
          ],
          [
           "Orchestration & Management"
          ],
          [
           "Platform"
          ],
          [
           "Runtime"
          ],
          [
           "Platform"
          ],
          [
           "Orchestration & Management"
          ],
          [
           "Runtime"
          ],
          [
           "Observability and Analysis"
          ],
          [
           "Observability and Analysis"
          ],
          [
           "Provisioning"
          ],
          [
           "App Definition and Development"
          ],
          [
           "Provisioning"
          ],
          [
           "Provisioning"
          ],
          [
           "App Definition and Development"
          ],
          [
           "Observability and Analysis"
          ],
          [
           "Orchestration & Management"
          ],
          [
           "Runtime"
          ],
          [
           "Observability and Analysis"
          ],
          [
           "Orchestration & Management"
          ],
          [
           "App Definition and Development"
          ],
          [
           "Observability and Analysis"
          ],
          [
           "App Definition and Development"
          ],
          [
           "Runtime"
          ],
          [
           "Provisioning"
          ],
          [
           "Orchestration & Management"
          ],
          [
           "Provisioning"
          ],
          [
           "Runtime"
          ],
          [
           "Orchestration & Management"
          ],
          [
           "Platform"
          ],
          [
           "App Definition and Development"
          ],
          [
           "Orchestration & Management"
          ],
          [
           "App Definition and Development"
          ],
          [
           "Observability and Analysis"
          ],
          [
           "Orchestration & Management"
          ],
          [
           "Provisioning"
          ],
          [
           "Provisioning"
          ],
          [
           "Orchestration & Management"
          ],
          [
           "Orchestration & Management"
          ],
          [
           "Provisioning"
          ],
          [
           "Runtime"
          ],
          [
           "Provisioning"
          ],
          [
           "Platform"
          ],
          [
           "Platform"
          ],
          [
           "App Definition and Development"
          ],
          [
           "Provisioning"
          ],
          [
           "Provisioning"
          ],
          [
           "Orchestration & Management"
          ],
          [
           "Serverless"
          ],
          [
           "Observability and Analysis"
          ],
          [
           "App Definition and Development"
          ],
          [
           "Orchestration & Management"
          ],
          [
           "Provisioning"
          ],
          [
           "Provisioning"
          ],
          [
           "Provisioning"
          ],
          [
           "Orchestration & Management"
          ],
          [
           "Orchestration & Management"
          ],
          [
           "App Definition and Development"
          ],
          [
           "App Definition and Development"
          ],
          [
           "App Definition and Development"
          ],
          [
           "Provisioning"
          ],
          [
           "App Definition and Development"
          ],
          [
           "Runtime"
          ],
          [
           "Serverless"
          ],
          [
           "Wasm"
          ],
          [
           "Runtime"
          ],
          [
           "App Definition and Development"
          ],
          [
           "Runtime"
          ],
          [
           "Orchestration & Management"
          ],
          [
           "App Definition and Development"
          ],
          [
           "Observability and Analysis"
          ],
          [
           "App Definition and Development"
          ],
          [
           "Observability and Analysis"
          ],
          [
           "App Definition and Development"
          ],
          [
           "App Definition and Development"
          ],
          [
           "Observability and Analysis"
          ],
          [
           "App Definition and Development"
          ],
          [
           "App Definition and Development"
          ],
          [
           "Observability and Analysis"
          ],
          [
           "Provisioning"
          ],
          [
           "Runtime"
          ],
          [
           "App Definition and Development"
          ],
          [
           "Runtime"
          ],
          [
           "Runtime"
          ],
          [
           "Observability and Analysis"
          ],
          [
           "Provisioning"
          ],
          [
           "App Definition and Development"
          ],
          [
           "App Definition and Development"
          ],
          [
           "Provisioning"
          ],
          [
           "Orchestration & Management"
          ],
          [
           "App Definition and Development"
          ],
          [
           "Orchestration & Management"
          ],
          [
           "Orchestration & Management"
          ],
          [
           "Observability and Analysis"
          ],
          [
           "Provisioning"
          ],
          [
           "Provisioning"
          ],
          [
           "Provisioning"
          ],
          [
           "Provisioning"
          ],
          [
           "Runtime"
          ],
          [
           "Observability and Analysis"
          ],
          [
           "Provisioning"
          ],
          [
           "Orchestration & Management"
          ],
          [
           "Observability and Analysis"
          ],
          [
           "Orchestration & Management"
          ],
          [
           "Provisioning"
          ],
          [
           "Wasm"
          ],
          [
           "Provisioning"
          ],
          [
           "Orchestration & Management"
          ],
          [
           "App Definition and Development"
          ],
          [
           "App Definition and Development"
          ],
          [
           "Orchestration & Management"
          ],
          [
           "App Definition and Development"
          ],
          [
           "Runtime"
          ],
          [
           "App Definition and Development"
          ],
          [
           "Provisioning"
          ],
          [
           "Observability and Analysis"
          ],
          [
           "Observability and Analysis"
          ],
          [
           "Orchestration & Management"
          ],
          [
           "Provisioning"
          ],
          [
           "Provisioning"
          ],
          [
           "Observability and Analysis"
          ],
          [
           "Observability and Analysis"
          ],
          [
           "App Definition and Development"
          ],
          [
           "App Definition and Development"
          ],
          [
           "Orchestration & Management"
          ],
          [
           "Provisioning"
          ],
          [
           "Observability and Analysis"
          ],
          [
           "Orchestration & Management"
          ],
          [
           "Runtime"
          ],
          [
           "Serverless"
          ],
          [
           "Orchestration & Management"
          ],
          [
           "App Definition and Development"
          ],
          [
           "Observability and Analysis"
          ],
          [
           "App Definition and Development"
          ],
          [
           "App Definition and Development"
          ],
          [
           "App Definition and Development"
          ],
          [
           "Orchestration & Management"
          ],
          [
           "Runtime"
          ],
          [
           "App Definition and Development"
          ],
          [
           "App Definition and Development"
          ],
          [
           "Provisioning"
          ],
          [
           "Provisioning"
          ],
          [
           "Runtime"
          ],
          [
           "Provisioning"
          ],
          [
           "App Definition and Development"
          ],
          [
           "App Definition and Development"
          ],
          [
           "App Definition and Development"
          ],
          [
           "Wasm"
          ],
          [
           "Provisioning"
          ],
          [
           "Provisioning"
          ],
          [
           "App Definition and Development"
          ],
          [
           "Runtime"
          ],
          [
           "Provisioning"
          ],
          [
           "App Definition and Development"
          ],
          [
           "Provisioning"
          ],
          [
           "Provisioning"
          ],
          [
           "Observability and Analysis"
          ],
          [
           "Provisioning"
          ],
          [
           "Provisioning"
          ],
          [
           "Orchestration & Management"
          ],
          [
           "Runtime"
          ],
          [
           "Wasm"
          ],
          [
           "Wasm"
          ],
          [
           "App Definition and Development"
          ],
          [
           "App Definition and Development"
          ],
          [
           "App Definition and Development"
          ],
          [
           "Orchestration & Management"
          ],
          [
           "Provisioning"
          ],
          [
           "App Definition and Development"
          ],
          [
           "Runtime"
          ],
          [
           "App Definition and Development"
          ],
          [
           "App Definition and Development"
          ],
          [
           "Observability and Analysis"
          ],
          [
           "Observability and Analysis"
          ],
          [
           "Wasm"
          ],
          [
           "Orchestration & Management"
          ],
          [
           "Provisioning"
          ],
          [
           "App Definition and Development"
          ],
          [
           "Platform"
          ],
          [
           "Runtime"
          ],
          [
           "App Definition and Development"
          ],
          [
           "Orchestration & Management"
          ],
          [
           "Observability and Analysis"
          ],
          [
           "App Definition and Development"
          ],
          [
           "Runtime"
          ],
          [
           "Runtime"
          ],
          [
           "Provisioning"
          ],
          [
           "Runtime"
          ],
          [
           "App Definition and Development"
          ],
          [
           "Orchestration & Management"
          ],
          [
           "App Definition and Development"
          ],
          [
           "Serverless"
          ],
          [
           "Provisioning"
          ],
          [
           "Observability and Analysis"
          ],
          [
           "Observability and Analysis"
          ],
          [
           "Orchestration & Management"
          ],
          [
           "Provisioning"
          ],
          [
           "Orchestration & Management"
          ],
          [
           "Orchestration & Management"
          ],
          [
           "Observability and Analysis"
          ],
          [
           "Orchestration & Management"
          ],
          [
           "App Definition and Development"
          ],
          [
           "Provisioning"
          ],
          [
           "Observability and Analysis"
          ],
          [
           "Runtime"
          ],
          [
           "Runtime"
          ],
          [
           "Provisioning"
          ],
          [
           "App Definition and Development"
          ],
          [
           "Observability and Analysis"
          ],
          [
           "Serverless"
          ],
          [
           "Serverless"
          ],
          [
           "Observability and Analysis"
          ],
          [
           "Orchestration & Management"
          ],
          [
           "Orchestration & Management"
          ],
          [
           "Provisioning"
          ],
          [
           "Orchestration & Management"
          ],
          [
           "App Definition and Development"
          ],
          [
           "Observability and Analysis"
          ],
          [
           "App Definition and Development"
          ],
          [
           "Platform"
          ],
          [
           "Platform"
          ],
          [
           "App Definition and Development"
          ],
          [
           "App Definition and Development"
          ],
          [
           "Observability and Analysis"
          ],
          [
           "Observability and Analysis"
          ],
          [
           "Wasm"
          ],
          [
           "Orchestration & Management"
          ],
          [
           "Provisioning"
          ],
          [
           "Orchestration & Management"
          ],
          [
           "App Definition and Development"
          ],
          [
           "App Definition and Development"
          ],
          [
           "Provisioning"
          ],
          [
           "Platform"
          ],
          [
           "Platform"
          ],
          [
           "Observability and Analysis"
          ],
          [
           "Runtime"
          ],
          [
           "Runtime"
          ],
          [
           "Provisioning"
          ],
          [
           "Runtime"
          ],
          [
           "App Definition and Development"
          ],
          [
           "Observability and Analysis"
          ],
          [
           "Orchestration & Management"
          ],
          [
           "App Definition and Development"
          ],
          [
           "Serverless"
          ],
          [
           "Provisioning"
          ],
          [
           "Observability and Analysis"
          ],
          [
           "Wasm"
          ],
          [
           "Orchestration & Management"
          ],
          [
           "Provisioning"
          ],
          [
           "Orchestration & Management"
          ],
          [
           "Orchestration & Management"
          ],
          [
           "App Definition and Development"
          ],
          [
           "Orchestration & Management"
          ],
          [
           "App Definition and Development"
          ],
          [
           "Provisioning"
          ],
          [
           "Platform"
          ],
          [
           "Platform"
          ],
          [
           "Platform"
          ],
          [
           "Observability and Analysis"
          ],
          [
           "Runtime"
          ],
          [
           "Runtime"
          ],
          [
           "Provisioning"
          ],
          [
           "Runtime"
          ],
          [
           "App Definition and Development"
          ],
          [
           "Observability and Analysis"
          ],
          [
           "Orchestration & Management"
          ],
          [
           "App Definition and Development"
          ],
          [
           "Observability and Analysis"
          ],
          [
           "Serverless"
          ],
          [
           "Serverless"
          ],
          [
           "Provisioning"
          ],
          [
           "Observability and Analysis"
          ],
          [
           "Observability and Analysis"
          ],
          [
           "Wasm"
          ],
          [
           "Orchestration & Management"
          ],
          [
           "Wasm"
          ],
          [
           "Orchestration & Management"
          ],
          [
           "Provisioning"
          ],
          [
           "Orchestration & Management"
          ],
          [
           "Orchestration & Management"
          ],
          [
           "App Definition and Development"
          ],
          [
           "Observability and Analysis"
          ],
          [
           "Platform"
          ],
          [
           "App Definition and Development"
          ],
          [
           "Observability and Analysis"
          ],
          [
           "Orchestration & Management"
          ],
          [
           "Platform"
          ],
          [
           "Provisioning"
          ],
          [
           "Runtime"
          ],
          [
           "Serverless"
          ],
          [
           "Wasm"
          ]
         ],
         "domain": {
          "x": [
           0,
           1
          ],
          "y": [
           0,
           1
          ]
         },
         "hovertemplate": "labels=%{label}<br>contributorsCount=%{value}<br>parent=%{parent}<br>id=%{id}<br>category=%{customdata[0]}<extra></extra>",
         "ids": [
          "Orchestration & Management/ Service Mesh/sandbox/aeraki-mesh",
          "Runtime/ Cloud Native Network/incubating/container-network-interface-cni",
          "Provisioning/ Security & Compliance/sandbox/container-ssh",
          "Runtime/ Container Runtime/graduated/containerd",
          "Orchestration & Management/ Service Proxy/incubating/contour",
          "Orchestration & Management/ Coordination & Service Discovery/graduated/core-dns",
          "Observability and Analysis/ Monitoring/incubating/cortex",
          "Runtime/ Container Runtime/graduated/cri-o",
          "Orchestration & Management/ Scheduling & Orchestration/incubating/crossplane",
          "Runtime/ Cloud Native Storage/incubating/cube-fs",
          "Provisioning/ Security & Compliance/sandbox/curiefense",
          "Runtime/ Cloud Native Storage/sandbox/curve",
          "Provisioning/ Security & Compliance/sandbox/confidential-containers",
          "App Definition and Development/ Application Definition & Image Build/incubating/dapr",
          "App Definition and Development/ Application Definition & Image Build/sandbox/dev-space",
          "Provisioning/ Automation & Configuration/sandbox/dev-stream",
          "App Definition and Development/ Application Definition & Image Build/sandbox/devfile",
          "Provisioning/ Security & Compliance/sandbox/dex",
          "Provisioning/ Container Registry/sandbox/distribution",
          "Provisioning/ Container Registry/incubating/dragonfly",
          "Provisioning/ Security & Compliance/member/ejbca-community",
          "Orchestration & Management/ Service Proxy/graduated/envoy",
          "Orchestration & Management/ Scheduling & Orchestration/sandbox/eraser",
          "Orchestration & Management/ Coordination & Service Discovery/graduated/etcd",
          "Provisioning/ Security & Compliance/sandbox/external-secrets",
          "Serverless/ Framework/incubating/dapr-serverless",
          "Runtime/ Cloud Native Network/sandbox/cni-genie",
          "Orchestration & Management/ API Gateway/incubating/emissary-ingress",
          "Orchestration & Management/ Scheduling & Orchestration/sandbox/clusternet",
          "Orchestration & Management/ Scheduling & Orchestration/sandbox/clusterpedia",
          "Provisioning/ Automation & Configuration/sandbox/akri",
          "Runtime/ Cloud Native Network/sandbox/antrea",
          "Provisioning/ Security & Compliance/member/api-clarity",
          "App Definition and Development/ Continuous Integration & Delivery/graduated/argo",
          "Orchestration & Management/ Scheduling & Orchestration/sandbox/armada",
          "App Definition and Development/ Application Definition & Image Build/sandbox/artifact-hub",
          "Provisioning/ Key Management/sandbox/athenz",
          "App Definition and Development/ Application Definition & Image Build/incubating/backstage",
          "Orchestration & Management/ Service Proxy/sandbox/bfe",
          "Provisioning/ Security & Compliance/member/bouncy-castle",
          "App Definition and Development/ Continuous Integration & Delivery/archived/brigade",
          "Provisioning/ Security & Compliance/member/aserto",
          "App Definition and Development/ Continuous Integration & Delivery/False/bytebase",
          "App Definition and Development/ Streaming & Messaging/incubating/cloud-events",
          "App Definition and Development/ Application Definition & Image Build/incubating/buildpacks",
          "Runtime/ Cloud Native Network/graduated/cilium",
          "Observability and Analysis/ Chaos Engineering/sandbox/chaosblade",
          "Observability and Analysis/ Chaos Engineering/incubating/chaos-mesh",
          "Provisioning/ Security & Compliance/incubating/cert-manager",
          "Provisioning/ Automation & Configuration/incubating/cloud-custodian",
          "App Definition and Development/ Application Definition & Image Build/sandbox/carvel",
          "App Definition and Development/ Continuous Integration & Delivery/member/cartographer",
          "Runtime/ Cloud Native Storage/sandbox/carina",
          "Orchestration & Management/ Scheduling & Orchestration/sandbox/capsule",
          "Provisioning/ Automation & Configuration/sandbox/cdk-for-kubernetes-cdk8s",
          "Provisioning/ Automation & Configuration/sandbox/kcl",
          "Provisioning/ Security & Compliance/incubating/in-toto",
          "Runtime/ Container Runtime/sandbox/inclavare-containers",
          "Observability and Analysis/ Monitoring/sandbox/inspektor-gadget",
          "Orchestration & Management/ Service Mesh/graduated/istio",
          "Orchestration & Management/ Coordination & Service Discovery/sandbox/k8gb",
          "Platform/ Certified Kubernetes - Distribution/sandbox/k3s",
          "Runtime/ Cloud Native Storage/sandbox/k8up",
          "Platform/Container Service/False/kapeta",
          "Orchestration & Management/ Scheduling & Orchestration/sandbox/karmada",
          "Runtime/ Cloud Native Storage/sandbox/hwamei-stor",
          "Observability and Analysis/ Tracing/graduated/jaeger",
          "Observability and Analysis/ Monitoring/member/hubble",
          "Provisioning/ Container Registry/graduated/harbor",
          "App Definition and Development/ Application Definition & Image Build/graduated/helm",
          "Provisioning/ Security & Compliance/sandbox/hexa",
          "Provisioning/ Security & Compliance/incubating/falco",
          "App Definition and Development/ Continuous Integration & Delivery/member/flagger",
          "Observability and Analysis/ Logging/graduated/fluentd",
          "Orchestration & Management/ Scheduling & Orchestration/sandbox/fluid",
          "Runtime/ Cloud Native Network/sandbox/fab-edge",
          "Observability and Analysis/ Monitoring/sandbox/fonio",
          "Orchestration & Management/ Remote Procedure Call/incubating/g-rpc",
          "App Definition and Development/ Application Definition & Image Build/False/gefyra",
          "Observability and Analysis/ Monitoring/sandbox/headlamp",
          "App Definition and Development/ Continuous Integration & Delivery/graduated/flux",
          "Runtime/ Cloud Native Network/sandbox/kube-vip",
          "Provisioning/ Automation & Configuration/incubating/kube-edge",
          "Orchestration & Management/ Scheduling & Orchestration/member/kube-green",
          "Provisioning/ Security & Compliance/member/kube-linter",
          "Runtime/ Cloud Native Network/sandbox/kube-ovn",
          "Orchestration & Management/ Scheduling & Orchestration/sandbox/kube-rs",
          "Platform/ Certified Kubernetes - Hosted/member/kube-sphere-qke",
          "App Definition and Development/ Application Definition & Image Build/incubating/kube-vela",
          "Orchestration & Management/ Scheduling & Orchestration/incubating/kubeflow",
          "App Definition and Development/ Application Definition & Image Build/sandbox/kudo",
          "Observability and Analysis/ Monitoring/sandbox/kuberhealthy",
          "Orchestration & Management/ Scheduling & Orchestration/graduated/kubernetes",
          "Provisioning/ Security & Compliance/sandbox/kubescape",
          "Provisioning/ Security & Compliance/sandbox/kubewarden",
          "Orchestration & Management/ Service Mesh/sandbox/kuma",
          "Orchestration & Management/ Scheduling & Orchestration/sandbox/kured",
          "Provisioning/ Security & Compliance/incubating/kyverno",
          "Runtime/ Container Runtime/sandbox/lima",
          "Provisioning/ Automation & Configuration/sandbox/kube-dl",
          "Platform/ Certified Kubernetes - Installer/member/kubekey",
          "Platform/ Certified Kubernetes - Installer/sandbox/kube-clipper",
          "App Definition and Development/ Application Definition & Image Build/incubating/kube-virt",
          "Provisioning/ Security & Compliance/sandbox/kube-armor",
          "Provisioning/ Security & Compliance/member/kube-clarity",
          "Orchestration & Management/ Scheduling & Orchestration/sandbox/kcp",
          "Serverless/ Installable Platform/graduated/keda-serverless",
          "Observability and Analysis/ Monitoring/sandbox/kepler",
          "App Definition and Development/ Continuous Integration & Delivery/incubating/keptn",
          "Orchestration & Management/ Scheduling & Orchestration/False/kestra",
          "Provisioning/ Security & Compliance/incubating/keycloak",
          "Provisioning/ Security & Compliance/sandbox/keylime",
          "Provisioning/ Security & Compliance/False/kics",
          "Orchestration & Management/ Scheduling & Orchestration/incubating/knative",
          "Orchestration & Management/ Scheduling & Orchestration/graduated/keda",
          "App Definition and Development/ Application Definition & Image Build/sandbox/ko",
          "App Definition and Development/ Application Definition & Image Build/sandbox/konveyor",
          "App Definition and Development/ Streaming & Messaging/member/koperator",
          "Provisioning/ Automation & Configuration/sandbox/kpt",
          "App Definition and Development/ Application Definition & Image Build/sandbox/krator",
          "Runtime/ Container Runtime/sandbox/krustlet",
          "Serverless/ Installable Platform/incubating/knative-serverless",
          "Wasm/ Runtimes/sandbox/krustlet-wasm",
          "Runtime/ Container Runtime/False/kuasar",
          "App Definition and Development/ Streaming & Messaging/member/memphis",
          "Runtime/ Cloud Native Storage/incubating/longhorn",
          "Orchestration & Management/ Service Mesh/graduated/linkerd",
          "App Definition and Development/ Continuous Integration & Delivery/False/liquibase",
          "Observability and Analysis/ Chaos Engineering/incubating/litmus",
          "App Definition and Development/ Database/False/qdrant",
          "Observability and Analysis/ Monitoring/graduated/prometheus",
          "App Definition and Development/ Streaming & Messaging/sandbox/pravega",
          "App Definition and Development/ Application Definition & Image Build/sandbox/porter",
          "Observability and Analysis/ Monitoring/sandbox/pixie",
          "App Definition and Development/ Application Definition & Image Build/incubating/operator-framework",
          "App Definition and Development/ Continuous Integration & Delivery/sandbox/pipe-cd",
          "Observability and Analysis/ Logging/False/parseable",
          "Provisioning/ Security & Compliance/sandbox/paralus",
          "Runtime/ Cloud Native Storage/sandbox/oras",
          "App Definition and Development/ Application Definition & Image Build/member/quarkus",
          "Runtime/ Cloud Native Storage/sandbox/piraeus-datastore",
          "Runtime/ Container Runtime/archived/rkt",
          "Observability and Analysis/ Monitoring/sandbox/skooner",
          "Provisioning/ Security & Compliance/False/rudder",
          "App Definition and Development/ Database/sandbox/schema-hero",
          "App Definition and Development/ Application Definition & Image Build/sandbox/sealer",
          "Provisioning/ Security & Compliance/False/secure-code-box",
          "Orchestration & Management/ Scheduling & Orchestration/sandbox/serverless-devs",
          "App Definition and Development/ Application Definition & Image Build/sandbox/serverless-workflow",
          "Orchestration & Management/ Service Mesh/archived/service-mesh-interface-smi",
          "Orchestration & Management/ Service Mesh/sandbox/service-mesh-performance",
          "Observability and Analysis/ Monitoring/False/sidekick",
          "Provisioning/ Security & Compliance/False/sigstore",
          "Provisioning/ Automation & Configuration/sandbox/open-yurt",
          "Provisioning/ Security & Compliance/sandbox/slim-toolkit",
          "Provisioning/ Security & Compliance/sandbox/sops",
          "Runtime/ Cloud Native Storage/graduated/rook",
          "Observability and Analysis/ Tracing/archived/open-tracing",
          "Provisioning/ Security & Compliance/sandbox/parsec",
          "Orchestration & Management/ Service Mesh/archived/open-service-mesh",
          "Observability and Analysis/ Tracing/incubating/open-telemetry",
          "Orchestration & Management/ Service Mesh/sandbox/merbridge",
          "Provisioning/ Automation & Configuration/sandbox/meshery",
          "Wasm/ Orchestration & Management/member/meshery-wasm",
          "Provisioning/ Automation & Configuration/sandbox/metal",
          "Orchestration & Management/ Service Proxy/sandbox/metal-lb",
          "App Definition and Development/ Application Definition & Image Build/sandbox/microcks",
          "App Definition and Development/ Application Definition & Image Build/False/mirrord",
          "Orchestration & Management/ Service Mesh/member/nasp",
          "App Definition and Development/ Streaming & Messaging/incubating/nats",
          "Runtime/ Cloud Native Network/sandbox/network-service-mesh",
          "App Definition and Development/ Application Definition & Image Build/sandbox/nocalhost",
          "Provisioning/ Security & Compliance/incubating/notary",
          "Observability and Analysis/ Monitoring/member/micrometer",
          "Observability and Analysis/ Continuous Optimization/sandbox/open-cost",
          "Orchestration & Management/ Scheduling & Orchestration/sandbox/open-cluster-management",
          "Provisioning/ Security & Compliance/sandbox/open-policy-containers",
          "Provisioning/ Security & Compliance/graduated/open-policy-agent-opa",
          "Observability and Analysis/ Monitoring/incubating/open-metrics",
          "Observability and Analysis/ Logging/member/open-search",
          "App Definition and Development/ Continuous Integration & Delivery/sandbox/open-git-ops",
          "App Definition and Development/ Continuous Integration & Delivery/incubating/open-kruise",
          "Orchestration & Management/ Scheduling & Orchestration/sandbox/open-function",
          "Provisioning/ Security & Compliance/sandbox/open-fga",
          "Observability and Analysis/ Feature Flagging/incubating/open-feature",
          "Orchestration & Management/ Service Proxy/sandbox/open-elb",
          "Runtime/ Cloud Native Storage/sandbox/open-ebs",
          "Serverless/ Installable Platform/sandbox/open-function-serverless",
          "Orchestration & Management/ Service Mesh/member/traefik-mesh",
          "App Definition and Development/ Streaming & Messaging/sandbox/tremor",
          "Observability and Analysis/ Monitoring/sandbox/trickster",
          "App Definition and Development/ Continuous Integration & Delivery/False/unleash",
          "App Definition and Development/ Streaming & Messaging/False/userver",
          "App Definition and Development/ Database/member/vald",
          "Orchestration & Management/ Scheduling & Orchestration/incubating/volcano",
          "Runtime/ Container Runtime/sandbox/virtual-kubelet",
          "App Definition and Development/ Application Definition & Image Build/sandbox/visual-studio-code-kubernetes-tools",
          "App Definition and Development/ Database/graduated/vitess",
          "Provisioning/ Security & Compliance/member/vm-clarity",
          "Provisioning/ Security & Compliance/member/topaz",
          "Runtime/ Cloud Native Storage/sandbox/vineyard",
          "Provisioning/ Automation & Configuration/sandbox/tinkerbell",
          "App Definition and Development/ Database/False/star-rocks",
          "App Definition and Development/ Database/graduated/ti-kv",
          "App Definition and Development/ Database/member/spice-db",
          "Wasm/ Runtimes/False/timecraft",
          "Provisioning/ Key Management/graduated/spire",
          "Provisioning/ Security & Compliance/False/stack-rox",
          "App Definition and Development/ Streaming & Messaging/sandbox/strimzi",
          "Runtime/ Cloud Native Network/sandbox/submariner",
          "Provisioning/ Key Management/graduated/spiffe",
          "App Definition and Development/ Application Definition & Image Build/sandbox/telepresence",
          "Provisioning/ Key Management/sandbox/teller",
          "Provisioning/ Security & Compliance/member/tetragon",
          "Observability and Analysis/ Monitoring/incubating/thanos",
          "Provisioning/ Security & Compliance/graduated/the-update-framework-tuf",
          "Provisioning/ Automation & Configuration/sandbox/super-edge",
          "Orchestration & Management/ Scheduling & Orchestration/sandbox/wasm-cloud",
          "Runtime/ Container Runtime/sandbox/wasm-edge-runtime",
          "Wasm/ Runtimes/sandbox/wasm-edge-wasm",
          "Wasm/ Runtimes/False/wasmer",
          "App Definition and Development/ Database/False/ydb",
          "App Definition and Development/ Database/False/weaviate",
          "App Definition and Development/ Continuous Integration & Delivery/sandbox/werf",
          "Orchestration & Management/ Coordination & Service Discovery/sandbox/xline",
          "Provisioning/ Container Registry/sandbox/zot",
          "App Definition and Development/ Application Definition & Image Build/False",
          "Runtime/ Container Runtime/False",
          "App Definition and Development/ Continuous Integration & Delivery/False",
          "App Definition and Development/ Database/False",
          "Observability and Analysis/ Logging/False",
          "Observability and Analysis/ Monitoring/False",
          "Wasm/ Runtimes/False",
          "Orchestration & Management/ Scheduling & Orchestration/False",
          "Provisioning/ Security & Compliance/False",
          "App Definition and Development/ Streaming & Messaging/False",
          "Platform/Container Service/False",
          "Runtime/ Container Runtime/archived",
          "App Definition and Development/ Continuous Integration & Delivery/archived",
          "Orchestration & Management/ Service Mesh/archived",
          "Observability and Analysis/ Tracing/archived",
          "App Definition and Development/ Application Definition & Image Build/graduated",
          "Runtime/ Cloud Native Network/graduated",
          "Runtime/ Cloud Native Storage/graduated",
          "Provisioning/ Container Registry/graduated",
          "Runtime/ Container Runtime/graduated",
          "App Definition and Development/ Continuous Integration & Delivery/graduated",
          "Orchestration & Management/ Coordination & Service Discovery/graduated",
          "App Definition and Development/ Database/graduated",
          "Serverless/ Installable Platform/graduated",
          "Provisioning/ Key Management/graduated",
          "Observability and Analysis/ Logging/graduated",
          "Observability and Analysis/ Monitoring/graduated",
          "Orchestration & Management/ Scheduling & Orchestration/graduated",
          "Provisioning/ Security & Compliance/graduated",
          "Orchestration & Management/ Service Mesh/graduated",
          "Orchestration & Management/ Service Proxy/graduated",
          "Observability and Analysis/ Tracing/graduated",
          "Orchestration & Management/ API Gateway/incubating",
          "App Definition and Development/ Application Definition & Image Build/incubating",
          "Provisioning/ Automation & Configuration/incubating",
          "Observability and Analysis/ Chaos Engineering/incubating",
          "Runtime/ Cloud Native Network/incubating",
          "Runtime/ Cloud Native Storage/incubating",
          "Provisioning/ Container Registry/incubating",
          "App Definition and Development/ Continuous Integration & Delivery/incubating",
          "Observability and Analysis/ Feature Flagging/incubating",
          "Serverless/ Framework/incubating",
          "Serverless/ Installable Platform/incubating",
          "Observability and Analysis/ Monitoring/incubating",
          "Orchestration & Management/ Remote Procedure Call/incubating",
          "Orchestration & Management/ Scheduling & Orchestration/incubating",
          "Provisioning/ Security & Compliance/incubating",
          "Orchestration & Management/ Service Proxy/incubating",
          "App Definition and Development/ Streaming & Messaging/incubating",
          "Observability and Analysis/ Tracing/incubating",
          "App Definition and Development/ Application Definition & Image Build/member",
          "Platform/ Certified Kubernetes - Hosted/member",
          "Platform/ Certified Kubernetes - Installer/member",
          "App Definition and Development/ Continuous Integration & Delivery/member",
          "App Definition and Development/ Database/member",
          "Observability and Analysis/ Logging/member",
          "Observability and Analysis/ Monitoring/member",
          "Wasm/ Orchestration & Management/member",
          "Orchestration & Management/ Scheduling & Orchestration/member",
          "Provisioning/ Security & Compliance/member",
          "Orchestration & Management/ Service Mesh/member",
          "App Definition and Development/ Streaming & Messaging/member",
          "App Definition and Development/ Application Definition & Image Build/sandbox",
          "Provisioning/ Automation & Configuration/sandbox",
          "Platform/ Certified Kubernetes - Distribution/sandbox",
          "Platform/ Certified Kubernetes - Installer/sandbox",
          "Observability and Analysis/ Chaos Engineering/sandbox",
          "Runtime/ Cloud Native Network/sandbox",
          "Runtime/ Cloud Native Storage/sandbox",
          "Provisioning/ Container Registry/sandbox",
          "Runtime/ Container Runtime/sandbox",
          "App Definition and Development/ Continuous Integration & Delivery/sandbox",
          "Observability and Analysis/ Continuous Optimization/sandbox",
          "Orchestration & Management/ Coordination & Service Discovery/sandbox",
          "App Definition and Development/ Database/sandbox",
          "Serverless/ Installable Platform/sandbox",
          "Provisioning/ Key Management/sandbox",
          "Observability and Analysis/ Monitoring/sandbox",
          "Wasm/ Runtimes/sandbox",
          "Orchestration & Management/ Scheduling & Orchestration/sandbox",
          "Provisioning/ Security & Compliance/sandbox",
          "Orchestration & Management/ Service Mesh/sandbox",
          "Orchestration & Management/ Service Proxy/sandbox",
          "App Definition and Development/ Streaming & Messaging/sandbox",
          "Orchestration & Management/ API Gateway",
          "App Definition and Development/ Application Definition & Image Build",
          "Provisioning/ Automation & Configuration",
          "Platform/ Certified Kubernetes - Distribution",
          "Platform/ Certified Kubernetes - Hosted",
          "Platform/ Certified Kubernetes - Installer",
          "Observability and Analysis/ Chaos Engineering",
          "Runtime/ Cloud Native Network",
          "Runtime/ Cloud Native Storage",
          "Provisioning/ Container Registry",
          "Runtime/ Container Runtime",
          "App Definition and Development/ Continuous Integration & Delivery",
          "Observability and Analysis/ Continuous Optimization",
          "Orchestration & Management/ Coordination & Service Discovery",
          "App Definition and Development/ Database",
          "Observability and Analysis/ Feature Flagging",
          "Serverless/ Framework",
          "Serverless/ Installable Platform",
          "Provisioning/ Key Management",
          "Observability and Analysis/ Logging",
          "Observability and Analysis/ Monitoring",
          "Wasm/ Orchestration & Management",
          "Orchestration & Management/ Remote Procedure Call",
          "Wasm/ Runtimes",
          "Orchestration & Management/ Scheduling & Orchestration",
          "Provisioning/ Security & Compliance",
          "Orchestration & Management/ Service Mesh",
          "Orchestration & Management/ Service Proxy",
          "App Definition and Development/ Streaming & Messaging",
          "Observability and Analysis/ Tracing",
          "Platform/Container Service",
          "App Definition and Development",
          "Observability and Analysis",
          "Orchestration & Management",
          "Platform",
          "Provisioning",
          "Runtime",
          "Serverless",
          "Wasm"
         ],
         "labels": [
          "aeraki-mesh",
          "container-network-interface-cni",
          "container-ssh",
          "containerd",
          "contour",
          "core-dns",
          "cortex",
          "cri-o",
          "crossplane",
          "cube-fs",
          "curiefense",
          "curve",
          "confidential-containers",
          "dapr",
          "dev-space",
          "dev-stream",
          "devfile",
          "dex",
          "distribution",
          "dragonfly",
          "ejbca-community",
          "envoy",
          "eraser",
          "etcd",
          "external-secrets",
          "dapr-serverless",
          "cni-genie",
          "emissary-ingress",
          "clusternet",
          "clusterpedia",
          "akri",
          "antrea",
          "api-clarity",
          "argo",
          "armada",
          "artifact-hub",
          "athenz",
          "backstage",
          "bfe",
          "bouncy-castle",
          "brigade",
          "aserto",
          "bytebase",
          "cloud-events",
          "buildpacks",
          "cilium",
          "chaosblade",
          "chaos-mesh",
          "cert-manager",
          "cloud-custodian",
          "carvel",
          "cartographer",
          "carina",
          "capsule",
          "cdk-for-kubernetes-cdk8s",
          "kcl",
          "in-toto",
          "inclavare-containers",
          "inspektor-gadget",
          "istio",
          "k8gb",
          "k3s",
          "k8up",
          "kapeta",
          "karmada",
          "hwamei-stor",
          "jaeger",
          "hubble",
          "harbor",
          "helm",
          "hexa",
          "falco",
          "flagger",
          "fluentd",
          "fluid",
          "fab-edge",
          "fonio",
          "g-rpc",
          "gefyra",
          "headlamp",
          "flux",
          "kube-vip",
          "kube-edge",
          "kube-green",
          "kube-linter",
          "kube-ovn",
          "kube-rs",
          "kube-sphere-qke",
          "kube-vela",
          "kubeflow",
          "kudo",
          "kuberhealthy",
          "kubernetes",
          "kubescape",
          "kubewarden",
          "kuma",
          "kured",
          "kyverno",
          "lima",
          "kube-dl",
          "kubekey",
          "kube-clipper",
          "kube-virt",
          "kube-armor",
          "kube-clarity",
          "kcp",
          "keda-serverless",
          "kepler",
          "keptn",
          "kestra",
          "keycloak",
          "keylime",
          "kics",
          "knative",
          "keda",
          "ko",
          "konveyor",
          "koperator",
          "kpt",
          "krator",
          "krustlet",
          "knative-serverless",
          "krustlet-wasm",
          "kuasar",
          "memphis",
          "longhorn",
          "linkerd",
          "liquibase",
          "litmus",
          "qdrant",
          "prometheus",
          "pravega",
          "porter",
          "pixie",
          "operator-framework",
          "pipe-cd",
          "parseable",
          "paralus",
          "oras",
          "quarkus",
          "piraeus-datastore",
          "rkt",
          "skooner",
          "rudder",
          "schema-hero",
          "sealer",
          "secure-code-box",
          "serverless-devs",
          "serverless-workflow",
          "service-mesh-interface-smi",
          "service-mesh-performance",
          "sidekick",
          "sigstore",
          "open-yurt",
          "slim-toolkit",
          "sops",
          "rook",
          "open-tracing",
          "parsec",
          "open-service-mesh",
          "open-telemetry",
          "merbridge",
          "meshery",
          "meshery-wasm",
          "metal",
          "metal-lb",
          "microcks",
          "mirrord",
          "nasp",
          "nats",
          "network-service-mesh",
          "nocalhost",
          "notary",
          "micrometer",
          "open-cost",
          "open-cluster-management",
          "open-policy-containers",
          "open-policy-agent-opa",
          "open-metrics",
          "open-search",
          "open-git-ops",
          "open-kruise",
          "open-function",
          "open-fga",
          "open-feature",
          "open-elb",
          "open-ebs",
          "open-function-serverless",
          "traefik-mesh",
          "tremor",
          "trickster",
          "unleash",
          "userver",
          "vald",
          "volcano",
          "virtual-kubelet",
          "visual-studio-code-kubernetes-tools",
          "vitess",
          "vm-clarity",
          "topaz",
          "vineyard",
          "tinkerbell",
          "star-rocks",
          "ti-kv",
          "spice-db",
          "timecraft",
          "spire",
          "stack-rox",
          "strimzi",
          "submariner",
          "spiffe",
          "telepresence",
          "teller",
          "tetragon",
          "thanos",
          "the-update-framework-tuf",
          "super-edge",
          "wasm-cloud",
          "wasm-edge-runtime",
          "wasm-edge-wasm",
          "wasmer",
          "ydb",
          "weaviate",
          "werf",
          "xline",
          "zot",
          "False",
          "False",
          "False",
          "False",
          "False",
          "False",
          "False",
          "False",
          "False",
          "False",
          "False",
          "archived",
          "archived",
          "archived",
          "archived",
          "graduated",
          "graduated",
          "graduated",
          "graduated",
          "graduated",
          "graduated",
          "graduated",
          "graduated",
          "graduated",
          "graduated",
          "graduated",
          "graduated",
          "graduated",
          "graduated",
          "graduated",
          "graduated",
          "graduated",
          "incubating",
          "incubating",
          "incubating",
          "incubating",
          "incubating",
          "incubating",
          "incubating",
          "incubating",
          "incubating",
          "incubating",
          "incubating",
          "incubating",
          "incubating",
          "incubating",
          "incubating",
          "incubating",
          "incubating",
          "incubating",
          "member",
          "member",
          "member",
          "member",
          "member",
          "member",
          "member",
          "member",
          "member",
          "member",
          "member",
          "member",
          "sandbox",
          "sandbox",
          "sandbox",
          "sandbox",
          "sandbox",
          "sandbox",
          "sandbox",
          "sandbox",
          "sandbox",
          "sandbox",
          "sandbox",
          "sandbox",
          "sandbox",
          "sandbox",
          "sandbox",
          "sandbox",
          "sandbox",
          "sandbox",
          "sandbox",
          "sandbox",
          "sandbox",
          "sandbox",
          " API Gateway",
          " Application Definition & Image Build",
          " Automation & Configuration",
          " Certified Kubernetes - Distribution",
          " Certified Kubernetes - Hosted",
          " Certified Kubernetes - Installer",
          " Chaos Engineering",
          " Cloud Native Network",
          " Cloud Native Storage",
          " Container Registry",
          " Container Runtime",
          " Continuous Integration & Delivery",
          " Continuous Optimization",
          " Coordination & Service Discovery",
          " Database",
          " Feature Flagging",
          " Framework",
          " Installable Platform",
          " Key Management",
          " Logging",
          " Monitoring",
          " Orchestration & Management",
          " Remote Procedure Call",
          " Runtimes",
          " Scheduling & Orchestration",
          " Security & Compliance",
          " Service Mesh",
          " Service Proxy",
          " Streaming & Messaging",
          " Tracing",
          "Container Service",
          "App Definition and Development",
          "Observability and Analysis",
          "Orchestration & Management",
          "Platform",
          "Provisioning",
          "Runtime",
          "Serverless",
          "Wasm"
         ],
         "marker": {
          "colors": [
           "#bc5090",
           "#2f4b7c",
           "#ffa600",
           "#2f4b7c",
           "#bc5090",
           "#bc5090",
           "#58508d",
           "#2f4b7c",
           "#bc5090",
           "#2f4b7c",
           "#ffa600",
           "#2f4b7c",
           "#ffa600",
           "#003f5c",
           "#003f5c",
           "#ffa600",
           "#003f5c",
           "#ffa600",
           "#ffa600",
           "#ffa600",
           "#ffa600",
           "#bc5090",
           "#bc5090",
           "#bc5090",
           "#ffa600",
           "#665191",
           "#2f4b7c",
           "#bc5090",
           "#bc5090",
           "#bc5090",
           "#ffa600",
           "#2f4b7c",
           "#ffa600",
           "#003f5c",
           "#bc5090",
           "#003f5c",
           "#ffa600",
           "#003f5c",
           "#bc5090",
           "#ffa600",
           "#003f5c",
           "#ffa600",
           "#003f5c",
           "#003f5c",
           "#003f5c",
           "#2f4b7c",
           "#58508d",
           "#58508d",
           "#ffa600",
           "#ffa600",
           "#003f5c",
           "#003f5c",
           "#2f4b7c",
           "#bc5090",
           "#ffa600",
           "#ffa600",
           "#ffa600",
           "#2f4b7c",
           "#58508d",
           "#bc5090",
           "#bc5090",
           "#ff6361",
           "#2f4b7c",
           "#ff6361",
           "#bc5090",
           "#2f4b7c",
           "#58508d",
           "#58508d",
           "#ffa600",
           "#003f5c",
           "#ffa600",
           "#ffa600",
           "#003f5c",
           "#58508d",
           "#bc5090",
           "#2f4b7c",
           "#58508d",
           "#bc5090",
           "#003f5c",
           "#58508d",
           "#003f5c",
           "#2f4b7c",
           "#ffa600",
           "#bc5090",
           "#ffa600",
           "#2f4b7c",
           "#bc5090",
           "#ff6361",
           "#003f5c",
           "#bc5090",
           "#003f5c",
           "#58508d",
           "#bc5090",
           "#ffa600",
           "#ffa600",
           "#bc5090",
           "#bc5090",
           "#ffa600",
           "#2f4b7c",
           "#ffa600",
           "#ff6361",
           "#ff6361",
           "#003f5c",
           "#ffa600",
           "#ffa600",
           "#bc5090",
           "#665191",
           "#58508d",
           "#003f5c",
           "#bc5090",
           "#ffa600",
           "#ffa600",
           "#ffa600",
           "#bc5090",
           "#bc5090",
           "#003f5c",
           "#003f5c",
           "#003f5c",
           "#ffa600",
           "#003f5c",
           "#2f4b7c",
           "#665191",
           "#B6E880",
           "#2f4b7c",
           "#003f5c",
           "#2f4b7c",
           "#bc5090",
           "#003f5c",
           "#58508d",
           "#003f5c",
           "#58508d",
           "#003f5c",
           "#003f5c",
           "#58508d",
           "#003f5c",
           "#003f5c",
           "#58508d",
           "#ffa600",
           "#2f4b7c",
           "#003f5c",
           "#2f4b7c",
           "#2f4b7c",
           "#58508d",
           "#ffa600",
           "#003f5c",
           "#003f5c",
           "#ffa600",
           "#bc5090",
           "#003f5c",
           "#bc5090",
           "#bc5090",
           "#58508d",
           "#ffa600",
           "#ffa600",
           "#ffa600",
           "#ffa600",
           "#2f4b7c",
           "#58508d",
           "#ffa600",
           "#bc5090",
           "#58508d",
           "#bc5090",
           "#ffa600",
           "#B6E880",
           "#ffa600",
           "#bc5090",
           "#003f5c",
           "#003f5c",
           "#bc5090",
           "#003f5c",
           "#2f4b7c",
           "#003f5c",
           "#ffa600",
           "#58508d",
           "#58508d",
           "#bc5090",
           "#ffa600",
           "#ffa600",
           "#58508d",
           "#58508d",
           "#003f5c",
           "#003f5c",
           "#bc5090",
           "#ffa600",
           "#58508d",
           "#bc5090",
           "#2f4b7c",
           "#665191",
           "#bc5090",
           "#003f5c",
           "#58508d",
           "#003f5c",
           "#003f5c",
           "#003f5c",
           "#bc5090",
           "#2f4b7c",
           "#003f5c",
           "#003f5c",
           "#ffa600",
           "#ffa600",
           "#2f4b7c",
           "#ffa600",
           "#003f5c",
           "#003f5c",
           "#003f5c",
           "#B6E880",
           "#ffa600",
           "#ffa600",
           "#003f5c",
           "#2f4b7c",
           "#ffa600",
           "#003f5c",
           "#ffa600",
           "#ffa600",
           "#58508d",
           "#ffa600",
           "#ffa600",
           "#bc5090",
           "#2f4b7c",
           "#B6E880",
           "#B6E880",
           "#003f5c",
           "#003f5c",
           "#003f5c",
           "#bc5090",
           "#ffa600",
           "#003f5c",
           "#2f4b7c",
           "#003f5c",
           "#003f5c",
           "#58508d",
           "#58508d",
           "#B6E880",
           "#bc5090",
           "#ffa600",
           "#003f5c",
           "#ff6361",
           "#2f4b7c",
           "#003f5c",
           "#bc5090",
           "#58508d",
           "#003f5c",
           "#2f4b7c",
           "#2f4b7c",
           "#ffa600",
           "#2f4b7c",
           "#003f5c",
           "#bc5090",
           "#003f5c",
           "#665191",
           "#ffa600",
           "#58508d",
           "#58508d",
           "#bc5090",
           "#ffa600",
           "#bc5090",
           "#bc5090",
           "#58508d",
           "#bc5090",
           "#003f5c",
           "#ffa600",
           "#58508d",
           "#2f4b7c",
           "#2f4b7c",
           "#ffa600",
           "#003f5c",
           "#58508d",
           "#665191",
           "#665191",
           "#58508d",
           "#bc5090",
           "#bc5090",
           "#ffa600",
           "#bc5090",
           "#003f5c",
           "#58508d",
           "#003f5c",
           "#ff6361",
           "#ff6361",
           "#003f5c",
           "#003f5c",
           "#58508d",
           "#58508d",
           "#B6E880",
           "#bc5090",
           "#ffa600",
           "#bc5090",
           "#003f5c",
           "#003f5c",
           "#ffa600",
           "#ff6361",
           "#ff6361",
           "#58508d",
           "#2f4b7c",
           "#2f4b7c",
           "#ffa600",
           "#2f4b7c",
           "#003f5c",
           "#58508d",
           "#bc5090",
           "#003f5c",
           "#665191",
           "#ffa600",
           "#58508d",
           "#B6E880",
           "#bc5090",
           "#ffa600",
           "#bc5090",
           "#bc5090",
           "#003f5c",
           "#bc5090",
           "#003f5c",
           "#ffa600",
           "#ff6361",
           "#ff6361",
           "#ff6361",
           "#58508d",
           "#2f4b7c",
           "#2f4b7c",
           "#ffa600",
           "#2f4b7c",
           "#003f5c",
           "#58508d",
           "#bc5090",
           "#003f5c",
           "#58508d",
           "#665191",
           "#665191",
           "#ffa600",
           "#58508d",
           "#58508d",
           "#B6E880",
           "#bc5090",
           "#B6E880",
           "#bc5090",
           "#ffa600",
           "#bc5090",
           "#bc5090",
           "#003f5c",
           "#58508d",
           "#ff6361",
           "#003f5c",
           "#58508d",
           "#bc5090",
           "#ff6361",
           "#ffa600",
           "#2f4b7c",
           "#665191",
           "#B6E880"
          ]
         },
         "name": "",
         "parents": [
          "Orchestration & Management/ Service Mesh/sandbox",
          "Runtime/ Cloud Native Network/incubating",
          "Provisioning/ Security & Compliance/sandbox",
          "Runtime/ Container Runtime/graduated",
          "Orchestration & Management/ Service Proxy/incubating",
          "Orchestration & Management/ Coordination & Service Discovery/graduated",
          "Observability and Analysis/ Monitoring/incubating",
          "Runtime/ Container Runtime/graduated",
          "Orchestration & Management/ Scheduling & Orchestration/incubating",
          "Runtime/ Cloud Native Storage/incubating",
          "Provisioning/ Security & Compliance/sandbox",
          "Runtime/ Cloud Native Storage/sandbox",
          "Provisioning/ Security & Compliance/sandbox",
          "App Definition and Development/ Application Definition & Image Build/incubating",
          "App Definition and Development/ Application Definition & Image Build/sandbox",
          "Provisioning/ Automation & Configuration/sandbox",
          "App Definition and Development/ Application Definition & Image Build/sandbox",
          "Provisioning/ Security & Compliance/sandbox",
          "Provisioning/ Container Registry/sandbox",
          "Provisioning/ Container Registry/incubating",
          "Provisioning/ Security & Compliance/member",
          "Orchestration & Management/ Service Proxy/graduated",
          "Orchestration & Management/ Scheduling & Orchestration/sandbox",
          "Orchestration & Management/ Coordination & Service Discovery/graduated",
          "Provisioning/ Security & Compliance/sandbox",
          "Serverless/ Framework/incubating",
          "Runtime/ Cloud Native Network/sandbox",
          "Orchestration & Management/ API Gateway/incubating",
          "Orchestration & Management/ Scheduling & Orchestration/sandbox",
          "Orchestration & Management/ Scheduling & Orchestration/sandbox",
          "Provisioning/ Automation & Configuration/sandbox",
          "Runtime/ Cloud Native Network/sandbox",
          "Provisioning/ Security & Compliance/member",
          "App Definition and Development/ Continuous Integration & Delivery/graduated",
          "Orchestration & Management/ Scheduling & Orchestration/sandbox",
          "App Definition and Development/ Application Definition & Image Build/sandbox",
          "Provisioning/ Key Management/sandbox",
          "App Definition and Development/ Application Definition & Image Build/incubating",
          "Orchestration & Management/ Service Proxy/sandbox",
          "Provisioning/ Security & Compliance/member",
          "App Definition and Development/ Continuous Integration & Delivery/archived",
          "Provisioning/ Security & Compliance/member",
          "App Definition and Development/ Continuous Integration & Delivery/False",
          "App Definition and Development/ Streaming & Messaging/incubating",
          "App Definition and Development/ Application Definition & Image Build/incubating",
          "Runtime/ Cloud Native Network/graduated",
          "Observability and Analysis/ Chaos Engineering/sandbox",
          "Observability and Analysis/ Chaos Engineering/incubating",
          "Provisioning/ Security & Compliance/incubating",
          "Provisioning/ Automation & Configuration/incubating",
          "App Definition and Development/ Application Definition & Image Build/sandbox",
          "App Definition and Development/ Continuous Integration & Delivery/member",
          "Runtime/ Cloud Native Storage/sandbox",
          "Orchestration & Management/ Scheduling & Orchestration/sandbox",
          "Provisioning/ Automation & Configuration/sandbox",
          "Provisioning/ Automation & Configuration/sandbox",
          "Provisioning/ Security & Compliance/incubating",
          "Runtime/ Container Runtime/sandbox",
          "Observability and Analysis/ Monitoring/sandbox",
          "Orchestration & Management/ Service Mesh/graduated",
          "Orchestration & Management/ Coordination & Service Discovery/sandbox",
          "Platform/ Certified Kubernetes - Distribution/sandbox",
          "Runtime/ Cloud Native Storage/sandbox",
          "Platform/Container Service/False",
          "Orchestration & Management/ Scheduling & Orchestration/sandbox",
          "Runtime/ Cloud Native Storage/sandbox",
          "Observability and Analysis/ Tracing/graduated",
          "Observability and Analysis/ Monitoring/member",
          "Provisioning/ Container Registry/graduated",
          "App Definition and Development/ Application Definition & Image Build/graduated",
          "Provisioning/ Security & Compliance/sandbox",
          "Provisioning/ Security & Compliance/incubating",
          "App Definition and Development/ Continuous Integration & Delivery/member",
          "Observability and Analysis/ Logging/graduated",
          "Orchestration & Management/ Scheduling & Orchestration/sandbox",
          "Runtime/ Cloud Native Network/sandbox",
          "Observability and Analysis/ Monitoring/sandbox",
          "Orchestration & Management/ Remote Procedure Call/incubating",
          "App Definition and Development/ Application Definition & Image Build/False",
          "Observability and Analysis/ Monitoring/sandbox",
          "App Definition and Development/ Continuous Integration & Delivery/graduated",
          "Runtime/ Cloud Native Network/sandbox",
          "Provisioning/ Automation & Configuration/incubating",
          "Orchestration & Management/ Scheduling & Orchestration/member",
          "Provisioning/ Security & Compliance/member",
          "Runtime/ Cloud Native Network/sandbox",
          "Orchestration & Management/ Scheduling & Orchestration/sandbox",
          "Platform/ Certified Kubernetes - Hosted/member",
          "App Definition and Development/ Application Definition & Image Build/incubating",
          "Orchestration & Management/ Scheduling & Orchestration/incubating",
          "App Definition and Development/ Application Definition & Image Build/sandbox",
          "Observability and Analysis/ Monitoring/sandbox",
          "Orchestration & Management/ Scheduling & Orchestration/graduated",
          "Provisioning/ Security & Compliance/sandbox",
          "Provisioning/ Security & Compliance/sandbox",
          "Orchestration & Management/ Service Mesh/sandbox",
          "Orchestration & Management/ Scheduling & Orchestration/sandbox",
          "Provisioning/ Security & Compliance/incubating",
          "Runtime/ Container Runtime/sandbox",
          "Provisioning/ Automation & Configuration/sandbox",
          "Platform/ Certified Kubernetes - Installer/member",
          "Platform/ Certified Kubernetes - Installer/sandbox",
          "App Definition and Development/ Application Definition & Image Build/incubating",
          "Provisioning/ Security & Compliance/sandbox",
          "Provisioning/ Security & Compliance/member",
          "Orchestration & Management/ Scheduling & Orchestration/sandbox",
          "Serverless/ Installable Platform/graduated",
          "Observability and Analysis/ Monitoring/sandbox",
          "App Definition and Development/ Continuous Integration & Delivery/incubating",
          "Orchestration & Management/ Scheduling & Orchestration/False",
          "Provisioning/ Security & Compliance/incubating",
          "Provisioning/ Security & Compliance/sandbox",
          "Provisioning/ Security & Compliance/False",
          "Orchestration & Management/ Scheduling & Orchestration/incubating",
          "Orchestration & Management/ Scheduling & Orchestration/graduated",
          "App Definition and Development/ Application Definition & Image Build/sandbox",
          "App Definition and Development/ Application Definition & Image Build/sandbox",
          "App Definition and Development/ Streaming & Messaging/member",
          "Provisioning/ Automation & Configuration/sandbox",
          "App Definition and Development/ Application Definition & Image Build/sandbox",
          "Runtime/ Container Runtime/sandbox",
          "Serverless/ Installable Platform/incubating",
          "Wasm/ Runtimes/sandbox",
          "Runtime/ Container Runtime/False",
          "App Definition and Development/ Streaming & Messaging/member",
          "Runtime/ Cloud Native Storage/incubating",
          "Orchestration & Management/ Service Mesh/graduated",
          "App Definition and Development/ Continuous Integration & Delivery/False",
          "Observability and Analysis/ Chaos Engineering/incubating",
          "App Definition and Development/ Database/False",
          "Observability and Analysis/ Monitoring/graduated",
          "App Definition and Development/ Streaming & Messaging/sandbox",
          "App Definition and Development/ Application Definition & Image Build/sandbox",
          "Observability and Analysis/ Monitoring/sandbox",
          "App Definition and Development/ Application Definition & Image Build/incubating",
          "App Definition and Development/ Continuous Integration & Delivery/sandbox",
          "Observability and Analysis/ Logging/False",
          "Provisioning/ Security & Compliance/sandbox",
          "Runtime/ Cloud Native Storage/sandbox",
          "App Definition and Development/ Application Definition & Image Build/member",
          "Runtime/ Cloud Native Storage/sandbox",
          "Runtime/ Container Runtime/archived",
          "Observability and Analysis/ Monitoring/sandbox",
          "Provisioning/ Security & Compliance/False",
          "App Definition and Development/ Database/sandbox",
          "App Definition and Development/ Application Definition & Image Build/sandbox",
          "Provisioning/ Security & Compliance/False",
          "Orchestration & Management/ Scheduling & Orchestration/sandbox",
          "App Definition and Development/ Application Definition & Image Build/sandbox",
          "Orchestration & Management/ Service Mesh/archived",
          "Orchestration & Management/ Service Mesh/sandbox",
          "Observability and Analysis/ Monitoring/False",
          "Provisioning/ Security & Compliance/False",
          "Provisioning/ Automation & Configuration/sandbox",
          "Provisioning/ Security & Compliance/sandbox",
          "Provisioning/ Security & Compliance/sandbox",
          "Runtime/ Cloud Native Storage/graduated",
          "Observability and Analysis/ Tracing/archived",
          "Provisioning/ Security & Compliance/sandbox",
          "Orchestration & Management/ Service Mesh/archived",
          "Observability and Analysis/ Tracing/incubating",
          "Orchestration & Management/ Service Mesh/sandbox",
          "Provisioning/ Automation & Configuration/sandbox",
          "Wasm/ Orchestration & Management/member",
          "Provisioning/ Automation & Configuration/sandbox",
          "Orchestration & Management/ Service Proxy/sandbox",
          "App Definition and Development/ Application Definition & Image Build/sandbox",
          "App Definition and Development/ Application Definition & Image Build/False",
          "Orchestration & Management/ Service Mesh/member",
          "App Definition and Development/ Streaming & Messaging/incubating",
          "Runtime/ Cloud Native Network/sandbox",
          "App Definition and Development/ Application Definition & Image Build/sandbox",
          "Provisioning/ Security & Compliance/incubating",
          "Observability and Analysis/ Monitoring/member",
          "Observability and Analysis/ Continuous Optimization/sandbox",
          "Orchestration & Management/ Scheduling & Orchestration/sandbox",
          "Provisioning/ Security & Compliance/sandbox",
          "Provisioning/ Security & Compliance/graduated",
          "Observability and Analysis/ Monitoring/incubating",
          "Observability and Analysis/ Logging/member",
          "App Definition and Development/ Continuous Integration & Delivery/sandbox",
          "App Definition and Development/ Continuous Integration & Delivery/incubating",
          "Orchestration & Management/ Scheduling & Orchestration/sandbox",
          "Provisioning/ Security & Compliance/sandbox",
          "Observability and Analysis/ Feature Flagging/incubating",
          "Orchestration & Management/ Service Proxy/sandbox",
          "Runtime/ Cloud Native Storage/sandbox",
          "Serverless/ Installable Platform/sandbox",
          "Orchestration & Management/ Service Mesh/member",
          "App Definition and Development/ Streaming & Messaging/sandbox",
          "Observability and Analysis/ Monitoring/sandbox",
          "App Definition and Development/ Continuous Integration & Delivery/False",
          "App Definition and Development/ Streaming & Messaging/False",
          "App Definition and Development/ Database/member",
          "Orchestration & Management/ Scheduling & Orchestration/incubating",
          "Runtime/ Container Runtime/sandbox",
          "App Definition and Development/ Application Definition & Image Build/sandbox",
          "App Definition and Development/ Database/graduated",
          "Provisioning/ Security & Compliance/member",
          "Provisioning/ Security & Compliance/member",
          "Runtime/ Cloud Native Storage/sandbox",
          "Provisioning/ Automation & Configuration/sandbox",
          "App Definition and Development/ Database/False",
          "App Definition and Development/ Database/graduated",
          "App Definition and Development/ Database/member",
          "Wasm/ Runtimes/False",
          "Provisioning/ Key Management/graduated",
          "Provisioning/ Security & Compliance/False",
          "App Definition and Development/ Streaming & Messaging/sandbox",
          "Runtime/ Cloud Native Network/sandbox",
          "Provisioning/ Key Management/graduated",
          "App Definition and Development/ Application Definition & Image Build/sandbox",
          "Provisioning/ Key Management/sandbox",
          "Provisioning/ Security & Compliance/member",
          "Observability and Analysis/ Monitoring/incubating",
          "Provisioning/ Security & Compliance/graduated",
          "Provisioning/ Automation & Configuration/sandbox",
          "Orchestration & Management/ Scheduling & Orchestration/sandbox",
          "Runtime/ Container Runtime/sandbox",
          "Wasm/ Runtimes/sandbox",
          "Wasm/ Runtimes/False",
          "App Definition and Development/ Database/False",
          "App Definition and Development/ Database/False",
          "App Definition and Development/ Continuous Integration & Delivery/sandbox",
          "Orchestration & Management/ Coordination & Service Discovery/sandbox",
          "Provisioning/ Container Registry/sandbox",
          "App Definition and Development/ Application Definition & Image Build",
          "Runtime/ Container Runtime",
          "App Definition and Development/ Continuous Integration & Delivery",
          "App Definition and Development/ Database",
          "Observability and Analysis/ Logging",
          "Observability and Analysis/ Monitoring",
          "Wasm/ Runtimes",
          "Orchestration & Management/ Scheduling & Orchestration",
          "Provisioning/ Security & Compliance",
          "App Definition and Development/ Streaming & Messaging",
          "Platform/Container Service",
          "Runtime/ Container Runtime",
          "App Definition and Development/ Continuous Integration & Delivery",
          "Orchestration & Management/ Service Mesh",
          "Observability and Analysis/ Tracing",
          "App Definition and Development/ Application Definition & Image Build",
          "Runtime/ Cloud Native Network",
          "Runtime/ Cloud Native Storage",
          "Provisioning/ Container Registry",
          "Runtime/ Container Runtime",
          "App Definition and Development/ Continuous Integration & Delivery",
          "Orchestration & Management/ Coordination & Service Discovery",
          "App Definition and Development/ Database",
          "Serverless/ Installable Platform",
          "Provisioning/ Key Management",
          "Observability and Analysis/ Logging",
          "Observability and Analysis/ Monitoring",
          "Orchestration & Management/ Scheduling & Orchestration",
          "Provisioning/ Security & Compliance",
          "Orchestration & Management/ Service Mesh",
          "Orchestration & Management/ Service Proxy",
          "Observability and Analysis/ Tracing",
          "Orchestration & Management/ API Gateway",
          "App Definition and Development/ Application Definition & Image Build",
          "Provisioning/ Automation & Configuration",
          "Observability and Analysis/ Chaos Engineering",
          "Runtime/ Cloud Native Network",
          "Runtime/ Cloud Native Storage",
          "Provisioning/ Container Registry",
          "App Definition and Development/ Continuous Integration & Delivery",
          "Observability and Analysis/ Feature Flagging",
          "Serverless/ Framework",
          "Serverless/ Installable Platform",
          "Observability and Analysis/ Monitoring",
          "Orchestration & Management/ Remote Procedure Call",
          "Orchestration & Management/ Scheduling & Orchestration",
          "Provisioning/ Security & Compliance",
          "Orchestration & Management/ Service Proxy",
          "App Definition and Development/ Streaming & Messaging",
          "Observability and Analysis/ Tracing",
          "App Definition and Development/ Application Definition & Image Build",
          "Platform/ Certified Kubernetes - Hosted",
          "Platform/ Certified Kubernetes - Installer",
          "App Definition and Development/ Continuous Integration & Delivery",
          "App Definition and Development/ Database",
          "Observability and Analysis/ Logging",
          "Observability and Analysis/ Monitoring",
          "Wasm/ Orchestration & Management",
          "Orchestration & Management/ Scheduling & Orchestration",
          "Provisioning/ Security & Compliance",
          "Orchestration & Management/ Service Mesh",
          "App Definition and Development/ Streaming & Messaging",
          "App Definition and Development/ Application Definition & Image Build",
          "Provisioning/ Automation & Configuration",
          "Platform/ Certified Kubernetes - Distribution",
          "Platform/ Certified Kubernetes - Installer",
          "Observability and Analysis/ Chaos Engineering",
          "Runtime/ Cloud Native Network",
          "Runtime/ Cloud Native Storage",
          "Provisioning/ Container Registry",
          "Runtime/ Container Runtime",
          "App Definition and Development/ Continuous Integration & Delivery",
          "Observability and Analysis/ Continuous Optimization",
          "Orchestration & Management/ Coordination & Service Discovery",
          "App Definition and Development/ Database",
          "Serverless/ Installable Platform",
          "Provisioning/ Key Management",
          "Observability and Analysis/ Monitoring",
          "Wasm/ Runtimes",
          "Orchestration & Management/ Scheduling & Orchestration",
          "Provisioning/ Security & Compliance",
          "Orchestration & Management/ Service Mesh",
          "Orchestration & Management/ Service Proxy",
          "App Definition and Development/ Streaming & Messaging",
          "Orchestration & Management",
          "App Definition and Development",
          "Provisioning",
          "Platform",
          "Platform",
          "Platform",
          "Observability and Analysis",
          "Runtime",
          "Runtime",
          "Provisioning",
          "Runtime",
          "App Definition and Development",
          "Observability and Analysis",
          "Orchestration & Management",
          "App Definition and Development",
          "Observability and Analysis",
          "Serverless",
          "Serverless",
          "Provisioning",
          "Observability and Analysis",
          "Observability and Analysis",
          "Wasm",
          "Orchestration & Management",
          "Wasm",
          "Orchestration & Management",
          "Provisioning",
          "Orchestration & Management",
          "Orchestration & Management",
          "App Definition and Development",
          "Observability and Analysis",
          "Platform",
          "",
          "",
          "",
          "",
          "",
          "",
          "",
          ""
         ],
         "type": "sunburst",
         "values": [
          31,
          167,
          14,
          611,
          211,
          370,
          277,
          303,
          182,
          124,
          38,
          94,
          20,
          247,
          6,
          62,
          22,
          219,
          519,
          58,
          79,
          1216,
          29,
          968,
          273,
          247,
          23,
          244,
          43,
          38,
          34,
          114,
          25,
          1154,
          74,
          35,
          76,
          1629,
          102,
          126,
          109,
          8,
          66,
          304,
          123,
          749,
          45,
          177,
          410,
          441,
          68,
          29,
          20,
          57,
          78,
          15,
          40,
          27,
          38,
          1121,
          21,
          212,
          47,
          467,
          212,
          43,
          293,
          45,
          347,
          766,
          15,
          199,
          198,
          261,
          535,
          19,
          6,
          972,
          13,
          39,
          140,
          72,
          330,
          10,
          67,
          98,
          113,
          19,
          225,
          298,
          65,
          89,
          4842,
          118,
          15,
          95,
          64,
          255,
          88,
          23,
          100,
          16,
          341,
          82,
          32,
          693,
          302,
          50,
          123,
          39,
          1259,
          73,
          117,
          285,
          302,
          83,
          14,
          66,
          96,
          24,
          50,
          285,
          50,
          23,
          40,
          595,
          330,
          736,
          193,
          66,
          973,
          100,
          97,
          83,
          334,
          66,
          26,
          22,
          54,
          984,
          22,
          248,
          58,
          46,
          41,
          74,
          68,
          41,
          41,
          36,
          93,
          11,
          55,
          112,
          65,
          133,
          694,
          54,
          33,
          99,
          194,
          24,
          591,
          591,
          102,
          173,
          36,
          28,
          7,
          683,
          20,
          50,
          35,
          266,
          100,
          33,
          13,
          420,
          33,
          1886,
          14,
          114,
          30,
          35,
          23,
          31,
          234,
          30,
          32,
          50,
          67,
          189,
          225,
          26,
          246,
          128,
          87,
          379,
          22,
          10,
          38,
          52,
          266,
          412,
          35,
          4,
          153,
          125,
          284,
          45,
          56,
          87,
          25,
          62,
          590,
          97,
          54,
          441,
          154,
          154,
          169,
          1652,
          78,
          62,
          13,
          30,
          41,
          23,
          991,
          2062,
          26,
          11,
          173,
          39,
          411,
          225,
          467,
          248,
          109,
          135,
          54,
          766,
          749,
          694,
          347,
          914,
          1294,
          1338,
          791,
          302,
          209,
          261,
          973,
          5144,
          517,
          1451,
          1216,
          293,
          244,
          2899,
          771,
          370,
          167,
          719,
          58,
          237,
          23,
          247,
          285,
          900,
          972,
          1011,
          2198,
          211,
          987,
          194,
          984,
          19,
          100,
          227,
          61,
          1886,
          311,
          591,
          10,
          431,
          39,
          106,
          789,
          1219,
          212,
          16,
          45,
          391,
          552,
          549,
          447,
          142,
          100,
          34,
          41,
          30,
          101,
          430,
          204,
          2403,
          1168,
          243,
          306,
          434,
          244,
          5479,
          1990,
          212,
          19,
          116,
          415,
          1307,
          1965,
          954,
          1632,
          3000,
          100,
          1372,
          2955,
          23,
          247,
          617,
          310,
          2173,
          2625,
          591,
          972,
          377,
          8607,
          4725,
          1868,
          1733,
          1752,
          541,
          467,
          13186,
          5877,
          14796,
          814,
          7979,
          4904,
          864,
          968
         ]
        }
       ],
       "layout": {
        "height": 1200,
        "legend": {
         "tracegroupgap": 0
        },
        "template": {
         "data": {
          "bar": [
           {
            "error_x": {
             "color": "#2a3f5f"
            },
            "error_y": {
             "color": "#2a3f5f"
            },
            "marker": {
             "line": {
              "color": "#E5ECF6",
              "width": 0.5
             },
             "pattern": {
              "fillmode": "overlay",
              "size": 10,
              "solidity": 0.2
             }
            },
            "type": "bar"
           }
          ],
          "barpolar": [
           {
            "marker": {
             "line": {
              "color": "#E5ECF6",
              "width": 0.5
             },
             "pattern": {
              "fillmode": "overlay",
              "size": 10,
              "solidity": 0.2
             }
            },
            "type": "barpolar"
           }
          ],
          "carpet": [
           {
            "aaxis": {
             "endlinecolor": "#2a3f5f",
             "gridcolor": "white",
             "linecolor": "white",
             "minorgridcolor": "white",
             "startlinecolor": "#2a3f5f"
            },
            "baxis": {
             "endlinecolor": "#2a3f5f",
             "gridcolor": "white",
             "linecolor": "white",
             "minorgridcolor": "white",
             "startlinecolor": "#2a3f5f"
            },
            "type": "carpet"
           }
          ],
          "choropleth": [
           {
            "colorbar": {
             "outlinewidth": 0,
             "ticks": ""
            },
            "type": "choropleth"
           }
          ],
          "contour": [
           {
            "colorbar": {
             "outlinewidth": 0,
             "ticks": ""
            },
            "colorscale": [
             [
              0,
              "#0d0887"
             ],
             [
              0.1111111111111111,
              "#46039f"
             ],
             [
              0.2222222222222222,
              "#7201a8"
             ],
             [
              0.3333333333333333,
              "#9c179e"
             ],
             [
              0.4444444444444444,
              "#bd3786"
             ],
             [
              0.5555555555555556,
              "#d8576b"
             ],
             [
              0.6666666666666666,
              "#ed7953"
             ],
             [
              0.7777777777777778,
              "#fb9f3a"
             ],
             [
              0.8888888888888888,
              "#fdca26"
             ],
             [
              1,
              "#f0f921"
             ]
            ],
            "type": "contour"
           }
          ],
          "contourcarpet": [
           {
            "colorbar": {
             "outlinewidth": 0,
             "ticks": ""
            },
            "type": "contourcarpet"
           }
          ],
          "heatmap": [
           {
            "colorbar": {
             "outlinewidth": 0,
             "ticks": ""
            },
            "colorscale": [
             [
              0,
              "#0d0887"
             ],
             [
              0.1111111111111111,
              "#46039f"
             ],
             [
              0.2222222222222222,
              "#7201a8"
             ],
             [
              0.3333333333333333,
              "#9c179e"
             ],
             [
              0.4444444444444444,
              "#bd3786"
             ],
             [
              0.5555555555555556,
              "#d8576b"
             ],
             [
              0.6666666666666666,
              "#ed7953"
             ],
             [
              0.7777777777777778,
              "#fb9f3a"
             ],
             [
              0.8888888888888888,
              "#fdca26"
             ],
             [
              1,
              "#f0f921"
             ]
            ],
            "type": "heatmap"
           }
          ],
          "heatmapgl": [
           {
            "colorbar": {
             "outlinewidth": 0,
             "ticks": ""
            },
            "colorscale": [
             [
              0,
              "#0d0887"
             ],
             [
              0.1111111111111111,
              "#46039f"
             ],
             [
              0.2222222222222222,
              "#7201a8"
             ],
             [
              0.3333333333333333,
              "#9c179e"
             ],
             [
              0.4444444444444444,
              "#bd3786"
             ],
             [
              0.5555555555555556,
              "#d8576b"
             ],
             [
              0.6666666666666666,
              "#ed7953"
             ],
             [
              0.7777777777777778,
              "#fb9f3a"
             ],
             [
              0.8888888888888888,
              "#fdca26"
             ],
             [
              1,
              "#f0f921"
             ]
            ],
            "type": "heatmapgl"
           }
          ],
          "histogram": [
           {
            "marker": {
             "pattern": {
              "fillmode": "overlay",
              "size": 10,
              "solidity": 0.2
             }
            },
            "type": "histogram"
           }
          ],
          "histogram2d": [
           {
            "colorbar": {
             "outlinewidth": 0,
             "ticks": ""
            },
            "colorscale": [
             [
              0,
              "#0d0887"
             ],
             [
              0.1111111111111111,
              "#46039f"
             ],
             [
              0.2222222222222222,
              "#7201a8"
             ],
             [
              0.3333333333333333,
              "#9c179e"
             ],
             [
              0.4444444444444444,
              "#bd3786"
             ],
             [
              0.5555555555555556,
              "#d8576b"
             ],
             [
              0.6666666666666666,
              "#ed7953"
             ],
             [
              0.7777777777777778,
              "#fb9f3a"
             ],
             [
              0.8888888888888888,
              "#fdca26"
             ],
             [
              1,
              "#f0f921"
             ]
            ],
            "type": "histogram2d"
           }
          ],
          "histogram2dcontour": [
           {
            "colorbar": {
             "outlinewidth": 0,
             "ticks": ""
            },
            "colorscale": [
             [
              0,
              "#0d0887"
             ],
             [
              0.1111111111111111,
              "#46039f"
             ],
             [
              0.2222222222222222,
              "#7201a8"
             ],
             [
              0.3333333333333333,
              "#9c179e"
             ],
             [
              0.4444444444444444,
              "#bd3786"
             ],
             [
              0.5555555555555556,
              "#d8576b"
             ],
             [
              0.6666666666666666,
              "#ed7953"
             ],
             [
              0.7777777777777778,
              "#fb9f3a"
             ],
             [
              0.8888888888888888,
              "#fdca26"
             ],
             [
              1,
              "#f0f921"
             ]
            ],
            "type": "histogram2dcontour"
           }
          ],
          "mesh3d": [
           {
            "colorbar": {
             "outlinewidth": 0,
             "ticks": ""
            },
            "type": "mesh3d"
           }
          ],
          "parcoords": [
           {
            "line": {
             "colorbar": {
              "outlinewidth": 0,
              "ticks": ""
             }
            },
            "type": "parcoords"
           }
          ],
          "pie": [
           {
            "automargin": true,
            "type": "pie"
           }
          ],
          "scatter": [
           {
            "fillpattern": {
             "fillmode": "overlay",
             "size": 10,
             "solidity": 0.2
            },
            "type": "scatter"
           }
          ],
          "scatter3d": [
           {
            "line": {
             "colorbar": {
              "outlinewidth": 0,
              "ticks": ""
             }
            },
            "marker": {
             "colorbar": {
              "outlinewidth": 0,
              "ticks": ""
             }
            },
            "type": "scatter3d"
           }
          ],
          "scattercarpet": [
           {
            "marker": {
             "colorbar": {
              "outlinewidth": 0,
              "ticks": ""
             }
            },
            "type": "scattercarpet"
           }
          ],
          "scattergeo": [
           {
            "marker": {
             "colorbar": {
              "outlinewidth": 0,
              "ticks": ""
             }
            },
            "type": "scattergeo"
           }
          ],
          "scattergl": [
           {
            "marker": {
             "colorbar": {
              "outlinewidth": 0,
              "ticks": ""
             }
            },
            "type": "scattergl"
           }
          ],
          "scattermapbox": [
           {
            "marker": {
             "colorbar": {
              "outlinewidth": 0,
              "ticks": ""
             }
            },
            "type": "scattermapbox"
           }
          ],
          "scatterpolar": [
           {
            "marker": {
             "colorbar": {
              "outlinewidth": 0,
              "ticks": ""
             }
            },
            "type": "scatterpolar"
           }
          ],
          "scatterpolargl": [
           {
            "marker": {
             "colorbar": {
              "outlinewidth": 0,
              "ticks": ""
             }
            },
            "type": "scatterpolargl"
           }
          ],
          "scatterternary": [
           {
            "marker": {
             "colorbar": {
              "outlinewidth": 0,
              "ticks": ""
             }
            },
            "type": "scatterternary"
           }
          ],
          "surface": [
           {
            "colorbar": {
             "outlinewidth": 0,
             "ticks": ""
            },
            "colorscale": [
             [
              0,
              "#0d0887"
             ],
             [
              0.1111111111111111,
              "#46039f"
             ],
             [
              0.2222222222222222,
              "#7201a8"
             ],
             [
              0.3333333333333333,
              "#9c179e"
             ],
             [
              0.4444444444444444,
              "#bd3786"
             ],
             [
              0.5555555555555556,
              "#d8576b"
             ],
             [
              0.6666666666666666,
              "#ed7953"
             ],
             [
              0.7777777777777778,
              "#fb9f3a"
             ],
             [
              0.8888888888888888,
              "#fdca26"
             ],
             [
              1,
              "#f0f921"
             ]
            ],
            "type": "surface"
           }
          ],
          "table": [
           {
            "cells": {
             "fill": {
              "color": "#EBF0F8"
             },
             "line": {
              "color": "white"
             }
            },
            "header": {
             "fill": {
              "color": "#C8D4E3"
             },
             "line": {
              "color": "white"
             }
            },
            "type": "table"
           }
          ]
         },
         "layout": {
          "annotationdefaults": {
           "arrowcolor": "#2a3f5f",
           "arrowhead": 0,
           "arrowwidth": 1
          },
          "autotypenumbers": "strict",
          "coloraxis": {
           "colorbar": {
            "outlinewidth": 0,
            "ticks": ""
           }
          },
          "colorscale": {
           "diverging": [
            [
             0,
             "#8e0152"
            ],
            [
             0.1,
             "#c51b7d"
            ],
            [
             0.2,
             "#de77ae"
            ],
            [
             0.3,
             "#f1b6da"
            ],
            [
             0.4,
             "#fde0ef"
            ],
            [
             0.5,
             "#f7f7f7"
            ],
            [
             0.6,
             "#e6f5d0"
            ],
            [
             0.7,
             "#b8e186"
            ],
            [
             0.8,
             "#7fbc41"
            ],
            [
             0.9,
             "#4d9221"
            ],
            [
             1,
             "#276419"
            ]
           ],
           "sequential": [
            [
             0,
             "#0d0887"
            ],
            [
             0.1111111111111111,
             "#46039f"
            ],
            [
             0.2222222222222222,
             "#7201a8"
            ],
            [
             0.3333333333333333,
             "#9c179e"
            ],
            [
             0.4444444444444444,
             "#bd3786"
            ],
            [
             0.5555555555555556,
             "#d8576b"
            ],
            [
             0.6666666666666666,
             "#ed7953"
            ],
            [
             0.7777777777777778,
             "#fb9f3a"
            ],
            [
             0.8888888888888888,
             "#fdca26"
            ],
            [
             1,
             "#f0f921"
            ]
           ],
           "sequentialminus": [
            [
             0,
             "#0d0887"
            ],
            [
             0.1111111111111111,
             "#46039f"
            ],
            [
             0.2222222222222222,
             "#7201a8"
            ],
            [
             0.3333333333333333,
             "#9c179e"
            ],
            [
             0.4444444444444444,
             "#bd3786"
            ],
            [
             0.5555555555555556,
             "#d8576b"
            ],
            [
             0.6666666666666666,
             "#ed7953"
            ],
            [
             0.7777777777777778,
             "#fb9f3a"
            ],
            [
             0.8888888888888888,
             "#fdca26"
            ],
            [
             1,
             "#f0f921"
            ]
           ]
          },
          "colorway": [
           "#636efa",
           "#EF553B",
           "#00cc96",
           "#ab63fa",
           "#FFA15A",
           "#19d3f3",
           "#FF6692",
           "#B6E880",
           "#FF97FF",
           "#FECB52"
          ],
          "font": {
           "color": "#2a3f5f"
          },
          "geo": {
           "bgcolor": "white",
           "lakecolor": "white",
           "landcolor": "#E5ECF6",
           "showlakes": true,
           "showland": true,
           "subunitcolor": "white"
          },
          "hoverlabel": {
           "align": "left"
          },
          "hovermode": "closest",
          "mapbox": {
           "style": "light"
          },
          "paper_bgcolor": "white",
          "plot_bgcolor": "#E5ECF6",
          "polar": {
           "angularaxis": {
            "gridcolor": "white",
            "linecolor": "white",
            "ticks": ""
           },
           "bgcolor": "#E5ECF6",
           "radialaxis": {
            "gridcolor": "white",
            "linecolor": "white",
            "ticks": ""
           }
          },
          "scene": {
           "xaxis": {
            "backgroundcolor": "#E5ECF6",
            "gridcolor": "white",
            "gridwidth": 2,
            "linecolor": "white",
            "showbackground": true,
            "ticks": "",
            "zerolinecolor": "white"
           },
           "yaxis": {
            "backgroundcolor": "#E5ECF6",
            "gridcolor": "white",
            "gridwidth": 2,
            "linecolor": "white",
            "showbackground": true,
            "ticks": "",
            "zerolinecolor": "white"
           },
           "zaxis": {
            "backgroundcolor": "#E5ECF6",
            "gridcolor": "white",
            "gridwidth": 2,
            "linecolor": "white",
            "showbackground": true,
            "ticks": "",
            "zerolinecolor": "white"
           }
          },
          "shapedefaults": {
           "line": {
            "color": "#2a3f5f"
           }
          },
          "ternary": {
           "aaxis": {
            "gridcolor": "white",
            "linecolor": "white",
            "ticks": ""
           },
           "baxis": {
            "gridcolor": "white",
            "linecolor": "white",
            "ticks": ""
           },
           "bgcolor": "#E5ECF6",
           "caxis": {
            "gridcolor": "white",
            "linecolor": "white",
            "ticks": ""
           }
          },
          "title": {
           "x": 0.05
          },
          "xaxis": {
           "automargin": true,
           "gridcolor": "white",
           "linecolor": "white",
           "ticks": "",
           "title": {
            "standoff": 15
           },
           "zerolinecolor": "white",
           "zerolinewidth": 2
          },
          "yaxis": {
           "automargin": true,
           "gridcolor": "white",
           "linecolor": "white",
           "ticks": "",
           "title": {
            "standoff": 15
           },
           "zerolinecolor": "white",
           "zerolinewidth": 2
          }
         }
        },
        "title": {
         "text": "sunburst: 🪴 Contributor Count (NOT UNIQUE ACROSS PROJECTS!) 🪴"
        },
        "width": 1200
       }
      }
     },
     "metadata": {},
     "output_type": "display_data"
    }
   ],
   "source": [
    "figs['sunb_contributorsCount'].show()"
   ]
  },
  {
   "cell_type": "code",
   "execution_count": 138,
   "metadata": {},
   "outputs": [
    {
     "data": {
      "application/vnd.plotly.v1+json": {
       "config": {
        "plotlyServerURL": "https://plot.ly"
       },
       "data": [
        {
         "branchvalues": "total",
         "customdata": [
          [
           "Orchestration & Management"
          ],
          [
           "Runtime"
          ],
          [
           "Provisioning"
          ],
          [
           "Runtime"
          ],
          [
           "Orchestration & Management"
          ],
          [
           "Orchestration & Management"
          ],
          [
           "Observability and Analysis"
          ],
          [
           "Runtime"
          ],
          [
           "Orchestration & Management"
          ],
          [
           "Runtime"
          ],
          [
           "Provisioning"
          ],
          [
           "Runtime"
          ],
          [
           "Provisioning"
          ],
          [
           "App Definition and Development"
          ],
          [
           "App Definition and Development"
          ],
          [
           "Provisioning"
          ],
          [
           "App Definition and Development"
          ],
          [
           "Provisioning"
          ],
          [
           "Provisioning"
          ],
          [
           "Provisioning"
          ],
          [
           "Provisioning"
          ],
          [
           "Orchestration & Management"
          ],
          [
           "Orchestration & Management"
          ],
          [
           "Orchestration & Management"
          ],
          [
           "Provisioning"
          ],
          [
           "Serverless"
          ],
          [
           "Runtime"
          ],
          [
           "Orchestration & Management"
          ],
          [
           "Orchestration & Management"
          ],
          [
           "Orchestration & Management"
          ],
          [
           "Provisioning"
          ],
          [
           "Runtime"
          ],
          [
           "Provisioning"
          ],
          [
           "App Definition and Development"
          ],
          [
           "Orchestration & Management"
          ],
          [
           "App Definition and Development"
          ],
          [
           "Provisioning"
          ],
          [
           "App Definition and Development"
          ],
          [
           "Orchestration & Management"
          ],
          [
           "Provisioning"
          ],
          [
           "App Definition and Development"
          ],
          [
           "Provisioning"
          ],
          [
           "App Definition and Development"
          ],
          [
           "App Definition and Development"
          ],
          [
           "App Definition and Development"
          ],
          [
           "Runtime"
          ],
          [
           "Observability and Analysis"
          ],
          [
           "Observability and Analysis"
          ],
          [
           "Provisioning"
          ],
          [
           "Provisioning"
          ],
          [
           "App Definition and Development"
          ],
          [
           "App Definition and Development"
          ],
          [
           "Runtime"
          ],
          [
           "Orchestration & Management"
          ],
          [
           "Provisioning"
          ],
          [
           "Provisioning"
          ],
          [
           "Provisioning"
          ],
          [
           "Runtime"
          ],
          [
           "Observability and Analysis"
          ],
          [
           "Orchestration & Management"
          ],
          [
           "Orchestration & Management"
          ],
          [
           "Platform"
          ],
          [
           "Runtime"
          ],
          [
           "Platform"
          ],
          [
           "Orchestration & Management"
          ],
          [
           "Runtime"
          ],
          [
           "Observability and Analysis"
          ],
          [
           "Observability and Analysis"
          ],
          [
           "Provisioning"
          ],
          [
           "App Definition and Development"
          ],
          [
           "Provisioning"
          ],
          [
           "Provisioning"
          ],
          [
           "App Definition and Development"
          ],
          [
           "Observability and Analysis"
          ],
          [
           "Orchestration & Management"
          ],
          [
           "Runtime"
          ],
          [
           "Observability and Analysis"
          ],
          [
           "Orchestration & Management"
          ],
          [
           "App Definition and Development"
          ],
          [
           "Observability and Analysis"
          ],
          [
           "App Definition and Development"
          ],
          [
           "Runtime"
          ],
          [
           "Provisioning"
          ],
          [
           "Orchestration & Management"
          ],
          [
           "Provisioning"
          ],
          [
           "Runtime"
          ],
          [
           "Orchestration & Management"
          ],
          [
           "Platform"
          ],
          [
           "App Definition and Development"
          ],
          [
           "Orchestration & Management"
          ],
          [
           "App Definition and Development"
          ],
          [
           "Observability and Analysis"
          ],
          [
           "Orchestration & Management"
          ],
          [
           "Provisioning"
          ],
          [
           "Provisioning"
          ],
          [
           "Orchestration & Management"
          ],
          [
           "Orchestration & Management"
          ],
          [
           "Provisioning"
          ],
          [
           "Runtime"
          ],
          [
           "Provisioning"
          ],
          [
           "Platform"
          ],
          [
           "Platform"
          ],
          [
           "App Definition and Development"
          ],
          [
           "Provisioning"
          ],
          [
           "Provisioning"
          ],
          [
           "Orchestration & Management"
          ],
          [
           "Serverless"
          ],
          [
           "Observability and Analysis"
          ],
          [
           "App Definition and Development"
          ],
          [
           "Orchestration & Management"
          ],
          [
           "Provisioning"
          ],
          [
           "Provisioning"
          ],
          [
           "Provisioning"
          ],
          [
           "Orchestration & Management"
          ],
          [
           "Orchestration & Management"
          ],
          [
           "App Definition and Development"
          ],
          [
           "App Definition and Development"
          ],
          [
           "App Definition and Development"
          ],
          [
           "Provisioning"
          ],
          [
           "App Definition and Development"
          ],
          [
           "Runtime"
          ],
          [
           "Serverless"
          ],
          [
           "Wasm"
          ],
          [
           "Runtime"
          ],
          [
           "App Definition and Development"
          ],
          [
           "Runtime"
          ],
          [
           "Orchestration & Management"
          ],
          [
           "App Definition and Development"
          ],
          [
           "Observability and Analysis"
          ],
          [
           "App Definition and Development"
          ],
          [
           "Observability and Analysis"
          ],
          [
           "App Definition and Development"
          ],
          [
           "App Definition and Development"
          ],
          [
           "Observability and Analysis"
          ],
          [
           "App Definition and Development"
          ],
          [
           "App Definition and Development"
          ],
          [
           "Observability and Analysis"
          ],
          [
           "Provisioning"
          ],
          [
           "Runtime"
          ],
          [
           "App Definition and Development"
          ],
          [
           "Runtime"
          ],
          [
           "Runtime"
          ],
          [
           "Observability and Analysis"
          ],
          [
           "Provisioning"
          ],
          [
           "App Definition and Development"
          ],
          [
           "App Definition and Development"
          ],
          [
           "Provisioning"
          ],
          [
           "Orchestration & Management"
          ],
          [
           "App Definition and Development"
          ],
          [
           "Orchestration & Management"
          ],
          [
           "Orchestration & Management"
          ],
          [
           "Observability and Analysis"
          ],
          [
           "Provisioning"
          ],
          [
           "Provisioning"
          ],
          [
           "Provisioning"
          ],
          [
           "Provisioning"
          ],
          [
           "Runtime"
          ],
          [
           "Observability and Analysis"
          ],
          [
           "Provisioning"
          ],
          [
           "Orchestration & Management"
          ],
          [
           "Observability and Analysis"
          ],
          [
           "Orchestration & Management"
          ],
          [
           "Provisioning"
          ],
          [
           "Wasm"
          ],
          [
           "Provisioning"
          ],
          [
           "Orchestration & Management"
          ],
          [
           "App Definition and Development"
          ],
          [
           "App Definition and Development"
          ],
          [
           "Orchestration & Management"
          ],
          [
           "App Definition and Development"
          ],
          [
           "Runtime"
          ],
          [
           "App Definition and Development"
          ],
          [
           "Provisioning"
          ],
          [
           "Observability and Analysis"
          ],
          [
           "Observability and Analysis"
          ],
          [
           "Orchestration & Management"
          ],
          [
           "Provisioning"
          ],
          [
           "Provisioning"
          ],
          [
           "Observability and Analysis"
          ],
          [
           "Observability and Analysis"
          ],
          [
           "App Definition and Development"
          ],
          [
           "App Definition and Development"
          ],
          [
           "Orchestration & Management"
          ],
          [
           "Provisioning"
          ],
          [
           "Observability and Analysis"
          ],
          [
           "Orchestration & Management"
          ],
          [
           "Runtime"
          ],
          [
           "Serverless"
          ],
          [
           "Orchestration & Management"
          ],
          [
           "App Definition and Development"
          ],
          [
           "Observability and Analysis"
          ],
          [
           "App Definition and Development"
          ],
          [
           "App Definition and Development"
          ],
          [
           "App Definition and Development"
          ],
          [
           "Orchestration & Management"
          ],
          [
           "Runtime"
          ],
          [
           "App Definition and Development"
          ],
          [
           "App Definition and Development"
          ],
          [
           "Provisioning"
          ],
          [
           "Provisioning"
          ],
          [
           "Runtime"
          ],
          [
           "Provisioning"
          ],
          [
           "App Definition and Development"
          ],
          [
           "App Definition and Development"
          ],
          [
           "App Definition and Development"
          ],
          [
           "Wasm"
          ],
          [
           "Provisioning"
          ],
          [
           "Provisioning"
          ],
          [
           "App Definition and Development"
          ],
          [
           "Runtime"
          ],
          [
           "Provisioning"
          ],
          [
           "App Definition and Development"
          ],
          [
           "Provisioning"
          ],
          [
           "Provisioning"
          ],
          [
           "Observability and Analysis"
          ],
          [
           "Provisioning"
          ],
          [
           "Provisioning"
          ],
          [
           "Orchestration & Management"
          ],
          [
           "Runtime"
          ],
          [
           "Wasm"
          ],
          [
           "Wasm"
          ],
          [
           "App Definition and Development"
          ],
          [
           "App Definition and Development"
          ],
          [
           "App Definition and Development"
          ],
          [
           "Orchestration & Management"
          ],
          [
           "Provisioning"
          ],
          [
           "App Definition and Development"
          ],
          [
           "Runtime"
          ],
          [
           "App Definition and Development"
          ],
          [
           "App Definition and Development"
          ],
          [
           "Observability and Analysis"
          ],
          [
           "Observability and Analysis"
          ],
          [
           "Wasm"
          ],
          [
           "Orchestration & Management"
          ],
          [
           "Provisioning"
          ],
          [
           "App Definition and Development"
          ],
          [
           "Platform"
          ],
          [
           "Runtime"
          ],
          [
           "App Definition and Development"
          ],
          [
           "Orchestration & Management"
          ],
          [
           "Observability and Analysis"
          ],
          [
           "App Definition and Development"
          ],
          [
           "Runtime"
          ],
          [
           "Runtime"
          ],
          [
           "Provisioning"
          ],
          [
           "Runtime"
          ],
          [
           "App Definition and Development"
          ],
          [
           "Orchestration & Management"
          ],
          [
           "App Definition and Development"
          ],
          [
           "Serverless"
          ],
          [
           "Provisioning"
          ],
          [
           "Observability and Analysis"
          ],
          [
           "Observability and Analysis"
          ],
          [
           "Orchestration & Management"
          ],
          [
           "Provisioning"
          ],
          [
           "Orchestration & Management"
          ],
          [
           "Orchestration & Management"
          ],
          [
           "Observability and Analysis"
          ],
          [
           "Orchestration & Management"
          ],
          [
           "App Definition and Development"
          ],
          [
           "Provisioning"
          ],
          [
           "Observability and Analysis"
          ],
          [
           "Runtime"
          ],
          [
           "Runtime"
          ],
          [
           "Provisioning"
          ],
          [
           "App Definition and Development"
          ],
          [
           "Observability and Analysis"
          ],
          [
           "Serverless"
          ],
          [
           "Serverless"
          ],
          [
           "Observability and Analysis"
          ],
          [
           "Orchestration & Management"
          ],
          [
           "Orchestration & Management"
          ],
          [
           "Provisioning"
          ],
          [
           "Orchestration & Management"
          ],
          [
           "App Definition and Development"
          ],
          [
           "Observability and Analysis"
          ],
          [
           "App Definition and Development"
          ],
          [
           "Platform"
          ],
          [
           "Platform"
          ],
          [
           "App Definition and Development"
          ],
          [
           "App Definition and Development"
          ],
          [
           "Observability and Analysis"
          ],
          [
           "Observability and Analysis"
          ],
          [
           "Wasm"
          ],
          [
           "Orchestration & Management"
          ],
          [
           "Provisioning"
          ],
          [
           "Orchestration & Management"
          ],
          [
           "App Definition and Development"
          ],
          [
           "App Definition and Development"
          ],
          [
           "Provisioning"
          ],
          [
           "Platform"
          ],
          [
           "Platform"
          ],
          [
           "Observability and Analysis"
          ],
          [
           "Runtime"
          ],
          [
           "Runtime"
          ],
          [
           "Provisioning"
          ],
          [
           "Runtime"
          ],
          [
           "App Definition and Development"
          ],
          [
           "Observability and Analysis"
          ],
          [
           "Orchestration & Management"
          ],
          [
           "App Definition and Development"
          ],
          [
           "Serverless"
          ],
          [
           "Provisioning"
          ],
          [
           "Observability and Analysis"
          ],
          [
           "Wasm"
          ],
          [
           "Orchestration & Management"
          ],
          [
           "Provisioning"
          ],
          [
           "Orchestration & Management"
          ],
          [
           "Orchestration & Management"
          ],
          [
           "App Definition and Development"
          ],
          [
           "Orchestration & Management"
          ],
          [
           "App Definition and Development"
          ],
          [
           "Provisioning"
          ],
          [
           "Platform"
          ],
          [
           "Platform"
          ],
          [
           "Platform"
          ],
          [
           "Observability and Analysis"
          ],
          [
           "Runtime"
          ],
          [
           "Runtime"
          ],
          [
           "Provisioning"
          ],
          [
           "Runtime"
          ],
          [
           "App Definition and Development"
          ],
          [
           "Observability and Analysis"
          ],
          [
           "Orchestration & Management"
          ],
          [
           "App Definition and Development"
          ],
          [
           "Observability and Analysis"
          ],
          [
           "Serverless"
          ],
          [
           "Serverless"
          ],
          [
           "Provisioning"
          ],
          [
           "Observability and Analysis"
          ],
          [
           "Observability and Analysis"
          ],
          [
           "Wasm"
          ],
          [
           "Orchestration & Management"
          ],
          [
           "Wasm"
          ],
          [
           "Orchestration & Management"
          ],
          [
           "Provisioning"
          ],
          [
           "Orchestration & Management"
          ],
          [
           "Orchestration & Management"
          ],
          [
           "App Definition and Development"
          ],
          [
           "Observability and Analysis"
          ],
          [
           "Platform"
          ],
          [
           "App Definition and Development"
          ],
          [
           "Observability and Analysis"
          ],
          [
           "Orchestration & Management"
          ],
          [
           "Platform"
          ],
          [
           "Provisioning"
          ],
          [
           "Runtime"
          ],
          [
           "Serverless"
          ],
          [
           "Wasm"
          ]
         ],
         "domain": {
          "x": [
           0,
           1
          ],
          "y": [
           0,
           1
          ]
         },
         "hovertemplate": "labels=%{label}<br>commitsThisYear=%{value}<br>parent=%{parent}<br>id=%{id}<br>category=%{customdata[0]}<extra></extra>",
         "ids": [
          "Orchestration & Management/ Service Mesh/sandbox/aeraki-mesh",
          "Runtime/ Cloud Native Network/incubating/container-network-interface-cni",
          "Provisioning/ Security & Compliance/sandbox/container-ssh",
          "Runtime/ Container Runtime/graduated/containerd",
          "Orchestration & Management/ Service Proxy/incubating/contour",
          "Orchestration & Management/ Coordination & Service Discovery/graduated/core-dns",
          "Observability and Analysis/ Monitoring/incubating/cortex",
          "Runtime/ Container Runtime/graduated/cri-o",
          "Orchestration & Management/ Scheduling & Orchestration/incubating/crossplane",
          "Runtime/ Cloud Native Storage/incubating/cube-fs",
          "Provisioning/ Security & Compliance/sandbox/curiefense",
          "Runtime/ Cloud Native Storage/sandbox/curve",
          "Provisioning/ Security & Compliance/sandbox/confidential-containers",
          "App Definition and Development/ Application Definition & Image Build/incubating/dapr",
          "App Definition and Development/ Application Definition & Image Build/sandbox/dev-space",
          "Provisioning/ Automation & Configuration/sandbox/dev-stream",
          "App Definition and Development/ Application Definition & Image Build/sandbox/devfile",
          "Provisioning/ Security & Compliance/sandbox/dex",
          "Provisioning/ Container Registry/sandbox/distribution",
          "Provisioning/ Container Registry/incubating/dragonfly",
          "Provisioning/ Security & Compliance/member/ejbca-community",
          "Orchestration & Management/ Service Proxy/graduated/envoy",
          "Orchestration & Management/ Scheduling & Orchestration/sandbox/eraser",
          "Orchestration & Management/ Coordination & Service Discovery/graduated/etcd",
          "Provisioning/ Security & Compliance/sandbox/external-secrets",
          "Serverless/ Framework/incubating/dapr-serverless",
          "Runtime/ Cloud Native Network/sandbox/cni-genie",
          "Orchestration & Management/ API Gateway/incubating/emissary-ingress",
          "Orchestration & Management/ Scheduling & Orchestration/sandbox/clusternet",
          "Orchestration & Management/ Scheduling & Orchestration/sandbox/clusterpedia",
          "Provisioning/ Automation & Configuration/sandbox/akri",
          "Runtime/ Cloud Native Network/sandbox/antrea",
          "Provisioning/ Security & Compliance/member/api-clarity",
          "App Definition and Development/ Continuous Integration & Delivery/graduated/argo",
          "Orchestration & Management/ Scheduling & Orchestration/sandbox/armada",
          "App Definition and Development/ Application Definition & Image Build/sandbox/artifact-hub",
          "Provisioning/ Key Management/sandbox/athenz",
          "App Definition and Development/ Application Definition & Image Build/incubating/backstage",
          "Orchestration & Management/ Service Proxy/sandbox/bfe",
          "Provisioning/ Security & Compliance/member/bouncy-castle",
          "App Definition and Development/ Continuous Integration & Delivery/archived/brigade",
          "Provisioning/ Security & Compliance/member/aserto",
          "App Definition and Development/ Continuous Integration & Delivery/False/bytebase",
          "App Definition and Development/ Streaming & Messaging/incubating/cloud-events",
          "App Definition and Development/ Application Definition & Image Build/incubating/buildpacks",
          "Runtime/ Cloud Native Network/graduated/cilium",
          "Observability and Analysis/ Chaos Engineering/sandbox/chaosblade",
          "Observability and Analysis/ Chaos Engineering/incubating/chaos-mesh",
          "Provisioning/ Security & Compliance/incubating/cert-manager",
          "Provisioning/ Automation & Configuration/incubating/cloud-custodian",
          "App Definition and Development/ Application Definition & Image Build/sandbox/carvel",
          "App Definition and Development/ Continuous Integration & Delivery/member/cartographer",
          "Runtime/ Cloud Native Storage/sandbox/carina",
          "Orchestration & Management/ Scheduling & Orchestration/sandbox/capsule",
          "Provisioning/ Automation & Configuration/sandbox/cdk-for-kubernetes-cdk8s",
          "Provisioning/ Automation & Configuration/sandbox/kcl",
          "Provisioning/ Security & Compliance/incubating/in-toto",
          "Runtime/ Container Runtime/sandbox/inclavare-containers",
          "Observability and Analysis/ Monitoring/sandbox/inspektor-gadget",
          "Orchestration & Management/ Service Mesh/graduated/istio",
          "Orchestration & Management/ Coordination & Service Discovery/sandbox/k8gb",
          "Platform/ Certified Kubernetes - Distribution/sandbox/k3s",
          "Runtime/ Cloud Native Storage/sandbox/k8up",
          "Platform/Container Service/False/kapeta",
          "Orchestration & Management/ Scheduling & Orchestration/sandbox/karmada",
          "Runtime/ Cloud Native Storage/sandbox/hwamei-stor",
          "Observability and Analysis/ Tracing/graduated/jaeger",
          "Observability and Analysis/ Monitoring/member/hubble",
          "Provisioning/ Container Registry/graduated/harbor",
          "App Definition and Development/ Application Definition & Image Build/graduated/helm",
          "Provisioning/ Security & Compliance/sandbox/hexa",
          "Provisioning/ Security & Compliance/incubating/falco",
          "App Definition and Development/ Continuous Integration & Delivery/member/flagger",
          "Observability and Analysis/ Logging/graduated/fluentd",
          "Orchestration & Management/ Scheduling & Orchestration/sandbox/fluid",
          "Runtime/ Cloud Native Network/sandbox/fab-edge",
          "Observability and Analysis/ Monitoring/sandbox/fonio",
          "Orchestration & Management/ Remote Procedure Call/incubating/g-rpc",
          "App Definition and Development/ Application Definition & Image Build/False/gefyra",
          "Observability and Analysis/ Monitoring/sandbox/headlamp",
          "App Definition and Development/ Continuous Integration & Delivery/graduated/flux",
          "Runtime/ Cloud Native Network/sandbox/kube-vip",
          "Provisioning/ Automation & Configuration/incubating/kube-edge",
          "Orchestration & Management/ Scheduling & Orchestration/member/kube-green",
          "Provisioning/ Security & Compliance/member/kube-linter",
          "Runtime/ Cloud Native Network/sandbox/kube-ovn",
          "Orchestration & Management/ Scheduling & Orchestration/sandbox/kube-rs",
          "Platform/ Certified Kubernetes - Hosted/member/kube-sphere-qke",
          "App Definition and Development/ Application Definition & Image Build/incubating/kube-vela",
          "Orchestration & Management/ Scheduling & Orchestration/incubating/kubeflow",
          "App Definition and Development/ Application Definition & Image Build/sandbox/kudo",
          "Observability and Analysis/ Monitoring/sandbox/kuberhealthy",
          "Orchestration & Management/ Scheduling & Orchestration/graduated/kubernetes",
          "Provisioning/ Security & Compliance/sandbox/kubescape",
          "Provisioning/ Security & Compliance/sandbox/kubewarden",
          "Orchestration & Management/ Service Mesh/sandbox/kuma",
          "Orchestration & Management/ Scheduling & Orchestration/sandbox/kured",
          "Provisioning/ Security & Compliance/incubating/kyverno",
          "Runtime/ Container Runtime/sandbox/lima",
          "Provisioning/ Automation & Configuration/sandbox/kube-dl",
          "Platform/ Certified Kubernetes - Installer/member/kubekey",
          "Platform/ Certified Kubernetes - Installer/sandbox/kube-clipper",
          "App Definition and Development/ Application Definition & Image Build/incubating/kube-virt",
          "Provisioning/ Security & Compliance/sandbox/kube-armor",
          "Provisioning/ Security & Compliance/member/kube-clarity",
          "Orchestration & Management/ Scheduling & Orchestration/sandbox/kcp",
          "Serverless/ Installable Platform/graduated/keda-serverless",
          "Observability and Analysis/ Monitoring/sandbox/kepler",
          "App Definition and Development/ Continuous Integration & Delivery/incubating/keptn",
          "Orchestration & Management/ Scheduling & Orchestration/False/kestra",
          "Provisioning/ Security & Compliance/incubating/keycloak",
          "Provisioning/ Security & Compliance/sandbox/keylime",
          "Provisioning/ Security & Compliance/False/kics",
          "Orchestration & Management/ Scheduling & Orchestration/incubating/knative",
          "Orchestration & Management/ Scheduling & Orchestration/graduated/keda",
          "App Definition and Development/ Application Definition & Image Build/sandbox/ko",
          "App Definition and Development/ Application Definition & Image Build/sandbox/konveyor",
          "App Definition and Development/ Streaming & Messaging/member/koperator",
          "Provisioning/ Automation & Configuration/sandbox/kpt",
          "App Definition and Development/ Application Definition & Image Build/sandbox/krator",
          "Runtime/ Container Runtime/sandbox/krustlet",
          "Serverless/ Installable Platform/incubating/knative-serverless",
          "Wasm/ Runtimes/sandbox/krustlet-wasm",
          "Runtime/ Container Runtime/False/kuasar",
          "App Definition and Development/ Streaming & Messaging/member/memphis",
          "Runtime/ Cloud Native Storage/incubating/longhorn",
          "Orchestration & Management/ Service Mesh/graduated/linkerd",
          "App Definition and Development/ Continuous Integration & Delivery/False/liquibase",
          "Observability and Analysis/ Chaos Engineering/incubating/litmus",
          "App Definition and Development/ Database/False/qdrant",
          "Observability and Analysis/ Monitoring/graduated/prometheus",
          "App Definition and Development/ Streaming & Messaging/sandbox/pravega",
          "App Definition and Development/ Application Definition & Image Build/sandbox/porter",
          "Observability and Analysis/ Monitoring/sandbox/pixie",
          "App Definition and Development/ Application Definition & Image Build/incubating/operator-framework",
          "App Definition and Development/ Continuous Integration & Delivery/sandbox/pipe-cd",
          "Observability and Analysis/ Logging/False/parseable",
          "Provisioning/ Security & Compliance/sandbox/paralus",
          "Runtime/ Cloud Native Storage/sandbox/oras",
          "App Definition and Development/ Application Definition & Image Build/member/quarkus",
          "Runtime/ Cloud Native Storage/sandbox/piraeus-datastore",
          "Runtime/ Container Runtime/archived/rkt",
          "Observability and Analysis/ Monitoring/sandbox/skooner",
          "Provisioning/ Security & Compliance/False/rudder",
          "App Definition and Development/ Database/sandbox/schema-hero",
          "App Definition and Development/ Application Definition & Image Build/sandbox/sealer",
          "Provisioning/ Security & Compliance/False/secure-code-box",
          "Orchestration & Management/ Scheduling & Orchestration/sandbox/serverless-devs",
          "App Definition and Development/ Application Definition & Image Build/sandbox/serverless-workflow",
          "Orchestration & Management/ Service Mesh/archived/service-mesh-interface-smi",
          "Orchestration & Management/ Service Mesh/sandbox/service-mesh-performance",
          "Observability and Analysis/ Monitoring/False/sidekick",
          "Provisioning/ Security & Compliance/False/sigstore",
          "Provisioning/ Automation & Configuration/sandbox/open-yurt",
          "Provisioning/ Security & Compliance/sandbox/slim-toolkit",
          "Provisioning/ Security & Compliance/sandbox/sops",
          "Runtime/ Cloud Native Storage/graduated/rook",
          "Observability and Analysis/ Tracing/archived/open-tracing",
          "Provisioning/ Security & Compliance/sandbox/parsec",
          "Orchestration & Management/ Service Mesh/archived/open-service-mesh",
          "Observability and Analysis/ Tracing/incubating/open-telemetry",
          "Orchestration & Management/ Service Mesh/sandbox/merbridge",
          "Provisioning/ Automation & Configuration/sandbox/meshery",
          "Wasm/ Orchestration & Management/member/meshery-wasm",
          "Provisioning/ Automation & Configuration/sandbox/metal",
          "Orchestration & Management/ Service Proxy/sandbox/metal-lb",
          "App Definition and Development/ Application Definition & Image Build/sandbox/microcks",
          "App Definition and Development/ Application Definition & Image Build/False/mirrord",
          "Orchestration & Management/ Service Mesh/member/nasp",
          "App Definition and Development/ Streaming & Messaging/incubating/nats",
          "Runtime/ Cloud Native Network/sandbox/network-service-mesh",
          "App Definition and Development/ Application Definition & Image Build/sandbox/nocalhost",
          "Provisioning/ Security & Compliance/incubating/notary",
          "Observability and Analysis/ Monitoring/member/micrometer",
          "Observability and Analysis/ Continuous Optimization/sandbox/open-cost",
          "Orchestration & Management/ Scheduling & Orchestration/sandbox/open-cluster-management",
          "Provisioning/ Security & Compliance/sandbox/open-policy-containers",
          "Provisioning/ Security & Compliance/graduated/open-policy-agent-opa",
          "Observability and Analysis/ Monitoring/incubating/open-metrics",
          "Observability and Analysis/ Logging/member/open-search",
          "App Definition and Development/ Continuous Integration & Delivery/sandbox/open-git-ops",
          "App Definition and Development/ Continuous Integration & Delivery/incubating/open-kruise",
          "Orchestration & Management/ Scheduling & Orchestration/sandbox/open-function",
          "Provisioning/ Security & Compliance/sandbox/open-fga",
          "Observability and Analysis/ Feature Flagging/incubating/open-feature",
          "Orchestration & Management/ Service Proxy/sandbox/open-elb",
          "Runtime/ Cloud Native Storage/sandbox/open-ebs",
          "Serverless/ Installable Platform/sandbox/open-function-serverless",
          "Orchestration & Management/ Service Mesh/member/traefik-mesh",
          "App Definition and Development/ Streaming & Messaging/sandbox/tremor",
          "Observability and Analysis/ Monitoring/sandbox/trickster",
          "App Definition and Development/ Continuous Integration & Delivery/False/unleash",
          "App Definition and Development/ Streaming & Messaging/False/userver",
          "App Definition and Development/ Database/member/vald",
          "Orchestration & Management/ Scheduling & Orchestration/incubating/volcano",
          "Runtime/ Container Runtime/sandbox/virtual-kubelet",
          "App Definition and Development/ Application Definition & Image Build/sandbox/visual-studio-code-kubernetes-tools",
          "App Definition and Development/ Database/graduated/vitess",
          "Provisioning/ Security & Compliance/member/vm-clarity",
          "Provisioning/ Security & Compliance/member/topaz",
          "Runtime/ Cloud Native Storage/sandbox/vineyard",
          "Provisioning/ Automation & Configuration/sandbox/tinkerbell",
          "App Definition and Development/ Database/False/star-rocks",
          "App Definition and Development/ Database/graduated/ti-kv",
          "App Definition and Development/ Database/member/spice-db",
          "Wasm/ Runtimes/False/timecraft",
          "Provisioning/ Key Management/graduated/spire",
          "Provisioning/ Security & Compliance/False/stack-rox",
          "App Definition and Development/ Streaming & Messaging/sandbox/strimzi",
          "Runtime/ Cloud Native Network/sandbox/submariner",
          "Provisioning/ Key Management/graduated/spiffe",
          "App Definition and Development/ Application Definition & Image Build/sandbox/telepresence",
          "Provisioning/ Key Management/sandbox/teller",
          "Provisioning/ Security & Compliance/member/tetragon",
          "Observability and Analysis/ Monitoring/incubating/thanos",
          "Provisioning/ Security & Compliance/graduated/the-update-framework-tuf",
          "Provisioning/ Automation & Configuration/sandbox/super-edge",
          "Orchestration & Management/ Scheduling & Orchestration/sandbox/wasm-cloud",
          "Runtime/ Container Runtime/sandbox/wasm-edge-runtime",
          "Wasm/ Runtimes/sandbox/wasm-edge-wasm",
          "Wasm/ Runtimes/False/wasmer",
          "App Definition and Development/ Database/False/ydb",
          "App Definition and Development/ Database/False/weaviate",
          "App Definition and Development/ Continuous Integration & Delivery/sandbox/werf",
          "Orchestration & Management/ Coordination & Service Discovery/sandbox/xline",
          "Provisioning/ Container Registry/sandbox/zot",
          "App Definition and Development/ Application Definition & Image Build/False",
          "Runtime/ Container Runtime/False",
          "App Definition and Development/ Continuous Integration & Delivery/False",
          "App Definition and Development/ Database/False",
          "Observability and Analysis/ Logging/False",
          "Observability and Analysis/ Monitoring/False",
          "Wasm/ Runtimes/False",
          "Orchestration & Management/ Scheduling & Orchestration/False",
          "Provisioning/ Security & Compliance/False",
          "App Definition and Development/ Streaming & Messaging/False",
          "Platform/Container Service/False",
          "Runtime/ Container Runtime/archived",
          "App Definition and Development/ Continuous Integration & Delivery/archived",
          "Orchestration & Management/ Service Mesh/archived",
          "Observability and Analysis/ Tracing/archived",
          "App Definition and Development/ Application Definition & Image Build/graduated",
          "Runtime/ Cloud Native Network/graduated",
          "Runtime/ Cloud Native Storage/graduated",
          "Provisioning/ Container Registry/graduated",
          "Runtime/ Container Runtime/graduated",
          "App Definition and Development/ Continuous Integration & Delivery/graduated",
          "Orchestration & Management/ Coordination & Service Discovery/graduated",
          "App Definition and Development/ Database/graduated",
          "Serverless/ Installable Platform/graduated",
          "Provisioning/ Key Management/graduated",
          "Observability and Analysis/ Logging/graduated",
          "Observability and Analysis/ Monitoring/graduated",
          "Orchestration & Management/ Scheduling & Orchestration/graduated",
          "Provisioning/ Security & Compliance/graduated",
          "Orchestration & Management/ Service Mesh/graduated",
          "Orchestration & Management/ Service Proxy/graduated",
          "Observability and Analysis/ Tracing/graduated",
          "Orchestration & Management/ API Gateway/incubating",
          "App Definition and Development/ Application Definition & Image Build/incubating",
          "Provisioning/ Automation & Configuration/incubating",
          "Observability and Analysis/ Chaos Engineering/incubating",
          "Runtime/ Cloud Native Network/incubating",
          "Runtime/ Cloud Native Storage/incubating",
          "Provisioning/ Container Registry/incubating",
          "App Definition and Development/ Continuous Integration & Delivery/incubating",
          "Observability and Analysis/ Feature Flagging/incubating",
          "Serverless/ Framework/incubating",
          "Serverless/ Installable Platform/incubating",
          "Observability and Analysis/ Monitoring/incubating",
          "Orchestration & Management/ Remote Procedure Call/incubating",
          "Orchestration & Management/ Scheduling & Orchestration/incubating",
          "Provisioning/ Security & Compliance/incubating",
          "Orchestration & Management/ Service Proxy/incubating",
          "App Definition and Development/ Streaming & Messaging/incubating",
          "Observability and Analysis/ Tracing/incubating",
          "App Definition and Development/ Application Definition & Image Build/member",
          "Platform/ Certified Kubernetes - Hosted/member",
          "Platform/ Certified Kubernetes - Installer/member",
          "App Definition and Development/ Continuous Integration & Delivery/member",
          "App Definition and Development/ Database/member",
          "Observability and Analysis/ Logging/member",
          "Observability and Analysis/ Monitoring/member",
          "Wasm/ Orchestration & Management/member",
          "Orchestration & Management/ Scheduling & Orchestration/member",
          "Provisioning/ Security & Compliance/member",
          "Orchestration & Management/ Service Mesh/member",
          "App Definition and Development/ Streaming & Messaging/member",
          "App Definition and Development/ Application Definition & Image Build/sandbox",
          "Provisioning/ Automation & Configuration/sandbox",
          "Platform/ Certified Kubernetes - Distribution/sandbox",
          "Platform/ Certified Kubernetes - Installer/sandbox",
          "Observability and Analysis/ Chaos Engineering/sandbox",
          "Runtime/ Cloud Native Network/sandbox",
          "Runtime/ Cloud Native Storage/sandbox",
          "Provisioning/ Container Registry/sandbox",
          "Runtime/ Container Runtime/sandbox",
          "App Definition and Development/ Continuous Integration & Delivery/sandbox",
          "Observability and Analysis/ Continuous Optimization/sandbox",
          "Orchestration & Management/ Coordination & Service Discovery/sandbox",
          "App Definition and Development/ Database/sandbox",
          "Serverless/ Installable Platform/sandbox",
          "Provisioning/ Key Management/sandbox",
          "Observability and Analysis/ Monitoring/sandbox",
          "Wasm/ Runtimes/sandbox",
          "Orchestration & Management/ Scheduling & Orchestration/sandbox",
          "Provisioning/ Security & Compliance/sandbox",
          "Orchestration & Management/ Service Mesh/sandbox",
          "Orchestration & Management/ Service Proxy/sandbox",
          "App Definition and Development/ Streaming & Messaging/sandbox",
          "Orchestration & Management/ API Gateway",
          "App Definition and Development/ Application Definition & Image Build",
          "Provisioning/ Automation & Configuration",
          "Platform/ Certified Kubernetes - Distribution",
          "Platform/ Certified Kubernetes - Hosted",
          "Platform/ Certified Kubernetes - Installer",
          "Observability and Analysis/ Chaos Engineering",
          "Runtime/ Cloud Native Network",
          "Runtime/ Cloud Native Storage",
          "Provisioning/ Container Registry",
          "Runtime/ Container Runtime",
          "App Definition and Development/ Continuous Integration & Delivery",
          "Observability and Analysis/ Continuous Optimization",
          "Orchestration & Management/ Coordination & Service Discovery",
          "App Definition and Development/ Database",
          "Observability and Analysis/ Feature Flagging",
          "Serverless/ Framework",
          "Serverless/ Installable Platform",
          "Provisioning/ Key Management",
          "Observability and Analysis/ Logging",
          "Observability and Analysis/ Monitoring",
          "Wasm/ Orchestration & Management",
          "Orchestration & Management/ Remote Procedure Call",
          "Wasm/ Runtimes",
          "Orchestration & Management/ Scheduling & Orchestration",
          "Provisioning/ Security & Compliance",
          "Orchestration & Management/ Service Mesh",
          "Orchestration & Management/ Service Proxy",
          "App Definition and Development/ Streaming & Messaging",
          "Observability and Analysis/ Tracing",
          "Platform/Container Service",
          "App Definition and Development",
          "Observability and Analysis",
          "Orchestration & Management",
          "Platform",
          "Provisioning",
          "Runtime",
          "Serverless",
          "Wasm"
         ],
         "labels": [
          "aeraki-mesh",
          "container-network-interface-cni",
          "container-ssh",
          "containerd",
          "contour",
          "core-dns",
          "cortex",
          "cri-o",
          "crossplane",
          "cube-fs",
          "curiefense",
          "curve",
          "confidential-containers",
          "dapr",
          "dev-space",
          "dev-stream",
          "devfile",
          "dex",
          "distribution",
          "dragonfly",
          "ejbca-community",
          "envoy",
          "eraser",
          "etcd",
          "external-secrets",
          "dapr-serverless",
          "cni-genie",
          "emissary-ingress",
          "clusternet",
          "clusterpedia",
          "akri",
          "antrea",
          "api-clarity",
          "argo",
          "armada",
          "artifact-hub",
          "athenz",
          "backstage",
          "bfe",
          "bouncy-castle",
          "brigade",
          "aserto",
          "bytebase",
          "cloud-events",
          "buildpacks",
          "cilium",
          "chaosblade",
          "chaos-mesh",
          "cert-manager",
          "cloud-custodian",
          "carvel",
          "cartographer",
          "carina",
          "capsule",
          "cdk-for-kubernetes-cdk8s",
          "kcl",
          "in-toto",
          "inclavare-containers",
          "inspektor-gadget",
          "istio",
          "k8gb",
          "k3s",
          "k8up",
          "kapeta",
          "karmada",
          "hwamei-stor",
          "jaeger",
          "hubble",
          "harbor",
          "helm",
          "hexa",
          "falco",
          "flagger",
          "fluentd",
          "fluid",
          "fab-edge",
          "fonio",
          "g-rpc",
          "gefyra",
          "headlamp",
          "flux",
          "kube-vip",
          "kube-edge",
          "kube-green",
          "kube-linter",
          "kube-ovn",
          "kube-rs",
          "kube-sphere-qke",
          "kube-vela",
          "kubeflow",
          "kudo",
          "kuberhealthy",
          "kubernetes",
          "kubescape",
          "kubewarden",
          "kuma",
          "kured",
          "kyverno",
          "lima",
          "kube-dl",
          "kubekey",
          "kube-clipper",
          "kube-virt",
          "kube-armor",
          "kube-clarity",
          "kcp",
          "keda-serverless",
          "kepler",
          "keptn",
          "kestra",
          "keycloak",
          "keylime",
          "kics",
          "knative",
          "keda",
          "ko",
          "konveyor",
          "koperator",
          "kpt",
          "krator",
          "krustlet",
          "knative-serverless",
          "krustlet-wasm",
          "kuasar",
          "memphis",
          "longhorn",
          "linkerd",
          "liquibase",
          "litmus",
          "qdrant",
          "prometheus",
          "pravega",
          "porter",
          "pixie",
          "operator-framework",
          "pipe-cd",
          "parseable",
          "paralus",
          "oras",
          "quarkus",
          "piraeus-datastore",
          "rkt",
          "skooner",
          "rudder",
          "schema-hero",
          "sealer",
          "secure-code-box",
          "serverless-devs",
          "serverless-workflow",
          "service-mesh-interface-smi",
          "service-mesh-performance",
          "sidekick",
          "sigstore",
          "open-yurt",
          "slim-toolkit",
          "sops",
          "rook",
          "open-tracing",
          "parsec",
          "open-service-mesh",
          "open-telemetry",
          "merbridge",
          "meshery",
          "meshery-wasm",
          "metal",
          "metal-lb",
          "microcks",
          "mirrord",
          "nasp",
          "nats",
          "network-service-mesh",
          "nocalhost",
          "notary",
          "micrometer",
          "open-cost",
          "open-cluster-management",
          "open-policy-containers",
          "open-policy-agent-opa",
          "open-metrics",
          "open-search",
          "open-git-ops",
          "open-kruise",
          "open-function",
          "open-fga",
          "open-feature",
          "open-elb",
          "open-ebs",
          "open-function-serverless",
          "traefik-mesh",
          "tremor",
          "trickster",
          "unleash",
          "userver",
          "vald",
          "volcano",
          "virtual-kubelet",
          "visual-studio-code-kubernetes-tools",
          "vitess",
          "vm-clarity",
          "topaz",
          "vineyard",
          "tinkerbell",
          "star-rocks",
          "ti-kv",
          "spice-db",
          "timecraft",
          "spire",
          "stack-rox",
          "strimzi",
          "submariner",
          "spiffe",
          "telepresence",
          "teller",
          "tetragon",
          "thanos",
          "the-update-framework-tuf",
          "super-edge",
          "wasm-cloud",
          "wasm-edge-runtime",
          "wasm-edge-wasm",
          "wasmer",
          "ydb",
          "weaviate",
          "werf",
          "xline",
          "zot",
          "False",
          "False",
          "False",
          "False",
          "False",
          "False",
          "False",
          "False",
          "False",
          "False",
          "False",
          "archived",
          "archived",
          "archived",
          "archived",
          "graduated",
          "graduated",
          "graduated",
          "graduated",
          "graduated",
          "graduated",
          "graduated",
          "graduated",
          "graduated",
          "graduated",
          "graduated",
          "graduated",
          "graduated",
          "graduated",
          "graduated",
          "graduated",
          "graduated",
          "incubating",
          "incubating",
          "incubating",
          "incubating",
          "incubating",
          "incubating",
          "incubating",
          "incubating",
          "incubating",
          "incubating",
          "incubating",
          "incubating",
          "incubating",
          "incubating",
          "incubating",
          "incubating",
          "incubating",
          "incubating",
          "member",
          "member",
          "member",
          "member",
          "member",
          "member",
          "member",
          "member",
          "member",
          "member",
          "member",
          "member",
          "sandbox",
          "sandbox",
          "sandbox",
          "sandbox",
          "sandbox",
          "sandbox",
          "sandbox",
          "sandbox",
          "sandbox",
          "sandbox",
          "sandbox",
          "sandbox",
          "sandbox",
          "sandbox",
          "sandbox",
          "sandbox",
          "sandbox",
          "sandbox",
          "sandbox",
          "sandbox",
          "sandbox",
          "sandbox",
          " API Gateway",
          " Application Definition & Image Build",
          " Automation & Configuration",
          " Certified Kubernetes - Distribution",
          " Certified Kubernetes - Hosted",
          " Certified Kubernetes - Installer",
          " Chaos Engineering",
          " Cloud Native Network",
          " Cloud Native Storage",
          " Container Registry",
          " Container Runtime",
          " Continuous Integration & Delivery",
          " Continuous Optimization",
          " Coordination & Service Discovery",
          " Database",
          " Feature Flagging",
          " Framework",
          " Installable Platform",
          " Key Management",
          " Logging",
          " Monitoring",
          " Orchestration & Management",
          " Remote Procedure Call",
          " Runtimes",
          " Scheduling & Orchestration",
          " Security & Compliance",
          " Service Mesh",
          " Service Proxy",
          " Streaming & Messaging",
          " Tracing",
          "Container Service",
          "App Definition and Development",
          "Observability and Analysis",
          "Orchestration & Management",
          "Platform",
          "Provisioning",
          "Runtime",
          "Serverless",
          "Wasm"
         ],
         "marker": {
          "colors": [
           "#bc5090",
           "#2f4b7c",
           "#ffa600",
           "#2f4b7c",
           "#bc5090",
           "#bc5090",
           "#58508d",
           "#2f4b7c",
           "#bc5090",
           "#2f4b7c",
           "#ffa600",
           "#2f4b7c",
           "#ffa600",
           "#003f5c",
           "#003f5c",
           "#ffa600",
           "#003f5c",
           "#ffa600",
           "#ffa600",
           "#ffa600",
           "#ffa600",
           "#bc5090",
           "#bc5090",
           "#bc5090",
           "#ffa600",
           "#665191",
           "#2f4b7c",
           "#bc5090",
           "#bc5090",
           "#bc5090",
           "#ffa600",
           "#2f4b7c",
           "#ffa600",
           "#003f5c",
           "#bc5090",
           "#003f5c",
           "#ffa600",
           "#003f5c",
           "#bc5090",
           "#ffa600",
           "#003f5c",
           "#ffa600",
           "#003f5c",
           "#003f5c",
           "#003f5c",
           "#2f4b7c",
           "#58508d",
           "#58508d",
           "#ffa600",
           "#ffa600",
           "#003f5c",
           "#003f5c",
           "#2f4b7c",
           "#bc5090",
           "#ffa600",
           "#ffa600",
           "#ffa600",
           "#2f4b7c",
           "#58508d",
           "#bc5090",
           "#bc5090",
           "#ff6361",
           "#2f4b7c",
           "#ff6361",
           "#bc5090",
           "#2f4b7c",
           "#58508d",
           "#58508d",
           "#ffa600",
           "#003f5c",
           "#ffa600",
           "#ffa600",
           "#003f5c",
           "#58508d",
           "#bc5090",
           "#2f4b7c",
           "#58508d",
           "#bc5090",
           "#003f5c",
           "#58508d",
           "#003f5c",
           "#2f4b7c",
           "#ffa600",
           "#bc5090",
           "#ffa600",
           "#2f4b7c",
           "#bc5090",
           "#ff6361",
           "#003f5c",
           "#bc5090",
           "#003f5c",
           "#58508d",
           "#bc5090",
           "#ffa600",
           "#ffa600",
           "#bc5090",
           "#bc5090",
           "#ffa600",
           "#2f4b7c",
           "#ffa600",
           "#ff6361",
           "#ff6361",
           "#003f5c",
           "#ffa600",
           "#ffa600",
           "#bc5090",
           "#665191",
           "#58508d",
           "#003f5c",
           "#bc5090",
           "#ffa600",
           "#ffa600",
           "#ffa600",
           "#bc5090",
           "#bc5090",
           "#003f5c",
           "#003f5c",
           "#003f5c",
           "#ffa600",
           "#003f5c",
           "#2f4b7c",
           "#665191",
           "#B6E880",
           "#2f4b7c",
           "#003f5c",
           "#2f4b7c",
           "#bc5090",
           "#003f5c",
           "#58508d",
           "#003f5c",
           "#58508d",
           "#003f5c",
           "#003f5c",
           "#58508d",
           "#003f5c",
           "#003f5c",
           "#58508d",
           "#ffa600",
           "#2f4b7c",
           "#003f5c",
           "#2f4b7c",
           "#2f4b7c",
           "#58508d",
           "#ffa600",
           "#003f5c",
           "#003f5c",
           "#ffa600",
           "#bc5090",
           "#003f5c",
           "#bc5090",
           "#bc5090",
           "#58508d",
           "#ffa600",
           "#ffa600",
           "#ffa600",
           "#ffa600",
           "#2f4b7c",
           "#58508d",
           "#ffa600",
           "#bc5090",
           "#58508d",
           "#bc5090",
           "#ffa600",
           "#B6E880",
           "#ffa600",
           "#bc5090",
           "#003f5c",
           "#003f5c",
           "#bc5090",
           "#003f5c",
           "#2f4b7c",
           "#003f5c",
           "#ffa600",
           "#58508d",
           "#58508d",
           "#bc5090",
           "#ffa600",
           "#ffa600",
           "#58508d",
           "#58508d",
           "#003f5c",
           "#003f5c",
           "#bc5090",
           "#ffa600",
           "#58508d",
           "#bc5090",
           "#2f4b7c",
           "#665191",
           "#bc5090",
           "#003f5c",
           "#58508d",
           "#003f5c",
           "#003f5c",
           "#003f5c",
           "#bc5090",
           "#2f4b7c",
           "#003f5c",
           "#003f5c",
           "#ffa600",
           "#ffa600",
           "#2f4b7c",
           "#ffa600",
           "#003f5c",
           "#003f5c",
           "#003f5c",
           "#B6E880",
           "#ffa600",
           "#ffa600",
           "#003f5c",
           "#2f4b7c",
           "#ffa600",
           "#003f5c",
           "#ffa600",
           "#ffa600",
           "#58508d",
           "#ffa600",
           "#ffa600",
           "#bc5090",
           "#2f4b7c",
           "#B6E880",
           "#B6E880",
           "#003f5c",
           "#003f5c",
           "#003f5c",
           "#bc5090",
           "#ffa600",
           "#003f5c",
           "#2f4b7c",
           "#003f5c",
           "#003f5c",
           "#58508d",
           "#58508d",
           "#B6E880",
           "#bc5090",
           "#ffa600",
           "#003f5c",
           "#ff6361",
           "#2f4b7c",
           "#003f5c",
           "#bc5090",
           "#58508d",
           "#003f5c",
           "#2f4b7c",
           "#2f4b7c",
           "#ffa600",
           "#2f4b7c",
           "#003f5c",
           "#bc5090",
           "#003f5c",
           "#665191",
           "#ffa600",
           "#58508d",
           "#58508d",
           "#bc5090",
           "#ffa600",
           "#bc5090",
           "#bc5090",
           "#58508d",
           "#bc5090",
           "#003f5c",
           "#ffa600",
           "#58508d",
           "#2f4b7c",
           "#2f4b7c",
           "#ffa600",
           "#003f5c",
           "#58508d",
           "#665191",
           "#665191",
           "#58508d",
           "#bc5090",
           "#bc5090",
           "#ffa600",
           "#bc5090",
           "#003f5c",
           "#58508d",
           "#003f5c",
           "#ff6361",
           "#ff6361",
           "#003f5c",
           "#003f5c",
           "#58508d",
           "#58508d",
           "#B6E880",
           "#bc5090",
           "#ffa600",
           "#bc5090",
           "#003f5c",
           "#003f5c",
           "#ffa600",
           "#ff6361",
           "#ff6361",
           "#58508d",
           "#2f4b7c",
           "#2f4b7c",
           "#ffa600",
           "#2f4b7c",
           "#003f5c",
           "#58508d",
           "#bc5090",
           "#003f5c",
           "#665191",
           "#ffa600",
           "#58508d",
           "#B6E880",
           "#bc5090",
           "#ffa600",
           "#bc5090",
           "#bc5090",
           "#003f5c",
           "#bc5090",
           "#003f5c",
           "#ffa600",
           "#ff6361",
           "#ff6361",
           "#ff6361",
           "#58508d",
           "#2f4b7c",
           "#2f4b7c",
           "#ffa600",
           "#2f4b7c",
           "#003f5c",
           "#58508d",
           "#bc5090",
           "#003f5c",
           "#58508d",
           "#665191",
           "#665191",
           "#ffa600",
           "#58508d",
           "#58508d",
           "#B6E880",
           "#bc5090",
           "#B6E880",
           "#bc5090",
           "#ffa600",
           "#bc5090",
           "#bc5090",
           "#003f5c",
           "#58508d",
           "#ff6361",
           "#003f5c",
           "#58508d",
           "#bc5090",
           "#ff6361",
           "#ffa600",
           "#2f4b7c",
           "#665191",
           "#B6E880"
          ]
         },
         "name": "",
         "parents": [
          "Orchestration & Management/ Service Mesh/sandbox",
          "Runtime/ Cloud Native Network/incubating",
          "Provisioning/ Security & Compliance/sandbox",
          "Runtime/ Container Runtime/graduated",
          "Orchestration & Management/ Service Proxy/incubating",
          "Orchestration & Management/ Coordination & Service Discovery/graduated",
          "Observability and Analysis/ Monitoring/incubating",
          "Runtime/ Container Runtime/graduated",
          "Orchestration & Management/ Scheduling & Orchestration/incubating",
          "Runtime/ Cloud Native Storage/incubating",
          "Provisioning/ Security & Compliance/sandbox",
          "Runtime/ Cloud Native Storage/sandbox",
          "Provisioning/ Security & Compliance/sandbox",
          "App Definition and Development/ Application Definition & Image Build/incubating",
          "App Definition and Development/ Application Definition & Image Build/sandbox",
          "Provisioning/ Automation & Configuration/sandbox",
          "App Definition and Development/ Application Definition & Image Build/sandbox",
          "Provisioning/ Security & Compliance/sandbox",
          "Provisioning/ Container Registry/sandbox",
          "Provisioning/ Container Registry/incubating",
          "Provisioning/ Security & Compliance/member",
          "Orchestration & Management/ Service Proxy/graduated",
          "Orchestration & Management/ Scheduling & Orchestration/sandbox",
          "Orchestration & Management/ Coordination & Service Discovery/graduated",
          "Provisioning/ Security & Compliance/sandbox",
          "Serverless/ Framework/incubating",
          "Runtime/ Cloud Native Network/sandbox",
          "Orchestration & Management/ API Gateway/incubating",
          "Orchestration & Management/ Scheduling & Orchestration/sandbox",
          "Orchestration & Management/ Scheduling & Orchestration/sandbox",
          "Provisioning/ Automation & Configuration/sandbox",
          "Runtime/ Cloud Native Network/sandbox",
          "Provisioning/ Security & Compliance/member",
          "App Definition and Development/ Continuous Integration & Delivery/graduated",
          "Orchestration & Management/ Scheduling & Orchestration/sandbox",
          "App Definition and Development/ Application Definition & Image Build/sandbox",
          "Provisioning/ Key Management/sandbox",
          "App Definition and Development/ Application Definition & Image Build/incubating",
          "Orchestration & Management/ Service Proxy/sandbox",
          "Provisioning/ Security & Compliance/member",
          "App Definition and Development/ Continuous Integration & Delivery/archived",
          "Provisioning/ Security & Compliance/member",
          "App Definition and Development/ Continuous Integration & Delivery/False",
          "App Definition and Development/ Streaming & Messaging/incubating",
          "App Definition and Development/ Application Definition & Image Build/incubating",
          "Runtime/ Cloud Native Network/graduated",
          "Observability and Analysis/ Chaos Engineering/sandbox",
          "Observability and Analysis/ Chaos Engineering/incubating",
          "Provisioning/ Security & Compliance/incubating",
          "Provisioning/ Automation & Configuration/incubating",
          "App Definition and Development/ Application Definition & Image Build/sandbox",
          "App Definition and Development/ Continuous Integration & Delivery/member",
          "Runtime/ Cloud Native Storage/sandbox",
          "Orchestration & Management/ Scheduling & Orchestration/sandbox",
          "Provisioning/ Automation & Configuration/sandbox",
          "Provisioning/ Automation & Configuration/sandbox",
          "Provisioning/ Security & Compliance/incubating",
          "Runtime/ Container Runtime/sandbox",
          "Observability and Analysis/ Monitoring/sandbox",
          "Orchestration & Management/ Service Mesh/graduated",
          "Orchestration & Management/ Coordination & Service Discovery/sandbox",
          "Platform/ Certified Kubernetes - Distribution/sandbox",
          "Runtime/ Cloud Native Storage/sandbox",
          "Platform/Container Service/False",
          "Orchestration & Management/ Scheduling & Orchestration/sandbox",
          "Runtime/ Cloud Native Storage/sandbox",
          "Observability and Analysis/ Tracing/graduated",
          "Observability and Analysis/ Monitoring/member",
          "Provisioning/ Container Registry/graduated",
          "App Definition and Development/ Application Definition & Image Build/graduated",
          "Provisioning/ Security & Compliance/sandbox",
          "Provisioning/ Security & Compliance/incubating",
          "App Definition and Development/ Continuous Integration & Delivery/member",
          "Observability and Analysis/ Logging/graduated",
          "Orchestration & Management/ Scheduling & Orchestration/sandbox",
          "Runtime/ Cloud Native Network/sandbox",
          "Observability and Analysis/ Monitoring/sandbox",
          "Orchestration & Management/ Remote Procedure Call/incubating",
          "App Definition and Development/ Application Definition & Image Build/False",
          "Observability and Analysis/ Monitoring/sandbox",
          "App Definition and Development/ Continuous Integration & Delivery/graduated",
          "Runtime/ Cloud Native Network/sandbox",
          "Provisioning/ Automation & Configuration/incubating",
          "Orchestration & Management/ Scheduling & Orchestration/member",
          "Provisioning/ Security & Compliance/member",
          "Runtime/ Cloud Native Network/sandbox",
          "Orchestration & Management/ Scheduling & Orchestration/sandbox",
          "Platform/ Certified Kubernetes - Hosted/member",
          "App Definition and Development/ Application Definition & Image Build/incubating",
          "Orchestration & Management/ Scheduling & Orchestration/incubating",
          "App Definition and Development/ Application Definition & Image Build/sandbox",
          "Observability and Analysis/ Monitoring/sandbox",
          "Orchestration & Management/ Scheduling & Orchestration/graduated",
          "Provisioning/ Security & Compliance/sandbox",
          "Provisioning/ Security & Compliance/sandbox",
          "Orchestration & Management/ Service Mesh/sandbox",
          "Orchestration & Management/ Scheduling & Orchestration/sandbox",
          "Provisioning/ Security & Compliance/incubating",
          "Runtime/ Container Runtime/sandbox",
          "Provisioning/ Automation & Configuration/sandbox",
          "Platform/ Certified Kubernetes - Installer/member",
          "Platform/ Certified Kubernetes - Installer/sandbox",
          "App Definition and Development/ Application Definition & Image Build/incubating",
          "Provisioning/ Security & Compliance/sandbox",
          "Provisioning/ Security & Compliance/member",
          "Orchestration & Management/ Scheduling & Orchestration/sandbox",
          "Serverless/ Installable Platform/graduated",
          "Observability and Analysis/ Monitoring/sandbox",
          "App Definition and Development/ Continuous Integration & Delivery/incubating",
          "Orchestration & Management/ Scheduling & Orchestration/False",
          "Provisioning/ Security & Compliance/incubating",
          "Provisioning/ Security & Compliance/sandbox",
          "Provisioning/ Security & Compliance/False",
          "Orchestration & Management/ Scheduling & Orchestration/incubating",
          "Orchestration & Management/ Scheduling & Orchestration/graduated",
          "App Definition and Development/ Application Definition & Image Build/sandbox",
          "App Definition and Development/ Application Definition & Image Build/sandbox",
          "App Definition and Development/ Streaming & Messaging/member",
          "Provisioning/ Automation & Configuration/sandbox",
          "App Definition and Development/ Application Definition & Image Build/sandbox",
          "Runtime/ Container Runtime/sandbox",
          "Serverless/ Installable Platform/incubating",
          "Wasm/ Runtimes/sandbox",
          "Runtime/ Container Runtime/False",
          "App Definition and Development/ Streaming & Messaging/member",
          "Runtime/ Cloud Native Storage/incubating",
          "Orchestration & Management/ Service Mesh/graduated",
          "App Definition and Development/ Continuous Integration & Delivery/False",
          "Observability and Analysis/ Chaos Engineering/incubating",
          "App Definition and Development/ Database/False",
          "Observability and Analysis/ Monitoring/graduated",
          "App Definition and Development/ Streaming & Messaging/sandbox",
          "App Definition and Development/ Application Definition & Image Build/sandbox",
          "Observability and Analysis/ Monitoring/sandbox",
          "App Definition and Development/ Application Definition & Image Build/incubating",
          "App Definition and Development/ Continuous Integration & Delivery/sandbox",
          "Observability and Analysis/ Logging/False",
          "Provisioning/ Security & Compliance/sandbox",
          "Runtime/ Cloud Native Storage/sandbox",
          "App Definition and Development/ Application Definition & Image Build/member",
          "Runtime/ Cloud Native Storage/sandbox",
          "Runtime/ Container Runtime/archived",
          "Observability and Analysis/ Monitoring/sandbox",
          "Provisioning/ Security & Compliance/False",
          "App Definition and Development/ Database/sandbox",
          "App Definition and Development/ Application Definition & Image Build/sandbox",
          "Provisioning/ Security & Compliance/False",
          "Orchestration & Management/ Scheduling & Orchestration/sandbox",
          "App Definition and Development/ Application Definition & Image Build/sandbox",
          "Orchestration & Management/ Service Mesh/archived",
          "Orchestration & Management/ Service Mesh/sandbox",
          "Observability and Analysis/ Monitoring/False",
          "Provisioning/ Security & Compliance/False",
          "Provisioning/ Automation & Configuration/sandbox",
          "Provisioning/ Security & Compliance/sandbox",
          "Provisioning/ Security & Compliance/sandbox",
          "Runtime/ Cloud Native Storage/graduated",
          "Observability and Analysis/ Tracing/archived",
          "Provisioning/ Security & Compliance/sandbox",
          "Orchestration & Management/ Service Mesh/archived",
          "Observability and Analysis/ Tracing/incubating",
          "Orchestration & Management/ Service Mesh/sandbox",
          "Provisioning/ Automation & Configuration/sandbox",
          "Wasm/ Orchestration & Management/member",
          "Provisioning/ Automation & Configuration/sandbox",
          "Orchestration & Management/ Service Proxy/sandbox",
          "App Definition and Development/ Application Definition & Image Build/sandbox",
          "App Definition and Development/ Application Definition & Image Build/False",
          "Orchestration & Management/ Service Mesh/member",
          "App Definition and Development/ Streaming & Messaging/incubating",
          "Runtime/ Cloud Native Network/sandbox",
          "App Definition and Development/ Application Definition & Image Build/sandbox",
          "Provisioning/ Security & Compliance/incubating",
          "Observability and Analysis/ Monitoring/member",
          "Observability and Analysis/ Continuous Optimization/sandbox",
          "Orchestration & Management/ Scheduling & Orchestration/sandbox",
          "Provisioning/ Security & Compliance/sandbox",
          "Provisioning/ Security & Compliance/graduated",
          "Observability and Analysis/ Monitoring/incubating",
          "Observability and Analysis/ Logging/member",
          "App Definition and Development/ Continuous Integration & Delivery/sandbox",
          "App Definition and Development/ Continuous Integration & Delivery/incubating",
          "Orchestration & Management/ Scheduling & Orchestration/sandbox",
          "Provisioning/ Security & Compliance/sandbox",
          "Observability and Analysis/ Feature Flagging/incubating",
          "Orchestration & Management/ Service Proxy/sandbox",
          "Runtime/ Cloud Native Storage/sandbox",
          "Serverless/ Installable Platform/sandbox",
          "Orchestration & Management/ Service Mesh/member",
          "App Definition and Development/ Streaming & Messaging/sandbox",
          "Observability and Analysis/ Monitoring/sandbox",
          "App Definition and Development/ Continuous Integration & Delivery/False",
          "App Definition and Development/ Streaming & Messaging/False",
          "App Definition and Development/ Database/member",
          "Orchestration & Management/ Scheduling & Orchestration/incubating",
          "Runtime/ Container Runtime/sandbox",
          "App Definition and Development/ Application Definition & Image Build/sandbox",
          "App Definition and Development/ Database/graduated",
          "Provisioning/ Security & Compliance/member",
          "Provisioning/ Security & Compliance/member",
          "Runtime/ Cloud Native Storage/sandbox",
          "Provisioning/ Automation & Configuration/sandbox",
          "App Definition and Development/ Database/False",
          "App Definition and Development/ Database/graduated",
          "App Definition and Development/ Database/member",
          "Wasm/ Runtimes/False",
          "Provisioning/ Key Management/graduated",
          "Provisioning/ Security & Compliance/False",
          "App Definition and Development/ Streaming & Messaging/sandbox",
          "Runtime/ Cloud Native Network/sandbox",
          "Provisioning/ Key Management/graduated",
          "App Definition and Development/ Application Definition & Image Build/sandbox",
          "Provisioning/ Key Management/sandbox",
          "Provisioning/ Security & Compliance/member",
          "Observability and Analysis/ Monitoring/incubating",
          "Provisioning/ Security & Compliance/graduated",
          "Provisioning/ Automation & Configuration/sandbox",
          "Orchestration & Management/ Scheduling & Orchestration/sandbox",
          "Runtime/ Container Runtime/sandbox",
          "Wasm/ Runtimes/sandbox",
          "Wasm/ Runtimes/False",
          "App Definition and Development/ Database/False",
          "App Definition and Development/ Database/False",
          "App Definition and Development/ Continuous Integration & Delivery/sandbox",
          "Orchestration & Management/ Coordination & Service Discovery/sandbox",
          "Provisioning/ Container Registry/sandbox",
          "App Definition and Development/ Application Definition & Image Build",
          "Runtime/ Container Runtime",
          "App Definition and Development/ Continuous Integration & Delivery",
          "App Definition and Development/ Database",
          "Observability and Analysis/ Logging",
          "Observability and Analysis/ Monitoring",
          "Wasm/ Runtimes",
          "Orchestration & Management/ Scheduling & Orchestration",
          "Provisioning/ Security & Compliance",
          "App Definition and Development/ Streaming & Messaging",
          "Platform/Container Service",
          "Runtime/ Container Runtime",
          "App Definition and Development/ Continuous Integration & Delivery",
          "Orchestration & Management/ Service Mesh",
          "Observability and Analysis/ Tracing",
          "App Definition and Development/ Application Definition & Image Build",
          "Runtime/ Cloud Native Network",
          "Runtime/ Cloud Native Storage",
          "Provisioning/ Container Registry",
          "Runtime/ Container Runtime",
          "App Definition and Development/ Continuous Integration & Delivery",
          "Orchestration & Management/ Coordination & Service Discovery",
          "App Definition and Development/ Database",
          "Serverless/ Installable Platform",
          "Provisioning/ Key Management",
          "Observability and Analysis/ Logging",
          "Observability and Analysis/ Monitoring",
          "Orchestration & Management/ Scheduling & Orchestration",
          "Provisioning/ Security & Compliance",
          "Orchestration & Management/ Service Mesh",
          "Orchestration & Management/ Service Proxy",
          "Observability and Analysis/ Tracing",
          "Orchestration & Management/ API Gateway",
          "App Definition and Development/ Application Definition & Image Build",
          "Provisioning/ Automation & Configuration",
          "Observability and Analysis/ Chaos Engineering",
          "Runtime/ Cloud Native Network",
          "Runtime/ Cloud Native Storage",
          "Provisioning/ Container Registry",
          "App Definition and Development/ Continuous Integration & Delivery",
          "Observability and Analysis/ Feature Flagging",
          "Serverless/ Framework",
          "Serverless/ Installable Platform",
          "Observability and Analysis/ Monitoring",
          "Orchestration & Management/ Remote Procedure Call",
          "Orchestration & Management/ Scheduling & Orchestration",
          "Provisioning/ Security & Compliance",
          "Orchestration & Management/ Service Proxy",
          "App Definition and Development/ Streaming & Messaging",
          "Observability and Analysis/ Tracing",
          "App Definition and Development/ Application Definition & Image Build",
          "Platform/ Certified Kubernetes - Hosted",
          "Platform/ Certified Kubernetes - Installer",
          "App Definition and Development/ Continuous Integration & Delivery",
          "App Definition and Development/ Database",
          "Observability and Analysis/ Logging",
          "Observability and Analysis/ Monitoring",
          "Wasm/ Orchestration & Management",
          "Orchestration & Management/ Scheduling & Orchestration",
          "Provisioning/ Security & Compliance",
          "Orchestration & Management/ Service Mesh",
          "App Definition and Development/ Streaming & Messaging",
          "App Definition and Development/ Application Definition & Image Build",
          "Provisioning/ Automation & Configuration",
          "Platform/ Certified Kubernetes - Distribution",
          "Platform/ Certified Kubernetes - Installer",
          "Observability and Analysis/ Chaos Engineering",
          "Runtime/ Cloud Native Network",
          "Runtime/ Cloud Native Storage",
          "Provisioning/ Container Registry",
          "Runtime/ Container Runtime",
          "App Definition and Development/ Continuous Integration & Delivery",
          "Observability and Analysis/ Continuous Optimization",
          "Orchestration & Management/ Coordination & Service Discovery",
          "App Definition and Development/ Database",
          "Serverless/ Installable Platform",
          "Provisioning/ Key Management",
          "Observability and Analysis/ Monitoring",
          "Wasm/ Runtimes",
          "Orchestration & Management/ Scheduling & Orchestration",
          "Provisioning/ Security & Compliance",
          "Orchestration & Management/ Service Mesh",
          "Orchestration & Management/ Service Proxy",
          "App Definition and Development/ Streaming & Messaging",
          "Orchestration & Management",
          "App Definition and Development",
          "Provisioning",
          "Platform",
          "Platform",
          "Platform",
          "Observability and Analysis",
          "Runtime",
          "Runtime",
          "Provisioning",
          "Runtime",
          "App Definition and Development",
          "Observability and Analysis",
          "Orchestration & Management",
          "App Definition and Development",
          "Observability and Analysis",
          "Serverless",
          "Serverless",
          "Provisioning",
          "Observability and Analysis",
          "Observability and Analysis",
          "Wasm",
          "Orchestration & Management",
          "Wasm",
          "Orchestration & Management",
          "Provisioning",
          "Orchestration & Management",
          "Orchestration & Management",
          "App Definition and Development",
          "Observability and Analysis",
          "Platform",
          "",
          "",
          "",
          "",
          "",
          "",
          "",
          ""
         ],
         "type": "sunburst",
         "values": [
          89,
          65,
          10,
          1631,
          539,
          341,
          409,
          1031,
          1525,
          1062,
          822,
          283,
          182,
          967,
          0,
          515,
          15,
          328,
          350,
          796,
          1440,
          3695,
          274,
          1761,
          402,
          967,
          0,
          314,
          174,
          216,
          197,
          670,
          46,
          1338,
          774,
          254,
          371,
          12533,
          21,
          1363,
          0,
          42,
          4904,
          365,
          951,
          5064,
          13,
          138,
          801,
          522,
          54,
          128,
          65,
          210,
          434,
          329,
          224,
          2,
          1978,
          2473,
          245,
          442,
          230,
          4567,
          1488,
          1239,
          404,
          293,
          442,
          407,
          142,
          807,
          274,
          220,
          771,
          110,
          0,
          1982,
          786,
          1172,
          689,
          226,
          496,
          194,
          140,
          751,
          194,
          2,
          708,
          237,
          0,
          68,
          7549,
          841,
          198,
          1598,
          224,
          1928,
          879,
          7,
          458,
          212,
          2588,
          518,
          176,
          8907,
          396,
          1184,
          437,
          979,
          2735,
          529,
          1850,
          655,
          396,
          253,
          137,
          127,
          246,
          0,
          0,
          655,
          0,
          116,
          2840,
          3626,
          1122,
          1308,
          141,
          930,
          1135,
          121,
          492,
          1373,
          149,
          454,
          276,
          99,
          261,
          7580,
          140,
          0,
          40,
          1561,
          138,
          227,
          1154,
          70,
          40,
          0,
          58,
          56,
          607,
          380,
          154,
          147,
          1313,
          0,
          77,
          76,
          704,
          41,
          8173,
          8173,
          291,
          297,
          180,
          846,
          60,
          4595,
          8,
          36,
          192,
          803,
          909,
          87,
          106,
          592,
          2,
          1418,
          32,
          126,
          125,
          499,
          43,
          18,
          10,
          125,
          1,
          463,
          21,
          2396,
          1142,
          437,
          429,
          56,
          27,
          2283,
          505,
          207,
          428,
          249,
          6087,
          690,
          1236,
          1116,
          737,
          3555,
          2111,
          318,
          19,
          1382,
          14,
          1250,
          626,
          554,
          67,
          2360,
          599,
          599,
          4021,
          6966,
          2721,
          1272,
          536,
          409,
          1632,
          116,
          8608,
          16704,
          276,
          56,
          5137,
          979,
          8727,
          1142,
          4567,
          0,
          0,
          76,
          0,
          407,
          5064,
          1313,
          442,
          2662,
          2027,
          2102,
          2973,
          396,
          756,
          220,
          1135,
          7945,
          1146,
          3595,
          3695,
          404,
          314,
          17896,
          1018,
          279,
          65,
          4688,
          796,
          563,
          43,
          967,
          655,
          1037,
          1982,
          2846,
          6687,
          539,
          4960,
          704,
          7580,
          2,
          458,
          402,
          1673,
          1418,
          1096,
          8173,
          194,
          5169,
          61,
          2967,
          3097,
          10888,
          442,
          212,
          13,
          2083,
          2656,
          759,
          1536,
          1758,
          909,
          781,
          138,
          125,
          385,
          5836,
          599,
          15874,
          5054,
          1786,
          336,
          2695,
          314,
          30612,
          11906,
          442,
          2,
          670,
          292,
          7212,
          8657,
          1997,
          4314,
          13358,
          909,
          2883,
          21488,
          43,
          967,
          1176,
          1141,
          1914,
          9160,
          8173,
          1982,
          5736,
          27838,
          26783,
          5518,
          4570,
          11764,
          1108,
          4567,
          77222,
          13426,
          43105,
          5681,
          41827,
          20183,
          2143,
          13909
         ]
        }
       ],
       "layout": {
        "height": 1200,
        "legend": {
         "tracegroupgap": 0
        },
        "template": {
         "data": {
          "bar": [
           {
            "error_x": {
             "color": "#2a3f5f"
            },
            "error_y": {
             "color": "#2a3f5f"
            },
            "marker": {
             "line": {
              "color": "#E5ECF6",
              "width": 0.5
             },
             "pattern": {
              "fillmode": "overlay",
              "size": 10,
              "solidity": 0.2
             }
            },
            "type": "bar"
           }
          ],
          "barpolar": [
           {
            "marker": {
             "line": {
              "color": "#E5ECF6",
              "width": 0.5
             },
             "pattern": {
              "fillmode": "overlay",
              "size": 10,
              "solidity": 0.2
             }
            },
            "type": "barpolar"
           }
          ],
          "carpet": [
           {
            "aaxis": {
             "endlinecolor": "#2a3f5f",
             "gridcolor": "white",
             "linecolor": "white",
             "minorgridcolor": "white",
             "startlinecolor": "#2a3f5f"
            },
            "baxis": {
             "endlinecolor": "#2a3f5f",
             "gridcolor": "white",
             "linecolor": "white",
             "minorgridcolor": "white",
             "startlinecolor": "#2a3f5f"
            },
            "type": "carpet"
           }
          ],
          "choropleth": [
           {
            "colorbar": {
             "outlinewidth": 0,
             "ticks": ""
            },
            "type": "choropleth"
           }
          ],
          "contour": [
           {
            "colorbar": {
             "outlinewidth": 0,
             "ticks": ""
            },
            "colorscale": [
             [
              0,
              "#0d0887"
             ],
             [
              0.1111111111111111,
              "#46039f"
             ],
             [
              0.2222222222222222,
              "#7201a8"
             ],
             [
              0.3333333333333333,
              "#9c179e"
             ],
             [
              0.4444444444444444,
              "#bd3786"
             ],
             [
              0.5555555555555556,
              "#d8576b"
             ],
             [
              0.6666666666666666,
              "#ed7953"
             ],
             [
              0.7777777777777778,
              "#fb9f3a"
             ],
             [
              0.8888888888888888,
              "#fdca26"
             ],
             [
              1,
              "#f0f921"
             ]
            ],
            "type": "contour"
           }
          ],
          "contourcarpet": [
           {
            "colorbar": {
             "outlinewidth": 0,
             "ticks": ""
            },
            "type": "contourcarpet"
           }
          ],
          "heatmap": [
           {
            "colorbar": {
             "outlinewidth": 0,
             "ticks": ""
            },
            "colorscale": [
             [
              0,
              "#0d0887"
             ],
             [
              0.1111111111111111,
              "#46039f"
             ],
             [
              0.2222222222222222,
              "#7201a8"
             ],
             [
              0.3333333333333333,
              "#9c179e"
             ],
             [
              0.4444444444444444,
              "#bd3786"
             ],
             [
              0.5555555555555556,
              "#d8576b"
             ],
             [
              0.6666666666666666,
              "#ed7953"
             ],
             [
              0.7777777777777778,
              "#fb9f3a"
             ],
             [
              0.8888888888888888,
              "#fdca26"
             ],
             [
              1,
              "#f0f921"
             ]
            ],
            "type": "heatmap"
           }
          ],
          "heatmapgl": [
           {
            "colorbar": {
             "outlinewidth": 0,
             "ticks": ""
            },
            "colorscale": [
             [
              0,
              "#0d0887"
             ],
             [
              0.1111111111111111,
              "#46039f"
             ],
             [
              0.2222222222222222,
              "#7201a8"
             ],
             [
              0.3333333333333333,
              "#9c179e"
             ],
             [
              0.4444444444444444,
              "#bd3786"
             ],
             [
              0.5555555555555556,
              "#d8576b"
             ],
             [
              0.6666666666666666,
              "#ed7953"
             ],
             [
              0.7777777777777778,
              "#fb9f3a"
             ],
             [
              0.8888888888888888,
              "#fdca26"
             ],
             [
              1,
              "#f0f921"
             ]
            ],
            "type": "heatmapgl"
           }
          ],
          "histogram": [
           {
            "marker": {
             "pattern": {
              "fillmode": "overlay",
              "size": 10,
              "solidity": 0.2
             }
            },
            "type": "histogram"
           }
          ],
          "histogram2d": [
           {
            "colorbar": {
             "outlinewidth": 0,
             "ticks": ""
            },
            "colorscale": [
             [
              0,
              "#0d0887"
             ],
             [
              0.1111111111111111,
              "#46039f"
             ],
             [
              0.2222222222222222,
              "#7201a8"
             ],
             [
              0.3333333333333333,
              "#9c179e"
             ],
             [
              0.4444444444444444,
              "#bd3786"
             ],
             [
              0.5555555555555556,
              "#d8576b"
             ],
             [
              0.6666666666666666,
              "#ed7953"
             ],
             [
              0.7777777777777778,
              "#fb9f3a"
             ],
             [
              0.8888888888888888,
              "#fdca26"
             ],
             [
              1,
              "#f0f921"
             ]
            ],
            "type": "histogram2d"
           }
          ],
          "histogram2dcontour": [
           {
            "colorbar": {
             "outlinewidth": 0,
             "ticks": ""
            },
            "colorscale": [
             [
              0,
              "#0d0887"
             ],
             [
              0.1111111111111111,
              "#46039f"
             ],
             [
              0.2222222222222222,
              "#7201a8"
             ],
             [
              0.3333333333333333,
              "#9c179e"
             ],
             [
              0.4444444444444444,
              "#bd3786"
             ],
             [
              0.5555555555555556,
              "#d8576b"
             ],
             [
              0.6666666666666666,
              "#ed7953"
             ],
             [
              0.7777777777777778,
              "#fb9f3a"
             ],
             [
              0.8888888888888888,
              "#fdca26"
             ],
             [
              1,
              "#f0f921"
             ]
            ],
            "type": "histogram2dcontour"
           }
          ],
          "mesh3d": [
           {
            "colorbar": {
             "outlinewidth": 0,
             "ticks": ""
            },
            "type": "mesh3d"
           }
          ],
          "parcoords": [
           {
            "line": {
             "colorbar": {
              "outlinewidth": 0,
              "ticks": ""
             }
            },
            "type": "parcoords"
           }
          ],
          "pie": [
           {
            "automargin": true,
            "type": "pie"
           }
          ],
          "scatter": [
           {
            "fillpattern": {
             "fillmode": "overlay",
             "size": 10,
             "solidity": 0.2
            },
            "type": "scatter"
           }
          ],
          "scatter3d": [
           {
            "line": {
             "colorbar": {
              "outlinewidth": 0,
              "ticks": ""
             }
            },
            "marker": {
             "colorbar": {
              "outlinewidth": 0,
              "ticks": ""
             }
            },
            "type": "scatter3d"
           }
          ],
          "scattercarpet": [
           {
            "marker": {
             "colorbar": {
              "outlinewidth": 0,
              "ticks": ""
             }
            },
            "type": "scattercarpet"
           }
          ],
          "scattergeo": [
           {
            "marker": {
             "colorbar": {
              "outlinewidth": 0,
              "ticks": ""
             }
            },
            "type": "scattergeo"
           }
          ],
          "scattergl": [
           {
            "marker": {
             "colorbar": {
              "outlinewidth": 0,
              "ticks": ""
             }
            },
            "type": "scattergl"
           }
          ],
          "scattermapbox": [
           {
            "marker": {
             "colorbar": {
              "outlinewidth": 0,
              "ticks": ""
             }
            },
            "type": "scattermapbox"
           }
          ],
          "scatterpolar": [
           {
            "marker": {
             "colorbar": {
              "outlinewidth": 0,
              "ticks": ""
             }
            },
            "type": "scatterpolar"
           }
          ],
          "scatterpolargl": [
           {
            "marker": {
             "colorbar": {
              "outlinewidth": 0,
              "ticks": ""
             }
            },
            "type": "scatterpolargl"
           }
          ],
          "scatterternary": [
           {
            "marker": {
             "colorbar": {
              "outlinewidth": 0,
              "ticks": ""
             }
            },
            "type": "scatterternary"
           }
          ],
          "surface": [
           {
            "colorbar": {
             "outlinewidth": 0,
             "ticks": ""
            },
            "colorscale": [
             [
              0,
              "#0d0887"
             ],
             [
              0.1111111111111111,
              "#46039f"
             ],
             [
              0.2222222222222222,
              "#7201a8"
             ],
             [
              0.3333333333333333,
              "#9c179e"
             ],
             [
              0.4444444444444444,
              "#bd3786"
             ],
             [
              0.5555555555555556,
              "#d8576b"
             ],
             [
              0.6666666666666666,
              "#ed7953"
             ],
             [
              0.7777777777777778,
              "#fb9f3a"
             ],
             [
              0.8888888888888888,
              "#fdca26"
             ],
             [
              1,
              "#f0f921"
             ]
            ],
            "type": "surface"
           }
          ],
          "table": [
           {
            "cells": {
             "fill": {
              "color": "#EBF0F8"
             },
             "line": {
              "color": "white"
             }
            },
            "header": {
             "fill": {
              "color": "#C8D4E3"
             },
             "line": {
              "color": "white"
             }
            },
            "type": "table"
           }
          ]
         },
         "layout": {
          "annotationdefaults": {
           "arrowcolor": "#2a3f5f",
           "arrowhead": 0,
           "arrowwidth": 1
          },
          "autotypenumbers": "strict",
          "coloraxis": {
           "colorbar": {
            "outlinewidth": 0,
            "ticks": ""
           }
          },
          "colorscale": {
           "diverging": [
            [
             0,
             "#8e0152"
            ],
            [
             0.1,
             "#c51b7d"
            ],
            [
             0.2,
             "#de77ae"
            ],
            [
             0.3,
             "#f1b6da"
            ],
            [
             0.4,
             "#fde0ef"
            ],
            [
             0.5,
             "#f7f7f7"
            ],
            [
             0.6,
             "#e6f5d0"
            ],
            [
             0.7,
             "#b8e186"
            ],
            [
             0.8,
             "#7fbc41"
            ],
            [
             0.9,
             "#4d9221"
            ],
            [
             1,
             "#276419"
            ]
           ],
           "sequential": [
            [
             0,
             "#0d0887"
            ],
            [
             0.1111111111111111,
             "#46039f"
            ],
            [
             0.2222222222222222,
             "#7201a8"
            ],
            [
             0.3333333333333333,
             "#9c179e"
            ],
            [
             0.4444444444444444,
             "#bd3786"
            ],
            [
             0.5555555555555556,
             "#d8576b"
            ],
            [
             0.6666666666666666,
             "#ed7953"
            ],
            [
             0.7777777777777778,
             "#fb9f3a"
            ],
            [
             0.8888888888888888,
             "#fdca26"
            ],
            [
             1,
             "#f0f921"
            ]
           ],
           "sequentialminus": [
            [
             0,
             "#0d0887"
            ],
            [
             0.1111111111111111,
             "#46039f"
            ],
            [
             0.2222222222222222,
             "#7201a8"
            ],
            [
             0.3333333333333333,
             "#9c179e"
            ],
            [
             0.4444444444444444,
             "#bd3786"
            ],
            [
             0.5555555555555556,
             "#d8576b"
            ],
            [
             0.6666666666666666,
             "#ed7953"
            ],
            [
             0.7777777777777778,
             "#fb9f3a"
            ],
            [
             0.8888888888888888,
             "#fdca26"
            ],
            [
             1,
             "#f0f921"
            ]
           ]
          },
          "colorway": [
           "#636efa",
           "#EF553B",
           "#00cc96",
           "#ab63fa",
           "#FFA15A",
           "#19d3f3",
           "#FF6692",
           "#B6E880",
           "#FF97FF",
           "#FECB52"
          ],
          "font": {
           "color": "#2a3f5f"
          },
          "geo": {
           "bgcolor": "white",
           "lakecolor": "white",
           "landcolor": "#E5ECF6",
           "showlakes": true,
           "showland": true,
           "subunitcolor": "white"
          },
          "hoverlabel": {
           "align": "left"
          },
          "hovermode": "closest",
          "mapbox": {
           "style": "light"
          },
          "paper_bgcolor": "white",
          "plot_bgcolor": "#E5ECF6",
          "polar": {
           "angularaxis": {
            "gridcolor": "white",
            "linecolor": "white",
            "ticks": ""
           },
           "bgcolor": "#E5ECF6",
           "radialaxis": {
            "gridcolor": "white",
            "linecolor": "white",
            "ticks": ""
           }
          },
          "scene": {
           "xaxis": {
            "backgroundcolor": "#E5ECF6",
            "gridcolor": "white",
            "gridwidth": 2,
            "linecolor": "white",
            "showbackground": true,
            "ticks": "",
            "zerolinecolor": "white"
           },
           "yaxis": {
            "backgroundcolor": "#E5ECF6",
            "gridcolor": "white",
            "gridwidth": 2,
            "linecolor": "white",
            "showbackground": true,
            "ticks": "",
            "zerolinecolor": "white"
           },
           "zaxis": {
            "backgroundcolor": "#E5ECF6",
            "gridcolor": "white",
            "gridwidth": 2,
            "linecolor": "white",
            "showbackground": true,
            "ticks": "",
            "zerolinecolor": "white"
           }
          },
          "shapedefaults": {
           "line": {
            "color": "#2a3f5f"
           }
          },
          "ternary": {
           "aaxis": {
            "gridcolor": "white",
            "linecolor": "white",
            "ticks": ""
           },
           "baxis": {
            "gridcolor": "white",
            "linecolor": "white",
            "ticks": ""
           },
           "bgcolor": "#E5ECF6",
           "caxis": {
            "gridcolor": "white",
            "linecolor": "white",
            "ticks": ""
           }
          },
          "title": {
           "x": 0.05
          },
          "xaxis": {
           "automargin": true,
           "gridcolor": "white",
           "linecolor": "white",
           "ticks": "",
           "title": {
            "standoff": 15
           },
           "zerolinecolor": "white",
           "zerolinewidth": 2
          },
          "yaxis": {
           "automargin": true,
           "gridcolor": "white",
           "linecolor": "white",
           "ticks": "",
           "title": {
            "standoff": 15
           },
           "zerolinecolor": "white",
           "zerolinewidth": 2
          }
         }
        },
        "title": {
         "text": "sunburst: 📄 Commits This Year 📄"
        },
        "width": 1200
       }
      }
     },
     "metadata": {},
     "output_type": "display_data"
    }
   ],
   "source": [
    "figs['sunb_commitsThisYear'].show()"
   ]
  },
  {
   "cell_type": "markdown",
   "metadata": {},
   "source": [
    "### Display Treemaps"
   ]
  },
  {
   "cell_type": "code",
   "execution_count": 139,
   "metadata": {},
   "outputs": [
    {
     "data": {
      "application/vnd.plotly.v1+json": {
       "config": {
        "plotlyServerURL": "https://plot.ly"
       },
       "data": [
        {
         "branchvalues": "total",
         "customdata": [
          [
           "Orchestration & Management"
          ],
          [
           "Runtime"
          ],
          [
           "Provisioning"
          ],
          [
           "Runtime"
          ],
          [
           "Orchestration & Management"
          ],
          [
           "Orchestration & Management"
          ],
          [
           "Observability and Analysis"
          ],
          [
           "Runtime"
          ],
          [
           "Orchestration & Management"
          ],
          [
           "Runtime"
          ],
          [
           "Provisioning"
          ],
          [
           "Runtime"
          ],
          [
           "Provisioning"
          ],
          [
           "App Definition and Development"
          ],
          [
           "App Definition and Development"
          ],
          [
           "Provisioning"
          ],
          [
           "App Definition and Development"
          ],
          [
           "Provisioning"
          ],
          [
           "Provisioning"
          ],
          [
           "Provisioning"
          ],
          [
           "Provisioning"
          ],
          [
           "Orchestration & Management"
          ],
          [
           "Orchestration & Management"
          ],
          [
           "Orchestration & Management"
          ],
          [
           "Provisioning"
          ],
          [
           "Serverless"
          ],
          [
           "Runtime"
          ],
          [
           "Orchestration & Management"
          ],
          [
           "Orchestration & Management"
          ],
          [
           "Orchestration & Management"
          ],
          [
           "Provisioning"
          ],
          [
           "Runtime"
          ],
          [
           "Provisioning"
          ],
          [
           "App Definition and Development"
          ],
          [
           "Orchestration & Management"
          ],
          [
           "App Definition and Development"
          ],
          [
           "Provisioning"
          ],
          [
           "App Definition and Development"
          ],
          [
           "Orchestration & Management"
          ],
          [
           "Provisioning"
          ],
          [
           "App Definition and Development"
          ],
          [
           "Provisioning"
          ],
          [
           "App Definition and Development"
          ],
          [
           "App Definition and Development"
          ],
          [
           "App Definition and Development"
          ],
          [
           "Runtime"
          ],
          [
           "Observability and Analysis"
          ],
          [
           "Observability and Analysis"
          ],
          [
           "Provisioning"
          ],
          [
           "Provisioning"
          ],
          [
           "App Definition and Development"
          ],
          [
           "App Definition and Development"
          ],
          [
           "Runtime"
          ],
          [
           "Orchestration & Management"
          ],
          [
           "Provisioning"
          ],
          [
           "Provisioning"
          ],
          [
           "Provisioning"
          ],
          [
           "Runtime"
          ],
          [
           "Observability and Analysis"
          ],
          [
           "Orchestration & Management"
          ],
          [
           "Orchestration & Management"
          ],
          [
           "Platform"
          ],
          [
           "Runtime"
          ],
          [
           "Platform"
          ],
          [
           "Orchestration & Management"
          ],
          [
           "Runtime"
          ],
          [
           "Observability and Analysis"
          ],
          [
           "Observability and Analysis"
          ],
          [
           "Provisioning"
          ],
          [
           "App Definition and Development"
          ],
          [
           "Provisioning"
          ],
          [
           "Provisioning"
          ],
          [
           "App Definition and Development"
          ],
          [
           "Observability and Analysis"
          ],
          [
           "Orchestration & Management"
          ],
          [
           "Runtime"
          ],
          [
           "Observability and Analysis"
          ],
          [
           "Orchestration & Management"
          ],
          [
           "App Definition and Development"
          ],
          [
           "Observability and Analysis"
          ],
          [
           "App Definition and Development"
          ],
          [
           "Runtime"
          ],
          [
           "Provisioning"
          ],
          [
           "Orchestration & Management"
          ],
          [
           "Provisioning"
          ],
          [
           "Runtime"
          ],
          [
           "Orchestration & Management"
          ],
          [
           "Platform"
          ],
          [
           "App Definition and Development"
          ],
          [
           "Orchestration & Management"
          ],
          [
           "App Definition and Development"
          ],
          [
           "Observability and Analysis"
          ],
          [
           "Orchestration & Management"
          ],
          [
           "Provisioning"
          ],
          [
           "Provisioning"
          ],
          [
           "Orchestration & Management"
          ],
          [
           "Orchestration & Management"
          ],
          [
           "Provisioning"
          ],
          [
           "Runtime"
          ],
          [
           "Provisioning"
          ],
          [
           "Platform"
          ],
          [
           "Platform"
          ],
          [
           "App Definition and Development"
          ],
          [
           "Provisioning"
          ],
          [
           "Provisioning"
          ],
          [
           "Orchestration & Management"
          ],
          [
           "Serverless"
          ],
          [
           "Observability and Analysis"
          ],
          [
           "App Definition and Development"
          ],
          [
           "Orchestration & Management"
          ],
          [
           "Provisioning"
          ],
          [
           "Provisioning"
          ],
          [
           "Provisioning"
          ],
          [
           "Orchestration & Management"
          ],
          [
           "Orchestration & Management"
          ],
          [
           "App Definition and Development"
          ],
          [
           "App Definition and Development"
          ],
          [
           "App Definition and Development"
          ],
          [
           "Provisioning"
          ],
          [
           "App Definition and Development"
          ],
          [
           "Runtime"
          ],
          [
           "Serverless"
          ],
          [
           "Wasm"
          ],
          [
           "Runtime"
          ],
          [
           "App Definition and Development"
          ],
          [
           "Runtime"
          ],
          [
           "Orchestration & Management"
          ],
          [
           "App Definition and Development"
          ],
          [
           "Observability and Analysis"
          ],
          [
           "App Definition and Development"
          ],
          [
           "Observability and Analysis"
          ],
          [
           "App Definition and Development"
          ],
          [
           "App Definition and Development"
          ],
          [
           "Observability and Analysis"
          ],
          [
           "App Definition and Development"
          ],
          [
           "App Definition and Development"
          ],
          [
           "Observability and Analysis"
          ],
          [
           "Provisioning"
          ],
          [
           "Runtime"
          ],
          [
           "App Definition and Development"
          ],
          [
           "Runtime"
          ],
          [
           "Runtime"
          ],
          [
           "Observability and Analysis"
          ],
          [
           "Provisioning"
          ],
          [
           "App Definition and Development"
          ],
          [
           "App Definition and Development"
          ],
          [
           "Provisioning"
          ],
          [
           "Orchestration & Management"
          ],
          [
           "App Definition and Development"
          ],
          [
           "Orchestration & Management"
          ],
          [
           "Orchestration & Management"
          ],
          [
           "Observability and Analysis"
          ],
          [
           "Provisioning"
          ],
          [
           "Provisioning"
          ],
          [
           "Provisioning"
          ],
          [
           "Provisioning"
          ],
          [
           "Runtime"
          ],
          [
           "Observability and Analysis"
          ],
          [
           "Provisioning"
          ],
          [
           "Orchestration & Management"
          ],
          [
           "Observability and Analysis"
          ],
          [
           "Orchestration & Management"
          ],
          [
           "Provisioning"
          ],
          [
           "Wasm"
          ],
          [
           "Provisioning"
          ],
          [
           "Orchestration & Management"
          ],
          [
           "App Definition and Development"
          ],
          [
           "App Definition and Development"
          ],
          [
           "Orchestration & Management"
          ],
          [
           "App Definition and Development"
          ],
          [
           "Runtime"
          ],
          [
           "App Definition and Development"
          ],
          [
           "Provisioning"
          ],
          [
           "Observability and Analysis"
          ],
          [
           "Observability and Analysis"
          ],
          [
           "Orchestration & Management"
          ],
          [
           "Provisioning"
          ],
          [
           "Provisioning"
          ],
          [
           "Observability and Analysis"
          ],
          [
           "Observability and Analysis"
          ],
          [
           "App Definition and Development"
          ],
          [
           "App Definition and Development"
          ],
          [
           "Orchestration & Management"
          ],
          [
           "Provisioning"
          ],
          [
           "Observability and Analysis"
          ],
          [
           "Orchestration & Management"
          ],
          [
           "Runtime"
          ],
          [
           "Serverless"
          ],
          [
           "Orchestration & Management"
          ],
          [
           "App Definition and Development"
          ],
          [
           "Observability and Analysis"
          ],
          [
           "App Definition and Development"
          ],
          [
           "App Definition and Development"
          ],
          [
           "App Definition and Development"
          ],
          [
           "Orchestration & Management"
          ],
          [
           "Runtime"
          ],
          [
           "App Definition and Development"
          ],
          [
           "App Definition and Development"
          ],
          [
           "Provisioning"
          ],
          [
           "Provisioning"
          ],
          [
           "Runtime"
          ],
          [
           "Provisioning"
          ],
          [
           "App Definition and Development"
          ],
          [
           "App Definition and Development"
          ],
          [
           "App Definition and Development"
          ],
          [
           "Wasm"
          ],
          [
           "Provisioning"
          ],
          [
           "Provisioning"
          ],
          [
           "App Definition and Development"
          ],
          [
           "Runtime"
          ],
          [
           "Provisioning"
          ],
          [
           "App Definition and Development"
          ],
          [
           "Provisioning"
          ],
          [
           "Provisioning"
          ],
          [
           "Observability and Analysis"
          ],
          [
           "Provisioning"
          ],
          [
           "Provisioning"
          ],
          [
           "Orchestration & Management"
          ],
          [
           "Runtime"
          ],
          [
           "Wasm"
          ],
          [
           "Wasm"
          ],
          [
           "App Definition and Development"
          ],
          [
           "App Definition and Development"
          ],
          [
           "App Definition and Development"
          ],
          [
           "Orchestration & Management"
          ],
          [
           "Provisioning"
          ],
          [
           "App Definition and Development"
          ],
          [
           "Runtime"
          ],
          [
           "App Definition and Development"
          ],
          [
           "App Definition and Development"
          ],
          [
           "Observability and Analysis"
          ],
          [
           "Observability and Analysis"
          ],
          [
           "Wasm"
          ],
          [
           "Orchestration & Management"
          ],
          [
           "Provisioning"
          ],
          [
           "App Definition and Development"
          ],
          [
           "Platform"
          ],
          [
           "Runtime"
          ],
          [
           "App Definition and Development"
          ],
          [
           "Orchestration & Management"
          ],
          [
           "Observability and Analysis"
          ],
          [
           "App Definition and Development"
          ],
          [
           "Runtime"
          ],
          [
           "Runtime"
          ],
          [
           "Provisioning"
          ],
          [
           "Runtime"
          ],
          [
           "App Definition and Development"
          ],
          [
           "Orchestration & Management"
          ],
          [
           "App Definition and Development"
          ],
          [
           "Serverless"
          ],
          [
           "Provisioning"
          ],
          [
           "Observability and Analysis"
          ],
          [
           "Observability and Analysis"
          ],
          [
           "Orchestration & Management"
          ],
          [
           "Provisioning"
          ],
          [
           "Orchestration & Management"
          ],
          [
           "Orchestration & Management"
          ],
          [
           "Observability and Analysis"
          ],
          [
           "Orchestration & Management"
          ],
          [
           "App Definition and Development"
          ],
          [
           "Provisioning"
          ],
          [
           "Observability and Analysis"
          ],
          [
           "Runtime"
          ],
          [
           "Runtime"
          ],
          [
           "Provisioning"
          ],
          [
           "App Definition and Development"
          ],
          [
           "Observability and Analysis"
          ],
          [
           "Serverless"
          ],
          [
           "Serverless"
          ],
          [
           "Observability and Analysis"
          ],
          [
           "Orchestration & Management"
          ],
          [
           "Orchestration & Management"
          ],
          [
           "Provisioning"
          ],
          [
           "Orchestration & Management"
          ],
          [
           "App Definition and Development"
          ],
          [
           "Observability and Analysis"
          ],
          [
           "App Definition and Development"
          ],
          [
           "Platform"
          ],
          [
           "Platform"
          ],
          [
           "App Definition and Development"
          ],
          [
           "App Definition and Development"
          ],
          [
           "Observability and Analysis"
          ],
          [
           "Observability and Analysis"
          ],
          [
           "Wasm"
          ],
          [
           "Orchestration & Management"
          ],
          [
           "Provisioning"
          ],
          [
           "Orchestration & Management"
          ],
          [
           "App Definition and Development"
          ],
          [
           "App Definition and Development"
          ],
          [
           "Provisioning"
          ],
          [
           "Platform"
          ],
          [
           "Platform"
          ],
          [
           "Observability and Analysis"
          ],
          [
           "Runtime"
          ],
          [
           "Runtime"
          ],
          [
           "Provisioning"
          ],
          [
           "Runtime"
          ],
          [
           "App Definition and Development"
          ],
          [
           "Observability and Analysis"
          ],
          [
           "Orchestration & Management"
          ],
          [
           "App Definition and Development"
          ],
          [
           "Serverless"
          ],
          [
           "Provisioning"
          ],
          [
           "Observability and Analysis"
          ],
          [
           "Wasm"
          ],
          [
           "Orchestration & Management"
          ],
          [
           "Provisioning"
          ],
          [
           "Orchestration & Management"
          ],
          [
           "Orchestration & Management"
          ],
          [
           "App Definition and Development"
          ],
          [
           "Orchestration & Management"
          ],
          [
           "App Definition and Development"
          ],
          [
           "Provisioning"
          ],
          [
           "Platform"
          ],
          [
           "Platform"
          ],
          [
           "Platform"
          ],
          [
           "Observability and Analysis"
          ],
          [
           "Runtime"
          ],
          [
           "Runtime"
          ],
          [
           "Provisioning"
          ],
          [
           "Runtime"
          ],
          [
           "App Definition and Development"
          ],
          [
           "Observability and Analysis"
          ],
          [
           "Orchestration & Management"
          ],
          [
           "App Definition and Development"
          ],
          [
           "Observability and Analysis"
          ],
          [
           "Serverless"
          ],
          [
           "Serverless"
          ],
          [
           "Provisioning"
          ],
          [
           "Observability and Analysis"
          ],
          [
           "Observability and Analysis"
          ],
          [
           "Wasm"
          ],
          [
           "Orchestration & Management"
          ],
          [
           "Wasm"
          ],
          [
           "Orchestration & Management"
          ],
          [
           "Provisioning"
          ],
          [
           "Orchestration & Management"
          ],
          [
           "Orchestration & Management"
          ],
          [
           "App Definition and Development"
          ],
          [
           "Observability and Analysis"
          ],
          [
           "Platform"
          ],
          [
           "App Definition and Development"
          ],
          [
           "Observability and Analysis"
          ],
          [
           "Orchestration & Management"
          ],
          [
           "Platform"
          ],
          [
           "Provisioning"
          ],
          [
           "Runtime"
          ],
          [
           "Serverless"
          ],
          [
           "Wasm"
          ]
         ],
         "domain": {
          "x": [
           0,
           1
          ],
          "y": [
           0,
           1
          ]
         },
         "hovertemplate": "labels=%{label}<br>contributorsCount=%{value}<br>parent=%{parent}<br>id=%{id}<br>category=%{customdata[0]}<extra></extra>",
         "ids": [
          "Orchestration & Management/ Service Mesh/sandbox/aeraki-mesh",
          "Runtime/ Cloud Native Network/incubating/container-network-interface-cni",
          "Provisioning/ Security & Compliance/sandbox/container-ssh",
          "Runtime/ Container Runtime/graduated/containerd",
          "Orchestration & Management/ Service Proxy/incubating/contour",
          "Orchestration & Management/ Coordination & Service Discovery/graduated/core-dns",
          "Observability and Analysis/ Monitoring/incubating/cortex",
          "Runtime/ Container Runtime/graduated/cri-o",
          "Orchestration & Management/ Scheduling & Orchestration/incubating/crossplane",
          "Runtime/ Cloud Native Storage/incubating/cube-fs",
          "Provisioning/ Security & Compliance/sandbox/curiefense",
          "Runtime/ Cloud Native Storage/sandbox/curve",
          "Provisioning/ Security & Compliance/sandbox/confidential-containers",
          "App Definition and Development/ Application Definition & Image Build/incubating/dapr",
          "App Definition and Development/ Application Definition & Image Build/sandbox/dev-space",
          "Provisioning/ Automation & Configuration/sandbox/dev-stream",
          "App Definition and Development/ Application Definition & Image Build/sandbox/devfile",
          "Provisioning/ Security & Compliance/sandbox/dex",
          "Provisioning/ Container Registry/sandbox/distribution",
          "Provisioning/ Container Registry/incubating/dragonfly",
          "Provisioning/ Security & Compliance/member/ejbca-community",
          "Orchestration & Management/ Service Proxy/graduated/envoy",
          "Orchestration & Management/ Scheduling & Orchestration/sandbox/eraser",
          "Orchestration & Management/ Coordination & Service Discovery/graduated/etcd",
          "Provisioning/ Security & Compliance/sandbox/external-secrets",
          "Serverless/ Framework/incubating/dapr-serverless",
          "Runtime/ Cloud Native Network/sandbox/cni-genie",
          "Orchestration & Management/ API Gateway/incubating/emissary-ingress",
          "Orchestration & Management/ Scheduling & Orchestration/sandbox/clusternet",
          "Orchestration & Management/ Scheduling & Orchestration/sandbox/clusterpedia",
          "Provisioning/ Automation & Configuration/sandbox/akri",
          "Runtime/ Cloud Native Network/sandbox/antrea",
          "Provisioning/ Security & Compliance/member/api-clarity",
          "App Definition and Development/ Continuous Integration & Delivery/graduated/argo",
          "Orchestration & Management/ Scheduling & Orchestration/sandbox/armada",
          "App Definition and Development/ Application Definition & Image Build/sandbox/artifact-hub",
          "Provisioning/ Key Management/sandbox/athenz",
          "App Definition and Development/ Application Definition & Image Build/incubating/backstage",
          "Orchestration & Management/ Service Proxy/sandbox/bfe",
          "Provisioning/ Security & Compliance/member/bouncy-castle",
          "App Definition and Development/ Continuous Integration & Delivery/archived/brigade",
          "Provisioning/ Security & Compliance/member/aserto",
          "App Definition and Development/ Continuous Integration & Delivery/False/bytebase",
          "App Definition and Development/ Streaming & Messaging/incubating/cloud-events",
          "App Definition and Development/ Application Definition & Image Build/incubating/buildpacks",
          "Runtime/ Cloud Native Network/graduated/cilium",
          "Observability and Analysis/ Chaos Engineering/sandbox/chaosblade",
          "Observability and Analysis/ Chaos Engineering/incubating/chaos-mesh",
          "Provisioning/ Security & Compliance/incubating/cert-manager",
          "Provisioning/ Automation & Configuration/incubating/cloud-custodian",
          "App Definition and Development/ Application Definition & Image Build/sandbox/carvel",
          "App Definition and Development/ Continuous Integration & Delivery/member/cartographer",
          "Runtime/ Cloud Native Storage/sandbox/carina",
          "Orchestration & Management/ Scheduling & Orchestration/sandbox/capsule",
          "Provisioning/ Automation & Configuration/sandbox/cdk-for-kubernetes-cdk8s",
          "Provisioning/ Automation & Configuration/sandbox/kcl",
          "Provisioning/ Security & Compliance/incubating/in-toto",
          "Runtime/ Container Runtime/sandbox/inclavare-containers",
          "Observability and Analysis/ Monitoring/sandbox/inspektor-gadget",
          "Orchestration & Management/ Service Mesh/graduated/istio",
          "Orchestration & Management/ Coordination & Service Discovery/sandbox/k8gb",
          "Platform/ Certified Kubernetes - Distribution/sandbox/k3s",
          "Runtime/ Cloud Native Storage/sandbox/k8up",
          "Platform/Container Service/False/kapeta",
          "Orchestration & Management/ Scheduling & Orchestration/sandbox/karmada",
          "Runtime/ Cloud Native Storage/sandbox/hwamei-stor",
          "Observability and Analysis/ Tracing/graduated/jaeger",
          "Observability and Analysis/ Monitoring/member/hubble",
          "Provisioning/ Container Registry/graduated/harbor",
          "App Definition and Development/ Application Definition & Image Build/graduated/helm",
          "Provisioning/ Security & Compliance/sandbox/hexa",
          "Provisioning/ Security & Compliance/incubating/falco",
          "App Definition and Development/ Continuous Integration & Delivery/member/flagger",
          "Observability and Analysis/ Logging/graduated/fluentd",
          "Orchestration & Management/ Scheduling & Orchestration/sandbox/fluid",
          "Runtime/ Cloud Native Network/sandbox/fab-edge",
          "Observability and Analysis/ Monitoring/sandbox/fonio",
          "Orchestration & Management/ Remote Procedure Call/incubating/g-rpc",
          "App Definition and Development/ Application Definition & Image Build/False/gefyra",
          "Observability and Analysis/ Monitoring/sandbox/headlamp",
          "App Definition and Development/ Continuous Integration & Delivery/graduated/flux",
          "Runtime/ Cloud Native Network/sandbox/kube-vip",
          "Provisioning/ Automation & Configuration/incubating/kube-edge",
          "Orchestration & Management/ Scheduling & Orchestration/member/kube-green",
          "Provisioning/ Security & Compliance/member/kube-linter",
          "Runtime/ Cloud Native Network/sandbox/kube-ovn",
          "Orchestration & Management/ Scheduling & Orchestration/sandbox/kube-rs",
          "Platform/ Certified Kubernetes - Hosted/member/kube-sphere-qke",
          "App Definition and Development/ Application Definition & Image Build/incubating/kube-vela",
          "Orchestration & Management/ Scheduling & Orchestration/incubating/kubeflow",
          "App Definition and Development/ Application Definition & Image Build/sandbox/kudo",
          "Observability and Analysis/ Monitoring/sandbox/kuberhealthy",
          "Orchestration & Management/ Scheduling & Orchestration/graduated/kubernetes",
          "Provisioning/ Security & Compliance/sandbox/kubescape",
          "Provisioning/ Security & Compliance/sandbox/kubewarden",
          "Orchestration & Management/ Service Mesh/sandbox/kuma",
          "Orchestration & Management/ Scheduling & Orchestration/sandbox/kured",
          "Provisioning/ Security & Compliance/incubating/kyverno",
          "Runtime/ Container Runtime/sandbox/lima",
          "Provisioning/ Automation & Configuration/sandbox/kube-dl",
          "Platform/ Certified Kubernetes - Installer/member/kubekey",
          "Platform/ Certified Kubernetes - Installer/sandbox/kube-clipper",
          "App Definition and Development/ Application Definition & Image Build/incubating/kube-virt",
          "Provisioning/ Security & Compliance/sandbox/kube-armor",
          "Provisioning/ Security & Compliance/member/kube-clarity",
          "Orchestration & Management/ Scheduling & Orchestration/sandbox/kcp",
          "Serverless/ Installable Platform/graduated/keda-serverless",
          "Observability and Analysis/ Monitoring/sandbox/kepler",
          "App Definition and Development/ Continuous Integration & Delivery/incubating/keptn",
          "Orchestration & Management/ Scheduling & Orchestration/False/kestra",
          "Provisioning/ Security & Compliance/incubating/keycloak",
          "Provisioning/ Security & Compliance/sandbox/keylime",
          "Provisioning/ Security & Compliance/False/kics",
          "Orchestration & Management/ Scheduling & Orchestration/incubating/knative",
          "Orchestration & Management/ Scheduling & Orchestration/graduated/keda",
          "App Definition and Development/ Application Definition & Image Build/sandbox/ko",
          "App Definition and Development/ Application Definition & Image Build/sandbox/konveyor",
          "App Definition and Development/ Streaming & Messaging/member/koperator",
          "Provisioning/ Automation & Configuration/sandbox/kpt",
          "App Definition and Development/ Application Definition & Image Build/sandbox/krator",
          "Runtime/ Container Runtime/sandbox/krustlet",
          "Serverless/ Installable Platform/incubating/knative-serverless",
          "Wasm/ Runtimes/sandbox/krustlet-wasm",
          "Runtime/ Container Runtime/False/kuasar",
          "App Definition and Development/ Streaming & Messaging/member/memphis",
          "Runtime/ Cloud Native Storage/incubating/longhorn",
          "Orchestration & Management/ Service Mesh/graduated/linkerd",
          "App Definition and Development/ Continuous Integration & Delivery/False/liquibase",
          "Observability and Analysis/ Chaos Engineering/incubating/litmus",
          "App Definition and Development/ Database/False/qdrant",
          "Observability and Analysis/ Monitoring/graduated/prometheus",
          "App Definition and Development/ Streaming & Messaging/sandbox/pravega",
          "App Definition and Development/ Application Definition & Image Build/sandbox/porter",
          "Observability and Analysis/ Monitoring/sandbox/pixie",
          "App Definition and Development/ Application Definition & Image Build/incubating/operator-framework",
          "App Definition and Development/ Continuous Integration & Delivery/sandbox/pipe-cd",
          "Observability and Analysis/ Logging/False/parseable",
          "Provisioning/ Security & Compliance/sandbox/paralus",
          "Runtime/ Cloud Native Storage/sandbox/oras",
          "App Definition and Development/ Application Definition & Image Build/member/quarkus",
          "Runtime/ Cloud Native Storage/sandbox/piraeus-datastore",
          "Runtime/ Container Runtime/archived/rkt",
          "Observability and Analysis/ Monitoring/sandbox/skooner",
          "Provisioning/ Security & Compliance/False/rudder",
          "App Definition and Development/ Database/sandbox/schema-hero",
          "App Definition and Development/ Application Definition & Image Build/sandbox/sealer",
          "Provisioning/ Security & Compliance/False/secure-code-box",
          "Orchestration & Management/ Scheduling & Orchestration/sandbox/serverless-devs",
          "App Definition and Development/ Application Definition & Image Build/sandbox/serverless-workflow",
          "Orchestration & Management/ Service Mesh/archived/service-mesh-interface-smi",
          "Orchestration & Management/ Service Mesh/sandbox/service-mesh-performance",
          "Observability and Analysis/ Monitoring/False/sidekick",
          "Provisioning/ Security & Compliance/False/sigstore",
          "Provisioning/ Automation & Configuration/sandbox/open-yurt",
          "Provisioning/ Security & Compliance/sandbox/slim-toolkit",
          "Provisioning/ Security & Compliance/sandbox/sops",
          "Runtime/ Cloud Native Storage/graduated/rook",
          "Observability and Analysis/ Tracing/archived/open-tracing",
          "Provisioning/ Security & Compliance/sandbox/parsec",
          "Orchestration & Management/ Service Mesh/archived/open-service-mesh",
          "Observability and Analysis/ Tracing/incubating/open-telemetry",
          "Orchestration & Management/ Service Mesh/sandbox/merbridge",
          "Provisioning/ Automation & Configuration/sandbox/meshery",
          "Wasm/ Orchestration & Management/member/meshery-wasm",
          "Provisioning/ Automation & Configuration/sandbox/metal",
          "Orchestration & Management/ Service Proxy/sandbox/metal-lb",
          "App Definition and Development/ Application Definition & Image Build/sandbox/microcks",
          "App Definition and Development/ Application Definition & Image Build/False/mirrord",
          "Orchestration & Management/ Service Mesh/member/nasp",
          "App Definition and Development/ Streaming & Messaging/incubating/nats",
          "Runtime/ Cloud Native Network/sandbox/network-service-mesh",
          "App Definition and Development/ Application Definition & Image Build/sandbox/nocalhost",
          "Provisioning/ Security & Compliance/incubating/notary",
          "Observability and Analysis/ Monitoring/member/micrometer",
          "Observability and Analysis/ Continuous Optimization/sandbox/open-cost",
          "Orchestration & Management/ Scheduling & Orchestration/sandbox/open-cluster-management",
          "Provisioning/ Security & Compliance/sandbox/open-policy-containers",
          "Provisioning/ Security & Compliance/graduated/open-policy-agent-opa",
          "Observability and Analysis/ Monitoring/incubating/open-metrics",
          "Observability and Analysis/ Logging/member/open-search",
          "App Definition and Development/ Continuous Integration & Delivery/sandbox/open-git-ops",
          "App Definition and Development/ Continuous Integration & Delivery/incubating/open-kruise",
          "Orchestration & Management/ Scheduling & Orchestration/sandbox/open-function",
          "Provisioning/ Security & Compliance/sandbox/open-fga",
          "Observability and Analysis/ Feature Flagging/incubating/open-feature",
          "Orchestration & Management/ Service Proxy/sandbox/open-elb",
          "Runtime/ Cloud Native Storage/sandbox/open-ebs",
          "Serverless/ Installable Platform/sandbox/open-function-serverless",
          "Orchestration & Management/ Service Mesh/member/traefik-mesh",
          "App Definition and Development/ Streaming & Messaging/sandbox/tremor",
          "Observability and Analysis/ Monitoring/sandbox/trickster",
          "App Definition and Development/ Continuous Integration & Delivery/False/unleash",
          "App Definition and Development/ Streaming & Messaging/False/userver",
          "App Definition and Development/ Database/member/vald",
          "Orchestration & Management/ Scheduling & Orchestration/incubating/volcano",
          "Runtime/ Container Runtime/sandbox/virtual-kubelet",
          "App Definition and Development/ Application Definition & Image Build/sandbox/visual-studio-code-kubernetes-tools",
          "App Definition and Development/ Database/graduated/vitess",
          "Provisioning/ Security & Compliance/member/vm-clarity",
          "Provisioning/ Security & Compliance/member/topaz",
          "Runtime/ Cloud Native Storage/sandbox/vineyard",
          "Provisioning/ Automation & Configuration/sandbox/tinkerbell",
          "App Definition and Development/ Database/False/star-rocks",
          "App Definition and Development/ Database/graduated/ti-kv",
          "App Definition and Development/ Database/member/spice-db",
          "Wasm/ Runtimes/False/timecraft",
          "Provisioning/ Key Management/graduated/spire",
          "Provisioning/ Security & Compliance/False/stack-rox",
          "App Definition and Development/ Streaming & Messaging/sandbox/strimzi",
          "Runtime/ Cloud Native Network/sandbox/submariner",
          "Provisioning/ Key Management/graduated/spiffe",
          "App Definition and Development/ Application Definition & Image Build/sandbox/telepresence",
          "Provisioning/ Key Management/sandbox/teller",
          "Provisioning/ Security & Compliance/member/tetragon",
          "Observability and Analysis/ Monitoring/incubating/thanos",
          "Provisioning/ Security & Compliance/graduated/the-update-framework-tuf",
          "Provisioning/ Automation & Configuration/sandbox/super-edge",
          "Orchestration & Management/ Scheduling & Orchestration/sandbox/wasm-cloud",
          "Runtime/ Container Runtime/sandbox/wasm-edge-runtime",
          "Wasm/ Runtimes/sandbox/wasm-edge-wasm",
          "Wasm/ Runtimes/False/wasmer",
          "App Definition and Development/ Database/False/ydb",
          "App Definition and Development/ Database/False/weaviate",
          "App Definition and Development/ Continuous Integration & Delivery/sandbox/werf",
          "Orchestration & Management/ Coordination & Service Discovery/sandbox/xline",
          "Provisioning/ Container Registry/sandbox/zot",
          "App Definition and Development/ Application Definition & Image Build/False",
          "Runtime/ Container Runtime/False",
          "App Definition and Development/ Continuous Integration & Delivery/False",
          "App Definition and Development/ Database/False",
          "Observability and Analysis/ Logging/False",
          "Observability and Analysis/ Monitoring/False",
          "Wasm/ Runtimes/False",
          "Orchestration & Management/ Scheduling & Orchestration/False",
          "Provisioning/ Security & Compliance/False",
          "App Definition and Development/ Streaming & Messaging/False",
          "Platform/Container Service/False",
          "Runtime/ Container Runtime/archived",
          "App Definition and Development/ Continuous Integration & Delivery/archived",
          "Orchestration & Management/ Service Mesh/archived",
          "Observability and Analysis/ Tracing/archived",
          "App Definition and Development/ Application Definition & Image Build/graduated",
          "Runtime/ Cloud Native Network/graduated",
          "Runtime/ Cloud Native Storage/graduated",
          "Provisioning/ Container Registry/graduated",
          "Runtime/ Container Runtime/graduated",
          "App Definition and Development/ Continuous Integration & Delivery/graduated",
          "Orchestration & Management/ Coordination & Service Discovery/graduated",
          "App Definition and Development/ Database/graduated",
          "Serverless/ Installable Platform/graduated",
          "Provisioning/ Key Management/graduated",
          "Observability and Analysis/ Logging/graduated",
          "Observability and Analysis/ Monitoring/graduated",
          "Orchestration & Management/ Scheduling & Orchestration/graduated",
          "Provisioning/ Security & Compliance/graduated",
          "Orchestration & Management/ Service Mesh/graduated",
          "Orchestration & Management/ Service Proxy/graduated",
          "Observability and Analysis/ Tracing/graduated",
          "Orchestration & Management/ API Gateway/incubating",
          "App Definition and Development/ Application Definition & Image Build/incubating",
          "Provisioning/ Automation & Configuration/incubating",
          "Observability and Analysis/ Chaos Engineering/incubating",
          "Runtime/ Cloud Native Network/incubating",
          "Runtime/ Cloud Native Storage/incubating",
          "Provisioning/ Container Registry/incubating",
          "App Definition and Development/ Continuous Integration & Delivery/incubating",
          "Observability and Analysis/ Feature Flagging/incubating",
          "Serverless/ Framework/incubating",
          "Serverless/ Installable Platform/incubating",
          "Observability and Analysis/ Monitoring/incubating",
          "Orchestration & Management/ Remote Procedure Call/incubating",
          "Orchestration & Management/ Scheduling & Orchestration/incubating",
          "Provisioning/ Security & Compliance/incubating",
          "Orchestration & Management/ Service Proxy/incubating",
          "App Definition and Development/ Streaming & Messaging/incubating",
          "Observability and Analysis/ Tracing/incubating",
          "App Definition and Development/ Application Definition & Image Build/member",
          "Platform/ Certified Kubernetes - Hosted/member",
          "Platform/ Certified Kubernetes - Installer/member",
          "App Definition and Development/ Continuous Integration & Delivery/member",
          "App Definition and Development/ Database/member",
          "Observability and Analysis/ Logging/member",
          "Observability and Analysis/ Monitoring/member",
          "Wasm/ Orchestration & Management/member",
          "Orchestration & Management/ Scheduling & Orchestration/member",
          "Provisioning/ Security & Compliance/member",
          "Orchestration & Management/ Service Mesh/member",
          "App Definition and Development/ Streaming & Messaging/member",
          "App Definition and Development/ Application Definition & Image Build/sandbox",
          "Provisioning/ Automation & Configuration/sandbox",
          "Platform/ Certified Kubernetes - Distribution/sandbox",
          "Platform/ Certified Kubernetes - Installer/sandbox",
          "Observability and Analysis/ Chaos Engineering/sandbox",
          "Runtime/ Cloud Native Network/sandbox",
          "Runtime/ Cloud Native Storage/sandbox",
          "Provisioning/ Container Registry/sandbox",
          "Runtime/ Container Runtime/sandbox",
          "App Definition and Development/ Continuous Integration & Delivery/sandbox",
          "Observability and Analysis/ Continuous Optimization/sandbox",
          "Orchestration & Management/ Coordination & Service Discovery/sandbox",
          "App Definition and Development/ Database/sandbox",
          "Serverless/ Installable Platform/sandbox",
          "Provisioning/ Key Management/sandbox",
          "Observability and Analysis/ Monitoring/sandbox",
          "Wasm/ Runtimes/sandbox",
          "Orchestration & Management/ Scheduling & Orchestration/sandbox",
          "Provisioning/ Security & Compliance/sandbox",
          "Orchestration & Management/ Service Mesh/sandbox",
          "Orchestration & Management/ Service Proxy/sandbox",
          "App Definition and Development/ Streaming & Messaging/sandbox",
          "Orchestration & Management/ API Gateway",
          "App Definition and Development/ Application Definition & Image Build",
          "Provisioning/ Automation & Configuration",
          "Platform/ Certified Kubernetes - Distribution",
          "Platform/ Certified Kubernetes - Hosted",
          "Platform/ Certified Kubernetes - Installer",
          "Observability and Analysis/ Chaos Engineering",
          "Runtime/ Cloud Native Network",
          "Runtime/ Cloud Native Storage",
          "Provisioning/ Container Registry",
          "Runtime/ Container Runtime",
          "App Definition and Development/ Continuous Integration & Delivery",
          "Observability and Analysis/ Continuous Optimization",
          "Orchestration & Management/ Coordination & Service Discovery",
          "App Definition and Development/ Database",
          "Observability and Analysis/ Feature Flagging",
          "Serverless/ Framework",
          "Serverless/ Installable Platform",
          "Provisioning/ Key Management",
          "Observability and Analysis/ Logging",
          "Observability and Analysis/ Monitoring",
          "Wasm/ Orchestration & Management",
          "Orchestration & Management/ Remote Procedure Call",
          "Wasm/ Runtimes",
          "Orchestration & Management/ Scheduling & Orchestration",
          "Provisioning/ Security & Compliance",
          "Orchestration & Management/ Service Mesh",
          "Orchestration & Management/ Service Proxy",
          "App Definition and Development/ Streaming & Messaging",
          "Observability and Analysis/ Tracing",
          "Platform/Container Service",
          "App Definition and Development",
          "Observability and Analysis",
          "Orchestration & Management",
          "Platform",
          "Provisioning",
          "Runtime",
          "Serverless",
          "Wasm"
         ],
         "labels": [
          "aeraki-mesh",
          "container-network-interface-cni",
          "container-ssh",
          "containerd",
          "contour",
          "core-dns",
          "cortex",
          "cri-o",
          "crossplane",
          "cube-fs",
          "curiefense",
          "curve",
          "confidential-containers",
          "dapr",
          "dev-space",
          "dev-stream",
          "devfile",
          "dex",
          "distribution",
          "dragonfly",
          "ejbca-community",
          "envoy",
          "eraser",
          "etcd",
          "external-secrets",
          "dapr-serverless",
          "cni-genie",
          "emissary-ingress",
          "clusternet",
          "clusterpedia",
          "akri",
          "antrea",
          "api-clarity",
          "argo",
          "armada",
          "artifact-hub",
          "athenz",
          "backstage",
          "bfe",
          "bouncy-castle",
          "brigade",
          "aserto",
          "bytebase",
          "cloud-events",
          "buildpacks",
          "cilium",
          "chaosblade",
          "chaos-mesh",
          "cert-manager",
          "cloud-custodian",
          "carvel",
          "cartographer",
          "carina",
          "capsule",
          "cdk-for-kubernetes-cdk8s",
          "kcl",
          "in-toto",
          "inclavare-containers",
          "inspektor-gadget",
          "istio",
          "k8gb",
          "k3s",
          "k8up",
          "kapeta",
          "karmada",
          "hwamei-stor",
          "jaeger",
          "hubble",
          "harbor",
          "helm",
          "hexa",
          "falco",
          "flagger",
          "fluentd",
          "fluid",
          "fab-edge",
          "fonio",
          "g-rpc",
          "gefyra",
          "headlamp",
          "flux",
          "kube-vip",
          "kube-edge",
          "kube-green",
          "kube-linter",
          "kube-ovn",
          "kube-rs",
          "kube-sphere-qke",
          "kube-vela",
          "kubeflow",
          "kudo",
          "kuberhealthy",
          "kubernetes",
          "kubescape",
          "kubewarden",
          "kuma",
          "kured",
          "kyverno",
          "lima",
          "kube-dl",
          "kubekey",
          "kube-clipper",
          "kube-virt",
          "kube-armor",
          "kube-clarity",
          "kcp",
          "keda-serverless",
          "kepler",
          "keptn",
          "kestra",
          "keycloak",
          "keylime",
          "kics",
          "knative",
          "keda",
          "ko",
          "konveyor",
          "koperator",
          "kpt",
          "krator",
          "krustlet",
          "knative-serverless",
          "krustlet-wasm",
          "kuasar",
          "memphis",
          "longhorn",
          "linkerd",
          "liquibase",
          "litmus",
          "qdrant",
          "prometheus",
          "pravega",
          "porter",
          "pixie",
          "operator-framework",
          "pipe-cd",
          "parseable",
          "paralus",
          "oras",
          "quarkus",
          "piraeus-datastore",
          "rkt",
          "skooner",
          "rudder",
          "schema-hero",
          "sealer",
          "secure-code-box",
          "serverless-devs",
          "serverless-workflow",
          "service-mesh-interface-smi",
          "service-mesh-performance",
          "sidekick",
          "sigstore",
          "open-yurt",
          "slim-toolkit",
          "sops",
          "rook",
          "open-tracing",
          "parsec",
          "open-service-mesh",
          "open-telemetry",
          "merbridge",
          "meshery",
          "meshery-wasm",
          "metal",
          "metal-lb",
          "microcks",
          "mirrord",
          "nasp",
          "nats",
          "network-service-mesh",
          "nocalhost",
          "notary",
          "micrometer",
          "open-cost",
          "open-cluster-management",
          "open-policy-containers",
          "open-policy-agent-opa",
          "open-metrics",
          "open-search",
          "open-git-ops",
          "open-kruise",
          "open-function",
          "open-fga",
          "open-feature",
          "open-elb",
          "open-ebs",
          "open-function-serverless",
          "traefik-mesh",
          "tremor",
          "trickster",
          "unleash",
          "userver",
          "vald",
          "volcano",
          "virtual-kubelet",
          "visual-studio-code-kubernetes-tools",
          "vitess",
          "vm-clarity",
          "topaz",
          "vineyard",
          "tinkerbell",
          "star-rocks",
          "ti-kv",
          "spice-db",
          "timecraft",
          "spire",
          "stack-rox",
          "strimzi",
          "submariner",
          "spiffe",
          "telepresence",
          "teller",
          "tetragon",
          "thanos",
          "the-update-framework-tuf",
          "super-edge",
          "wasm-cloud",
          "wasm-edge-runtime",
          "wasm-edge-wasm",
          "wasmer",
          "ydb",
          "weaviate",
          "werf",
          "xline",
          "zot",
          "False",
          "False",
          "False",
          "False",
          "False",
          "False",
          "False",
          "False",
          "False",
          "False",
          "False",
          "archived",
          "archived",
          "archived",
          "archived",
          "graduated",
          "graduated",
          "graduated",
          "graduated",
          "graduated",
          "graduated",
          "graduated",
          "graduated",
          "graduated",
          "graduated",
          "graduated",
          "graduated",
          "graduated",
          "graduated",
          "graduated",
          "graduated",
          "graduated",
          "incubating",
          "incubating",
          "incubating",
          "incubating",
          "incubating",
          "incubating",
          "incubating",
          "incubating",
          "incubating",
          "incubating",
          "incubating",
          "incubating",
          "incubating",
          "incubating",
          "incubating",
          "incubating",
          "incubating",
          "incubating",
          "member",
          "member",
          "member",
          "member",
          "member",
          "member",
          "member",
          "member",
          "member",
          "member",
          "member",
          "member",
          "sandbox",
          "sandbox",
          "sandbox",
          "sandbox",
          "sandbox",
          "sandbox",
          "sandbox",
          "sandbox",
          "sandbox",
          "sandbox",
          "sandbox",
          "sandbox",
          "sandbox",
          "sandbox",
          "sandbox",
          "sandbox",
          "sandbox",
          "sandbox",
          "sandbox",
          "sandbox",
          "sandbox",
          "sandbox",
          " API Gateway",
          " Application Definition & Image Build",
          " Automation & Configuration",
          " Certified Kubernetes - Distribution",
          " Certified Kubernetes - Hosted",
          " Certified Kubernetes - Installer",
          " Chaos Engineering",
          " Cloud Native Network",
          " Cloud Native Storage",
          " Container Registry",
          " Container Runtime",
          " Continuous Integration & Delivery",
          " Continuous Optimization",
          " Coordination & Service Discovery",
          " Database",
          " Feature Flagging",
          " Framework",
          " Installable Platform",
          " Key Management",
          " Logging",
          " Monitoring",
          " Orchestration & Management",
          " Remote Procedure Call",
          " Runtimes",
          " Scheduling & Orchestration",
          " Security & Compliance",
          " Service Mesh",
          " Service Proxy",
          " Streaming & Messaging",
          " Tracing",
          "Container Service",
          "App Definition and Development",
          "Observability and Analysis",
          "Orchestration & Management",
          "Platform",
          "Provisioning",
          "Runtime",
          "Serverless",
          "Wasm"
         ],
         "marker": {
          "colors": [
           "#bc5090",
           "#2f4b7c",
           "#ffa600",
           "#2f4b7c",
           "#bc5090",
           "#bc5090",
           "#58508d",
           "#2f4b7c",
           "#bc5090",
           "#2f4b7c",
           "#ffa600",
           "#2f4b7c",
           "#ffa600",
           "#003f5c",
           "#003f5c",
           "#ffa600",
           "#003f5c",
           "#ffa600",
           "#ffa600",
           "#ffa600",
           "#ffa600",
           "#bc5090",
           "#bc5090",
           "#bc5090",
           "#ffa600",
           "#665191",
           "#2f4b7c",
           "#bc5090",
           "#bc5090",
           "#bc5090",
           "#ffa600",
           "#2f4b7c",
           "#ffa600",
           "#003f5c",
           "#bc5090",
           "#003f5c",
           "#ffa600",
           "#003f5c",
           "#bc5090",
           "#ffa600",
           "#003f5c",
           "#ffa600",
           "#003f5c",
           "#003f5c",
           "#003f5c",
           "#2f4b7c",
           "#58508d",
           "#58508d",
           "#ffa600",
           "#ffa600",
           "#003f5c",
           "#003f5c",
           "#2f4b7c",
           "#bc5090",
           "#ffa600",
           "#ffa600",
           "#ffa600",
           "#2f4b7c",
           "#58508d",
           "#bc5090",
           "#bc5090",
           "#ff6361",
           "#2f4b7c",
           "#ff6361",
           "#bc5090",
           "#2f4b7c",
           "#58508d",
           "#58508d",
           "#ffa600",
           "#003f5c",
           "#ffa600",
           "#ffa600",
           "#003f5c",
           "#58508d",
           "#bc5090",
           "#2f4b7c",
           "#58508d",
           "#bc5090",
           "#003f5c",
           "#58508d",
           "#003f5c",
           "#2f4b7c",
           "#ffa600",
           "#bc5090",
           "#ffa600",
           "#2f4b7c",
           "#bc5090",
           "#ff6361",
           "#003f5c",
           "#bc5090",
           "#003f5c",
           "#58508d",
           "#bc5090",
           "#ffa600",
           "#ffa600",
           "#bc5090",
           "#bc5090",
           "#ffa600",
           "#2f4b7c",
           "#ffa600",
           "#ff6361",
           "#ff6361",
           "#003f5c",
           "#ffa600",
           "#ffa600",
           "#bc5090",
           "#665191",
           "#58508d",
           "#003f5c",
           "#bc5090",
           "#ffa600",
           "#ffa600",
           "#ffa600",
           "#bc5090",
           "#bc5090",
           "#003f5c",
           "#003f5c",
           "#003f5c",
           "#ffa600",
           "#003f5c",
           "#2f4b7c",
           "#665191",
           "#B6E880",
           "#2f4b7c",
           "#003f5c",
           "#2f4b7c",
           "#bc5090",
           "#003f5c",
           "#58508d",
           "#003f5c",
           "#58508d",
           "#003f5c",
           "#003f5c",
           "#58508d",
           "#003f5c",
           "#003f5c",
           "#58508d",
           "#ffa600",
           "#2f4b7c",
           "#003f5c",
           "#2f4b7c",
           "#2f4b7c",
           "#58508d",
           "#ffa600",
           "#003f5c",
           "#003f5c",
           "#ffa600",
           "#bc5090",
           "#003f5c",
           "#bc5090",
           "#bc5090",
           "#58508d",
           "#ffa600",
           "#ffa600",
           "#ffa600",
           "#ffa600",
           "#2f4b7c",
           "#58508d",
           "#ffa600",
           "#bc5090",
           "#58508d",
           "#bc5090",
           "#ffa600",
           "#B6E880",
           "#ffa600",
           "#bc5090",
           "#003f5c",
           "#003f5c",
           "#bc5090",
           "#003f5c",
           "#2f4b7c",
           "#003f5c",
           "#ffa600",
           "#58508d",
           "#58508d",
           "#bc5090",
           "#ffa600",
           "#ffa600",
           "#58508d",
           "#58508d",
           "#003f5c",
           "#003f5c",
           "#bc5090",
           "#ffa600",
           "#58508d",
           "#bc5090",
           "#2f4b7c",
           "#665191",
           "#bc5090",
           "#003f5c",
           "#58508d",
           "#003f5c",
           "#003f5c",
           "#003f5c",
           "#bc5090",
           "#2f4b7c",
           "#003f5c",
           "#003f5c",
           "#ffa600",
           "#ffa600",
           "#2f4b7c",
           "#ffa600",
           "#003f5c",
           "#003f5c",
           "#003f5c",
           "#B6E880",
           "#ffa600",
           "#ffa600",
           "#003f5c",
           "#2f4b7c",
           "#ffa600",
           "#003f5c",
           "#ffa600",
           "#ffa600",
           "#58508d",
           "#ffa600",
           "#ffa600",
           "#bc5090",
           "#2f4b7c",
           "#B6E880",
           "#B6E880",
           "#003f5c",
           "#003f5c",
           "#003f5c",
           "#bc5090",
           "#ffa600",
           "#003f5c",
           "#2f4b7c",
           "#003f5c",
           "#003f5c",
           "#58508d",
           "#58508d",
           "#B6E880",
           "#bc5090",
           "#ffa600",
           "#003f5c",
           "#ff6361",
           "#2f4b7c",
           "#003f5c",
           "#bc5090",
           "#58508d",
           "#003f5c",
           "#2f4b7c",
           "#2f4b7c",
           "#ffa600",
           "#2f4b7c",
           "#003f5c",
           "#bc5090",
           "#003f5c",
           "#665191",
           "#ffa600",
           "#58508d",
           "#58508d",
           "#bc5090",
           "#ffa600",
           "#bc5090",
           "#bc5090",
           "#58508d",
           "#bc5090",
           "#003f5c",
           "#ffa600",
           "#58508d",
           "#2f4b7c",
           "#2f4b7c",
           "#ffa600",
           "#003f5c",
           "#58508d",
           "#665191",
           "#665191",
           "#58508d",
           "#bc5090",
           "#bc5090",
           "#ffa600",
           "#bc5090",
           "#003f5c",
           "#58508d",
           "#003f5c",
           "#ff6361",
           "#ff6361",
           "#003f5c",
           "#003f5c",
           "#58508d",
           "#58508d",
           "#B6E880",
           "#bc5090",
           "#ffa600",
           "#bc5090",
           "#003f5c",
           "#003f5c",
           "#ffa600",
           "#ff6361",
           "#ff6361",
           "#58508d",
           "#2f4b7c",
           "#2f4b7c",
           "#ffa600",
           "#2f4b7c",
           "#003f5c",
           "#58508d",
           "#bc5090",
           "#003f5c",
           "#665191",
           "#ffa600",
           "#58508d",
           "#B6E880",
           "#bc5090",
           "#ffa600",
           "#bc5090",
           "#bc5090",
           "#003f5c",
           "#bc5090",
           "#003f5c",
           "#ffa600",
           "#ff6361",
           "#ff6361",
           "#ff6361",
           "#58508d",
           "#2f4b7c",
           "#2f4b7c",
           "#ffa600",
           "#2f4b7c",
           "#003f5c",
           "#58508d",
           "#bc5090",
           "#003f5c",
           "#58508d",
           "#665191",
           "#665191",
           "#ffa600",
           "#58508d",
           "#58508d",
           "#B6E880",
           "#bc5090",
           "#B6E880",
           "#bc5090",
           "#ffa600",
           "#bc5090",
           "#bc5090",
           "#003f5c",
           "#58508d",
           "#ff6361",
           "#003f5c",
           "#58508d",
           "#bc5090",
           "#ff6361",
           "#ffa600",
           "#2f4b7c",
           "#665191",
           "#B6E880"
          ]
         },
         "name": "",
         "parents": [
          "Orchestration & Management/ Service Mesh/sandbox",
          "Runtime/ Cloud Native Network/incubating",
          "Provisioning/ Security & Compliance/sandbox",
          "Runtime/ Container Runtime/graduated",
          "Orchestration & Management/ Service Proxy/incubating",
          "Orchestration & Management/ Coordination & Service Discovery/graduated",
          "Observability and Analysis/ Monitoring/incubating",
          "Runtime/ Container Runtime/graduated",
          "Orchestration & Management/ Scheduling & Orchestration/incubating",
          "Runtime/ Cloud Native Storage/incubating",
          "Provisioning/ Security & Compliance/sandbox",
          "Runtime/ Cloud Native Storage/sandbox",
          "Provisioning/ Security & Compliance/sandbox",
          "App Definition and Development/ Application Definition & Image Build/incubating",
          "App Definition and Development/ Application Definition & Image Build/sandbox",
          "Provisioning/ Automation & Configuration/sandbox",
          "App Definition and Development/ Application Definition & Image Build/sandbox",
          "Provisioning/ Security & Compliance/sandbox",
          "Provisioning/ Container Registry/sandbox",
          "Provisioning/ Container Registry/incubating",
          "Provisioning/ Security & Compliance/member",
          "Orchestration & Management/ Service Proxy/graduated",
          "Orchestration & Management/ Scheduling & Orchestration/sandbox",
          "Orchestration & Management/ Coordination & Service Discovery/graduated",
          "Provisioning/ Security & Compliance/sandbox",
          "Serverless/ Framework/incubating",
          "Runtime/ Cloud Native Network/sandbox",
          "Orchestration & Management/ API Gateway/incubating",
          "Orchestration & Management/ Scheduling & Orchestration/sandbox",
          "Orchestration & Management/ Scheduling & Orchestration/sandbox",
          "Provisioning/ Automation & Configuration/sandbox",
          "Runtime/ Cloud Native Network/sandbox",
          "Provisioning/ Security & Compliance/member",
          "App Definition and Development/ Continuous Integration & Delivery/graduated",
          "Orchestration & Management/ Scheduling & Orchestration/sandbox",
          "App Definition and Development/ Application Definition & Image Build/sandbox",
          "Provisioning/ Key Management/sandbox",
          "App Definition and Development/ Application Definition & Image Build/incubating",
          "Orchestration & Management/ Service Proxy/sandbox",
          "Provisioning/ Security & Compliance/member",
          "App Definition and Development/ Continuous Integration & Delivery/archived",
          "Provisioning/ Security & Compliance/member",
          "App Definition and Development/ Continuous Integration & Delivery/False",
          "App Definition and Development/ Streaming & Messaging/incubating",
          "App Definition and Development/ Application Definition & Image Build/incubating",
          "Runtime/ Cloud Native Network/graduated",
          "Observability and Analysis/ Chaos Engineering/sandbox",
          "Observability and Analysis/ Chaos Engineering/incubating",
          "Provisioning/ Security & Compliance/incubating",
          "Provisioning/ Automation & Configuration/incubating",
          "App Definition and Development/ Application Definition & Image Build/sandbox",
          "App Definition and Development/ Continuous Integration & Delivery/member",
          "Runtime/ Cloud Native Storage/sandbox",
          "Orchestration & Management/ Scheduling & Orchestration/sandbox",
          "Provisioning/ Automation & Configuration/sandbox",
          "Provisioning/ Automation & Configuration/sandbox",
          "Provisioning/ Security & Compliance/incubating",
          "Runtime/ Container Runtime/sandbox",
          "Observability and Analysis/ Monitoring/sandbox",
          "Orchestration & Management/ Service Mesh/graduated",
          "Orchestration & Management/ Coordination & Service Discovery/sandbox",
          "Platform/ Certified Kubernetes - Distribution/sandbox",
          "Runtime/ Cloud Native Storage/sandbox",
          "Platform/Container Service/False",
          "Orchestration & Management/ Scheduling & Orchestration/sandbox",
          "Runtime/ Cloud Native Storage/sandbox",
          "Observability and Analysis/ Tracing/graduated",
          "Observability and Analysis/ Monitoring/member",
          "Provisioning/ Container Registry/graduated",
          "App Definition and Development/ Application Definition & Image Build/graduated",
          "Provisioning/ Security & Compliance/sandbox",
          "Provisioning/ Security & Compliance/incubating",
          "App Definition and Development/ Continuous Integration & Delivery/member",
          "Observability and Analysis/ Logging/graduated",
          "Orchestration & Management/ Scheduling & Orchestration/sandbox",
          "Runtime/ Cloud Native Network/sandbox",
          "Observability and Analysis/ Monitoring/sandbox",
          "Orchestration & Management/ Remote Procedure Call/incubating",
          "App Definition and Development/ Application Definition & Image Build/False",
          "Observability and Analysis/ Monitoring/sandbox",
          "App Definition and Development/ Continuous Integration & Delivery/graduated",
          "Runtime/ Cloud Native Network/sandbox",
          "Provisioning/ Automation & Configuration/incubating",
          "Orchestration & Management/ Scheduling & Orchestration/member",
          "Provisioning/ Security & Compliance/member",
          "Runtime/ Cloud Native Network/sandbox",
          "Orchestration & Management/ Scheduling & Orchestration/sandbox",
          "Platform/ Certified Kubernetes - Hosted/member",
          "App Definition and Development/ Application Definition & Image Build/incubating",
          "Orchestration & Management/ Scheduling & Orchestration/incubating",
          "App Definition and Development/ Application Definition & Image Build/sandbox",
          "Observability and Analysis/ Monitoring/sandbox",
          "Orchestration & Management/ Scheduling & Orchestration/graduated",
          "Provisioning/ Security & Compliance/sandbox",
          "Provisioning/ Security & Compliance/sandbox",
          "Orchestration & Management/ Service Mesh/sandbox",
          "Orchestration & Management/ Scheduling & Orchestration/sandbox",
          "Provisioning/ Security & Compliance/incubating",
          "Runtime/ Container Runtime/sandbox",
          "Provisioning/ Automation & Configuration/sandbox",
          "Platform/ Certified Kubernetes - Installer/member",
          "Platform/ Certified Kubernetes - Installer/sandbox",
          "App Definition and Development/ Application Definition & Image Build/incubating",
          "Provisioning/ Security & Compliance/sandbox",
          "Provisioning/ Security & Compliance/member",
          "Orchestration & Management/ Scheduling & Orchestration/sandbox",
          "Serverless/ Installable Platform/graduated",
          "Observability and Analysis/ Monitoring/sandbox",
          "App Definition and Development/ Continuous Integration & Delivery/incubating",
          "Orchestration & Management/ Scheduling & Orchestration/False",
          "Provisioning/ Security & Compliance/incubating",
          "Provisioning/ Security & Compliance/sandbox",
          "Provisioning/ Security & Compliance/False",
          "Orchestration & Management/ Scheduling & Orchestration/incubating",
          "Orchestration & Management/ Scheduling & Orchestration/graduated",
          "App Definition and Development/ Application Definition & Image Build/sandbox",
          "App Definition and Development/ Application Definition & Image Build/sandbox",
          "App Definition and Development/ Streaming & Messaging/member",
          "Provisioning/ Automation & Configuration/sandbox",
          "App Definition and Development/ Application Definition & Image Build/sandbox",
          "Runtime/ Container Runtime/sandbox",
          "Serverless/ Installable Platform/incubating",
          "Wasm/ Runtimes/sandbox",
          "Runtime/ Container Runtime/False",
          "App Definition and Development/ Streaming & Messaging/member",
          "Runtime/ Cloud Native Storage/incubating",
          "Orchestration & Management/ Service Mesh/graduated",
          "App Definition and Development/ Continuous Integration & Delivery/False",
          "Observability and Analysis/ Chaos Engineering/incubating",
          "App Definition and Development/ Database/False",
          "Observability and Analysis/ Monitoring/graduated",
          "App Definition and Development/ Streaming & Messaging/sandbox",
          "App Definition and Development/ Application Definition & Image Build/sandbox",
          "Observability and Analysis/ Monitoring/sandbox",
          "App Definition and Development/ Application Definition & Image Build/incubating",
          "App Definition and Development/ Continuous Integration & Delivery/sandbox",
          "Observability and Analysis/ Logging/False",
          "Provisioning/ Security & Compliance/sandbox",
          "Runtime/ Cloud Native Storage/sandbox",
          "App Definition and Development/ Application Definition & Image Build/member",
          "Runtime/ Cloud Native Storage/sandbox",
          "Runtime/ Container Runtime/archived",
          "Observability and Analysis/ Monitoring/sandbox",
          "Provisioning/ Security & Compliance/False",
          "App Definition and Development/ Database/sandbox",
          "App Definition and Development/ Application Definition & Image Build/sandbox",
          "Provisioning/ Security & Compliance/False",
          "Orchestration & Management/ Scheduling & Orchestration/sandbox",
          "App Definition and Development/ Application Definition & Image Build/sandbox",
          "Orchestration & Management/ Service Mesh/archived",
          "Orchestration & Management/ Service Mesh/sandbox",
          "Observability and Analysis/ Monitoring/False",
          "Provisioning/ Security & Compliance/False",
          "Provisioning/ Automation & Configuration/sandbox",
          "Provisioning/ Security & Compliance/sandbox",
          "Provisioning/ Security & Compliance/sandbox",
          "Runtime/ Cloud Native Storage/graduated",
          "Observability and Analysis/ Tracing/archived",
          "Provisioning/ Security & Compliance/sandbox",
          "Orchestration & Management/ Service Mesh/archived",
          "Observability and Analysis/ Tracing/incubating",
          "Orchestration & Management/ Service Mesh/sandbox",
          "Provisioning/ Automation & Configuration/sandbox",
          "Wasm/ Orchestration & Management/member",
          "Provisioning/ Automation & Configuration/sandbox",
          "Orchestration & Management/ Service Proxy/sandbox",
          "App Definition and Development/ Application Definition & Image Build/sandbox",
          "App Definition and Development/ Application Definition & Image Build/False",
          "Orchestration & Management/ Service Mesh/member",
          "App Definition and Development/ Streaming & Messaging/incubating",
          "Runtime/ Cloud Native Network/sandbox",
          "App Definition and Development/ Application Definition & Image Build/sandbox",
          "Provisioning/ Security & Compliance/incubating",
          "Observability and Analysis/ Monitoring/member",
          "Observability and Analysis/ Continuous Optimization/sandbox",
          "Orchestration & Management/ Scheduling & Orchestration/sandbox",
          "Provisioning/ Security & Compliance/sandbox",
          "Provisioning/ Security & Compliance/graduated",
          "Observability and Analysis/ Monitoring/incubating",
          "Observability and Analysis/ Logging/member",
          "App Definition and Development/ Continuous Integration & Delivery/sandbox",
          "App Definition and Development/ Continuous Integration & Delivery/incubating",
          "Orchestration & Management/ Scheduling & Orchestration/sandbox",
          "Provisioning/ Security & Compliance/sandbox",
          "Observability and Analysis/ Feature Flagging/incubating",
          "Orchestration & Management/ Service Proxy/sandbox",
          "Runtime/ Cloud Native Storage/sandbox",
          "Serverless/ Installable Platform/sandbox",
          "Orchestration & Management/ Service Mesh/member",
          "App Definition and Development/ Streaming & Messaging/sandbox",
          "Observability and Analysis/ Monitoring/sandbox",
          "App Definition and Development/ Continuous Integration & Delivery/False",
          "App Definition and Development/ Streaming & Messaging/False",
          "App Definition and Development/ Database/member",
          "Orchestration & Management/ Scheduling & Orchestration/incubating",
          "Runtime/ Container Runtime/sandbox",
          "App Definition and Development/ Application Definition & Image Build/sandbox",
          "App Definition and Development/ Database/graduated",
          "Provisioning/ Security & Compliance/member",
          "Provisioning/ Security & Compliance/member",
          "Runtime/ Cloud Native Storage/sandbox",
          "Provisioning/ Automation & Configuration/sandbox",
          "App Definition and Development/ Database/False",
          "App Definition and Development/ Database/graduated",
          "App Definition and Development/ Database/member",
          "Wasm/ Runtimes/False",
          "Provisioning/ Key Management/graduated",
          "Provisioning/ Security & Compliance/False",
          "App Definition and Development/ Streaming & Messaging/sandbox",
          "Runtime/ Cloud Native Network/sandbox",
          "Provisioning/ Key Management/graduated",
          "App Definition and Development/ Application Definition & Image Build/sandbox",
          "Provisioning/ Key Management/sandbox",
          "Provisioning/ Security & Compliance/member",
          "Observability and Analysis/ Monitoring/incubating",
          "Provisioning/ Security & Compliance/graduated",
          "Provisioning/ Automation & Configuration/sandbox",
          "Orchestration & Management/ Scheduling & Orchestration/sandbox",
          "Runtime/ Container Runtime/sandbox",
          "Wasm/ Runtimes/sandbox",
          "Wasm/ Runtimes/False",
          "App Definition and Development/ Database/False",
          "App Definition and Development/ Database/False",
          "App Definition and Development/ Continuous Integration & Delivery/sandbox",
          "Orchestration & Management/ Coordination & Service Discovery/sandbox",
          "Provisioning/ Container Registry/sandbox",
          "App Definition and Development/ Application Definition & Image Build",
          "Runtime/ Container Runtime",
          "App Definition and Development/ Continuous Integration & Delivery",
          "App Definition and Development/ Database",
          "Observability and Analysis/ Logging",
          "Observability and Analysis/ Monitoring",
          "Wasm/ Runtimes",
          "Orchestration & Management/ Scheduling & Orchestration",
          "Provisioning/ Security & Compliance",
          "App Definition and Development/ Streaming & Messaging",
          "Platform/Container Service",
          "Runtime/ Container Runtime",
          "App Definition and Development/ Continuous Integration & Delivery",
          "Orchestration & Management/ Service Mesh",
          "Observability and Analysis/ Tracing",
          "App Definition and Development/ Application Definition & Image Build",
          "Runtime/ Cloud Native Network",
          "Runtime/ Cloud Native Storage",
          "Provisioning/ Container Registry",
          "Runtime/ Container Runtime",
          "App Definition and Development/ Continuous Integration & Delivery",
          "Orchestration & Management/ Coordination & Service Discovery",
          "App Definition and Development/ Database",
          "Serverless/ Installable Platform",
          "Provisioning/ Key Management",
          "Observability and Analysis/ Logging",
          "Observability and Analysis/ Monitoring",
          "Orchestration & Management/ Scheduling & Orchestration",
          "Provisioning/ Security & Compliance",
          "Orchestration & Management/ Service Mesh",
          "Orchestration & Management/ Service Proxy",
          "Observability and Analysis/ Tracing",
          "Orchestration & Management/ API Gateway",
          "App Definition and Development/ Application Definition & Image Build",
          "Provisioning/ Automation & Configuration",
          "Observability and Analysis/ Chaos Engineering",
          "Runtime/ Cloud Native Network",
          "Runtime/ Cloud Native Storage",
          "Provisioning/ Container Registry",
          "App Definition and Development/ Continuous Integration & Delivery",
          "Observability and Analysis/ Feature Flagging",
          "Serverless/ Framework",
          "Serverless/ Installable Platform",
          "Observability and Analysis/ Monitoring",
          "Orchestration & Management/ Remote Procedure Call",
          "Orchestration & Management/ Scheduling & Orchestration",
          "Provisioning/ Security & Compliance",
          "Orchestration & Management/ Service Proxy",
          "App Definition and Development/ Streaming & Messaging",
          "Observability and Analysis/ Tracing",
          "App Definition and Development/ Application Definition & Image Build",
          "Platform/ Certified Kubernetes - Hosted",
          "Platform/ Certified Kubernetes - Installer",
          "App Definition and Development/ Continuous Integration & Delivery",
          "App Definition and Development/ Database",
          "Observability and Analysis/ Logging",
          "Observability and Analysis/ Monitoring",
          "Wasm/ Orchestration & Management",
          "Orchestration & Management/ Scheduling & Orchestration",
          "Provisioning/ Security & Compliance",
          "Orchestration & Management/ Service Mesh",
          "App Definition and Development/ Streaming & Messaging",
          "App Definition and Development/ Application Definition & Image Build",
          "Provisioning/ Automation & Configuration",
          "Platform/ Certified Kubernetes - Distribution",
          "Platform/ Certified Kubernetes - Installer",
          "Observability and Analysis/ Chaos Engineering",
          "Runtime/ Cloud Native Network",
          "Runtime/ Cloud Native Storage",
          "Provisioning/ Container Registry",
          "Runtime/ Container Runtime",
          "App Definition and Development/ Continuous Integration & Delivery",
          "Observability and Analysis/ Continuous Optimization",
          "Orchestration & Management/ Coordination & Service Discovery",
          "App Definition and Development/ Database",
          "Serverless/ Installable Platform",
          "Provisioning/ Key Management",
          "Observability and Analysis/ Monitoring",
          "Wasm/ Runtimes",
          "Orchestration & Management/ Scheduling & Orchestration",
          "Provisioning/ Security & Compliance",
          "Orchestration & Management/ Service Mesh",
          "Orchestration & Management/ Service Proxy",
          "App Definition and Development/ Streaming & Messaging",
          "Orchestration & Management",
          "App Definition and Development",
          "Provisioning",
          "Platform",
          "Platform",
          "Platform",
          "Observability and Analysis",
          "Runtime",
          "Runtime",
          "Provisioning",
          "Runtime",
          "App Definition and Development",
          "Observability and Analysis",
          "Orchestration & Management",
          "App Definition and Development",
          "Observability and Analysis",
          "Serverless",
          "Serverless",
          "Provisioning",
          "Observability and Analysis",
          "Observability and Analysis",
          "Wasm",
          "Orchestration & Management",
          "Wasm",
          "Orchestration & Management",
          "Provisioning",
          "Orchestration & Management",
          "Orchestration & Management",
          "App Definition and Development",
          "Observability and Analysis",
          "Platform",
          "",
          "",
          "",
          "",
          "",
          "",
          "",
          ""
         ],
         "type": "treemap",
         "values": [
          31,
          167,
          14,
          611,
          211,
          370,
          277,
          303,
          182,
          124,
          38,
          94,
          20,
          247,
          6,
          62,
          22,
          219,
          519,
          58,
          79,
          1216,
          29,
          968,
          273,
          247,
          23,
          244,
          43,
          38,
          34,
          114,
          25,
          1154,
          74,
          35,
          76,
          1629,
          102,
          126,
          109,
          8,
          66,
          304,
          123,
          749,
          45,
          177,
          410,
          441,
          68,
          29,
          20,
          57,
          78,
          15,
          40,
          27,
          38,
          1121,
          21,
          212,
          47,
          467,
          212,
          43,
          293,
          45,
          347,
          766,
          15,
          199,
          198,
          261,
          535,
          19,
          6,
          972,
          13,
          39,
          140,
          72,
          330,
          10,
          67,
          98,
          113,
          19,
          225,
          298,
          65,
          89,
          4842,
          118,
          15,
          95,
          64,
          255,
          88,
          23,
          100,
          16,
          341,
          82,
          32,
          693,
          302,
          50,
          123,
          39,
          1259,
          73,
          117,
          285,
          302,
          83,
          14,
          66,
          96,
          24,
          50,
          285,
          50,
          23,
          40,
          595,
          330,
          736,
          193,
          66,
          973,
          100,
          97,
          83,
          334,
          66,
          26,
          22,
          54,
          984,
          22,
          248,
          58,
          46,
          41,
          74,
          68,
          41,
          41,
          36,
          93,
          11,
          55,
          112,
          65,
          133,
          694,
          54,
          33,
          99,
          194,
          24,
          591,
          591,
          102,
          173,
          36,
          28,
          7,
          683,
          20,
          50,
          35,
          266,
          100,
          33,
          13,
          420,
          33,
          1886,
          14,
          114,
          30,
          35,
          23,
          31,
          234,
          30,
          32,
          50,
          67,
          189,
          225,
          26,
          246,
          128,
          87,
          379,
          22,
          10,
          38,
          52,
          266,
          412,
          35,
          4,
          153,
          125,
          284,
          45,
          56,
          87,
          25,
          62,
          590,
          97,
          54,
          441,
          154,
          154,
          169,
          1652,
          78,
          62,
          13,
          30,
          41,
          23,
          991,
          2062,
          26,
          11,
          173,
          39,
          411,
          225,
          467,
          248,
          109,
          135,
          54,
          766,
          749,
          694,
          347,
          914,
          1294,
          1338,
          791,
          302,
          209,
          261,
          973,
          5144,
          517,
          1451,
          1216,
          293,
          244,
          2899,
          771,
          370,
          167,
          719,
          58,
          237,
          23,
          247,
          285,
          900,
          972,
          1011,
          2198,
          211,
          987,
          194,
          984,
          19,
          100,
          227,
          61,
          1886,
          311,
          591,
          10,
          431,
          39,
          106,
          789,
          1219,
          212,
          16,
          45,
          391,
          552,
          549,
          447,
          142,
          100,
          34,
          41,
          30,
          101,
          430,
          204,
          2403,
          1168,
          243,
          306,
          434,
          244,
          5479,
          1990,
          212,
          19,
          116,
          415,
          1307,
          1965,
          954,
          1632,
          3000,
          100,
          1372,
          2955,
          23,
          247,
          617,
          310,
          2173,
          2625,
          591,
          972,
          377,
          8607,
          4725,
          1868,
          1733,
          1752,
          541,
          467,
          13186,
          5877,
          14796,
          814,
          7979,
          4904,
          864,
          968
         ]
        }
       ],
       "layout": {
        "height": 1200,
        "legend": {
         "tracegroupgap": 0
        },
        "template": {
         "data": {
          "bar": [
           {
            "error_x": {
             "color": "#2a3f5f"
            },
            "error_y": {
             "color": "#2a3f5f"
            },
            "marker": {
             "line": {
              "color": "#E5ECF6",
              "width": 0.5
             },
             "pattern": {
              "fillmode": "overlay",
              "size": 10,
              "solidity": 0.2
             }
            },
            "type": "bar"
           }
          ],
          "barpolar": [
           {
            "marker": {
             "line": {
              "color": "#E5ECF6",
              "width": 0.5
             },
             "pattern": {
              "fillmode": "overlay",
              "size": 10,
              "solidity": 0.2
             }
            },
            "type": "barpolar"
           }
          ],
          "carpet": [
           {
            "aaxis": {
             "endlinecolor": "#2a3f5f",
             "gridcolor": "white",
             "linecolor": "white",
             "minorgridcolor": "white",
             "startlinecolor": "#2a3f5f"
            },
            "baxis": {
             "endlinecolor": "#2a3f5f",
             "gridcolor": "white",
             "linecolor": "white",
             "minorgridcolor": "white",
             "startlinecolor": "#2a3f5f"
            },
            "type": "carpet"
           }
          ],
          "choropleth": [
           {
            "colorbar": {
             "outlinewidth": 0,
             "ticks": ""
            },
            "type": "choropleth"
           }
          ],
          "contour": [
           {
            "colorbar": {
             "outlinewidth": 0,
             "ticks": ""
            },
            "colorscale": [
             [
              0,
              "#0d0887"
             ],
             [
              0.1111111111111111,
              "#46039f"
             ],
             [
              0.2222222222222222,
              "#7201a8"
             ],
             [
              0.3333333333333333,
              "#9c179e"
             ],
             [
              0.4444444444444444,
              "#bd3786"
             ],
             [
              0.5555555555555556,
              "#d8576b"
             ],
             [
              0.6666666666666666,
              "#ed7953"
             ],
             [
              0.7777777777777778,
              "#fb9f3a"
             ],
             [
              0.8888888888888888,
              "#fdca26"
             ],
             [
              1,
              "#f0f921"
             ]
            ],
            "type": "contour"
           }
          ],
          "contourcarpet": [
           {
            "colorbar": {
             "outlinewidth": 0,
             "ticks": ""
            },
            "type": "contourcarpet"
           }
          ],
          "heatmap": [
           {
            "colorbar": {
             "outlinewidth": 0,
             "ticks": ""
            },
            "colorscale": [
             [
              0,
              "#0d0887"
             ],
             [
              0.1111111111111111,
              "#46039f"
             ],
             [
              0.2222222222222222,
              "#7201a8"
             ],
             [
              0.3333333333333333,
              "#9c179e"
             ],
             [
              0.4444444444444444,
              "#bd3786"
             ],
             [
              0.5555555555555556,
              "#d8576b"
             ],
             [
              0.6666666666666666,
              "#ed7953"
             ],
             [
              0.7777777777777778,
              "#fb9f3a"
             ],
             [
              0.8888888888888888,
              "#fdca26"
             ],
             [
              1,
              "#f0f921"
             ]
            ],
            "type": "heatmap"
           }
          ],
          "heatmapgl": [
           {
            "colorbar": {
             "outlinewidth": 0,
             "ticks": ""
            },
            "colorscale": [
             [
              0,
              "#0d0887"
             ],
             [
              0.1111111111111111,
              "#46039f"
             ],
             [
              0.2222222222222222,
              "#7201a8"
             ],
             [
              0.3333333333333333,
              "#9c179e"
             ],
             [
              0.4444444444444444,
              "#bd3786"
             ],
             [
              0.5555555555555556,
              "#d8576b"
             ],
             [
              0.6666666666666666,
              "#ed7953"
             ],
             [
              0.7777777777777778,
              "#fb9f3a"
             ],
             [
              0.8888888888888888,
              "#fdca26"
             ],
             [
              1,
              "#f0f921"
             ]
            ],
            "type": "heatmapgl"
           }
          ],
          "histogram": [
           {
            "marker": {
             "pattern": {
              "fillmode": "overlay",
              "size": 10,
              "solidity": 0.2
             }
            },
            "type": "histogram"
           }
          ],
          "histogram2d": [
           {
            "colorbar": {
             "outlinewidth": 0,
             "ticks": ""
            },
            "colorscale": [
             [
              0,
              "#0d0887"
             ],
             [
              0.1111111111111111,
              "#46039f"
             ],
             [
              0.2222222222222222,
              "#7201a8"
             ],
             [
              0.3333333333333333,
              "#9c179e"
             ],
             [
              0.4444444444444444,
              "#bd3786"
             ],
             [
              0.5555555555555556,
              "#d8576b"
             ],
             [
              0.6666666666666666,
              "#ed7953"
             ],
             [
              0.7777777777777778,
              "#fb9f3a"
             ],
             [
              0.8888888888888888,
              "#fdca26"
             ],
             [
              1,
              "#f0f921"
             ]
            ],
            "type": "histogram2d"
           }
          ],
          "histogram2dcontour": [
           {
            "colorbar": {
             "outlinewidth": 0,
             "ticks": ""
            },
            "colorscale": [
             [
              0,
              "#0d0887"
             ],
             [
              0.1111111111111111,
              "#46039f"
             ],
             [
              0.2222222222222222,
              "#7201a8"
             ],
             [
              0.3333333333333333,
              "#9c179e"
             ],
             [
              0.4444444444444444,
              "#bd3786"
             ],
             [
              0.5555555555555556,
              "#d8576b"
             ],
             [
              0.6666666666666666,
              "#ed7953"
             ],
             [
              0.7777777777777778,
              "#fb9f3a"
             ],
             [
              0.8888888888888888,
              "#fdca26"
             ],
             [
              1,
              "#f0f921"
             ]
            ],
            "type": "histogram2dcontour"
           }
          ],
          "mesh3d": [
           {
            "colorbar": {
             "outlinewidth": 0,
             "ticks": ""
            },
            "type": "mesh3d"
           }
          ],
          "parcoords": [
           {
            "line": {
             "colorbar": {
              "outlinewidth": 0,
              "ticks": ""
             }
            },
            "type": "parcoords"
           }
          ],
          "pie": [
           {
            "automargin": true,
            "type": "pie"
           }
          ],
          "scatter": [
           {
            "fillpattern": {
             "fillmode": "overlay",
             "size": 10,
             "solidity": 0.2
            },
            "type": "scatter"
           }
          ],
          "scatter3d": [
           {
            "line": {
             "colorbar": {
              "outlinewidth": 0,
              "ticks": ""
             }
            },
            "marker": {
             "colorbar": {
              "outlinewidth": 0,
              "ticks": ""
             }
            },
            "type": "scatter3d"
           }
          ],
          "scattercarpet": [
           {
            "marker": {
             "colorbar": {
              "outlinewidth": 0,
              "ticks": ""
             }
            },
            "type": "scattercarpet"
           }
          ],
          "scattergeo": [
           {
            "marker": {
             "colorbar": {
              "outlinewidth": 0,
              "ticks": ""
             }
            },
            "type": "scattergeo"
           }
          ],
          "scattergl": [
           {
            "marker": {
             "colorbar": {
              "outlinewidth": 0,
              "ticks": ""
             }
            },
            "type": "scattergl"
           }
          ],
          "scattermapbox": [
           {
            "marker": {
             "colorbar": {
              "outlinewidth": 0,
              "ticks": ""
             }
            },
            "type": "scattermapbox"
           }
          ],
          "scatterpolar": [
           {
            "marker": {
             "colorbar": {
              "outlinewidth": 0,
              "ticks": ""
             }
            },
            "type": "scatterpolar"
           }
          ],
          "scatterpolargl": [
           {
            "marker": {
             "colorbar": {
              "outlinewidth": 0,
              "ticks": ""
             }
            },
            "type": "scatterpolargl"
           }
          ],
          "scatterternary": [
           {
            "marker": {
             "colorbar": {
              "outlinewidth": 0,
              "ticks": ""
             }
            },
            "type": "scatterternary"
           }
          ],
          "surface": [
           {
            "colorbar": {
             "outlinewidth": 0,
             "ticks": ""
            },
            "colorscale": [
             [
              0,
              "#0d0887"
             ],
             [
              0.1111111111111111,
              "#46039f"
             ],
             [
              0.2222222222222222,
              "#7201a8"
             ],
             [
              0.3333333333333333,
              "#9c179e"
             ],
             [
              0.4444444444444444,
              "#bd3786"
             ],
             [
              0.5555555555555556,
              "#d8576b"
             ],
             [
              0.6666666666666666,
              "#ed7953"
             ],
             [
              0.7777777777777778,
              "#fb9f3a"
             ],
             [
              0.8888888888888888,
              "#fdca26"
             ],
             [
              1,
              "#f0f921"
             ]
            ],
            "type": "surface"
           }
          ],
          "table": [
           {
            "cells": {
             "fill": {
              "color": "#EBF0F8"
             },
             "line": {
              "color": "white"
             }
            },
            "header": {
             "fill": {
              "color": "#C8D4E3"
             },
             "line": {
              "color": "white"
             }
            },
            "type": "table"
           }
          ]
         },
         "layout": {
          "annotationdefaults": {
           "arrowcolor": "#2a3f5f",
           "arrowhead": 0,
           "arrowwidth": 1
          },
          "autotypenumbers": "strict",
          "coloraxis": {
           "colorbar": {
            "outlinewidth": 0,
            "ticks": ""
           }
          },
          "colorscale": {
           "diverging": [
            [
             0,
             "#8e0152"
            ],
            [
             0.1,
             "#c51b7d"
            ],
            [
             0.2,
             "#de77ae"
            ],
            [
             0.3,
             "#f1b6da"
            ],
            [
             0.4,
             "#fde0ef"
            ],
            [
             0.5,
             "#f7f7f7"
            ],
            [
             0.6,
             "#e6f5d0"
            ],
            [
             0.7,
             "#b8e186"
            ],
            [
             0.8,
             "#7fbc41"
            ],
            [
             0.9,
             "#4d9221"
            ],
            [
             1,
             "#276419"
            ]
           ],
           "sequential": [
            [
             0,
             "#0d0887"
            ],
            [
             0.1111111111111111,
             "#46039f"
            ],
            [
             0.2222222222222222,
             "#7201a8"
            ],
            [
             0.3333333333333333,
             "#9c179e"
            ],
            [
             0.4444444444444444,
             "#bd3786"
            ],
            [
             0.5555555555555556,
             "#d8576b"
            ],
            [
             0.6666666666666666,
             "#ed7953"
            ],
            [
             0.7777777777777778,
             "#fb9f3a"
            ],
            [
             0.8888888888888888,
             "#fdca26"
            ],
            [
             1,
             "#f0f921"
            ]
           ],
           "sequentialminus": [
            [
             0,
             "#0d0887"
            ],
            [
             0.1111111111111111,
             "#46039f"
            ],
            [
             0.2222222222222222,
             "#7201a8"
            ],
            [
             0.3333333333333333,
             "#9c179e"
            ],
            [
             0.4444444444444444,
             "#bd3786"
            ],
            [
             0.5555555555555556,
             "#d8576b"
            ],
            [
             0.6666666666666666,
             "#ed7953"
            ],
            [
             0.7777777777777778,
             "#fb9f3a"
            ],
            [
             0.8888888888888888,
             "#fdca26"
            ],
            [
             1,
             "#f0f921"
            ]
           ]
          },
          "colorway": [
           "#636efa",
           "#EF553B",
           "#00cc96",
           "#ab63fa",
           "#FFA15A",
           "#19d3f3",
           "#FF6692",
           "#B6E880",
           "#FF97FF",
           "#FECB52"
          ],
          "font": {
           "color": "#2a3f5f"
          },
          "geo": {
           "bgcolor": "white",
           "lakecolor": "white",
           "landcolor": "#E5ECF6",
           "showlakes": true,
           "showland": true,
           "subunitcolor": "white"
          },
          "hoverlabel": {
           "align": "left"
          },
          "hovermode": "closest",
          "mapbox": {
           "style": "light"
          },
          "paper_bgcolor": "white",
          "plot_bgcolor": "#E5ECF6",
          "polar": {
           "angularaxis": {
            "gridcolor": "white",
            "linecolor": "white",
            "ticks": ""
           },
           "bgcolor": "#E5ECF6",
           "radialaxis": {
            "gridcolor": "white",
            "linecolor": "white",
            "ticks": ""
           }
          },
          "scene": {
           "xaxis": {
            "backgroundcolor": "#E5ECF6",
            "gridcolor": "white",
            "gridwidth": 2,
            "linecolor": "white",
            "showbackground": true,
            "ticks": "",
            "zerolinecolor": "white"
           },
           "yaxis": {
            "backgroundcolor": "#E5ECF6",
            "gridcolor": "white",
            "gridwidth": 2,
            "linecolor": "white",
            "showbackground": true,
            "ticks": "",
            "zerolinecolor": "white"
           },
           "zaxis": {
            "backgroundcolor": "#E5ECF6",
            "gridcolor": "white",
            "gridwidth": 2,
            "linecolor": "white",
            "showbackground": true,
            "ticks": "",
            "zerolinecolor": "white"
           }
          },
          "shapedefaults": {
           "line": {
            "color": "#2a3f5f"
           }
          },
          "ternary": {
           "aaxis": {
            "gridcolor": "white",
            "linecolor": "white",
            "ticks": ""
           },
           "baxis": {
            "gridcolor": "white",
            "linecolor": "white",
            "ticks": ""
           },
           "bgcolor": "#E5ECF6",
           "caxis": {
            "gridcolor": "white",
            "linecolor": "white",
            "ticks": ""
           }
          },
          "title": {
           "x": 0.05
          },
          "xaxis": {
           "automargin": true,
           "gridcolor": "white",
           "linecolor": "white",
           "ticks": "",
           "title": {
            "standoff": 15
           },
           "zerolinecolor": "white",
           "zerolinewidth": 2
          },
          "yaxis": {
           "automargin": true,
           "gridcolor": "white",
           "linecolor": "white",
           "ticks": "",
           "title": {
            "standoff": 15
           },
           "zerolinecolor": "white",
           "zerolinewidth": 2
          }
         }
        },
        "title": {
         "text": "treemap: 🪴 Contributor Count (NOT UNIQUE ACROSS PROJECTS!) 🪴"
        },
        "width": 1200
       }
      }
     },
     "metadata": {},
     "output_type": "display_data"
    }
   ],
   "source": [
    "figs['tree_contributorsCount'].show()"
   ]
  },
  {
   "cell_type": "code",
   "execution_count": 140,
   "metadata": {},
   "outputs": [
    {
     "data": {
      "application/vnd.plotly.v1+json": {
       "config": {
        "plotlyServerURL": "https://plot.ly"
       },
       "data": [
        {
         "branchvalues": "total",
         "customdata": [
          [
           "Orchestration & Management"
          ],
          [
           "Runtime"
          ],
          [
           "Provisioning"
          ],
          [
           "Runtime"
          ],
          [
           "Orchestration & Management"
          ],
          [
           "Orchestration & Management"
          ],
          [
           "Observability and Analysis"
          ],
          [
           "Runtime"
          ],
          [
           "Orchestration & Management"
          ],
          [
           "Runtime"
          ],
          [
           "Provisioning"
          ],
          [
           "Runtime"
          ],
          [
           "Provisioning"
          ],
          [
           "App Definition and Development"
          ],
          [
           "App Definition and Development"
          ],
          [
           "Provisioning"
          ],
          [
           "App Definition and Development"
          ],
          [
           "Provisioning"
          ],
          [
           "Provisioning"
          ],
          [
           "Provisioning"
          ],
          [
           "Provisioning"
          ],
          [
           "Orchestration & Management"
          ],
          [
           "Orchestration & Management"
          ],
          [
           "Orchestration & Management"
          ],
          [
           "Provisioning"
          ],
          [
           "Serverless"
          ],
          [
           "Runtime"
          ],
          [
           "Orchestration & Management"
          ],
          [
           "Orchestration & Management"
          ],
          [
           "Orchestration & Management"
          ],
          [
           "Provisioning"
          ],
          [
           "Runtime"
          ],
          [
           "Provisioning"
          ],
          [
           "App Definition and Development"
          ],
          [
           "Orchestration & Management"
          ],
          [
           "App Definition and Development"
          ],
          [
           "Provisioning"
          ],
          [
           "App Definition and Development"
          ],
          [
           "Orchestration & Management"
          ],
          [
           "Provisioning"
          ],
          [
           "App Definition and Development"
          ],
          [
           "Provisioning"
          ],
          [
           "App Definition and Development"
          ],
          [
           "App Definition and Development"
          ],
          [
           "App Definition and Development"
          ],
          [
           "Runtime"
          ],
          [
           "Observability and Analysis"
          ],
          [
           "Observability and Analysis"
          ],
          [
           "Provisioning"
          ],
          [
           "Provisioning"
          ],
          [
           "App Definition and Development"
          ],
          [
           "App Definition and Development"
          ],
          [
           "Runtime"
          ],
          [
           "Orchestration & Management"
          ],
          [
           "Provisioning"
          ],
          [
           "Provisioning"
          ],
          [
           "Provisioning"
          ],
          [
           "Runtime"
          ],
          [
           "Observability and Analysis"
          ],
          [
           "Orchestration & Management"
          ],
          [
           "Orchestration & Management"
          ],
          [
           "Platform"
          ],
          [
           "Runtime"
          ],
          [
           "Platform"
          ],
          [
           "Orchestration & Management"
          ],
          [
           "Runtime"
          ],
          [
           "Observability and Analysis"
          ],
          [
           "Observability and Analysis"
          ],
          [
           "Provisioning"
          ],
          [
           "App Definition and Development"
          ],
          [
           "Provisioning"
          ],
          [
           "Provisioning"
          ],
          [
           "App Definition and Development"
          ],
          [
           "Observability and Analysis"
          ],
          [
           "Orchestration & Management"
          ],
          [
           "Runtime"
          ],
          [
           "Observability and Analysis"
          ],
          [
           "Orchestration & Management"
          ],
          [
           "App Definition and Development"
          ],
          [
           "Observability and Analysis"
          ],
          [
           "App Definition and Development"
          ],
          [
           "Runtime"
          ],
          [
           "Provisioning"
          ],
          [
           "Orchestration & Management"
          ],
          [
           "Provisioning"
          ],
          [
           "Runtime"
          ],
          [
           "Orchestration & Management"
          ],
          [
           "Platform"
          ],
          [
           "App Definition and Development"
          ],
          [
           "Orchestration & Management"
          ],
          [
           "App Definition and Development"
          ],
          [
           "Observability and Analysis"
          ],
          [
           "Orchestration & Management"
          ],
          [
           "Provisioning"
          ],
          [
           "Provisioning"
          ],
          [
           "Orchestration & Management"
          ],
          [
           "Orchestration & Management"
          ],
          [
           "Provisioning"
          ],
          [
           "Runtime"
          ],
          [
           "Provisioning"
          ],
          [
           "Platform"
          ],
          [
           "Platform"
          ],
          [
           "App Definition and Development"
          ],
          [
           "Provisioning"
          ],
          [
           "Provisioning"
          ],
          [
           "Orchestration & Management"
          ],
          [
           "Serverless"
          ],
          [
           "Observability and Analysis"
          ],
          [
           "App Definition and Development"
          ],
          [
           "Orchestration & Management"
          ],
          [
           "Provisioning"
          ],
          [
           "Provisioning"
          ],
          [
           "Provisioning"
          ],
          [
           "Orchestration & Management"
          ],
          [
           "Orchestration & Management"
          ],
          [
           "App Definition and Development"
          ],
          [
           "App Definition and Development"
          ],
          [
           "App Definition and Development"
          ],
          [
           "Provisioning"
          ],
          [
           "App Definition and Development"
          ],
          [
           "Runtime"
          ],
          [
           "Serverless"
          ],
          [
           "Wasm"
          ],
          [
           "Runtime"
          ],
          [
           "App Definition and Development"
          ],
          [
           "Runtime"
          ],
          [
           "Orchestration & Management"
          ],
          [
           "App Definition and Development"
          ],
          [
           "Observability and Analysis"
          ],
          [
           "App Definition and Development"
          ],
          [
           "Observability and Analysis"
          ],
          [
           "App Definition and Development"
          ],
          [
           "App Definition and Development"
          ],
          [
           "Observability and Analysis"
          ],
          [
           "App Definition and Development"
          ],
          [
           "App Definition and Development"
          ],
          [
           "Observability and Analysis"
          ],
          [
           "Provisioning"
          ],
          [
           "Runtime"
          ],
          [
           "App Definition and Development"
          ],
          [
           "Runtime"
          ],
          [
           "Runtime"
          ],
          [
           "Observability and Analysis"
          ],
          [
           "Provisioning"
          ],
          [
           "App Definition and Development"
          ],
          [
           "App Definition and Development"
          ],
          [
           "Provisioning"
          ],
          [
           "Orchestration & Management"
          ],
          [
           "App Definition and Development"
          ],
          [
           "Orchestration & Management"
          ],
          [
           "Orchestration & Management"
          ],
          [
           "Observability and Analysis"
          ],
          [
           "Provisioning"
          ],
          [
           "Provisioning"
          ],
          [
           "Provisioning"
          ],
          [
           "Provisioning"
          ],
          [
           "Runtime"
          ],
          [
           "Observability and Analysis"
          ],
          [
           "Provisioning"
          ],
          [
           "Orchestration & Management"
          ],
          [
           "Observability and Analysis"
          ],
          [
           "Orchestration & Management"
          ],
          [
           "Provisioning"
          ],
          [
           "Wasm"
          ],
          [
           "Provisioning"
          ],
          [
           "Orchestration & Management"
          ],
          [
           "App Definition and Development"
          ],
          [
           "App Definition and Development"
          ],
          [
           "Orchestration & Management"
          ],
          [
           "App Definition and Development"
          ],
          [
           "Runtime"
          ],
          [
           "App Definition and Development"
          ],
          [
           "Provisioning"
          ],
          [
           "Observability and Analysis"
          ],
          [
           "Observability and Analysis"
          ],
          [
           "Orchestration & Management"
          ],
          [
           "Provisioning"
          ],
          [
           "Provisioning"
          ],
          [
           "Observability and Analysis"
          ],
          [
           "Observability and Analysis"
          ],
          [
           "App Definition and Development"
          ],
          [
           "App Definition and Development"
          ],
          [
           "Orchestration & Management"
          ],
          [
           "Provisioning"
          ],
          [
           "Observability and Analysis"
          ],
          [
           "Orchestration & Management"
          ],
          [
           "Runtime"
          ],
          [
           "Serverless"
          ],
          [
           "Orchestration & Management"
          ],
          [
           "App Definition and Development"
          ],
          [
           "Observability and Analysis"
          ],
          [
           "App Definition and Development"
          ],
          [
           "App Definition and Development"
          ],
          [
           "App Definition and Development"
          ],
          [
           "Orchestration & Management"
          ],
          [
           "Runtime"
          ],
          [
           "App Definition and Development"
          ],
          [
           "App Definition and Development"
          ],
          [
           "Provisioning"
          ],
          [
           "Provisioning"
          ],
          [
           "Runtime"
          ],
          [
           "Provisioning"
          ],
          [
           "App Definition and Development"
          ],
          [
           "App Definition and Development"
          ],
          [
           "App Definition and Development"
          ],
          [
           "Wasm"
          ],
          [
           "Provisioning"
          ],
          [
           "Provisioning"
          ],
          [
           "App Definition and Development"
          ],
          [
           "Runtime"
          ],
          [
           "Provisioning"
          ],
          [
           "App Definition and Development"
          ],
          [
           "Provisioning"
          ],
          [
           "Provisioning"
          ],
          [
           "Observability and Analysis"
          ],
          [
           "Provisioning"
          ],
          [
           "Provisioning"
          ],
          [
           "Orchestration & Management"
          ],
          [
           "Runtime"
          ],
          [
           "Wasm"
          ],
          [
           "Wasm"
          ],
          [
           "App Definition and Development"
          ],
          [
           "App Definition and Development"
          ],
          [
           "App Definition and Development"
          ],
          [
           "Orchestration & Management"
          ],
          [
           "Provisioning"
          ],
          [
           "App Definition and Development"
          ],
          [
           "Runtime"
          ],
          [
           "App Definition and Development"
          ],
          [
           "App Definition and Development"
          ],
          [
           "Observability and Analysis"
          ],
          [
           "Observability and Analysis"
          ],
          [
           "Wasm"
          ],
          [
           "Orchestration & Management"
          ],
          [
           "Provisioning"
          ],
          [
           "App Definition and Development"
          ],
          [
           "Platform"
          ],
          [
           "Runtime"
          ],
          [
           "App Definition and Development"
          ],
          [
           "Orchestration & Management"
          ],
          [
           "Observability and Analysis"
          ],
          [
           "App Definition and Development"
          ],
          [
           "Runtime"
          ],
          [
           "Runtime"
          ],
          [
           "Provisioning"
          ],
          [
           "Runtime"
          ],
          [
           "App Definition and Development"
          ],
          [
           "Orchestration & Management"
          ],
          [
           "App Definition and Development"
          ],
          [
           "Serverless"
          ],
          [
           "Provisioning"
          ],
          [
           "Observability and Analysis"
          ],
          [
           "Observability and Analysis"
          ],
          [
           "Orchestration & Management"
          ],
          [
           "Provisioning"
          ],
          [
           "Orchestration & Management"
          ],
          [
           "Orchestration & Management"
          ],
          [
           "Observability and Analysis"
          ],
          [
           "Orchestration & Management"
          ],
          [
           "App Definition and Development"
          ],
          [
           "Provisioning"
          ],
          [
           "Observability and Analysis"
          ],
          [
           "Runtime"
          ],
          [
           "Runtime"
          ],
          [
           "Provisioning"
          ],
          [
           "App Definition and Development"
          ],
          [
           "Observability and Analysis"
          ],
          [
           "Serverless"
          ],
          [
           "Serverless"
          ],
          [
           "Observability and Analysis"
          ],
          [
           "Orchestration & Management"
          ],
          [
           "Orchestration & Management"
          ],
          [
           "Provisioning"
          ],
          [
           "Orchestration & Management"
          ],
          [
           "App Definition and Development"
          ],
          [
           "Observability and Analysis"
          ],
          [
           "App Definition and Development"
          ],
          [
           "Platform"
          ],
          [
           "Platform"
          ],
          [
           "App Definition and Development"
          ],
          [
           "App Definition and Development"
          ],
          [
           "Observability and Analysis"
          ],
          [
           "Observability and Analysis"
          ],
          [
           "Wasm"
          ],
          [
           "Orchestration & Management"
          ],
          [
           "Provisioning"
          ],
          [
           "Orchestration & Management"
          ],
          [
           "App Definition and Development"
          ],
          [
           "App Definition and Development"
          ],
          [
           "Provisioning"
          ],
          [
           "Platform"
          ],
          [
           "Platform"
          ],
          [
           "Observability and Analysis"
          ],
          [
           "Runtime"
          ],
          [
           "Runtime"
          ],
          [
           "Provisioning"
          ],
          [
           "Runtime"
          ],
          [
           "App Definition and Development"
          ],
          [
           "Observability and Analysis"
          ],
          [
           "Orchestration & Management"
          ],
          [
           "App Definition and Development"
          ],
          [
           "Serverless"
          ],
          [
           "Provisioning"
          ],
          [
           "Observability and Analysis"
          ],
          [
           "Wasm"
          ],
          [
           "Orchestration & Management"
          ],
          [
           "Provisioning"
          ],
          [
           "Orchestration & Management"
          ],
          [
           "Orchestration & Management"
          ],
          [
           "App Definition and Development"
          ],
          [
           "Orchestration & Management"
          ],
          [
           "App Definition and Development"
          ],
          [
           "Provisioning"
          ],
          [
           "Platform"
          ],
          [
           "Platform"
          ],
          [
           "Platform"
          ],
          [
           "Observability and Analysis"
          ],
          [
           "Runtime"
          ],
          [
           "Runtime"
          ],
          [
           "Provisioning"
          ],
          [
           "Runtime"
          ],
          [
           "App Definition and Development"
          ],
          [
           "Observability and Analysis"
          ],
          [
           "Orchestration & Management"
          ],
          [
           "App Definition and Development"
          ],
          [
           "Observability and Analysis"
          ],
          [
           "Serverless"
          ],
          [
           "Serverless"
          ],
          [
           "Provisioning"
          ],
          [
           "Observability and Analysis"
          ],
          [
           "Observability and Analysis"
          ],
          [
           "Wasm"
          ],
          [
           "Orchestration & Management"
          ],
          [
           "Wasm"
          ],
          [
           "Orchestration & Management"
          ],
          [
           "Provisioning"
          ],
          [
           "Orchestration & Management"
          ],
          [
           "Orchestration & Management"
          ],
          [
           "App Definition and Development"
          ],
          [
           "Observability and Analysis"
          ],
          [
           "Platform"
          ],
          [
           "App Definition and Development"
          ],
          [
           "Observability and Analysis"
          ],
          [
           "Orchestration & Management"
          ],
          [
           "Platform"
          ],
          [
           "Provisioning"
          ],
          [
           "Runtime"
          ],
          [
           "Serverless"
          ],
          [
           "Wasm"
          ]
         ],
         "domain": {
          "x": [
           0,
           1
          ],
          "y": [
           0,
           1
          ]
         },
         "hovertemplate": "labels=%{label}<br>commitsThisYear=%{value}<br>parent=%{parent}<br>id=%{id}<br>category=%{customdata[0]}<extra></extra>",
         "ids": [
          "Orchestration & Management/ Service Mesh/sandbox/aeraki-mesh",
          "Runtime/ Cloud Native Network/incubating/container-network-interface-cni",
          "Provisioning/ Security & Compliance/sandbox/container-ssh",
          "Runtime/ Container Runtime/graduated/containerd",
          "Orchestration & Management/ Service Proxy/incubating/contour",
          "Orchestration & Management/ Coordination & Service Discovery/graduated/core-dns",
          "Observability and Analysis/ Monitoring/incubating/cortex",
          "Runtime/ Container Runtime/graduated/cri-o",
          "Orchestration & Management/ Scheduling & Orchestration/incubating/crossplane",
          "Runtime/ Cloud Native Storage/incubating/cube-fs",
          "Provisioning/ Security & Compliance/sandbox/curiefense",
          "Runtime/ Cloud Native Storage/sandbox/curve",
          "Provisioning/ Security & Compliance/sandbox/confidential-containers",
          "App Definition and Development/ Application Definition & Image Build/incubating/dapr",
          "App Definition and Development/ Application Definition & Image Build/sandbox/dev-space",
          "Provisioning/ Automation & Configuration/sandbox/dev-stream",
          "App Definition and Development/ Application Definition & Image Build/sandbox/devfile",
          "Provisioning/ Security & Compliance/sandbox/dex",
          "Provisioning/ Container Registry/sandbox/distribution",
          "Provisioning/ Container Registry/incubating/dragonfly",
          "Provisioning/ Security & Compliance/member/ejbca-community",
          "Orchestration & Management/ Service Proxy/graduated/envoy",
          "Orchestration & Management/ Scheduling & Orchestration/sandbox/eraser",
          "Orchestration & Management/ Coordination & Service Discovery/graduated/etcd",
          "Provisioning/ Security & Compliance/sandbox/external-secrets",
          "Serverless/ Framework/incubating/dapr-serverless",
          "Runtime/ Cloud Native Network/sandbox/cni-genie",
          "Orchestration & Management/ API Gateway/incubating/emissary-ingress",
          "Orchestration & Management/ Scheduling & Orchestration/sandbox/clusternet",
          "Orchestration & Management/ Scheduling & Orchestration/sandbox/clusterpedia",
          "Provisioning/ Automation & Configuration/sandbox/akri",
          "Runtime/ Cloud Native Network/sandbox/antrea",
          "Provisioning/ Security & Compliance/member/api-clarity",
          "App Definition and Development/ Continuous Integration & Delivery/graduated/argo",
          "Orchestration & Management/ Scheduling & Orchestration/sandbox/armada",
          "App Definition and Development/ Application Definition & Image Build/sandbox/artifact-hub",
          "Provisioning/ Key Management/sandbox/athenz",
          "App Definition and Development/ Application Definition & Image Build/incubating/backstage",
          "Orchestration & Management/ Service Proxy/sandbox/bfe",
          "Provisioning/ Security & Compliance/member/bouncy-castle",
          "App Definition and Development/ Continuous Integration & Delivery/archived/brigade",
          "Provisioning/ Security & Compliance/member/aserto",
          "App Definition and Development/ Continuous Integration & Delivery/False/bytebase",
          "App Definition and Development/ Streaming & Messaging/incubating/cloud-events",
          "App Definition and Development/ Application Definition & Image Build/incubating/buildpacks",
          "Runtime/ Cloud Native Network/graduated/cilium",
          "Observability and Analysis/ Chaos Engineering/sandbox/chaosblade",
          "Observability and Analysis/ Chaos Engineering/incubating/chaos-mesh",
          "Provisioning/ Security & Compliance/incubating/cert-manager",
          "Provisioning/ Automation & Configuration/incubating/cloud-custodian",
          "App Definition and Development/ Application Definition & Image Build/sandbox/carvel",
          "App Definition and Development/ Continuous Integration & Delivery/member/cartographer",
          "Runtime/ Cloud Native Storage/sandbox/carina",
          "Orchestration & Management/ Scheduling & Orchestration/sandbox/capsule",
          "Provisioning/ Automation & Configuration/sandbox/cdk-for-kubernetes-cdk8s",
          "Provisioning/ Automation & Configuration/sandbox/kcl",
          "Provisioning/ Security & Compliance/incubating/in-toto",
          "Runtime/ Container Runtime/sandbox/inclavare-containers",
          "Observability and Analysis/ Monitoring/sandbox/inspektor-gadget",
          "Orchestration & Management/ Service Mesh/graduated/istio",
          "Orchestration & Management/ Coordination & Service Discovery/sandbox/k8gb",
          "Platform/ Certified Kubernetes - Distribution/sandbox/k3s",
          "Runtime/ Cloud Native Storage/sandbox/k8up",
          "Platform/Container Service/False/kapeta",
          "Orchestration & Management/ Scheduling & Orchestration/sandbox/karmada",
          "Runtime/ Cloud Native Storage/sandbox/hwamei-stor",
          "Observability and Analysis/ Tracing/graduated/jaeger",
          "Observability and Analysis/ Monitoring/member/hubble",
          "Provisioning/ Container Registry/graduated/harbor",
          "App Definition and Development/ Application Definition & Image Build/graduated/helm",
          "Provisioning/ Security & Compliance/sandbox/hexa",
          "Provisioning/ Security & Compliance/incubating/falco",
          "App Definition and Development/ Continuous Integration & Delivery/member/flagger",
          "Observability and Analysis/ Logging/graduated/fluentd",
          "Orchestration & Management/ Scheduling & Orchestration/sandbox/fluid",
          "Runtime/ Cloud Native Network/sandbox/fab-edge",
          "Observability and Analysis/ Monitoring/sandbox/fonio",
          "Orchestration & Management/ Remote Procedure Call/incubating/g-rpc",
          "App Definition and Development/ Application Definition & Image Build/False/gefyra",
          "Observability and Analysis/ Monitoring/sandbox/headlamp",
          "App Definition and Development/ Continuous Integration & Delivery/graduated/flux",
          "Runtime/ Cloud Native Network/sandbox/kube-vip",
          "Provisioning/ Automation & Configuration/incubating/kube-edge",
          "Orchestration & Management/ Scheduling & Orchestration/member/kube-green",
          "Provisioning/ Security & Compliance/member/kube-linter",
          "Runtime/ Cloud Native Network/sandbox/kube-ovn",
          "Orchestration & Management/ Scheduling & Orchestration/sandbox/kube-rs",
          "Platform/ Certified Kubernetes - Hosted/member/kube-sphere-qke",
          "App Definition and Development/ Application Definition & Image Build/incubating/kube-vela",
          "Orchestration & Management/ Scheduling & Orchestration/incubating/kubeflow",
          "App Definition and Development/ Application Definition & Image Build/sandbox/kudo",
          "Observability and Analysis/ Monitoring/sandbox/kuberhealthy",
          "Orchestration & Management/ Scheduling & Orchestration/graduated/kubernetes",
          "Provisioning/ Security & Compliance/sandbox/kubescape",
          "Provisioning/ Security & Compliance/sandbox/kubewarden",
          "Orchestration & Management/ Service Mesh/sandbox/kuma",
          "Orchestration & Management/ Scheduling & Orchestration/sandbox/kured",
          "Provisioning/ Security & Compliance/incubating/kyverno",
          "Runtime/ Container Runtime/sandbox/lima",
          "Provisioning/ Automation & Configuration/sandbox/kube-dl",
          "Platform/ Certified Kubernetes - Installer/member/kubekey",
          "Platform/ Certified Kubernetes - Installer/sandbox/kube-clipper",
          "App Definition and Development/ Application Definition & Image Build/incubating/kube-virt",
          "Provisioning/ Security & Compliance/sandbox/kube-armor",
          "Provisioning/ Security & Compliance/member/kube-clarity",
          "Orchestration & Management/ Scheduling & Orchestration/sandbox/kcp",
          "Serverless/ Installable Platform/graduated/keda-serverless",
          "Observability and Analysis/ Monitoring/sandbox/kepler",
          "App Definition and Development/ Continuous Integration & Delivery/incubating/keptn",
          "Orchestration & Management/ Scheduling & Orchestration/False/kestra",
          "Provisioning/ Security & Compliance/incubating/keycloak",
          "Provisioning/ Security & Compliance/sandbox/keylime",
          "Provisioning/ Security & Compliance/False/kics",
          "Orchestration & Management/ Scheduling & Orchestration/incubating/knative",
          "Orchestration & Management/ Scheduling & Orchestration/graduated/keda",
          "App Definition and Development/ Application Definition & Image Build/sandbox/ko",
          "App Definition and Development/ Application Definition & Image Build/sandbox/konveyor",
          "App Definition and Development/ Streaming & Messaging/member/koperator",
          "Provisioning/ Automation & Configuration/sandbox/kpt",
          "App Definition and Development/ Application Definition & Image Build/sandbox/krator",
          "Runtime/ Container Runtime/sandbox/krustlet",
          "Serverless/ Installable Platform/incubating/knative-serverless",
          "Wasm/ Runtimes/sandbox/krustlet-wasm",
          "Runtime/ Container Runtime/False/kuasar",
          "App Definition and Development/ Streaming & Messaging/member/memphis",
          "Runtime/ Cloud Native Storage/incubating/longhorn",
          "Orchestration & Management/ Service Mesh/graduated/linkerd",
          "App Definition and Development/ Continuous Integration & Delivery/False/liquibase",
          "Observability and Analysis/ Chaos Engineering/incubating/litmus",
          "App Definition and Development/ Database/False/qdrant",
          "Observability and Analysis/ Monitoring/graduated/prometheus",
          "App Definition and Development/ Streaming & Messaging/sandbox/pravega",
          "App Definition and Development/ Application Definition & Image Build/sandbox/porter",
          "Observability and Analysis/ Monitoring/sandbox/pixie",
          "App Definition and Development/ Application Definition & Image Build/incubating/operator-framework",
          "App Definition and Development/ Continuous Integration & Delivery/sandbox/pipe-cd",
          "Observability and Analysis/ Logging/False/parseable",
          "Provisioning/ Security & Compliance/sandbox/paralus",
          "Runtime/ Cloud Native Storage/sandbox/oras",
          "App Definition and Development/ Application Definition & Image Build/member/quarkus",
          "Runtime/ Cloud Native Storage/sandbox/piraeus-datastore",
          "Runtime/ Container Runtime/archived/rkt",
          "Observability and Analysis/ Monitoring/sandbox/skooner",
          "Provisioning/ Security & Compliance/False/rudder",
          "App Definition and Development/ Database/sandbox/schema-hero",
          "App Definition and Development/ Application Definition & Image Build/sandbox/sealer",
          "Provisioning/ Security & Compliance/False/secure-code-box",
          "Orchestration & Management/ Scheduling & Orchestration/sandbox/serverless-devs",
          "App Definition and Development/ Application Definition & Image Build/sandbox/serverless-workflow",
          "Orchestration & Management/ Service Mesh/archived/service-mesh-interface-smi",
          "Orchestration & Management/ Service Mesh/sandbox/service-mesh-performance",
          "Observability and Analysis/ Monitoring/False/sidekick",
          "Provisioning/ Security & Compliance/False/sigstore",
          "Provisioning/ Automation & Configuration/sandbox/open-yurt",
          "Provisioning/ Security & Compliance/sandbox/slim-toolkit",
          "Provisioning/ Security & Compliance/sandbox/sops",
          "Runtime/ Cloud Native Storage/graduated/rook",
          "Observability and Analysis/ Tracing/archived/open-tracing",
          "Provisioning/ Security & Compliance/sandbox/parsec",
          "Orchestration & Management/ Service Mesh/archived/open-service-mesh",
          "Observability and Analysis/ Tracing/incubating/open-telemetry",
          "Orchestration & Management/ Service Mesh/sandbox/merbridge",
          "Provisioning/ Automation & Configuration/sandbox/meshery",
          "Wasm/ Orchestration & Management/member/meshery-wasm",
          "Provisioning/ Automation & Configuration/sandbox/metal",
          "Orchestration & Management/ Service Proxy/sandbox/metal-lb",
          "App Definition and Development/ Application Definition & Image Build/sandbox/microcks",
          "App Definition and Development/ Application Definition & Image Build/False/mirrord",
          "Orchestration & Management/ Service Mesh/member/nasp",
          "App Definition and Development/ Streaming & Messaging/incubating/nats",
          "Runtime/ Cloud Native Network/sandbox/network-service-mesh",
          "App Definition and Development/ Application Definition & Image Build/sandbox/nocalhost",
          "Provisioning/ Security & Compliance/incubating/notary",
          "Observability and Analysis/ Monitoring/member/micrometer",
          "Observability and Analysis/ Continuous Optimization/sandbox/open-cost",
          "Orchestration & Management/ Scheduling & Orchestration/sandbox/open-cluster-management",
          "Provisioning/ Security & Compliance/sandbox/open-policy-containers",
          "Provisioning/ Security & Compliance/graduated/open-policy-agent-opa",
          "Observability and Analysis/ Monitoring/incubating/open-metrics",
          "Observability and Analysis/ Logging/member/open-search",
          "App Definition and Development/ Continuous Integration & Delivery/sandbox/open-git-ops",
          "App Definition and Development/ Continuous Integration & Delivery/incubating/open-kruise",
          "Orchestration & Management/ Scheduling & Orchestration/sandbox/open-function",
          "Provisioning/ Security & Compliance/sandbox/open-fga",
          "Observability and Analysis/ Feature Flagging/incubating/open-feature",
          "Orchestration & Management/ Service Proxy/sandbox/open-elb",
          "Runtime/ Cloud Native Storage/sandbox/open-ebs",
          "Serverless/ Installable Platform/sandbox/open-function-serverless",
          "Orchestration & Management/ Service Mesh/member/traefik-mesh",
          "App Definition and Development/ Streaming & Messaging/sandbox/tremor",
          "Observability and Analysis/ Monitoring/sandbox/trickster",
          "App Definition and Development/ Continuous Integration & Delivery/False/unleash",
          "App Definition and Development/ Streaming & Messaging/False/userver",
          "App Definition and Development/ Database/member/vald",
          "Orchestration & Management/ Scheduling & Orchestration/incubating/volcano",
          "Runtime/ Container Runtime/sandbox/virtual-kubelet",
          "App Definition and Development/ Application Definition & Image Build/sandbox/visual-studio-code-kubernetes-tools",
          "App Definition and Development/ Database/graduated/vitess",
          "Provisioning/ Security & Compliance/member/vm-clarity",
          "Provisioning/ Security & Compliance/member/topaz",
          "Runtime/ Cloud Native Storage/sandbox/vineyard",
          "Provisioning/ Automation & Configuration/sandbox/tinkerbell",
          "App Definition and Development/ Database/False/star-rocks",
          "App Definition and Development/ Database/graduated/ti-kv",
          "App Definition and Development/ Database/member/spice-db",
          "Wasm/ Runtimes/False/timecraft",
          "Provisioning/ Key Management/graduated/spire",
          "Provisioning/ Security & Compliance/False/stack-rox",
          "App Definition and Development/ Streaming & Messaging/sandbox/strimzi",
          "Runtime/ Cloud Native Network/sandbox/submariner",
          "Provisioning/ Key Management/graduated/spiffe",
          "App Definition and Development/ Application Definition & Image Build/sandbox/telepresence",
          "Provisioning/ Key Management/sandbox/teller",
          "Provisioning/ Security & Compliance/member/tetragon",
          "Observability and Analysis/ Monitoring/incubating/thanos",
          "Provisioning/ Security & Compliance/graduated/the-update-framework-tuf",
          "Provisioning/ Automation & Configuration/sandbox/super-edge",
          "Orchestration & Management/ Scheduling & Orchestration/sandbox/wasm-cloud",
          "Runtime/ Container Runtime/sandbox/wasm-edge-runtime",
          "Wasm/ Runtimes/sandbox/wasm-edge-wasm",
          "Wasm/ Runtimes/False/wasmer",
          "App Definition and Development/ Database/False/ydb",
          "App Definition and Development/ Database/False/weaviate",
          "App Definition and Development/ Continuous Integration & Delivery/sandbox/werf",
          "Orchestration & Management/ Coordination & Service Discovery/sandbox/xline",
          "Provisioning/ Container Registry/sandbox/zot",
          "App Definition and Development/ Application Definition & Image Build/False",
          "Runtime/ Container Runtime/False",
          "App Definition and Development/ Continuous Integration & Delivery/False",
          "App Definition and Development/ Database/False",
          "Observability and Analysis/ Logging/False",
          "Observability and Analysis/ Monitoring/False",
          "Wasm/ Runtimes/False",
          "Orchestration & Management/ Scheduling & Orchestration/False",
          "Provisioning/ Security & Compliance/False",
          "App Definition and Development/ Streaming & Messaging/False",
          "Platform/Container Service/False",
          "Runtime/ Container Runtime/archived",
          "App Definition and Development/ Continuous Integration & Delivery/archived",
          "Orchestration & Management/ Service Mesh/archived",
          "Observability and Analysis/ Tracing/archived",
          "App Definition and Development/ Application Definition & Image Build/graduated",
          "Runtime/ Cloud Native Network/graduated",
          "Runtime/ Cloud Native Storage/graduated",
          "Provisioning/ Container Registry/graduated",
          "Runtime/ Container Runtime/graduated",
          "App Definition and Development/ Continuous Integration & Delivery/graduated",
          "Orchestration & Management/ Coordination & Service Discovery/graduated",
          "App Definition and Development/ Database/graduated",
          "Serverless/ Installable Platform/graduated",
          "Provisioning/ Key Management/graduated",
          "Observability and Analysis/ Logging/graduated",
          "Observability and Analysis/ Monitoring/graduated",
          "Orchestration & Management/ Scheduling & Orchestration/graduated",
          "Provisioning/ Security & Compliance/graduated",
          "Orchestration & Management/ Service Mesh/graduated",
          "Orchestration & Management/ Service Proxy/graduated",
          "Observability and Analysis/ Tracing/graduated",
          "Orchestration & Management/ API Gateway/incubating",
          "App Definition and Development/ Application Definition & Image Build/incubating",
          "Provisioning/ Automation & Configuration/incubating",
          "Observability and Analysis/ Chaos Engineering/incubating",
          "Runtime/ Cloud Native Network/incubating",
          "Runtime/ Cloud Native Storage/incubating",
          "Provisioning/ Container Registry/incubating",
          "App Definition and Development/ Continuous Integration & Delivery/incubating",
          "Observability and Analysis/ Feature Flagging/incubating",
          "Serverless/ Framework/incubating",
          "Serverless/ Installable Platform/incubating",
          "Observability and Analysis/ Monitoring/incubating",
          "Orchestration & Management/ Remote Procedure Call/incubating",
          "Orchestration & Management/ Scheduling & Orchestration/incubating",
          "Provisioning/ Security & Compliance/incubating",
          "Orchestration & Management/ Service Proxy/incubating",
          "App Definition and Development/ Streaming & Messaging/incubating",
          "Observability and Analysis/ Tracing/incubating",
          "App Definition and Development/ Application Definition & Image Build/member",
          "Platform/ Certified Kubernetes - Hosted/member",
          "Platform/ Certified Kubernetes - Installer/member",
          "App Definition and Development/ Continuous Integration & Delivery/member",
          "App Definition and Development/ Database/member",
          "Observability and Analysis/ Logging/member",
          "Observability and Analysis/ Monitoring/member",
          "Wasm/ Orchestration & Management/member",
          "Orchestration & Management/ Scheduling & Orchestration/member",
          "Provisioning/ Security & Compliance/member",
          "Orchestration & Management/ Service Mesh/member",
          "App Definition and Development/ Streaming & Messaging/member",
          "App Definition and Development/ Application Definition & Image Build/sandbox",
          "Provisioning/ Automation & Configuration/sandbox",
          "Platform/ Certified Kubernetes - Distribution/sandbox",
          "Platform/ Certified Kubernetes - Installer/sandbox",
          "Observability and Analysis/ Chaos Engineering/sandbox",
          "Runtime/ Cloud Native Network/sandbox",
          "Runtime/ Cloud Native Storage/sandbox",
          "Provisioning/ Container Registry/sandbox",
          "Runtime/ Container Runtime/sandbox",
          "App Definition and Development/ Continuous Integration & Delivery/sandbox",
          "Observability and Analysis/ Continuous Optimization/sandbox",
          "Orchestration & Management/ Coordination & Service Discovery/sandbox",
          "App Definition and Development/ Database/sandbox",
          "Serverless/ Installable Platform/sandbox",
          "Provisioning/ Key Management/sandbox",
          "Observability and Analysis/ Monitoring/sandbox",
          "Wasm/ Runtimes/sandbox",
          "Orchestration & Management/ Scheduling & Orchestration/sandbox",
          "Provisioning/ Security & Compliance/sandbox",
          "Orchestration & Management/ Service Mesh/sandbox",
          "Orchestration & Management/ Service Proxy/sandbox",
          "App Definition and Development/ Streaming & Messaging/sandbox",
          "Orchestration & Management/ API Gateway",
          "App Definition and Development/ Application Definition & Image Build",
          "Provisioning/ Automation & Configuration",
          "Platform/ Certified Kubernetes - Distribution",
          "Platform/ Certified Kubernetes - Hosted",
          "Platform/ Certified Kubernetes - Installer",
          "Observability and Analysis/ Chaos Engineering",
          "Runtime/ Cloud Native Network",
          "Runtime/ Cloud Native Storage",
          "Provisioning/ Container Registry",
          "Runtime/ Container Runtime",
          "App Definition and Development/ Continuous Integration & Delivery",
          "Observability and Analysis/ Continuous Optimization",
          "Orchestration & Management/ Coordination & Service Discovery",
          "App Definition and Development/ Database",
          "Observability and Analysis/ Feature Flagging",
          "Serverless/ Framework",
          "Serverless/ Installable Platform",
          "Provisioning/ Key Management",
          "Observability and Analysis/ Logging",
          "Observability and Analysis/ Monitoring",
          "Wasm/ Orchestration & Management",
          "Orchestration & Management/ Remote Procedure Call",
          "Wasm/ Runtimes",
          "Orchestration & Management/ Scheduling & Orchestration",
          "Provisioning/ Security & Compliance",
          "Orchestration & Management/ Service Mesh",
          "Orchestration & Management/ Service Proxy",
          "App Definition and Development/ Streaming & Messaging",
          "Observability and Analysis/ Tracing",
          "Platform/Container Service",
          "App Definition and Development",
          "Observability and Analysis",
          "Orchestration & Management",
          "Platform",
          "Provisioning",
          "Runtime",
          "Serverless",
          "Wasm"
         ],
         "labels": [
          "aeraki-mesh",
          "container-network-interface-cni",
          "container-ssh",
          "containerd",
          "contour",
          "core-dns",
          "cortex",
          "cri-o",
          "crossplane",
          "cube-fs",
          "curiefense",
          "curve",
          "confidential-containers",
          "dapr",
          "dev-space",
          "dev-stream",
          "devfile",
          "dex",
          "distribution",
          "dragonfly",
          "ejbca-community",
          "envoy",
          "eraser",
          "etcd",
          "external-secrets",
          "dapr-serverless",
          "cni-genie",
          "emissary-ingress",
          "clusternet",
          "clusterpedia",
          "akri",
          "antrea",
          "api-clarity",
          "argo",
          "armada",
          "artifact-hub",
          "athenz",
          "backstage",
          "bfe",
          "bouncy-castle",
          "brigade",
          "aserto",
          "bytebase",
          "cloud-events",
          "buildpacks",
          "cilium",
          "chaosblade",
          "chaos-mesh",
          "cert-manager",
          "cloud-custodian",
          "carvel",
          "cartographer",
          "carina",
          "capsule",
          "cdk-for-kubernetes-cdk8s",
          "kcl",
          "in-toto",
          "inclavare-containers",
          "inspektor-gadget",
          "istio",
          "k8gb",
          "k3s",
          "k8up",
          "kapeta",
          "karmada",
          "hwamei-stor",
          "jaeger",
          "hubble",
          "harbor",
          "helm",
          "hexa",
          "falco",
          "flagger",
          "fluentd",
          "fluid",
          "fab-edge",
          "fonio",
          "g-rpc",
          "gefyra",
          "headlamp",
          "flux",
          "kube-vip",
          "kube-edge",
          "kube-green",
          "kube-linter",
          "kube-ovn",
          "kube-rs",
          "kube-sphere-qke",
          "kube-vela",
          "kubeflow",
          "kudo",
          "kuberhealthy",
          "kubernetes",
          "kubescape",
          "kubewarden",
          "kuma",
          "kured",
          "kyverno",
          "lima",
          "kube-dl",
          "kubekey",
          "kube-clipper",
          "kube-virt",
          "kube-armor",
          "kube-clarity",
          "kcp",
          "keda-serverless",
          "kepler",
          "keptn",
          "kestra",
          "keycloak",
          "keylime",
          "kics",
          "knative",
          "keda",
          "ko",
          "konveyor",
          "koperator",
          "kpt",
          "krator",
          "krustlet",
          "knative-serverless",
          "krustlet-wasm",
          "kuasar",
          "memphis",
          "longhorn",
          "linkerd",
          "liquibase",
          "litmus",
          "qdrant",
          "prometheus",
          "pravega",
          "porter",
          "pixie",
          "operator-framework",
          "pipe-cd",
          "parseable",
          "paralus",
          "oras",
          "quarkus",
          "piraeus-datastore",
          "rkt",
          "skooner",
          "rudder",
          "schema-hero",
          "sealer",
          "secure-code-box",
          "serverless-devs",
          "serverless-workflow",
          "service-mesh-interface-smi",
          "service-mesh-performance",
          "sidekick",
          "sigstore",
          "open-yurt",
          "slim-toolkit",
          "sops",
          "rook",
          "open-tracing",
          "parsec",
          "open-service-mesh",
          "open-telemetry",
          "merbridge",
          "meshery",
          "meshery-wasm",
          "metal",
          "metal-lb",
          "microcks",
          "mirrord",
          "nasp",
          "nats",
          "network-service-mesh",
          "nocalhost",
          "notary",
          "micrometer",
          "open-cost",
          "open-cluster-management",
          "open-policy-containers",
          "open-policy-agent-opa",
          "open-metrics",
          "open-search",
          "open-git-ops",
          "open-kruise",
          "open-function",
          "open-fga",
          "open-feature",
          "open-elb",
          "open-ebs",
          "open-function-serverless",
          "traefik-mesh",
          "tremor",
          "trickster",
          "unleash",
          "userver",
          "vald",
          "volcano",
          "virtual-kubelet",
          "visual-studio-code-kubernetes-tools",
          "vitess",
          "vm-clarity",
          "topaz",
          "vineyard",
          "tinkerbell",
          "star-rocks",
          "ti-kv",
          "spice-db",
          "timecraft",
          "spire",
          "stack-rox",
          "strimzi",
          "submariner",
          "spiffe",
          "telepresence",
          "teller",
          "tetragon",
          "thanos",
          "the-update-framework-tuf",
          "super-edge",
          "wasm-cloud",
          "wasm-edge-runtime",
          "wasm-edge-wasm",
          "wasmer",
          "ydb",
          "weaviate",
          "werf",
          "xline",
          "zot",
          "False",
          "False",
          "False",
          "False",
          "False",
          "False",
          "False",
          "False",
          "False",
          "False",
          "False",
          "archived",
          "archived",
          "archived",
          "archived",
          "graduated",
          "graduated",
          "graduated",
          "graduated",
          "graduated",
          "graduated",
          "graduated",
          "graduated",
          "graduated",
          "graduated",
          "graduated",
          "graduated",
          "graduated",
          "graduated",
          "graduated",
          "graduated",
          "graduated",
          "incubating",
          "incubating",
          "incubating",
          "incubating",
          "incubating",
          "incubating",
          "incubating",
          "incubating",
          "incubating",
          "incubating",
          "incubating",
          "incubating",
          "incubating",
          "incubating",
          "incubating",
          "incubating",
          "incubating",
          "incubating",
          "member",
          "member",
          "member",
          "member",
          "member",
          "member",
          "member",
          "member",
          "member",
          "member",
          "member",
          "member",
          "sandbox",
          "sandbox",
          "sandbox",
          "sandbox",
          "sandbox",
          "sandbox",
          "sandbox",
          "sandbox",
          "sandbox",
          "sandbox",
          "sandbox",
          "sandbox",
          "sandbox",
          "sandbox",
          "sandbox",
          "sandbox",
          "sandbox",
          "sandbox",
          "sandbox",
          "sandbox",
          "sandbox",
          "sandbox",
          " API Gateway",
          " Application Definition & Image Build",
          " Automation & Configuration",
          " Certified Kubernetes - Distribution",
          " Certified Kubernetes - Hosted",
          " Certified Kubernetes - Installer",
          " Chaos Engineering",
          " Cloud Native Network",
          " Cloud Native Storage",
          " Container Registry",
          " Container Runtime",
          " Continuous Integration & Delivery",
          " Continuous Optimization",
          " Coordination & Service Discovery",
          " Database",
          " Feature Flagging",
          " Framework",
          " Installable Platform",
          " Key Management",
          " Logging",
          " Monitoring",
          " Orchestration & Management",
          " Remote Procedure Call",
          " Runtimes",
          " Scheduling & Orchestration",
          " Security & Compliance",
          " Service Mesh",
          " Service Proxy",
          " Streaming & Messaging",
          " Tracing",
          "Container Service",
          "App Definition and Development",
          "Observability and Analysis",
          "Orchestration & Management",
          "Platform",
          "Provisioning",
          "Runtime",
          "Serverless",
          "Wasm"
         ],
         "marker": {
          "colors": [
           "#bc5090",
           "#2f4b7c",
           "#ffa600",
           "#2f4b7c",
           "#bc5090",
           "#bc5090",
           "#58508d",
           "#2f4b7c",
           "#bc5090",
           "#2f4b7c",
           "#ffa600",
           "#2f4b7c",
           "#ffa600",
           "#003f5c",
           "#003f5c",
           "#ffa600",
           "#003f5c",
           "#ffa600",
           "#ffa600",
           "#ffa600",
           "#ffa600",
           "#bc5090",
           "#bc5090",
           "#bc5090",
           "#ffa600",
           "#665191",
           "#2f4b7c",
           "#bc5090",
           "#bc5090",
           "#bc5090",
           "#ffa600",
           "#2f4b7c",
           "#ffa600",
           "#003f5c",
           "#bc5090",
           "#003f5c",
           "#ffa600",
           "#003f5c",
           "#bc5090",
           "#ffa600",
           "#003f5c",
           "#ffa600",
           "#003f5c",
           "#003f5c",
           "#003f5c",
           "#2f4b7c",
           "#58508d",
           "#58508d",
           "#ffa600",
           "#ffa600",
           "#003f5c",
           "#003f5c",
           "#2f4b7c",
           "#bc5090",
           "#ffa600",
           "#ffa600",
           "#ffa600",
           "#2f4b7c",
           "#58508d",
           "#bc5090",
           "#bc5090",
           "#ff6361",
           "#2f4b7c",
           "#ff6361",
           "#bc5090",
           "#2f4b7c",
           "#58508d",
           "#58508d",
           "#ffa600",
           "#003f5c",
           "#ffa600",
           "#ffa600",
           "#003f5c",
           "#58508d",
           "#bc5090",
           "#2f4b7c",
           "#58508d",
           "#bc5090",
           "#003f5c",
           "#58508d",
           "#003f5c",
           "#2f4b7c",
           "#ffa600",
           "#bc5090",
           "#ffa600",
           "#2f4b7c",
           "#bc5090",
           "#ff6361",
           "#003f5c",
           "#bc5090",
           "#003f5c",
           "#58508d",
           "#bc5090",
           "#ffa600",
           "#ffa600",
           "#bc5090",
           "#bc5090",
           "#ffa600",
           "#2f4b7c",
           "#ffa600",
           "#ff6361",
           "#ff6361",
           "#003f5c",
           "#ffa600",
           "#ffa600",
           "#bc5090",
           "#665191",
           "#58508d",
           "#003f5c",
           "#bc5090",
           "#ffa600",
           "#ffa600",
           "#ffa600",
           "#bc5090",
           "#bc5090",
           "#003f5c",
           "#003f5c",
           "#003f5c",
           "#ffa600",
           "#003f5c",
           "#2f4b7c",
           "#665191",
           "#B6E880",
           "#2f4b7c",
           "#003f5c",
           "#2f4b7c",
           "#bc5090",
           "#003f5c",
           "#58508d",
           "#003f5c",
           "#58508d",
           "#003f5c",
           "#003f5c",
           "#58508d",
           "#003f5c",
           "#003f5c",
           "#58508d",
           "#ffa600",
           "#2f4b7c",
           "#003f5c",
           "#2f4b7c",
           "#2f4b7c",
           "#58508d",
           "#ffa600",
           "#003f5c",
           "#003f5c",
           "#ffa600",
           "#bc5090",
           "#003f5c",
           "#bc5090",
           "#bc5090",
           "#58508d",
           "#ffa600",
           "#ffa600",
           "#ffa600",
           "#ffa600",
           "#2f4b7c",
           "#58508d",
           "#ffa600",
           "#bc5090",
           "#58508d",
           "#bc5090",
           "#ffa600",
           "#B6E880",
           "#ffa600",
           "#bc5090",
           "#003f5c",
           "#003f5c",
           "#bc5090",
           "#003f5c",
           "#2f4b7c",
           "#003f5c",
           "#ffa600",
           "#58508d",
           "#58508d",
           "#bc5090",
           "#ffa600",
           "#ffa600",
           "#58508d",
           "#58508d",
           "#003f5c",
           "#003f5c",
           "#bc5090",
           "#ffa600",
           "#58508d",
           "#bc5090",
           "#2f4b7c",
           "#665191",
           "#bc5090",
           "#003f5c",
           "#58508d",
           "#003f5c",
           "#003f5c",
           "#003f5c",
           "#bc5090",
           "#2f4b7c",
           "#003f5c",
           "#003f5c",
           "#ffa600",
           "#ffa600",
           "#2f4b7c",
           "#ffa600",
           "#003f5c",
           "#003f5c",
           "#003f5c",
           "#B6E880",
           "#ffa600",
           "#ffa600",
           "#003f5c",
           "#2f4b7c",
           "#ffa600",
           "#003f5c",
           "#ffa600",
           "#ffa600",
           "#58508d",
           "#ffa600",
           "#ffa600",
           "#bc5090",
           "#2f4b7c",
           "#B6E880",
           "#B6E880",
           "#003f5c",
           "#003f5c",
           "#003f5c",
           "#bc5090",
           "#ffa600",
           "#003f5c",
           "#2f4b7c",
           "#003f5c",
           "#003f5c",
           "#58508d",
           "#58508d",
           "#B6E880",
           "#bc5090",
           "#ffa600",
           "#003f5c",
           "#ff6361",
           "#2f4b7c",
           "#003f5c",
           "#bc5090",
           "#58508d",
           "#003f5c",
           "#2f4b7c",
           "#2f4b7c",
           "#ffa600",
           "#2f4b7c",
           "#003f5c",
           "#bc5090",
           "#003f5c",
           "#665191",
           "#ffa600",
           "#58508d",
           "#58508d",
           "#bc5090",
           "#ffa600",
           "#bc5090",
           "#bc5090",
           "#58508d",
           "#bc5090",
           "#003f5c",
           "#ffa600",
           "#58508d",
           "#2f4b7c",
           "#2f4b7c",
           "#ffa600",
           "#003f5c",
           "#58508d",
           "#665191",
           "#665191",
           "#58508d",
           "#bc5090",
           "#bc5090",
           "#ffa600",
           "#bc5090",
           "#003f5c",
           "#58508d",
           "#003f5c",
           "#ff6361",
           "#ff6361",
           "#003f5c",
           "#003f5c",
           "#58508d",
           "#58508d",
           "#B6E880",
           "#bc5090",
           "#ffa600",
           "#bc5090",
           "#003f5c",
           "#003f5c",
           "#ffa600",
           "#ff6361",
           "#ff6361",
           "#58508d",
           "#2f4b7c",
           "#2f4b7c",
           "#ffa600",
           "#2f4b7c",
           "#003f5c",
           "#58508d",
           "#bc5090",
           "#003f5c",
           "#665191",
           "#ffa600",
           "#58508d",
           "#B6E880",
           "#bc5090",
           "#ffa600",
           "#bc5090",
           "#bc5090",
           "#003f5c",
           "#bc5090",
           "#003f5c",
           "#ffa600",
           "#ff6361",
           "#ff6361",
           "#ff6361",
           "#58508d",
           "#2f4b7c",
           "#2f4b7c",
           "#ffa600",
           "#2f4b7c",
           "#003f5c",
           "#58508d",
           "#bc5090",
           "#003f5c",
           "#58508d",
           "#665191",
           "#665191",
           "#ffa600",
           "#58508d",
           "#58508d",
           "#B6E880",
           "#bc5090",
           "#B6E880",
           "#bc5090",
           "#ffa600",
           "#bc5090",
           "#bc5090",
           "#003f5c",
           "#58508d",
           "#ff6361",
           "#003f5c",
           "#58508d",
           "#bc5090",
           "#ff6361",
           "#ffa600",
           "#2f4b7c",
           "#665191",
           "#B6E880"
          ]
         },
         "name": "",
         "parents": [
          "Orchestration & Management/ Service Mesh/sandbox",
          "Runtime/ Cloud Native Network/incubating",
          "Provisioning/ Security & Compliance/sandbox",
          "Runtime/ Container Runtime/graduated",
          "Orchestration & Management/ Service Proxy/incubating",
          "Orchestration & Management/ Coordination & Service Discovery/graduated",
          "Observability and Analysis/ Monitoring/incubating",
          "Runtime/ Container Runtime/graduated",
          "Orchestration & Management/ Scheduling & Orchestration/incubating",
          "Runtime/ Cloud Native Storage/incubating",
          "Provisioning/ Security & Compliance/sandbox",
          "Runtime/ Cloud Native Storage/sandbox",
          "Provisioning/ Security & Compliance/sandbox",
          "App Definition and Development/ Application Definition & Image Build/incubating",
          "App Definition and Development/ Application Definition & Image Build/sandbox",
          "Provisioning/ Automation & Configuration/sandbox",
          "App Definition and Development/ Application Definition & Image Build/sandbox",
          "Provisioning/ Security & Compliance/sandbox",
          "Provisioning/ Container Registry/sandbox",
          "Provisioning/ Container Registry/incubating",
          "Provisioning/ Security & Compliance/member",
          "Orchestration & Management/ Service Proxy/graduated",
          "Orchestration & Management/ Scheduling & Orchestration/sandbox",
          "Orchestration & Management/ Coordination & Service Discovery/graduated",
          "Provisioning/ Security & Compliance/sandbox",
          "Serverless/ Framework/incubating",
          "Runtime/ Cloud Native Network/sandbox",
          "Orchestration & Management/ API Gateway/incubating",
          "Orchestration & Management/ Scheduling & Orchestration/sandbox",
          "Orchestration & Management/ Scheduling & Orchestration/sandbox",
          "Provisioning/ Automation & Configuration/sandbox",
          "Runtime/ Cloud Native Network/sandbox",
          "Provisioning/ Security & Compliance/member",
          "App Definition and Development/ Continuous Integration & Delivery/graduated",
          "Orchestration & Management/ Scheduling & Orchestration/sandbox",
          "App Definition and Development/ Application Definition & Image Build/sandbox",
          "Provisioning/ Key Management/sandbox",
          "App Definition and Development/ Application Definition & Image Build/incubating",
          "Orchestration & Management/ Service Proxy/sandbox",
          "Provisioning/ Security & Compliance/member",
          "App Definition and Development/ Continuous Integration & Delivery/archived",
          "Provisioning/ Security & Compliance/member",
          "App Definition and Development/ Continuous Integration & Delivery/False",
          "App Definition and Development/ Streaming & Messaging/incubating",
          "App Definition and Development/ Application Definition & Image Build/incubating",
          "Runtime/ Cloud Native Network/graduated",
          "Observability and Analysis/ Chaos Engineering/sandbox",
          "Observability and Analysis/ Chaos Engineering/incubating",
          "Provisioning/ Security & Compliance/incubating",
          "Provisioning/ Automation & Configuration/incubating",
          "App Definition and Development/ Application Definition & Image Build/sandbox",
          "App Definition and Development/ Continuous Integration & Delivery/member",
          "Runtime/ Cloud Native Storage/sandbox",
          "Orchestration & Management/ Scheduling & Orchestration/sandbox",
          "Provisioning/ Automation & Configuration/sandbox",
          "Provisioning/ Automation & Configuration/sandbox",
          "Provisioning/ Security & Compliance/incubating",
          "Runtime/ Container Runtime/sandbox",
          "Observability and Analysis/ Monitoring/sandbox",
          "Orchestration & Management/ Service Mesh/graduated",
          "Orchestration & Management/ Coordination & Service Discovery/sandbox",
          "Platform/ Certified Kubernetes - Distribution/sandbox",
          "Runtime/ Cloud Native Storage/sandbox",
          "Platform/Container Service/False",
          "Orchestration & Management/ Scheduling & Orchestration/sandbox",
          "Runtime/ Cloud Native Storage/sandbox",
          "Observability and Analysis/ Tracing/graduated",
          "Observability and Analysis/ Monitoring/member",
          "Provisioning/ Container Registry/graduated",
          "App Definition and Development/ Application Definition & Image Build/graduated",
          "Provisioning/ Security & Compliance/sandbox",
          "Provisioning/ Security & Compliance/incubating",
          "App Definition and Development/ Continuous Integration & Delivery/member",
          "Observability and Analysis/ Logging/graduated",
          "Orchestration & Management/ Scheduling & Orchestration/sandbox",
          "Runtime/ Cloud Native Network/sandbox",
          "Observability and Analysis/ Monitoring/sandbox",
          "Orchestration & Management/ Remote Procedure Call/incubating",
          "App Definition and Development/ Application Definition & Image Build/False",
          "Observability and Analysis/ Monitoring/sandbox",
          "App Definition and Development/ Continuous Integration & Delivery/graduated",
          "Runtime/ Cloud Native Network/sandbox",
          "Provisioning/ Automation & Configuration/incubating",
          "Orchestration & Management/ Scheduling & Orchestration/member",
          "Provisioning/ Security & Compliance/member",
          "Runtime/ Cloud Native Network/sandbox",
          "Orchestration & Management/ Scheduling & Orchestration/sandbox",
          "Platform/ Certified Kubernetes - Hosted/member",
          "App Definition and Development/ Application Definition & Image Build/incubating",
          "Orchestration & Management/ Scheduling & Orchestration/incubating",
          "App Definition and Development/ Application Definition & Image Build/sandbox",
          "Observability and Analysis/ Monitoring/sandbox",
          "Orchestration & Management/ Scheduling & Orchestration/graduated",
          "Provisioning/ Security & Compliance/sandbox",
          "Provisioning/ Security & Compliance/sandbox",
          "Orchestration & Management/ Service Mesh/sandbox",
          "Orchestration & Management/ Scheduling & Orchestration/sandbox",
          "Provisioning/ Security & Compliance/incubating",
          "Runtime/ Container Runtime/sandbox",
          "Provisioning/ Automation & Configuration/sandbox",
          "Platform/ Certified Kubernetes - Installer/member",
          "Platform/ Certified Kubernetes - Installer/sandbox",
          "App Definition and Development/ Application Definition & Image Build/incubating",
          "Provisioning/ Security & Compliance/sandbox",
          "Provisioning/ Security & Compliance/member",
          "Orchestration & Management/ Scheduling & Orchestration/sandbox",
          "Serverless/ Installable Platform/graduated",
          "Observability and Analysis/ Monitoring/sandbox",
          "App Definition and Development/ Continuous Integration & Delivery/incubating",
          "Orchestration & Management/ Scheduling & Orchestration/False",
          "Provisioning/ Security & Compliance/incubating",
          "Provisioning/ Security & Compliance/sandbox",
          "Provisioning/ Security & Compliance/False",
          "Orchestration & Management/ Scheduling & Orchestration/incubating",
          "Orchestration & Management/ Scheduling & Orchestration/graduated",
          "App Definition and Development/ Application Definition & Image Build/sandbox",
          "App Definition and Development/ Application Definition & Image Build/sandbox",
          "App Definition and Development/ Streaming & Messaging/member",
          "Provisioning/ Automation & Configuration/sandbox",
          "App Definition and Development/ Application Definition & Image Build/sandbox",
          "Runtime/ Container Runtime/sandbox",
          "Serverless/ Installable Platform/incubating",
          "Wasm/ Runtimes/sandbox",
          "Runtime/ Container Runtime/False",
          "App Definition and Development/ Streaming & Messaging/member",
          "Runtime/ Cloud Native Storage/incubating",
          "Orchestration & Management/ Service Mesh/graduated",
          "App Definition and Development/ Continuous Integration & Delivery/False",
          "Observability and Analysis/ Chaos Engineering/incubating",
          "App Definition and Development/ Database/False",
          "Observability and Analysis/ Monitoring/graduated",
          "App Definition and Development/ Streaming & Messaging/sandbox",
          "App Definition and Development/ Application Definition & Image Build/sandbox",
          "Observability and Analysis/ Monitoring/sandbox",
          "App Definition and Development/ Application Definition & Image Build/incubating",
          "App Definition and Development/ Continuous Integration & Delivery/sandbox",
          "Observability and Analysis/ Logging/False",
          "Provisioning/ Security & Compliance/sandbox",
          "Runtime/ Cloud Native Storage/sandbox",
          "App Definition and Development/ Application Definition & Image Build/member",
          "Runtime/ Cloud Native Storage/sandbox",
          "Runtime/ Container Runtime/archived",
          "Observability and Analysis/ Monitoring/sandbox",
          "Provisioning/ Security & Compliance/False",
          "App Definition and Development/ Database/sandbox",
          "App Definition and Development/ Application Definition & Image Build/sandbox",
          "Provisioning/ Security & Compliance/False",
          "Orchestration & Management/ Scheduling & Orchestration/sandbox",
          "App Definition and Development/ Application Definition & Image Build/sandbox",
          "Orchestration & Management/ Service Mesh/archived",
          "Orchestration & Management/ Service Mesh/sandbox",
          "Observability and Analysis/ Monitoring/False",
          "Provisioning/ Security & Compliance/False",
          "Provisioning/ Automation & Configuration/sandbox",
          "Provisioning/ Security & Compliance/sandbox",
          "Provisioning/ Security & Compliance/sandbox",
          "Runtime/ Cloud Native Storage/graduated",
          "Observability and Analysis/ Tracing/archived",
          "Provisioning/ Security & Compliance/sandbox",
          "Orchestration & Management/ Service Mesh/archived",
          "Observability and Analysis/ Tracing/incubating",
          "Orchestration & Management/ Service Mesh/sandbox",
          "Provisioning/ Automation & Configuration/sandbox",
          "Wasm/ Orchestration & Management/member",
          "Provisioning/ Automation & Configuration/sandbox",
          "Orchestration & Management/ Service Proxy/sandbox",
          "App Definition and Development/ Application Definition & Image Build/sandbox",
          "App Definition and Development/ Application Definition & Image Build/False",
          "Orchestration & Management/ Service Mesh/member",
          "App Definition and Development/ Streaming & Messaging/incubating",
          "Runtime/ Cloud Native Network/sandbox",
          "App Definition and Development/ Application Definition & Image Build/sandbox",
          "Provisioning/ Security & Compliance/incubating",
          "Observability and Analysis/ Monitoring/member",
          "Observability and Analysis/ Continuous Optimization/sandbox",
          "Orchestration & Management/ Scheduling & Orchestration/sandbox",
          "Provisioning/ Security & Compliance/sandbox",
          "Provisioning/ Security & Compliance/graduated",
          "Observability and Analysis/ Monitoring/incubating",
          "Observability and Analysis/ Logging/member",
          "App Definition and Development/ Continuous Integration & Delivery/sandbox",
          "App Definition and Development/ Continuous Integration & Delivery/incubating",
          "Orchestration & Management/ Scheduling & Orchestration/sandbox",
          "Provisioning/ Security & Compliance/sandbox",
          "Observability and Analysis/ Feature Flagging/incubating",
          "Orchestration & Management/ Service Proxy/sandbox",
          "Runtime/ Cloud Native Storage/sandbox",
          "Serverless/ Installable Platform/sandbox",
          "Orchestration & Management/ Service Mesh/member",
          "App Definition and Development/ Streaming & Messaging/sandbox",
          "Observability and Analysis/ Monitoring/sandbox",
          "App Definition and Development/ Continuous Integration & Delivery/False",
          "App Definition and Development/ Streaming & Messaging/False",
          "App Definition and Development/ Database/member",
          "Orchestration & Management/ Scheduling & Orchestration/incubating",
          "Runtime/ Container Runtime/sandbox",
          "App Definition and Development/ Application Definition & Image Build/sandbox",
          "App Definition and Development/ Database/graduated",
          "Provisioning/ Security & Compliance/member",
          "Provisioning/ Security & Compliance/member",
          "Runtime/ Cloud Native Storage/sandbox",
          "Provisioning/ Automation & Configuration/sandbox",
          "App Definition and Development/ Database/False",
          "App Definition and Development/ Database/graduated",
          "App Definition and Development/ Database/member",
          "Wasm/ Runtimes/False",
          "Provisioning/ Key Management/graduated",
          "Provisioning/ Security & Compliance/False",
          "App Definition and Development/ Streaming & Messaging/sandbox",
          "Runtime/ Cloud Native Network/sandbox",
          "Provisioning/ Key Management/graduated",
          "App Definition and Development/ Application Definition & Image Build/sandbox",
          "Provisioning/ Key Management/sandbox",
          "Provisioning/ Security & Compliance/member",
          "Observability and Analysis/ Monitoring/incubating",
          "Provisioning/ Security & Compliance/graduated",
          "Provisioning/ Automation & Configuration/sandbox",
          "Orchestration & Management/ Scheduling & Orchestration/sandbox",
          "Runtime/ Container Runtime/sandbox",
          "Wasm/ Runtimes/sandbox",
          "Wasm/ Runtimes/False",
          "App Definition and Development/ Database/False",
          "App Definition and Development/ Database/False",
          "App Definition and Development/ Continuous Integration & Delivery/sandbox",
          "Orchestration & Management/ Coordination & Service Discovery/sandbox",
          "Provisioning/ Container Registry/sandbox",
          "App Definition and Development/ Application Definition & Image Build",
          "Runtime/ Container Runtime",
          "App Definition and Development/ Continuous Integration & Delivery",
          "App Definition and Development/ Database",
          "Observability and Analysis/ Logging",
          "Observability and Analysis/ Monitoring",
          "Wasm/ Runtimes",
          "Orchestration & Management/ Scheduling & Orchestration",
          "Provisioning/ Security & Compliance",
          "App Definition and Development/ Streaming & Messaging",
          "Platform/Container Service",
          "Runtime/ Container Runtime",
          "App Definition and Development/ Continuous Integration & Delivery",
          "Orchestration & Management/ Service Mesh",
          "Observability and Analysis/ Tracing",
          "App Definition and Development/ Application Definition & Image Build",
          "Runtime/ Cloud Native Network",
          "Runtime/ Cloud Native Storage",
          "Provisioning/ Container Registry",
          "Runtime/ Container Runtime",
          "App Definition and Development/ Continuous Integration & Delivery",
          "Orchestration & Management/ Coordination & Service Discovery",
          "App Definition and Development/ Database",
          "Serverless/ Installable Platform",
          "Provisioning/ Key Management",
          "Observability and Analysis/ Logging",
          "Observability and Analysis/ Monitoring",
          "Orchestration & Management/ Scheduling & Orchestration",
          "Provisioning/ Security & Compliance",
          "Orchestration & Management/ Service Mesh",
          "Orchestration & Management/ Service Proxy",
          "Observability and Analysis/ Tracing",
          "Orchestration & Management/ API Gateway",
          "App Definition and Development/ Application Definition & Image Build",
          "Provisioning/ Automation & Configuration",
          "Observability and Analysis/ Chaos Engineering",
          "Runtime/ Cloud Native Network",
          "Runtime/ Cloud Native Storage",
          "Provisioning/ Container Registry",
          "App Definition and Development/ Continuous Integration & Delivery",
          "Observability and Analysis/ Feature Flagging",
          "Serverless/ Framework",
          "Serverless/ Installable Platform",
          "Observability and Analysis/ Monitoring",
          "Orchestration & Management/ Remote Procedure Call",
          "Orchestration & Management/ Scheduling & Orchestration",
          "Provisioning/ Security & Compliance",
          "Orchestration & Management/ Service Proxy",
          "App Definition and Development/ Streaming & Messaging",
          "Observability and Analysis/ Tracing",
          "App Definition and Development/ Application Definition & Image Build",
          "Platform/ Certified Kubernetes - Hosted",
          "Platform/ Certified Kubernetes - Installer",
          "App Definition and Development/ Continuous Integration & Delivery",
          "App Definition and Development/ Database",
          "Observability and Analysis/ Logging",
          "Observability and Analysis/ Monitoring",
          "Wasm/ Orchestration & Management",
          "Orchestration & Management/ Scheduling & Orchestration",
          "Provisioning/ Security & Compliance",
          "Orchestration & Management/ Service Mesh",
          "App Definition and Development/ Streaming & Messaging",
          "App Definition and Development/ Application Definition & Image Build",
          "Provisioning/ Automation & Configuration",
          "Platform/ Certified Kubernetes - Distribution",
          "Platform/ Certified Kubernetes - Installer",
          "Observability and Analysis/ Chaos Engineering",
          "Runtime/ Cloud Native Network",
          "Runtime/ Cloud Native Storage",
          "Provisioning/ Container Registry",
          "Runtime/ Container Runtime",
          "App Definition and Development/ Continuous Integration & Delivery",
          "Observability and Analysis/ Continuous Optimization",
          "Orchestration & Management/ Coordination & Service Discovery",
          "App Definition and Development/ Database",
          "Serverless/ Installable Platform",
          "Provisioning/ Key Management",
          "Observability and Analysis/ Monitoring",
          "Wasm/ Runtimes",
          "Orchestration & Management/ Scheduling & Orchestration",
          "Provisioning/ Security & Compliance",
          "Orchestration & Management/ Service Mesh",
          "Orchestration & Management/ Service Proxy",
          "App Definition and Development/ Streaming & Messaging",
          "Orchestration & Management",
          "App Definition and Development",
          "Provisioning",
          "Platform",
          "Platform",
          "Platform",
          "Observability and Analysis",
          "Runtime",
          "Runtime",
          "Provisioning",
          "Runtime",
          "App Definition and Development",
          "Observability and Analysis",
          "Orchestration & Management",
          "App Definition and Development",
          "Observability and Analysis",
          "Serverless",
          "Serverless",
          "Provisioning",
          "Observability and Analysis",
          "Observability and Analysis",
          "Wasm",
          "Orchestration & Management",
          "Wasm",
          "Orchestration & Management",
          "Provisioning",
          "Orchestration & Management",
          "Orchestration & Management",
          "App Definition and Development",
          "Observability and Analysis",
          "Platform",
          "",
          "",
          "",
          "",
          "",
          "",
          "",
          ""
         ],
         "type": "treemap",
         "values": [
          89,
          65,
          10,
          1631,
          539,
          341,
          409,
          1031,
          1525,
          1062,
          822,
          283,
          182,
          967,
          0,
          515,
          15,
          328,
          350,
          796,
          1440,
          3695,
          274,
          1761,
          402,
          967,
          0,
          314,
          174,
          216,
          197,
          670,
          46,
          1338,
          774,
          254,
          371,
          12533,
          21,
          1363,
          0,
          42,
          4904,
          365,
          951,
          5064,
          13,
          138,
          801,
          522,
          54,
          128,
          65,
          210,
          434,
          329,
          224,
          2,
          1978,
          2473,
          245,
          442,
          230,
          4567,
          1488,
          1239,
          404,
          293,
          442,
          407,
          142,
          807,
          274,
          220,
          771,
          110,
          0,
          1982,
          786,
          1172,
          689,
          226,
          496,
          194,
          140,
          751,
          194,
          2,
          708,
          237,
          0,
          68,
          7549,
          841,
          198,
          1598,
          224,
          1928,
          879,
          7,
          458,
          212,
          2588,
          518,
          176,
          8907,
          396,
          1184,
          437,
          979,
          2735,
          529,
          1850,
          655,
          396,
          253,
          137,
          127,
          246,
          0,
          0,
          655,
          0,
          116,
          2840,
          3626,
          1122,
          1308,
          141,
          930,
          1135,
          121,
          492,
          1373,
          149,
          454,
          276,
          99,
          261,
          7580,
          140,
          0,
          40,
          1561,
          138,
          227,
          1154,
          70,
          40,
          0,
          58,
          56,
          607,
          380,
          154,
          147,
          1313,
          0,
          77,
          76,
          704,
          41,
          8173,
          8173,
          291,
          297,
          180,
          846,
          60,
          4595,
          8,
          36,
          192,
          803,
          909,
          87,
          106,
          592,
          2,
          1418,
          32,
          126,
          125,
          499,
          43,
          18,
          10,
          125,
          1,
          463,
          21,
          2396,
          1142,
          437,
          429,
          56,
          27,
          2283,
          505,
          207,
          428,
          249,
          6087,
          690,
          1236,
          1116,
          737,
          3555,
          2111,
          318,
          19,
          1382,
          14,
          1250,
          626,
          554,
          67,
          2360,
          599,
          599,
          4021,
          6966,
          2721,
          1272,
          536,
          409,
          1632,
          116,
          8608,
          16704,
          276,
          56,
          5137,
          979,
          8727,
          1142,
          4567,
          0,
          0,
          76,
          0,
          407,
          5064,
          1313,
          442,
          2662,
          2027,
          2102,
          2973,
          396,
          756,
          220,
          1135,
          7945,
          1146,
          3595,
          3695,
          404,
          314,
          17896,
          1018,
          279,
          65,
          4688,
          796,
          563,
          43,
          967,
          655,
          1037,
          1982,
          2846,
          6687,
          539,
          4960,
          704,
          7580,
          2,
          458,
          402,
          1673,
          1418,
          1096,
          8173,
          194,
          5169,
          61,
          2967,
          3097,
          10888,
          442,
          212,
          13,
          2083,
          2656,
          759,
          1536,
          1758,
          909,
          781,
          138,
          125,
          385,
          5836,
          599,
          15874,
          5054,
          1786,
          336,
          2695,
          314,
          30612,
          11906,
          442,
          2,
          670,
          292,
          7212,
          8657,
          1997,
          4314,
          13358,
          909,
          2883,
          21488,
          43,
          967,
          1176,
          1141,
          1914,
          9160,
          8173,
          1982,
          5736,
          27838,
          26783,
          5518,
          4570,
          11764,
          1108,
          4567,
          77222,
          13426,
          43105,
          5681,
          41827,
          20183,
          2143,
          13909
         ]
        }
       ],
       "layout": {
        "height": 1200,
        "legend": {
         "tracegroupgap": 0
        },
        "template": {
         "data": {
          "bar": [
           {
            "error_x": {
             "color": "#2a3f5f"
            },
            "error_y": {
             "color": "#2a3f5f"
            },
            "marker": {
             "line": {
              "color": "#E5ECF6",
              "width": 0.5
             },
             "pattern": {
              "fillmode": "overlay",
              "size": 10,
              "solidity": 0.2
             }
            },
            "type": "bar"
           }
          ],
          "barpolar": [
           {
            "marker": {
             "line": {
              "color": "#E5ECF6",
              "width": 0.5
             },
             "pattern": {
              "fillmode": "overlay",
              "size": 10,
              "solidity": 0.2
             }
            },
            "type": "barpolar"
           }
          ],
          "carpet": [
           {
            "aaxis": {
             "endlinecolor": "#2a3f5f",
             "gridcolor": "white",
             "linecolor": "white",
             "minorgridcolor": "white",
             "startlinecolor": "#2a3f5f"
            },
            "baxis": {
             "endlinecolor": "#2a3f5f",
             "gridcolor": "white",
             "linecolor": "white",
             "minorgridcolor": "white",
             "startlinecolor": "#2a3f5f"
            },
            "type": "carpet"
           }
          ],
          "choropleth": [
           {
            "colorbar": {
             "outlinewidth": 0,
             "ticks": ""
            },
            "type": "choropleth"
           }
          ],
          "contour": [
           {
            "colorbar": {
             "outlinewidth": 0,
             "ticks": ""
            },
            "colorscale": [
             [
              0,
              "#0d0887"
             ],
             [
              0.1111111111111111,
              "#46039f"
             ],
             [
              0.2222222222222222,
              "#7201a8"
             ],
             [
              0.3333333333333333,
              "#9c179e"
             ],
             [
              0.4444444444444444,
              "#bd3786"
             ],
             [
              0.5555555555555556,
              "#d8576b"
             ],
             [
              0.6666666666666666,
              "#ed7953"
             ],
             [
              0.7777777777777778,
              "#fb9f3a"
             ],
             [
              0.8888888888888888,
              "#fdca26"
             ],
             [
              1,
              "#f0f921"
             ]
            ],
            "type": "contour"
           }
          ],
          "contourcarpet": [
           {
            "colorbar": {
             "outlinewidth": 0,
             "ticks": ""
            },
            "type": "contourcarpet"
           }
          ],
          "heatmap": [
           {
            "colorbar": {
             "outlinewidth": 0,
             "ticks": ""
            },
            "colorscale": [
             [
              0,
              "#0d0887"
             ],
             [
              0.1111111111111111,
              "#46039f"
             ],
             [
              0.2222222222222222,
              "#7201a8"
             ],
             [
              0.3333333333333333,
              "#9c179e"
             ],
             [
              0.4444444444444444,
              "#bd3786"
             ],
             [
              0.5555555555555556,
              "#d8576b"
             ],
             [
              0.6666666666666666,
              "#ed7953"
             ],
             [
              0.7777777777777778,
              "#fb9f3a"
             ],
             [
              0.8888888888888888,
              "#fdca26"
             ],
             [
              1,
              "#f0f921"
             ]
            ],
            "type": "heatmap"
           }
          ],
          "heatmapgl": [
           {
            "colorbar": {
             "outlinewidth": 0,
             "ticks": ""
            },
            "colorscale": [
             [
              0,
              "#0d0887"
             ],
             [
              0.1111111111111111,
              "#46039f"
             ],
             [
              0.2222222222222222,
              "#7201a8"
             ],
             [
              0.3333333333333333,
              "#9c179e"
             ],
             [
              0.4444444444444444,
              "#bd3786"
             ],
             [
              0.5555555555555556,
              "#d8576b"
             ],
             [
              0.6666666666666666,
              "#ed7953"
             ],
             [
              0.7777777777777778,
              "#fb9f3a"
             ],
             [
              0.8888888888888888,
              "#fdca26"
             ],
             [
              1,
              "#f0f921"
             ]
            ],
            "type": "heatmapgl"
           }
          ],
          "histogram": [
           {
            "marker": {
             "pattern": {
              "fillmode": "overlay",
              "size": 10,
              "solidity": 0.2
             }
            },
            "type": "histogram"
           }
          ],
          "histogram2d": [
           {
            "colorbar": {
             "outlinewidth": 0,
             "ticks": ""
            },
            "colorscale": [
             [
              0,
              "#0d0887"
             ],
             [
              0.1111111111111111,
              "#46039f"
             ],
             [
              0.2222222222222222,
              "#7201a8"
             ],
             [
              0.3333333333333333,
              "#9c179e"
             ],
             [
              0.4444444444444444,
              "#bd3786"
             ],
             [
              0.5555555555555556,
              "#d8576b"
             ],
             [
              0.6666666666666666,
              "#ed7953"
             ],
             [
              0.7777777777777778,
              "#fb9f3a"
             ],
             [
              0.8888888888888888,
              "#fdca26"
             ],
             [
              1,
              "#f0f921"
             ]
            ],
            "type": "histogram2d"
           }
          ],
          "histogram2dcontour": [
           {
            "colorbar": {
             "outlinewidth": 0,
             "ticks": ""
            },
            "colorscale": [
             [
              0,
              "#0d0887"
             ],
             [
              0.1111111111111111,
              "#46039f"
             ],
             [
              0.2222222222222222,
              "#7201a8"
             ],
             [
              0.3333333333333333,
              "#9c179e"
             ],
             [
              0.4444444444444444,
              "#bd3786"
             ],
             [
              0.5555555555555556,
              "#d8576b"
             ],
             [
              0.6666666666666666,
              "#ed7953"
             ],
             [
              0.7777777777777778,
              "#fb9f3a"
             ],
             [
              0.8888888888888888,
              "#fdca26"
             ],
             [
              1,
              "#f0f921"
             ]
            ],
            "type": "histogram2dcontour"
           }
          ],
          "mesh3d": [
           {
            "colorbar": {
             "outlinewidth": 0,
             "ticks": ""
            },
            "type": "mesh3d"
           }
          ],
          "parcoords": [
           {
            "line": {
             "colorbar": {
              "outlinewidth": 0,
              "ticks": ""
             }
            },
            "type": "parcoords"
           }
          ],
          "pie": [
           {
            "automargin": true,
            "type": "pie"
           }
          ],
          "scatter": [
           {
            "fillpattern": {
             "fillmode": "overlay",
             "size": 10,
             "solidity": 0.2
            },
            "type": "scatter"
           }
          ],
          "scatter3d": [
           {
            "line": {
             "colorbar": {
              "outlinewidth": 0,
              "ticks": ""
             }
            },
            "marker": {
             "colorbar": {
              "outlinewidth": 0,
              "ticks": ""
             }
            },
            "type": "scatter3d"
           }
          ],
          "scattercarpet": [
           {
            "marker": {
             "colorbar": {
              "outlinewidth": 0,
              "ticks": ""
             }
            },
            "type": "scattercarpet"
           }
          ],
          "scattergeo": [
           {
            "marker": {
             "colorbar": {
              "outlinewidth": 0,
              "ticks": ""
             }
            },
            "type": "scattergeo"
           }
          ],
          "scattergl": [
           {
            "marker": {
             "colorbar": {
              "outlinewidth": 0,
              "ticks": ""
             }
            },
            "type": "scattergl"
           }
          ],
          "scattermapbox": [
           {
            "marker": {
             "colorbar": {
              "outlinewidth": 0,
              "ticks": ""
             }
            },
            "type": "scattermapbox"
           }
          ],
          "scatterpolar": [
           {
            "marker": {
             "colorbar": {
              "outlinewidth": 0,
              "ticks": ""
             }
            },
            "type": "scatterpolar"
           }
          ],
          "scatterpolargl": [
           {
            "marker": {
             "colorbar": {
              "outlinewidth": 0,
              "ticks": ""
             }
            },
            "type": "scatterpolargl"
           }
          ],
          "scatterternary": [
           {
            "marker": {
             "colorbar": {
              "outlinewidth": 0,
              "ticks": ""
             }
            },
            "type": "scatterternary"
           }
          ],
          "surface": [
           {
            "colorbar": {
             "outlinewidth": 0,
             "ticks": ""
            },
            "colorscale": [
             [
              0,
              "#0d0887"
             ],
             [
              0.1111111111111111,
              "#46039f"
             ],
             [
              0.2222222222222222,
              "#7201a8"
             ],
             [
              0.3333333333333333,
              "#9c179e"
             ],
             [
              0.4444444444444444,
              "#bd3786"
             ],
             [
              0.5555555555555556,
              "#d8576b"
             ],
             [
              0.6666666666666666,
              "#ed7953"
             ],
             [
              0.7777777777777778,
              "#fb9f3a"
             ],
             [
              0.8888888888888888,
              "#fdca26"
             ],
             [
              1,
              "#f0f921"
             ]
            ],
            "type": "surface"
           }
          ],
          "table": [
           {
            "cells": {
             "fill": {
              "color": "#EBF0F8"
             },
             "line": {
              "color": "white"
             }
            },
            "header": {
             "fill": {
              "color": "#C8D4E3"
             },
             "line": {
              "color": "white"
             }
            },
            "type": "table"
           }
          ]
         },
         "layout": {
          "annotationdefaults": {
           "arrowcolor": "#2a3f5f",
           "arrowhead": 0,
           "arrowwidth": 1
          },
          "autotypenumbers": "strict",
          "coloraxis": {
           "colorbar": {
            "outlinewidth": 0,
            "ticks": ""
           }
          },
          "colorscale": {
           "diverging": [
            [
             0,
             "#8e0152"
            ],
            [
             0.1,
             "#c51b7d"
            ],
            [
             0.2,
             "#de77ae"
            ],
            [
             0.3,
             "#f1b6da"
            ],
            [
             0.4,
             "#fde0ef"
            ],
            [
             0.5,
             "#f7f7f7"
            ],
            [
             0.6,
             "#e6f5d0"
            ],
            [
             0.7,
             "#b8e186"
            ],
            [
             0.8,
             "#7fbc41"
            ],
            [
             0.9,
             "#4d9221"
            ],
            [
             1,
             "#276419"
            ]
           ],
           "sequential": [
            [
             0,
             "#0d0887"
            ],
            [
             0.1111111111111111,
             "#46039f"
            ],
            [
             0.2222222222222222,
             "#7201a8"
            ],
            [
             0.3333333333333333,
             "#9c179e"
            ],
            [
             0.4444444444444444,
             "#bd3786"
            ],
            [
             0.5555555555555556,
             "#d8576b"
            ],
            [
             0.6666666666666666,
             "#ed7953"
            ],
            [
             0.7777777777777778,
             "#fb9f3a"
            ],
            [
             0.8888888888888888,
             "#fdca26"
            ],
            [
             1,
             "#f0f921"
            ]
           ],
           "sequentialminus": [
            [
             0,
             "#0d0887"
            ],
            [
             0.1111111111111111,
             "#46039f"
            ],
            [
             0.2222222222222222,
             "#7201a8"
            ],
            [
             0.3333333333333333,
             "#9c179e"
            ],
            [
             0.4444444444444444,
             "#bd3786"
            ],
            [
             0.5555555555555556,
             "#d8576b"
            ],
            [
             0.6666666666666666,
             "#ed7953"
            ],
            [
             0.7777777777777778,
             "#fb9f3a"
            ],
            [
             0.8888888888888888,
             "#fdca26"
            ],
            [
             1,
             "#f0f921"
            ]
           ]
          },
          "colorway": [
           "#636efa",
           "#EF553B",
           "#00cc96",
           "#ab63fa",
           "#FFA15A",
           "#19d3f3",
           "#FF6692",
           "#B6E880",
           "#FF97FF",
           "#FECB52"
          ],
          "font": {
           "color": "#2a3f5f"
          },
          "geo": {
           "bgcolor": "white",
           "lakecolor": "white",
           "landcolor": "#E5ECF6",
           "showlakes": true,
           "showland": true,
           "subunitcolor": "white"
          },
          "hoverlabel": {
           "align": "left"
          },
          "hovermode": "closest",
          "mapbox": {
           "style": "light"
          },
          "paper_bgcolor": "white",
          "plot_bgcolor": "#E5ECF6",
          "polar": {
           "angularaxis": {
            "gridcolor": "white",
            "linecolor": "white",
            "ticks": ""
           },
           "bgcolor": "#E5ECF6",
           "radialaxis": {
            "gridcolor": "white",
            "linecolor": "white",
            "ticks": ""
           }
          },
          "scene": {
           "xaxis": {
            "backgroundcolor": "#E5ECF6",
            "gridcolor": "white",
            "gridwidth": 2,
            "linecolor": "white",
            "showbackground": true,
            "ticks": "",
            "zerolinecolor": "white"
           },
           "yaxis": {
            "backgroundcolor": "#E5ECF6",
            "gridcolor": "white",
            "gridwidth": 2,
            "linecolor": "white",
            "showbackground": true,
            "ticks": "",
            "zerolinecolor": "white"
           },
           "zaxis": {
            "backgroundcolor": "#E5ECF6",
            "gridcolor": "white",
            "gridwidth": 2,
            "linecolor": "white",
            "showbackground": true,
            "ticks": "",
            "zerolinecolor": "white"
           }
          },
          "shapedefaults": {
           "line": {
            "color": "#2a3f5f"
           }
          },
          "ternary": {
           "aaxis": {
            "gridcolor": "white",
            "linecolor": "white",
            "ticks": ""
           },
           "baxis": {
            "gridcolor": "white",
            "linecolor": "white",
            "ticks": ""
           },
           "bgcolor": "#E5ECF6",
           "caxis": {
            "gridcolor": "white",
            "linecolor": "white",
            "ticks": ""
           }
          },
          "title": {
           "x": 0.05
          },
          "xaxis": {
           "automargin": true,
           "gridcolor": "white",
           "linecolor": "white",
           "ticks": "",
           "title": {
            "standoff": 15
           },
           "zerolinecolor": "white",
           "zerolinewidth": 2
          },
          "yaxis": {
           "automargin": true,
           "gridcolor": "white",
           "linecolor": "white",
           "ticks": "",
           "title": {
            "standoff": 15
           },
           "zerolinecolor": "white",
           "zerolinewidth": 2
          }
         }
        },
        "title": {
         "text": "treemap: 📄 Commits This Year 📄"
        },
        "width": 1200
       }
      }
     },
     "metadata": {},
     "output_type": "display_data"
    }
   ],
   "source": [
    "figs['tree_commitsThisYear'].show()"
   ]
  },
  {
   "cell_type": "code",
   "execution_count": 141,
   "metadata": {},
   "outputs": [
    {
     "data": {
      "application/vnd.plotly.v1+json": {
       "config": {
        "plotlyServerURL": "https://plot.ly"
       },
       "data": [
        {
         "branchvalues": "total",
         "customdata": [
          [
           "Orchestration & Management"
          ],
          [
           "Runtime"
          ],
          [
           "Provisioning"
          ],
          [
           "Runtime"
          ],
          [
           "Orchestration & Management"
          ],
          [
           "Orchestration & Management"
          ],
          [
           "Observability and Analysis"
          ],
          [
           "Runtime"
          ],
          [
           "Orchestration & Management"
          ],
          [
           "Runtime"
          ],
          [
           "Provisioning"
          ],
          [
           "Runtime"
          ],
          [
           "Provisioning"
          ],
          [
           "App Definition and Development"
          ],
          [
           "App Definition and Development"
          ],
          [
           "Provisioning"
          ],
          [
           "App Definition and Development"
          ],
          [
           "Provisioning"
          ],
          [
           "Provisioning"
          ],
          [
           "Provisioning"
          ],
          [
           "Provisioning"
          ],
          [
           "Orchestration & Management"
          ],
          [
           "Orchestration & Management"
          ],
          [
           "Orchestration & Management"
          ],
          [
           "Provisioning"
          ],
          [
           "Serverless"
          ],
          [
           "Runtime"
          ],
          [
           "Orchestration & Management"
          ],
          [
           "Orchestration & Management"
          ],
          [
           "Orchestration & Management"
          ],
          [
           "Provisioning"
          ],
          [
           "Runtime"
          ],
          [
           "Provisioning"
          ],
          [
           "App Definition and Development"
          ],
          [
           "Orchestration & Management"
          ],
          [
           "App Definition and Development"
          ],
          [
           "Provisioning"
          ],
          [
           "App Definition and Development"
          ],
          [
           "Orchestration & Management"
          ],
          [
           "Provisioning"
          ],
          [
           "App Definition and Development"
          ],
          [
           "Provisioning"
          ],
          [
           "App Definition and Development"
          ],
          [
           "App Definition and Development"
          ],
          [
           "App Definition and Development"
          ],
          [
           "Runtime"
          ],
          [
           "Observability and Analysis"
          ],
          [
           "Observability and Analysis"
          ],
          [
           "Provisioning"
          ],
          [
           "Provisioning"
          ],
          [
           "App Definition and Development"
          ],
          [
           "App Definition and Development"
          ],
          [
           "Runtime"
          ],
          [
           "Orchestration & Management"
          ],
          [
           "Provisioning"
          ],
          [
           "Provisioning"
          ],
          [
           "Provisioning"
          ],
          [
           "Runtime"
          ],
          [
           "Observability and Analysis"
          ],
          [
           "Orchestration & Management"
          ],
          [
           "Orchestration & Management"
          ],
          [
           "Platform"
          ],
          [
           "Runtime"
          ],
          [
           "Platform"
          ],
          [
           "Orchestration & Management"
          ],
          [
           "Runtime"
          ],
          [
           "Observability and Analysis"
          ],
          [
           "Observability and Analysis"
          ],
          [
           "Provisioning"
          ],
          [
           "App Definition and Development"
          ],
          [
           "Provisioning"
          ],
          [
           "Provisioning"
          ],
          [
           "App Definition and Development"
          ],
          [
           "Observability and Analysis"
          ],
          [
           "Orchestration & Management"
          ],
          [
           "Runtime"
          ],
          [
           "Observability and Analysis"
          ],
          [
           "Orchestration & Management"
          ],
          [
           "App Definition and Development"
          ],
          [
           "Observability and Analysis"
          ],
          [
           "App Definition and Development"
          ],
          [
           "Runtime"
          ],
          [
           "Provisioning"
          ],
          [
           "Orchestration & Management"
          ],
          [
           "Provisioning"
          ],
          [
           "Runtime"
          ],
          [
           "Orchestration & Management"
          ],
          [
           "Platform"
          ],
          [
           "App Definition and Development"
          ],
          [
           "Orchestration & Management"
          ],
          [
           "App Definition and Development"
          ],
          [
           "Observability and Analysis"
          ],
          [
           "Orchestration & Management"
          ],
          [
           "Provisioning"
          ],
          [
           "Provisioning"
          ],
          [
           "Orchestration & Management"
          ],
          [
           "Orchestration & Management"
          ],
          [
           "Provisioning"
          ],
          [
           "Runtime"
          ],
          [
           "Provisioning"
          ],
          [
           "Platform"
          ],
          [
           "Platform"
          ],
          [
           "App Definition and Development"
          ],
          [
           "Provisioning"
          ],
          [
           "Provisioning"
          ],
          [
           "Orchestration & Management"
          ],
          [
           "Serverless"
          ],
          [
           "Observability and Analysis"
          ],
          [
           "App Definition and Development"
          ],
          [
           "Orchestration & Management"
          ],
          [
           "Provisioning"
          ],
          [
           "Provisioning"
          ],
          [
           "Provisioning"
          ],
          [
           "Orchestration & Management"
          ],
          [
           "Orchestration & Management"
          ],
          [
           "App Definition and Development"
          ],
          [
           "App Definition and Development"
          ],
          [
           "App Definition and Development"
          ],
          [
           "Provisioning"
          ],
          [
           "App Definition and Development"
          ],
          [
           "Runtime"
          ],
          [
           "Serverless"
          ],
          [
           "Wasm"
          ],
          [
           "Runtime"
          ],
          [
           "App Definition and Development"
          ],
          [
           "Runtime"
          ],
          [
           "Orchestration & Management"
          ],
          [
           "App Definition and Development"
          ],
          [
           "Observability and Analysis"
          ],
          [
           "App Definition and Development"
          ],
          [
           "Observability and Analysis"
          ],
          [
           "App Definition and Development"
          ],
          [
           "App Definition and Development"
          ],
          [
           "Observability and Analysis"
          ],
          [
           "App Definition and Development"
          ],
          [
           "App Definition and Development"
          ],
          [
           "Observability and Analysis"
          ],
          [
           "Provisioning"
          ],
          [
           "Runtime"
          ],
          [
           "App Definition and Development"
          ],
          [
           "Runtime"
          ],
          [
           "Runtime"
          ],
          [
           "Observability and Analysis"
          ],
          [
           "Provisioning"
          ],
          [
           "App Definition and Development"
          ],
          [
           "App Definition and Development"
          ],
          [
           "Provisioning"
          ],
          [
           "Orchestration & Management"
          ],
          [
           "App Definition and Development"
          ],
          [
           "Orchestration & Management"
          ],
          [
           "Orchestration & Management"
          ],
          [
           "Observability and Analysis"
          ],
          [
           "Provisioning"
          ],
          [
           "Provisioning"
          ],
          [
           "Provisioning"
          ],
          [
           "Provisioning"
          ],
          [
           "Runtime"
          ],
          [
           "Observability and Analysis"
          ],
          [
           "Provisioning"
          ],
          [
           "Orchestration & Management"
          ],
          [
           "Observability and Analysis"
          ],
          [
           "Orchestration & Management"
          ],
          [
           "Provisioning"
          ],
          [
           "Wasm"
          ],
          [
           "Provisioning"
          ],
          [
           "Orchestration & Management"
          ],
          [
           "App Definition and Development"
          ],
          [
           "App Definition and Development"
          ],
          [
           "Orchestration & Management"
          ],
          [
           "App Definition and Development"
          ],
          [
           "Runtime"
          ],
          [
           "App Definition and Development"
          ],
          [
           "Provisioning"
          ],
          [
           "Observability and Analysis"
          ],
          [
           "Observability and Analysis"
          ],
          [
           "Orchestration & Management"
          ],
          [
           "Provisioning"
          ],
          [
           "Provisioning"
          ],
          [
           "Observability and Analysis"
          ],
          [
           "Observability and Analysis"
          ],
          [
           "App Definition and Development"
          ],
          [
           "App Definition and Development"
          ],
          [
           "Orchestration & Management"
          ],
          [
           "Provisioning"
          ],
          [
           "Observability and Analysis"
          ],
          [
           "Orchestration & Management"
          ],
          [
           "Runtime"
          ],
          [
           "Serverless"
          ],
          [
           "Orchestration & Management"
          ],
          [
           "App Definition and Development"
          ],
          [
           "Observability and Analysis"
          ],
          [
           "App Definition and Development"
          ],
          [
           "App Definition and Development"
          ],
          [
           "App Definition and Development"
          ],
          [
           "Orchestration & Management"
          ],
          [
           "Runtime"
          ],
          [
           "App Definition and Development"
          ],
          [
           "App Definition and Development"
          ],
          [
           "Provisioning"
          ],
          [
           "Provisioning"
          ],
          [
           "Runtime"
          ],
          [
           "Provisioning"
          ],
          [
           "App Definition and Development"
          ],
          [
           "App Definition and Development"
          ],
          [
           "App Definition and Development"
          ],
          [
           "Wasm"
          ],
          [
           "Provisioning"
          ],
          [
           "Provisioning"
          ],
          [
           "App Definition and Development"
          ],
          [
           "Runtime"
          ],
          [
           "Provisioning"
          ],
          [
           "App Definition and Development"
          ],
          [
           "Provisioning"
          ],
          [
           "Provisioning"
          ],
          [
           "Observability and Analysis"
          ],
          [
           "Provisioning"
          ],
          [
           "Provisioning"
          ],
          [
           "Orchestration & Management"
          ],
          [
           "Runtime"
          ],
          [
           "Wasm"
          ],
          [
           "Wasm"
          ],
          [
           "App Definition and Development"
          ],
          [
           "App Definition and Development"
          ],
          [
           "App Definition and Development"
          ],
          [
           "Orchestration & Management"
          ],
          [
           "Provisioning"
          ],
          [
           "App Definition and Development"
          ],
          [
           "Runtime"
          ],
          [
           "App Definition and Development"
          ],
          [
           "App Definition and Development"
          ],
          [
           "Observability and Analysis"
          ],
          [
           "Observability and Analysis"
          ],
          [
           "Wasm"
          ],
          [
           "Orchestration & Management"
          ],
          [
           "Provisioning"
          ],
          [
           "App Definition and Development"
          ],
          [
           "Platform"
          ],
          [
           "Runtime"
          ],
          [
           "App Definition and Development"
          ],
          [
           "Orchestration & Management"
          ],
          [
           "Observability and Analysis"
          ],
          [
           "App Definition and Development"
          ],
          [
           "Runtime"
          ],
          [
           "Runtime"
          ],
          [
           "Provisioning"
          ],
          [
           "Runtime"
          ],
          [
           "App Definition and Development"
          ],
          [
           "Orchestration & Management"
          ],
          [
           "App Definition and Development"
          ],
          [
           "Serverless"
          ],
          [
           "Provisioning"
          ],
          [
           "Observability and Analysis"
          ],
          [
           "Observability and Analysis"
          ],
          [
           "Orchestration & Management"
          ],
          [
           "Provisioning"
          ],
          [
           "Orchestration & Management"
          ],
          [
           "Orchestration & Management"
          ],
          [
           "Observability and Analysis"
          ],
          [
           "Orchestration & Management"
          ],
          [
           "App Definition and Development"
          ],
          [
           "Provisioning"
          ],
          [
           "Observability and Analysis"
          ],
          [
           "Runtime"
          ],
          [
           "Runtime"
          ],
          [
           "Provisioning"
          ],
          [
           "App Definition and Development"
          ],
          [
           "Observability and Analysis"
          ],
          [
           "Serverless"
          ],
          [
           "Serverless"
          ],
          [
           "Observability and Analysis"
          ],
          [
           "Orchestration & Management"
          ],
          [
           "Orchestration & Management"
          ],
          [
           "Provisioning"
          ],
          [
           "Orchestration & Management"
          ],
          [
           "App Definition and Development"
          ],
          [
           "Observability and Analysis"
          ],
          [
           "App Definition and Development"
          ],
          [
           "Platform"
          ],
          [
           "Platform"
          ],
          [
           "App Definition and Development"
          ],
          [
           "App Definition and Development"
          ],
          [
           "Observability and Analysis"
          ],
          [
           "Observability and Analysis"
          ],
          [
           "Wasm"
          ],
          [
           "Orchestration & Management"
          ],
          [
           "Provisioning"
          ],
          [
           "Orchestration & Management"
          ],
          [
           "App Definition and Development"
          ],
          [
           "App Definition and Development"
          ],
          [
           "Provisioning"
          ],
          [
           "Platform"
          ],
          [
           "Platform"
          ],
          [
           "Observability and Analysis"
          ],
          [
           "Runtime"
          ],
          [
           "Runtime"
          ],
          [
           "Provisioning"
          ],
          [
           "Runtime"
          ],
          [
           "App Definition and Development"
          ],
          [
           "Observability and Analysis"
          ],
          [
           "Orchestration & Management"
          ],
          [
           "App Definition and Development"
          ],
          [
           "Serverless"
          ],
          [
           "Provisioning"
          ],
          [
           "Observability and Analysis"
          ],
          [
           "Wasm"
          ],
          [
           "Orchestration & Management"
          ],
          [
           "Provisioning"
          ],
          [
           "Orchestration & Management"
          ],
          [
           "Orchestration & Management"
          ],
          [
           "App Definition and Development"
          ],
          [
           "Orchestration & Management"
          ],
          [
           "App Definition and Development"
          ],
          [
           "Provisioning"
          ],
          [
           "Platform"
          ],
          [
           "Platform"
          ],
          [
           "Platform"
          ],
          [
           "Observability and Analysis"
          ],
          [
           "Runtime"
          ],
          [
           "Runtime"
          ],
          [
           "Provisioning"
          ],
          [
           "Runtime"
          ],
          [
           "App Definition and Development"
          ],
          [
           "Observability and Analysis"
          ],
          [
           "Orchestration & Management"
          ],
          [
           "App Definition and Development"
          ],
          [
           "Observability and Analysis"
          ],
          [
           "Serverless"
          ],
          [
           "Serverless"
          ],
          [
           "Provisioning"
          ],
          [
           "Observability and Analysis"
          ],
          [
           "Observability and Analysis"
          ],
          [
           "Wasm"
          ],
          [
           "Orchestration & Management"
          ],
          [
           "Wasm"
          ],
          [
           "Orchestration & Management"
          ],
          [
           "Provisioning"
          ],
          [
           "Orchestration & Management"
          ],
          [
           "Orchestration & Management"
          ],
          [
           "App Definition and Development"
          ],
          [
           "Observability and Analysis"
          ],
          [
           "Platform"
          ],
          [
           "App Definition and Development"
          ],
          [
           "Observability and Analysis"
          ],
          [
           "Orchestration & Management"
          ],
          [
           "Platform"
          ],
          [
           "Provisioning"
          ],
          [
           "Runtime"
          ],
          [
           "Serverless"
          ],
          [
           "Wasm"
          ]
         ],
         "domain": {
          "x": [
           0,
           1
          ],
          "y": [
           0,
           1
          ]
         },
         "hovertemplate": "labels=%{label}<br>contributorsCount=%{value}<br>parent=%{parent}<br>id=%{id}<br>category=%{customdata[0]}<extra></extra>",
         "ids": [
          "Orchestration & Management/ Service Mesh/sandbox/aeraki-mesh",
          "Runtime/ Cloud Native Network/incubating/container-network-interface-cni",
          "Provisioning/ Security & Compliance/sandbox/container-ssh",
          "Runtime/ Container Runtime/graduated/containerd",
          "Orchestration & Management/ Service Proxy/incubating/contour",
          "Orchestration & Management/ Coordination & Service Discovery/graduated/core-dns",
          "Observability and Analysis/ Monitoring/incubating/cortex",
          "Runtime/ Container Runtime/graduated/cri-o",
          "Orchestration & Management/ Scheduling & Orchestration/incubating/crossplane",
          "Runtime/ Cloud Native Storage/incubating/cube-fs",
          "Provisioning/ Security & Compliance/sandbox/curiefense",
          "Runtime/ Cloud Native Storage/sandbox/curve",
          "Provisioning/ Security & Compliance/sandbox/confidential-containers",
          "App Definition and Development/ Application Definition & Image Build/incubating/dapr",
          "App Definition and Development/ Application Definition & Image Build/sandbox/dev-space",
          "Provisioning/ Automation & Configuration/sandbox/dev-stream",
          "App Definition and Development/ Application Definition & Image Build/sandbox/devfile",
          "Provisioning/ Security & Compliance/sandbox/dex",
          "Provisioning/ Container Registry/sandbox/distribution",
          "Provisioning/ Container Registry/incubating/dragonfly",
          "Provisioning/ Security & Compliance/member/ejbca-community",
          "Orchestration & Management/ Service Proxy/graduated/envoy",
          "Orchestration & Management/ Scheduling & Orchestration/sandbox/eraser",
          "Orchestration & Management/ Coordination & Service Discovery/graduated/etcd",
          "Provisioning/ Security & Compliance/sandbox/external-secrets",
          "Serverless/ Framework/incubating/dapr-serverless",
          "Runtime/ Cloud Native Network/sandbox/cni-genie",
          "Orchestration & Management/ API Gateway/incubating/emissary-ingress",
          "Orchestration & Management/ Scheduling & Orchestration/sandbox/clusternet",
          "Orchestration & Management/ Scheduling & Orchestration/sandbox/clusterpedia",
          "Provisioning/ Automation & Configuration/sandbox/akri",
          "Runtime/ Cloud Native Network/sandbox/antrea",
          "Provisioning/ Security & Compliance/member/api-clarity",
          "App Definition and Development/ Continuous Integration & Delivery/graduated/argo",
          "Orchestration & Management/ Scheduling & Orchestration/sandbox/armada",
          "App Definition and Development/ Application Definition & Image Build/sandbox/artifact-hub",
          "Provisioning/ Key Management/sandbox/athenz",
          "App Definition and Development/ Application Definition & Image Build/incubating/backstage",
          "Orchestration & Management/ Service Proxy/sandbox/bfe",
          "Provisioning/ Security & Compliance/member/bouncy-castle",
          "App Definition and Development/ Continuous Integration & Delivery/archived/brigade",
          "Provisioning/ Security & Compliance/member/aserto",
          "App Definition and Development/ Continuous Integration & Delivery/False/bytebase",
          "App Definition and Development/ Streaming & Messaging/incubating/cloud-events",
          "App Definition and Development/ Application Definition & Image Build/incubating/buildpacks",
          "Runtime/ Cloud Native Network/graduated/cilium",
          "Observability and Analysis/ Chaos Engineering/sandbox/chaosblade",
          "Observability and Analysis/ Chaos Engineering/incubating/chaos-mesh",
          "Provisioning/ Security & Compliance/incubating/cert-manager",
          "Provisioning/ Automation & Configuration/incubating/cloud-custodian",
          "App Definition and Development/ Application Definition & Image Build/sandbox/carvel",
          "App Definition and Development/ Continuous Integration & Delivery/member/cartographer",
          "Runtime/ Cloud Native Storage/sandbox/carina",
          "Orchestration & Management/ Scheduling & Orchestration/sandbox/capsule",
          "Provisioning/ Automation & Configuration/sandbox/cdk-for-kubernetes-cdk8s",
          "Provisioning/ Automation & Configuration/sandbox/kcl",
          "Provisioning/ Security & Compliance/incubating/in-toto",
          "Runtime/ Container Runtime/sandbox/inclavare-containers",
          "Observability and Analysis/ Monitoring/sandbox/inspektor-gadget",
          "Orchestration & Management/ Service Mesh/graduated/istio",
          "Orchestration & Management/ Coordination & Service Discovery/sandbox/k8gb",
          "Platform/ Certified Kubernetes - Distribution/sandbox/k3s",
          "Runtime/ Cloud Native Storage/sandbox/k8up",
          "Platform/Container Service/False/kapeta",
          "Orchestration & Management/ Scheduling & Orchestration/sandbox/karmada",
          "Runtime/ Cloud Native Storage/sandbox/hwamei-stor",
          "Observability and Analysis/ Tracing/graduated/jaeger",
          "Observability and Analysis/ Monitoring/member/hubble",
          "Provisioning/ Container Registry/graduated/harbor",
          "App Definition and Development/ Application Definition & Image Build/graduated/helm",
          "Provisioning/ Security & Compliance/sandbox/hexa",
          "Provisioning/ Security & Compliance/incubating/falco",
          "App Definition and Development/ Continuous Integration & Delivery/member/flagger",
          "Observability and Analysis/ Logging/graduated/fluentd",
          "Orchestration & Management/ Scheduling & Orchestration/sandbox/fluid",
          "Runtime/ Cloud Native Network/sandbox/fab-edge",
          "Observability and Analysis/ Monitoring/sandbox/fonio",
          "Orchestration & Management/ Remote Procedure Call/incubating/g-rpc",
          "App Definition and Development/ Application Definition & Image Build/False/gefyra",
          "Observability and Analysis/ Monitoring/sandbox/headlamp",
          "App Definition and Development/ Continuous Integration & Delivery/graduated/flux",
          "Runtime/ Cloud Native Network/sandbox/kube-vip",
          "Provisioning/ Automation & Configuration/incubating/kube-edge",
          "Orchestration & Management/ Scheduling & Orchestration/member/kube-green",
          "Provisioning/ Security & Compliance/member/kube-linter",
          "Runtime/ Cloud Native Network/sandbox/kube-ovn",
          "Orchestration & Management/ Scheduling & Orchestration/sandbox/kube-rs",
          "Platform/ Certified Kubernetes - Hosted/member/kube-sphere-qke",
          "App Definition and Development/ Application Definition & Image Build/incubating/kube-vela",
          "Orchestration & Management/ Scheduling & Orchestration/incubating/kubeflow",
          "App Definition and Development/ Application Definition & Image Build/sandbox/kudo",
          "Observability and Analysis/ Monitoring/sandbox/kuberhealthy",
          "Orchestration & Management/ Scheduling & Orchestration/graduated/kubernetes",
          "Provisioning/ Security & Compliance/sandbox/kubescape",
          "Provisioning/ Security & Compliance/sandbox/kubewarden",
          "Orchestration & Management/ Service Mesh/sandbox/kuma",
          "Orchestration & Management/ Scheduling & Orchestration/sandbox/kured",
          "Provisioning/ Security & Compliance/incubating/kyverno",
          "Runtime/ Container Runtime/sandbox/lima",
          "Provisioning/ Automation & Configuration/sandbox/kube-dl",
          "Platform/ Certified Kubernetes - Installer/member/kubekey",
          "Platform/ Certified Kubernetes - Installer/sandbox/kube-clipper",
          "App Definition and Development/ Application Definition & Image Build/incubating/kube-virt",
          "Provisioning/ Security & Compliance/sandbox/kube-armor",
          "Provisioning/ Security & Compliance/member/kube-clarity",
          "Orchestration & Management/ Scheduling & Orchestration/sandbox/kcp",
          "Serverless/ Installable Platform/graduated/keda-serverless",
          "Observability and Analysis/ Monitoring/sandbox/kepler",
          "App Definition and Development/ Continuous Integration & Delivery/incubating/keptn",
          "Orchestration & Management/ Scheduling & Orchestration/False/kestra",
          "Provisioning/ Security & Compliance/incubating/keycloak",
          "Provisioning/ Security & Compliance/sandbox/keylime",
          "Provisioning/ Security & Compliance/False/kics",
          "Orchestration & Management/ Scheduling & Orchestration/incubating/knative",
          "Orchestration & Management/ Scheduling & Orchestration/graduated/keda",
          "App Definition and Development/ Application Definition & Image Build/sandbox/ko",
          "App Definition and Development/ Application Definition & Image Build/sandbox/konveyor",
          "App Definition and Development/ Streaming & Messaging/member/koperator",
          "Provisioning/ Automation & Configuration/sandbox/kpt",
          "App Definition and Development/ Application Definition & Image Build/sandbox/krator",
          "Runtime/ Container Runtime/sandbox/krustlet",
          "Serverless/ Installable Platform/incubating/knative-serverless",
          "Wasm/ Runtimes/sandbox/krustlet-wasm",
          "Runtime/ Container Runtime/False/kuasar",
          "App Definition and Development/ Streaming & Messaging/member/memphis",
          "Runtime/ Cloud Native Storage/incubating/longhorn",
          "Orchestration & Management/ Service Mesh/graduated/linkerd",
          "App Definition and Development/ Continuous Integration & Delivery/False/liquibase",
          "Observability and Analysis/ Chaos Engineering/incubating/litmus",
          "App Definition and Development/ Database/False/qdrant",
          "Observability and Analysis/ Monitoring/graduated/prometheus",
          "App Definition and Development/ Streaming & Messaging/sandbox/pravega",
          "App Definition and Development/ Application Definition & Image Build/sandbox/porter",
          "Observability and Analysis/ Monitoring/sandbox/pixie",
          "App Definition and Development/ Application Definition & Image Build/incubating/operator-framework",
          "App Definition and Development/ Continuous Integration & Delivery/sandbox/pipe-cd",
          "Observability and Analysis/ Logging/False/parseable",
          "Provisioning/ Security & Compliance/sandbox/paralus",
          "Runtime/ Cloud Native Storage/sandbox/oras",
          "App Definition and Development/ Application Definition & Image Build/member/quarkus",
          "Runtime/ Cloud Native Storage/sandbox/piraeus-datastore",
          "Runtime/ Container Runtime/archived/rkt",
          "Observability and Analysis/ Monitoring/sandbox/skooner",
          "Provisioning/ Security & Compliance/False/rudder",
          "App Definition and Development/ Database/sandbox/schema-hero",
          "App Definition and Development/ Application Definition & Image Build/sandbox/sealer",
          "Provisioning/ Security & Compliance/False/secure-code-box",
          "Orchestration & Management/ Scheduling & Orchestration/sandbox/serverless-devs",
          "App Definition and Development/ Application Definition & Image Build/sandbox/serverless-workflow",
          "Orchestration & Management/ Service Mesh/archived/service-mesh-interface-smi",
          "Orchestration & Management/ Service Mesh/sandbox/service-mesh-performance",
          "Observability and Analysis/ Monitoring/False/sidekick",
          "Provisioning/ Security & Compliance/False/sigstore",
          "Provisioning/ Automation & Configuration/sandbox/open-yurt",
          "Provisioning/ Security & Compliance/sandbox/slim-toolkit",
          "Provisioning/ Security & Compliance/sandbox/sops",
          "Runtime/ Cloud Native Storage/graduated/rook",
          "Observability and Analysis/ Tracing/archived/open-tracing",
          "Provisioning/ Security & Compliance/sandbox/parsec",
          "Orchestration & Management/ Service Mesh/archived/open-service-mesh",
          "Observability and Analysis/ Tracing/incubating/open-telemetry",
          "Orchestration & Management/ Service Mesh/sandbox/merbridge",
          "Provisioning/ Automation & Configuration/sandbox/meshery",
          "Wasm/ Orchestration & Management/member/meshery-wasm",
          "Provisioning/ Automation & Configuration/sandbox/metal",
          "Orchestration & Management/ Service Proxy/sandbox/metal-lb",
          "App Definition and Development/ Application Definition & Image Build/sandbox/microcks",
          "App Definition and Development/ Application Definition & Image Build/False/mirrord",
          "Orchestration & Management/ Service Mesh/member/nasp",
          "App Definition and Development/ Streaming & Messaging/incubating/nats",
          "Runtime/ Cloud Native Network/sandbox/network-service-mesh",
          "App Definition and Development/ Application Definition & Image Build/sandbox/nocalhost",
          "Provisioning/ Security & Compliance/incubating/notary",
          "Observability and Analysis/ Monitoring/member/micrometer",
          "Observability and Analysis/ Continuous Optimization/sandbox/open-cost",
          "Orchestration & Management/ Scheduling & Orchestration/sandbox/open-cluster-management",
          "Provisioning/ Security & Compliance/sandbox/open-policy-containers",
          "Provisioning/ Security & Compliance/graduated/open-policy-agent-opa",
          "Observability and Analysis/ Monitoring/incubating/open-metrics",
          "Observability and Analysis/ Logging/member/open-search",
          "App Definition and Development/ Continuous Integration & Delivery/sandbox/open-git-ops",
          "App Definition and Development/ Continuous Integration & Delivery/incubating/open-kruise",
          "Orchestration & Management/ Scheduling & Orchestration/sandbox/open-function",
          "Provisioning/ Security & Compliance/sandbox/open-fga",
          "Observability and Analysis/ Feature Flagging/incubating/open-feature",
          "Orchestration & Management/ Service Proxy/sandbox/open-elb",
          "Runtime/ Cloud Native Storage/sandbox/open-ebs",
          "Serverless/ Installable Platform/sandbox/open-function-serverless",
          "Orchestration & Management/ Service Mesh/member/traefik-mesh",
          "App Definition and Development/ Streaming & Messaging/sandbox/tremor",
          "Observability and Analysis/ Monitoring/sandbox/trickster",
          "App Definition and Development/ Continuous Integration & Delivery/False/unleash",
          "App Definition and Development/ Streaming & Messaging/False/userver",
          "App Definition and Development/ Database/member/vald",
          "Orchestration & Management/ Scheduling & Orchestration/incubating/volcano",
          "Runtime/ Container Runtime/sandbox/virtual-kubelet",
          "App Definition and Development/ Application Definition & Image Build/sandbox/visual-studio-code-kubernetes-tools",
          "App Definition and Development/ Database/graduated/vitess",
          "Provisioning/ Security & Compliance/member/vm-clarity",
          "Provisioning/ Security & Compliance/member/topaz",
          "Runtime/ Cloud Native Storage/sandbox/vineyard",
          "Provisioning/ Automation & Configuration/sandbox/tinkerbell",
          "App Definition and Development/ Database/False/star-rocks",
          "App Definition and Development/ Database/graduated/ti-kv",
          "App Definition and Development/ Database/member/spice-db",
          "Wasm/ Runtimes/False/timecraft",
          "Provisioning/ Key Management/graduated/spire",
          "Provisioning/ Security & Compliance/False/stack-rox",
          "App Definition and Development/ Streaming & Messaging/sandbox/strimzi",
          "Runtime/ Cloud Native Network/sandbox/submariner",
          "Provisioning/ Key Management/graduated/spiffe",
          "App Definition and Development/ Application Definition & Image Build/sandbox/telepresence",
          "Provisioning/ Key Management/sandbox/teller",
          "Provisioning/ Security & Compliance/member/tetragon",
          "Observability and Analysis/ Monitoring/incubating/thanos",
          "Provisioning/ Security & Compliance/graduated/the-update-framework-tuf",
          "Provisioning/ Automation & Configuration/sandbox/super-edge",
          "Orchestration & Management/ Scheduling & Orchestration/sandbox/wasm-cloud",
          "Runtime/ Container Runtime/sandbox/wasm-edge-runtime",
          "Wasm/ Runtimes/sandbox/wasm-edge-wasm",
          "Wasm/ Runtimes/False/wasmer",
          "App Definition and Development/ Database/False/ydb",
          "App Definition and Development/ Database/False/weaviate",
          "App Definition and Development/ Continuous Integration & Delivery/sandbox/werf",
          "Orchestration & Management/ Coordination & Service Discovery/sandbox/xline",
          "Provisioning/ Container Registry/sandbox/zot",
          "App Definition and Development/ Application Definition & Image Build/False",
          "Runtime/ Container Runtime/False",
          "App Definition and Development/ Continuous Integration & Delivery/False",
          "App Definition and Development/ Database/False",
          "Observability and Analysis/ Logging/False",
          "Observability and Analysis/ Monitoring/False",
          "Wasm/ Runtimes/False",
          "Orchestration & Management/ Scheduling & Orchestration/False",
          "Provisioning/ Security & Compliance/False",
          "App Definition and Development/ Streaming & Messaging/False",
          "Platform/Container Service/False",
          "Runtime/ Container Runtime/archived",
          "App Definition and Development/ Continuous Integration & Delivery/archived",
          "Orchestration & Management/ Service Mesh/archived",
          "Observability and Analysis/ Tracing/archived",
          "App Definition and Development/ Application Definition & Image Build/graduated",
          "Runtime/ Cloud Native Network/graduated",
          "Runtime/ Cloud Native Storage/graduated",
          "Provisioning/ Container Registry/graduated",
          "Runtime/ Container Runtime/graduated",
          "App Definition and Development/ Continuous Integration & Delivery/graduated",
          "Orchestration & Management/ Coordination & Service Discovery/graduated",
          "App Definition and Development/ Database/graduated",
          "Serverless/ Installable Platform/graduated",
          "Provisioning/ Key Management/graduated",
          "Observability and Analysis/ Logging/graduated",
          "Observability and Analysis/ Monitoring/graduated",
          "Orchestration & Management/ Scheduling & Orchestration/graduated",
          "Provisioning/ Security & Compliance/graduated",
          "Orchestration & Management/ Service Mesh/graduated",
          "Orchestration & Management/ Service Proxy/graduated",
          "Observability and Analysis/ Tracing/graduated",
          "Orchestration & Management/ API Gateway/incubating",
          "App Definition and Development/ Application Definition & Image Build/incubating",
          "Provisioning/ Automation & Configuration/incubating",
          "Observability and Analysis/ Chaos Engineering/incubating",
          "Runtime/ Cloud Native Network/incubating",
          "Runtime/ Cloud Native Storage/incubating",
          "Provisioning/ Container Registry/incubating",
          "App Definition and Development/ Continuous Integration & Delivery/incubating",
          "Observability and Analysis/ Feature Flagging/incubating",
          "Serverless/ Framework/incubating",
          "Serverless/ Installable Platform/incubating",
          "Observability and Analysis/ Monitoring/incubating",
          "Orchestration & Management/ Remote Procedure Call/incubating",
          "Orchestration & Management/ Scheduling & Orchestration/incubating",
          "Provisioning/ Security & Compliance/incubating",
          "Orchestration & Management/ Service Proxy/incubating",
          "App Definition and Development/ Streaming & Messaging/incubating",
          "Observability and Analysis/ Tracing/incubating",
          "App Definition and Development/ Application Definition & Image Build/member",
          "Platform/ Certified Kubernetes - Hosted/member",
          "Platform/ Certified Kubernetes - Installer/member",
          "App Definition and Development/ Continuous Integration & Delivery/member",
          "App Definition and Development/ Database/member",
          "Observability and Analysis/ Logging/member",
          "Observability and Analysis/ Monitoring/member",
          "Wasm/ Orchestration & Management/member",
          "Orchestration & Management/ Scheduling & Orchestration/member",
          "Provisioning/ Security & Compliance/member",
          "Orchestration & Management/ Service Mesh/member",
          "App Definition and Development/ Streaming & Messaging/member",
          "App Definition and Development/ Application Definition & Image Build/sandbox",
          "Provisioning/ Automation & Configuration/sandbox",
          "Platform/ Certified Kubernetes - Distribution/sandbox",
          "Platform/ Certified Kubernetes - Installer/sandbox",
          "Observability and Analysis/ Chaos Engineering/sandbox",
          "Runtime/ Cloud Native Network/sandbox",
          "Runtime/ Cloud Native Storage/sandbox",
          "Provisioning/ Container Registry/sandbox",
          "Runtime/ Container Runtime/sandbox",
          "App Definition and Development/ Continuous Integration & Delivery/sandbox",
          "Observability and Analysis/ Continuous Optimization/sandbox",
          "Orchestration & Management/ Coordination & Service Discovery/sandbox",
          "App Definition and Development/ Database/sandbox",
          "Serverless/ Installable Platform/sandbox",
          "Provisioning/ Key Management/sandbox",
          "Observability and Analysis/ Monitoring/sandbox",
          "Wasm/ Runtimes/sandbox",
          "Orchestration & Management/ Scheduling & Orchestration/sandbox",
          "Provisioning/ Security & Compliance/sandbox",
          "Orchestration & Management/ Service Mesh/sandbox",
          "Orchestration & Management/ Service Proxy/sandbox",
          "App Definition and Development/ Streaming & Messaging/sandbox",
          "Orchestration & Management/ API Gateway",
          "App Definition and Development/ Application Definition & Image Build",
          "Provisioning/ Automation & Configuration",
          "Platform/ Certified Kubernetes - Distribution",
          "Platform/ Certified Kubernetes - Hosted",
          "Platform/ Certified Kubernetes - Installer",
          "Observability and Analysis/ Chaos Engineering",
          "Runtime/ Cloud Native Network",
          "Runtime/ Cloud Native Storage",
          "Provisioning/ Container Registry",
          "Runtime/ Container Runtime",
          "App Definition and Development/ Continuous Integration & Delivery",
          "Observability and Analysis/ Continuous Optimization",
          "Orchestration & Management/ Coordination & Service Discovery",
          "App Definition and Development/ Database",
          "Observability and Analysis/ Feature Flagging",
          "Serverless/ Framework",
          "Serverless/ Installable Platform",
          "Provisioning/ Key Management",
          "Observability and Analysis/ Logging",
          "Observability and Analysis/ Monitoring",
          "Wasm/ Orchestration & Management",
          "Orchestration & Management/ Remote Procedure Call",
          "Wasm/ Runtimes",
          "Orchestration & Management/ Scheduling & Orchestration",
          "Provisioning/ Security & Compliance",
          "Orchestration & Management/ Service Mesh",
          "Orchestration & Management/ Service Proxy",
          "App Definition and Development/ Streaming & Messaging",
          "Observability and Analysis/ Tracing",
          "Platform/Container Service",
          "App Definition and Development",
          "Observability and Analysis",
          "Orchestration & Management",
          "Platform",
          "Provisioning",
          "Runtime",
          "Serverless",
          "Wasm"
         ],
         "labels": [
          "aeraki-mesh",
          "container-network-interface-cni",
          "container-ssh",
          "containerd",
          "contour",
          "core-dns",
          "cortex",
          "cri-o",
          "crossplane",
          "cube-fs",
          "curiefense",
          "curve",
          "confidential-containers",
          "dapr",
          "dev-space",
          "dev-stream",
          "devfile",
          "dex",
          "distribution",
          "dragonfly",
          "ejbca-community",
          "envoy",
          "eraser",
          "etcd",
          "external-secrets",
          "dapr-serverless",
          "cni-genie",
          "emissary-ingress",
          "clusternet",
          "clusterpedia",
          "akri",
          "antrea",
          "api-clarity",
          "argo",
          "armada",
          "artifact-hub",
          "athenz",
          "backstage",
          "bfe",
          "bouncy-castle",
          "brigade",
          "aserto",
          "bytebase",
          "cloud-events",
          "buildpacks",
          "cilium",
          "chaosblade",
          "chaos-mesh",
          "cert-manager",
          "cloud-custodian",
          "carvel",
          "cartographer",
          "carina",
          "capsule",
          "cdk-for-kubernetes-cdk8s",
          "kcl",
          "in-toto",
          "inclavare-containers",
          "inspektor-gadget",
          "istio",
          "k8gb",
          "k3s",
          "k8up",
          "kapeta",
          "karmada",
          "hwamei-stor",
          "jaeger",
          "hubble",
          "harbor",
          "helm",
          "hexa",
          "falco",
          "flagger",
          "fluentd",
          "fluid",
          "fab-edge",
          "fonio",
          "g-rpc",
          "gefyra",
          "headlamp",
          "flux",
          "kube-vip",
          "kube-edge",
          "kube-green",
          "kube-linter",
          "kube-ovn",
          "kube-rs",
          "kube-sphere-qke",
          "kube-vela",
          "kubeflow",
          "kudo",
          "kuberhealthy",
          "kubernetes",
          "kubescape",
          "kubewarden",
          "kuma",
          "kured",
          "kyverno",
          "lima",
          "kube-dl",
          "kubekey",
          "kube-clipper",
          "kube-virt",
          "kube-armor",
          "kube-clarity",
          "kcp",
          "keda-serverless",
          "kepler",
          "keptn",
          "kestra",
          "keycloak",
          "keylime",
          "kics",
          "knative",
          "keda",
          "ko",
          "konveyor",
          "koperator",
          "kpt",
          "krator",
          "krustlet",
          "knative-serverless",
          "krustlet-wasm",
          "kuasar",
          "memphis",
          "longhorn",
          "linkerd",
          "liquibase",
          "litmus",
          "qdrant",
          "prometheus",
          "pravega",
          "porter",
          "pixie",
          "operator-framework",
          "pipe-cd",
          "parseable",
          "paralus",
          "oras",
          "quarkus",
          "piraeus-datastore",
          "rkt",
          "skooner",
          "rudder",
          "schema-hero",
          "sealer",
          "secure-code-box",
          "serverless-devs",
          "serverless-workflow",
          "service-mesh-interface-smi",
          "service-mesh-performance",
          "sidekick",
          "sigstore",
          "open-yurt",
          "slim-toolkit",
          "sops",
          "rook",
          "open-tracing",
          "parsec",
          "open-service-mesh",
          "open-telemetry",
          "merbridge",
          "meshery",
          "meshery-wasm",
          "metal",
          "metal-lb",
          "microcks",
          "mirrord",
          "nasp",
          "nats",
          "network-service-mesh",
          "nocalhost",
          "notary",
          "micrometer",
          "open-cost",
          "open-cluster-management",
          "open-policy-containers",
          "open-policy-agent-opa",
          "open-metrics",
          "open-search",
          "open-git-ops",
          "open-kruise",
          "open-function",
          "open-fga",
          "open-feature",
          "open-elb",
          "open-ebs",
          "open-function-serverless",
          "traefik-mesh",
          "tremor",
          "trickster",
          "unleash",
          "userver",
          "vald",
          "volcano",
          "virtual-kubelet",
          "visual-studio-code-kubernetes-tools",
          "vitess",
          "vm-clarity",
          "topaz",
          "vineyard",
          "tinkerbell",
          "star-rocks",
          "ti-kv",
          "spice-db",
          "timecraft",
          "spire",
          "stack-rox",
          "strimzi",
          "submariner",
          "spiffe",
          "telepresence",
          "teller",
          "tetragon",
          "thanos",
          "the-update-framework-tuf",
          "super-edge",
          "wasm-cloud",
          "wasm-edge-runtime",
          "wasm-edge-wasm",
          "wasmer",
          "ydb",
          "weaviate",
          "werf",
          "xline",
          "zot",
          "False",
          "False",
          "False",
          "False",
          "False",
          "False",
          "False",
          "False",
          "False",
          "False",
          "False",
          "archived",
          "archived",
          "archived",
          "archived",
          "graduated",
          "graduated",
          "graduated",
          "graduated",
          "graduated",
          "graduated",
          "graduated",
          "graduated",
          "graduated",
          "graduated",
          "graduated",
          "graduated",
          "graduated",
          "graduated",
          "graduated",
          "graduated",
          "graduated",
          "incubating",
          "incubating",
          "incubating",
          "incubating",
          "incubating",
          "incubating",
          "incubating",
          "incubating",
          "incubating",
          "incubating",
          "incubating",
          "incubating",
          "incubating",
          "incubating",
          "incubating",
          "incubating",
          "incubating",
          "incubating",
          "member",
          "member",
          "member",
          "member",
          "member",
          "member",
          "member",
          "member",
          "member",
          "member",
          "member",
          "member",
          "sandbox",
          "sandbox",
          "sandbox",
          "sandbox",
          "sandbox",
          "sandbox",
          "sandbox",
          "sandbox",
          "sandbox",
          "sandbox",
          "sandbox",
          "sandbox",
          "sandbox",
          "sandbox",
          "sandbox",
          "sandbox",
          "sandbox",
          "sandbox",
          "sandbox",
          "sandbox",
          "sandbox",
          "sandbox",
          " API Gateway",
          " Application Definition & Image Build",
          " Automation & Configuration",
          " Certified Kubernetes - Distribution",
          " Certified Kubernetes - Hosted",
          " Certified Kubernetes - Installer",
          " Chaos Engineering",
          " Cloud Native Network",
          " Cloud Native Storage",
          " Container Registry",
          " Container Runtime",
          " Continuous Integration & Delivery",
          " Continuous Optimization",
          " Coordination & Service Discovery",
          " Database",
          " Feature Flagging",
          " Framework",
          " Installable Platform",
          " Key Management",
          " Logging",
          " Monitoring",
          " Orchestration & Management",
          " Remote Procedure Call",
          " Runtimes",
          " Scheduling & Orchestration",
          " Security & Compliance",
          " Service Mesh",
          " Service Proxy",
          " Streaming & Messaging",
          " Tracing",
          "Container Service",
          "App Definition and Development",
          "Observability and Analysis",
          "Orchestration & Management",
          "Platform",
          "Provisioning",
          "Runtime",
          "Serverless",
          "Wasm"
         ],
         "marker": {
          "colors": [
           "#bc5090",
           "#2f4b7c",
           "#ffa600",
           "#2f4b7c",
           "#bc5090",
           "#bc5090",
           "#58508d",
           "#2f4b7c",
           "#bc5090",
           "#2f4b7c",
           "#ffa600",
           "#2f4b7c",
           "#ffa600",
           "#003f5c",
           "#003f5c",
           "#ffa600",
           "#003f5c",
           "#ffa600",
           "#ffa600",
           "#ffa600",
           "#ffa600",
           "#bc5090",
           "#bc5090",
           "#bc5090",
           "#ffa600",
           "#665191",
           "#2f4b7c",
           "#bc5090",
           "#bc5090",
           "#bc5090",
           "#ffa600",
           "#2f4b7c",
           "#ffa600",
           "#003f5c",
           "#bc5090",
           "#003f5c",
           "#ffa600",
           "#003f5c",
           "#bc5090",
           "#ffa600",
           "#003f5c",
           "#ffa600",
           "#003f5c",
           "#003f5c",
           "#003f5c",
           "#2f4b7c",
           "#58508d",
           "#58508d",
           "#ffa600",
           "#ffa600",
           "#003f5c",
           "#003f5c",
           "#2f4b7c",
           "#bc5090",
           "#ffa600",
           "#ffa600",
           "#ffa600",
           "#2f4b7c",
           "#58508d",
           "#bc5090",
           "#bc5090",
           "#ff6361",
           "#2f4b7c",
           "#ff6361",
           "#bc5090",
           "#2f4b7c",
           "#58508d",
           "#58508d",
           "#ffa600",
           "#003f5c",
           "#ffa600",
           "#ffa600",
           "#003f5c",
           "#58508d",
           "#bc5090",
           "#2f4b7c",
           "#58508d",
           "#bc5090",
           "#003f5c",
           "#58508d",
           "#003f5c",
           "#2f4b7c",
           "#ffa600",
           "#bc5090",
           "#ffa600",
           "#2f4b7c",
           "#bc5090",
           "#ff6361",
           "#003f5c",
           "#bc5090",
           "#003f5c",
           "#58508d",
           "#bc5090",
           "#ffa600",
           "#ffa600",
           "#bc5090",
           "#bc5090",
           "#ffa600",
           "#2f4b7c",
           "#ffa600",
           "#ff6361",
           "#ff6361",
           "#003f5c",
           "#ffa600",
           "#ffa600",
           "#bc5090",
           "#665191",
           "#58508d",
           "#003f5c",
           "#bc5090",
           "#ffa600",
           "#ffa600",
           "#ffa600",
           "#bc5090",
           "#bc5090",
           "#003f5c",
           "#003f5c",
           "#003f5c",
           "#ffa600",
           "#003f5c",
           "#2f4b7c",
           "#665191",
           "#B6E880",
           "#2f4b7c",
           "#003f5c",
           "#2f4b7c",
           "#bc5090",
           "#003f5c",
           "#58508d",
           "#003f5c",
           "#58508d",
           "#003f5c",
           "#003f5c",
           "#58508d",
           "#003f5c",
           "#003f5c",
           "#58508d",
           "#ffa600",
           "#2f4b7c",
           "#003f5c",
           "#2f4b7c",
           "#2f4b7c",
           "#58508d",
           "#ffa600",
           "#003f5c",
           "#003f5c",
           "#ffa600",
           "#bc5090",
           "#003f5c",
           "#bc5090",
           "#bc5090",
           "#58508d",
           "#ffa600",
           "#ffa600",
           "#ffa600",
           "#ffa600",
           "#2f4b7c",
           "#58508d",
           "#ffa600",
           "#bc5090",
           "#58508d",
           "#bc5090",
           "#ffa600",
           "#B6E880",
           "#ffa600",
           "#bc5090",
           "#003f5c",
           "#003f5c",
           "#bc5090",
           "#003f5c",
           "#2f4b7c",
           "#003f5c",
           "#ffa600",
           "#58508d",
           "#58508d",
           "#bc5090",
           "#ffa600",
           "#ffa600",
           "#58508d",
           "#58508d",
           "#003f5c",
           "#003f5c",
           "#bc5090",
           "#ffa600",
           "#58508d",
           "#bc5090",
           "#2f4b7c",
           "#665191",
           "#bc5090",
           "#003f5c",
           "#58508d",
           "#003f5c",
           "#003f5c",
           "#003f5c",
           "#bc5090",
           "#2f4b7c",
           "#003f5c",
           "#003f5c",
           "#ffa600",
           "#ffa600",
           "#2f4b7c",
           "#ffa600",
           "#003f5c",
           "#003f5c",
           "#003f5c",
           "#B6E880",
           "#ffa600",
           "#ffa600",
           "#003f5c",
           "#2f4b7c",
           "#ffa600",
           "#003f5c",
           "#ffa600",
           "#ffa600",
           "#58508d",
           "#ffa600",
           "#ffa600",
           "#bc5090",
           "#2f4b7c",
           "#B6E880",
           "#B6E880",
           "#003f5c",
           "#003f5c",
           "#003f5c",
           "#bc5090",
           "#ffa600",
           "#003f5c",
           "#2f4b7c",
           "#003f5c",
           "#003f5c",
           "#58508d",
           "#58508d",
           "#B6E880",
           "#bc5090",
           "#ffa600",
           "#003f5c",
           "#ff6361",
           "#2f4b7c",
           "#003f5c",
           "#bc5090",
           "#58508d",
           "#003f5c",
           "#2f4b7c",
           "#2f4b7c",
           "#ffa600",
           "#2f4b7c",
           "#003f5c",
           "#bc5090",
           "#003f5c",
           "#665191",
           "#ffa600",
           "#58508d",
           "#58508d",
           "#bc5090",
           "#ffa600",
           "#bc5090",
           "#bc5090",
           "#58508d",
           "#bc5090",
           "#003f5c",
           "#ffa600",
           "#58508d",
           "#2f4b7c",
           "#2f4b7c",
           "#ffa600",
           "#003f5c",
           "#58508d",
           "#665191",
           "#665191",
           "#58508d",
           "#bc5090",
           "#bc5090",
           "#ffa600",
           "#bc5090",
           "#003f5c",
           "#58508d",
           "#003f5c",
           "#ff6361",
           "#ff6361",
           "#003f5c",
           "#003f5c",
           "#58508d",
           "#58508d",
           "#B6E880",
           "#bc5090",
           "#ffa600",
           "#bc5090",
           "#003f5c",
           "#003f5c",
           "#ffa600",
           "#ff6361",
           "#ff6361",
           "#58508d",
           "#2f4b7c",
           "#2f4b7c",
           "#ffa600",
           "#2f4b7c",
           "#003f5c",
           "#58508d",
           "#bc5090",
           "#003f5c",
           "#665191",
           "#ffa600",
           "#58508d",
           "#B6E880",
           "#bc5090",
           "#ffa600",
           "#bc5090",
           "#bc5090",
           "#003f5c",
           "#bc5090",
           "#003f5c",
           "#ffa600",
           "#ff6361",
           "#ff6361",
           "#ff6361",
           "#58508d",
           "#2f4b7c",
           "#2f4b7c",
           "#ffa600",
           "#2f4b7c",
           "#003f5c",
           "#58508d",
           "#bc5090",
           "#003f5c",
           "#58508d",
           "#665191",
           "#665191",
           "#ffa600",
           "#58508d",
           "#58508d",
           "#B6E880",
           "#bc5090",
           "#B6E880",
           "#bc5090",
           "#ffa600",
           "#bc5090",
           "#bc5090",
           "#003f5c",
           "#58508d",
           "#ff6361",
           "#003f5c",
           "#58508d",
           "#bc5090",
           "#ff6361",
           "#ffa600",
           "#2f4b7c",
           "#665191",
           "#B6E880"
          ]
         },
         "name": "",
         "parents": [
          "Orchestration & Management/ Service Mesh/sandbox",
          "Runtime/ Cloud Native Network/incubating",
          "Provisioning/ Security & Compliance/sandbox",
          "Runtime/ Container Runtime/graduated",
          "Orchestration & Management/ Service Proxy/incubating",
          "Orchestration & Management/ Coordination & Service Discovery/graduated",
          "Observability and Analysis/ Monitoring/incubating",
          "Runtime/ Container Runtime/graduated",
          "Orchestration & Management/ Scheduling & Orchestration/incubating",
          "Runtime/ Cloud Native Storage/incubating",
          "Provisioning/ Security & Compliance/sandbox",
          "Runtime/ Cloud Native Storage/sandbox",
          "Provisioning/ Security & Compliance/sandbox",
          "App Definition and Development/ Application Definition & Image Build/incubating",
          "App Definition and Development/ Application Definition & Image Build/sandbox",
          "Provisioning/ Automation & Configuration/sandbox",
          "App Definition and Development/ Application Definition & Image Build/sandbox",
          "Provisioning/ Security & Compliance/sandbox",
          "Provisioning/ Container Registry/sandbox",
          "Provisioning/ Container Registry/incubating",
          "Provisioning/ Security & Compliance/member",
          "Orchestration & Management/ Service Proxy/graduated",
          "Orchestration & Management/ Scheduling & Orchestration/sandbox",
          "Orchestration & Management/ Coordination & Service Discovery/graduated",
          "Provisioning/ Security & Compliance/sandbox",
          "Serverless/ Framework/incubating",
          "Runtime/ Cloud Native Network/sandbox",
          "Orchestration & Management/ API Gateway/incubating",
          "Orchestration & Management/ Scheduling & Orchestration/sandbox",
          "Orchestration & Management/ Scheduling & Orchestration/sandbox",
          "Provisioning/ Automation & Configuration/sandbox",
          "Runtime/ Cloud Native Network/sandbox",
          "Provisioning/ Security & Compliance/member",
          "App Definition and Development/ Continuous Integration & Delivery/graduated",
          "Orchestration & Management/ Scheduling & Orchestration/sandbox",
          "App Definition and Development/ Application Definition & Image Build/sandbox",
          "Provisioning/ Key Management/sandbox",
          "App Definition and Development/ Application Definition & Image Build/incubating",
          "Orchestration & Management/ Service Proxy/sandbox",
          "Provisioning/ Security & Compliance/member",
          "App Definition and Development/ Continuous Integration & Delivery/archived",
          "Provisioning/ Security & Compliance/member",
          "App Definition and Development/ Continuous Integration & Delivery/False",
          "App Definition and Development/ Streaming & Messaging/incubating",
          "App Definition and Development/ Application Definition & Image Build/incubating",
          "Runtime/ Cloud Native Network/graduated",
          "Observability and Analysis/ Chaos Engineering/sandbox",
          "Observability and Analysis/ Chaos Engineering/incubating",
          "Provisioning/ Security & Compliance/incubating",
          "Provisioning/ Automation & Configuration/incubating",
          "App Definition and Development/ Application Definition & Image Build/sandbox",
          "App Definition and Development/ Continuous Integration & Delivery/member",
          "Runtime/ Cloud Native Storage/sandbox",
          "Orchestration & Management/ Scheduling & Orchestration/sandbox",
          "Provisioning/ Automation & Configuration/sandbox",
          "Provisioning/ Automation & Configuration/sandbox",
          "Provisioning/ Security & Compliance/incubating",
          "Runtime/ Container Runtime/sandbox",
          "Observability and Analysis/ Monitoring/sandbox",
          "Orchestration & Management/ Service Mesh/graduated",
          "Orchestration & Management/ Coordination & Service Discovery/sandbox",
          "Platform/ Certified Kubernetes - Distribution/sandbox",
          "Runtime/ Cloud Native Storage/sandbox",
          "Platform/Container Service/False",
          "Orchestration & Management/ Scheduling & Orchestration/sandbox",
          "Runtime/ Cloud Native Storage/sandbox",
          "Observability and Analysis/ Tracing/graduated",
          "Observability and Analysis/ Monitoring/member",
          "Provisioning/ Container Registry/graduated",
          "App Definition and Development/ Application Definition & Image Build/graduated",
          "Provisioning/ Security & Compliance/sandbox",
          "Provisioning/ Security & Compliance/incubating",
          "App Definition and Development/ Continuous Integration & Delivery/member",
          "Observability and Analysis/ Logging/graduated",
          "Orchestration & Management/ Scheduling & Orchestration/sandbox",
          "Runtime/ Cloud Native Network/sandbox",
          "Observability and Analysis/ Monitoring/sandbox",
          "Orchestration & Management/ Remote Procedure Call/incubating",
          "App Definition and Development/ Application Definition & Image Build/False",
          "Observability and Analysis/ Monitoring/sandbox",
          "App Definition and Development/ Continuous Integration & Delivery/graduated",
          "Runtime/ Cloud Native Network/sandbox",
          "Provisioning/ Automation & Configuration/incubating",
          "Orchestration & Management/ Scheduling & Orchestration/member",
          "Provisioning/ Security & Compliance/member",
          "Runtime/ Cloud Native Network/sandbox",
          "Orchestration & Management/ Scheduling & Orchestration/sandbox",
          "Platform/ Certified Kubernetes - Hosted/member",
          "App Definition and Development/ Application Definition & Image Build/incubating",
          "Orchestration & Management/ Scheduling & Orchestration/incubating",
          "App Definition and Development/ Application Definition & Image Build/sandbox",
          "Observability and Analysis/ Monitoring/sandbox",
          "Orchestration & Management/ Scheduling & Orchestration/graduated",
          "Provisioning/ Security & Compliance/sandbox",
          "Provisioning/ Security & Compliance/sandbox",
          "Orchestration & Management/ Service Mesh/sandbox",
          "Orchestration & Management/ Scheduling & Orchestration/sandbox",
          "Provisioning/ Security & Compliance/incubating",
          "Runtime/ Container Runtime/sandbox",
          "Provisioning/ Automation & Configuration/sandbox",
          "Platform/ Certified Kubernetes - Installer/member",
          "Platform/ Certified Kubernetes - Installer/sandbox",
          "App Definition and Development/ Application Definition & Image Build/incubating",
          "Provisioning/ Security & Compliance/sandbox",
          "Provisioning/ Security & Compliance/member",
          "Orchestration & Management/ Scheduling & Orchestration/sandbox",
          "Serverless/ Installable Platform/graduated",
          "Observability and Analysis/ Monitoring/sandbox",
          "App Definition and Development/ Continuous Integration & Delivery/incubating",
          "Orchestration & Management/ Scheduling & Orchestration/False",
          "Provisioning/ Security & Compliance/incubating",
          "Provisioning/ Security & Compliance/sandbox",
          "Provisioning/ Security & Compliance/False",
          "Orchestration & Management/ Scheduling & Orchestration/incubating",
          "Orchestration & Management/ Scheduling & Orchestration/graduated",
          "App Definition and Development/ Application Definition & Image Build/sandbox",
          "App Definition and Development/ Application Definition & Image Build/sandbox",
          "App Definition and Development/ Streaming & Messaging/member",
          "Provisioning/ Automation & Configuration/sandbox",
          "App Definition and Development/ Application Definition & Image Build/sandbox",
          "Runtime/ Container Runtime/sandbox",
          "Serverless/ Installable Platform/incubating",
          "Wasm/ Runtimes/sandbox",
          "Runtime/ Container Runtime/False",
          "App Definition and Development/ Streaming & Messaging/member",
          "Runtime/ Cloud Native Storage/incubating",
          "Orchestration & Management/ Service Mesh/graduated",
          "App Definition and Development/ Continuous Integration & Delivery/False",
          "Observability and Analysis/ Chaos Engineering/incubating",
          "App Definition and Development/ Database/False",
          "Observability and Analysis/ Monitoring/graduated",
          "App Definition and Development/ Streaming & Messaging/sandbox",
          "App Definition and Development/ Application Definition & Image Build/sandbox",
          "Observability and Analysis/ Monitoring/sandbox",
          "App Definition and Development/ Application Definition & Image Build/incubating",
          "App Definition and Development/ Continuous Integration & Delivery/sandbox",
          "Observability and Analysis/ Logging/False",
          "Provisioning/ Security & Compliance/sandbox",
          "Runtime/ Cloud Native Storage/sandbox",
          "App Definition and Development/ Application Definition & Image Build/member",
          "Runtime/ Cloud Native Storage/sandbox",
          "Runtime/ Container Runtime/archived",
          "Observability and Analysis/ Monitoring/sandbox",
          "Provisioning/ Security & Compliance/False",
          "App Definition and Development/ Database/sandbox",
          "App Definition and Development/ Application Definition & Image Build/sandbox",
          "Provisioning/ Security & Compliance/False",
          "Orchestration & Management/ Scheduling & Orchestration/sandbox",
          "App Definition and Development/ Application Definition & Image Build/sandbox",
          "Orchestration & Management/ Service Mesh/archived",
          "Orchestration & Management/ Service Mesh/sandbox",
          "Observability and Analysis/ Monitoring/False",
          "Provisioning/ Security & Compliance/False",
          "Provisioning/ Automation & Configuration/sandbox",
          "Provisioning/ Security & Compliance/sandbox",
          "Provisioning/ Security & Compliance/sandbox",
          "Runtime/ Cloud Native Storage/graduated",
          "Observability and Analysis/ Tracing/archived",
          "Provisioning/ Security & Compliance/sandbox",
          "Orchestration & Management/ Service Mesh/archived",
          "Observability and Analysis/ Tracing/incubating",
          "Orchestration & Management/ Service Mesh/sandbox",
          "Provisioning/ Automation & Configuration/sandbox",
          "Wasm/ Orchestration & Management/member",
          "Provisioning/ Automation & Configuration/sandbox",
          "Orchestration & Management/ Service Proxy/sandbox",
          "App Definition and Development/ Application Definition & Image Build/sandbox",
          "App Definition and Development/ Application Definition & Image Build/False",
          "Orchestration & Management/ Service Mesh/member",
          "App Definition and Development/ Streaming & Messaging/incubating",
          "Runtime/ Cloud Native Network/sandbox",
          "App Definition and Development/ Application Definition & Image Build/sandbox",
          "Provisioning/ Security & Compliance/incubating",
          "Observability and Analysis/ Monitoring/member",
          "Observability and Analysis/ Continuous Optimization/sandbox",
          "Orchestration & Management/ Scheduling & Orchestration/sandbox",
          "Provisioning/ Security & Compliance/sandbox",
          "Provisioning/ Security & Compliance/graduated",
          "Observability and Analysis/ Monitoring/incubating",
          "Observability and Analysis/ Logging/member",
          "App Definition and Development/ Continuous Integration & Delivery/sandbox",
          "App Definition and Development/ Continuous Integration & Delivery/incubating",
          "Orchestration & Management/ Scheduling & Orchestration/sandbox",
          "Provisioning/ Security & Compliance/sandbox",
          "Observability and Analysis/ Feature Flagging/incubating",
          "Orchestration & Management/ Service Proxy/sandbox",
          "Runtime/ Cloud Native Storage/sandbox",
          "Serverless/ Installable Platform/sandbox",
          "Orchestration & Management/ Service Mesh/member",
          "App Definition and Development/ Streaming & Messaging/sandbox",
          "Observability and Analysis/ Monitoring/sandbox",
          "App Definition and Development/ Continuous Integration & Delivery/False",
          "App Definition and Development/ Streaming & Messaging/False",
          "App Definition and Development/ Database/member",
          "Orchestration & Management/ Scheduling & Orchestration/incubating",
          "Runtime/ Container Runtime/sandbox",
          "App Definition and Development/ Application Definition & Image Build/sandbox",
          "App Definition and Development/ Database/graduated",
          "Provisioning/ Security & Compliance/member",
          "Provisioning/ Security & Compliance/member",
          "Runtime/ Cloud Native Storage/sandbox",
          "Provisioning/ Automation & Configuration/sandbox",
          "App Definition and Development/ Database/False",
          "App Definition and Development/ Database/graduated",
          "App Definition and Development/ Database/member",
          "Wasm/ Runtimes/False",
          "Provisioning/ Key Management/graduated",
          "Provisioning/ Security & Compliance/False",
          "App Definition and Development/ Streaming & Messaging/sandbox",
          "Runtime/ Cloud Native Network/sandbox",
          "Provisioning/ Key Management/graduated",
          "App Definition and Development/ Application Definition & Image Build/sandbox",
          "Provisioning/ Key Management/sandbox",
          "Provisioning/ Security & Compliance/member",
          "Observability and Analysis/ Monitoring/incubating",
          "Provisioning/ Security & Compliance/graduated",
          "Provisioning/ Automation & Configuration/sandbox",
          "Orchestration & Management/ Scheduling & Orchestration/sandbox",
          "Runtime/ Container Runtime/sandbox",
          "Wasm/ Runtimes/sandbox",
          "Wasm/ Runtimes/False",
          "App Definition and Development/ Database/False",
          "App Definition and Development/ Database/False",
          "App Definition and Development/ Continuous Integration & Delivery/sandbox",
          "Orchestration & Management/ Coordination & Service Discovery/sandbox",
          "Provisioning/ Container Registry/sandbox",
          "App Definition and Development/ Application Definition & Image Build",
          "Runtime/ Container Runtime",
          "App Definition and Development/ Continuous Integration & Delivery",
          "App Definition and Development/ Database",
          "Observability and Analysis/ Logging",
          "Observability and Analysis/ Monitoring",
          "Wasm/ Runtimes",
          "Orchestration & Management/ Scheduling & Orchestration",
          "Provisioning/ Security & Compliance",
          "App Definition and Development/ Streaming & Messaging",
          "Platform/Container Service",
          "Runtime/ Container Runtime",
          "App Definition and Development/ Continuous Integration & Delivery",
          "Orchestration & Management/ Service Mesh",
          "Observability and Analysis/ Tracing",
          "App Definition and Development/ Application Definition & Image Build",
          "Runtime/ Cloud Native Network",
          "Runtime/ Cloud Native Storage",
          "Provisioning/ Container Registry",
          "Runtime/ Container Runtime",
          "App Definition and Development/ Continuous Integration & Delivery",
          "Orchestration & Management/ Coordination & Service Discovery",
          "App Definition and Development/ Database",
          "Serverless/ Installable Platform",
          "Provisioning/ Key Management",
          "Observability and Analysis/ Logging",
          "Observability and Analysis/ Monitoring",
          "Orchestration & Management/ Scheduling & Orchestration",
          "Provisioning/ Security & Compliance",
          "Orchestration & Management/ Service Mesh",
          "Orchestration & Management/ Service Proxy",
          "Observability and Analysis/ Tracing",
          "Orchestration & Management/ API Gateway",
          "App Definition and Development/ Application Definition & Image Build",
          "Provisioning/ Automation & Configuration",
          "Observability and Analysis/ Chaos Engineering",
          "Runtime/ Cloud Native Network",
          "Runtime/ Cloud Native Storage",
          "Provisioning/ Container Registry",
          "App Definition and Development/ Continuous Integration & Delivery",
          "Observability and Analysis/ Feature Flagging",
          "Serverless/ Framework",
          "Serverless/ Installable Platform",
          "Observability and Analysis/ Monitoring",
          "Orchestration & Management/ Remote Procedure Call",
          "Orchestration & Management/ Scheduling & Orchestration",
          "Provisioning/ Security & Compliance",
          "Orchestration & Management/ Service Proxy",
          "App Definition and Development/ Streaming & Messaging",
          "Observability and Analysis/ Tracing",
          "App Definition and Development/ Application Definition & Image Build",
          "Platform/ Certified Kubernetes - Hosted",
          "Platform/ Certified Kubernetes - Installer",
          "App Definition and Development/ Continuous Integration & Delivery",
          "App Definition and Development/ Database",
          "Observability and Analysis/ Logging",
          "Observability and Analysis/ Monitoring",
          "Wasm/ Orchestration & Management",
          "Orchestration & Management/ Scheduling & Orchestration",
          "Provisioning/ Security & Compliance",
          "Orchestration & Management/ Service Mesh",
          "App Definition and Development/ Streaming & Messaging",
          "App Definition and Development/ Application Definition & Image Build",
          "Provisioning/ Automation & Configuration",
          "Platform/ Certified Kubernetes - Distribution",
          "Platform/ Certified Kubernetes - Installer",
          "Observability and Analysis/ Chaos Engineering",
          "Runtime/ Cloud Native Network",
          "Runtime/ Cloud Native Storage",
          "Provisioning/ Container Registry",
          "Runtime/ Container Runtime",
          "App Definition and Development/ Continuous Integration & Delivery",
          "Observability and Analysis/ Continuous Optimization",
          "Orchestration & Management/ Coordination & Service Discovery",
          "App Definition and Development/ Database",
          "Serverless/ Installable Platform",
          "Provisioning/ Key Management",
          "Observability and Analysis/ Monitoring",
          "Wasm/ Runtimes",
          "Orchestration & Management/ Scheduling & Orchestration",
          "Provisioning/ Security & Compliance",
          "Orchestration & Management/ Service Mesh",
          "Orchestration & Management/ Service Proxy",
          "App Definition and Development/ Streaming & Messaging",
          "Orchestration & Management",
          "App Definition and Development",
          "Provisioning",
          "Platform",
          "Platform",
          "Platform",
          "Observability and Analysis",
          "Runtime",
          "Runtime",
          "Provisioning",
          "Runtime",
          "App Definition and Development",
          "Observability and Analysis",
          "Orchestration & Management",
          "App Definition and Development",
          "Observability and Analysis",
          "Serverless",
          "Serverless",
          "Provisioning",
          "Observability and Analysis",
          "Observability and Analysis",
          "Wasm",
          "Orchestration & Management",
          "Wasm",
          "Orchestration & Management",
          "Provisioning",
          "Orchestration & Management",
          "Orchestration & Management",
          "App Definition and Development",
          "Observability and Analysis",
          "Platform",
          "",
          "",
          "",
          "",
          "",
          "",
          "",
          ""
         ],
         "type": "treemap",
         "values": [
          31,
          167,
          14,
          611,
          211,
          370,
          277,
          303,
          182,
          124,
          38,
          94,
          20,
          247,
          6,
          62,
          22,
          219,
          519,
          58,
          79,
          1216,
          29,
          968,
          273,
          247,
          23,
          244,
          43,
          38,
          34,
          114,
          25,
          1154,
          74,
          35,
          76,
          1629,
          102,
          126,
          109,
          8,
          66,
          304,
          123,
          749,
          45,
          177,
          410,
          441,
          68,
          29,
          20,
          57,
          78,
          15,
          40,
          27,
          38,
          1121,
          21,
          212,
          47,
          467,
          212,
          43,
          293,
          45,
          347,
          766,
          15,
          199,
          198,
          261,
          535,
          19,
          6,
          972,
          13,
          39,
          140,
          72,
          330,
          10,
          67,
          98,
          113,
          19,
          225,
          298,
          65,
          89,
          4842,
          118,
          15,
          95,
          64,
          255,
          88,
          23,
          100,
          16,
          341,
          82,
          32,
          693,
          302,
          50,
          123,
          39,
          1259,
          73,
          117,
          285,
          302,
          83,
          14,
          66,
          96,
          24,
          50,
          285,
          50,
          23,
          40,
          595,
          330,
          736,
          193,
          66,
          973,
          100,
          97,
          83,
          334,
          66,
          26,
          22,
          54,
          984,
          22,
          248,
          58,
          46,
          41,
          74,
          68,
          41,
          41,
          36,
          93,
          11,
          55,
          112,
          65,
          133,
          694,
          54,
          33,
          99,
          194,
          24,
          591,
          591,
          102,
          173,
          36,
          28,
          7,
          683,
          20,
          50,
          35,
          266,
          100,
          33,
          13,
          420,
          33,
          1886,
          14,
          114,
          30,
          35,
          23,
          31,
          234,
          30,
          32,
          50,
          67,
          189,
          225,
          26,
          246,
          128,
          87,
          379,
          22,
          10,
          38,
          52,
          266,
          412,
          35,
          4,
          153,
          125,
          284,
          45,
          56,
          87,
          25,
          62,
          590,
          97,
          54,
          441,
          154,
          154,
          169,
          1652,
          78,
          62,
          13,
          30,
          41,
          23,
          991,
          2062,
          26,
          11,
          173,
          39,
          411,
          225,
          467,
          248,
          109,
          135,
          54,
          766,
          749,
          694,
          347,
          914,
          1294,
          1338,
          791,
          302,
          209,
          261,
          973,
          5144,
          517,
          1451,
          1216,
          293,
          244,
          2899,
          771,
          370,
          167,
          719,
          58,
          237,
          23,
          247,
          285,
          900,
          972,
          1011,
          2198,
          211,
          987,
          194,
          984,
          19,
          100,
          227,
          61,
          1886,
          311,
          591,
          10,
          431,
          39,
          106,
          789,
          1219,
          212,
          16,
          45,
          391,
          552,
          549,
          447,
          142,
          100,
          34,
          41,
          30,
          101,
          430,
          204,
          2403,
          1168,
          243,
          306,
          434,
          244,
          5479,
          1990,
          212,
          19,
          116,
          415,
          1307,
          1965,
          954,
          1632,
          3000,
          100,
          1372,
          2955,
          23,
          247,
          617,
          310,
          2173,
          2625,
          591,
          972,
          377,
          8607,
          4725,
          1868,
          1733,
          1752,
          541,
          467,
          13186,
          5877,
          14796,
          814,
          7979,
          4904,
          864,
          968
         ]
        }
       ],
       "layout": {
        "height": 1200,
        "legend": {
         "tracegroupgap": 0
        },
        "template": {
         "data": {
          "bar": [
           {
            "error_x": {
             "color": "#2a3f5f"
            },
            "error_y": {
             "color": "#2a3f5f"
            },
            "marker": {
             "line": {
              "color": "#E5ECF6",
              "width": 0.5
             },
             "pattern": {
              "fillmode": "overlay",
              "size": 10,
              "solidity": 0.2
             }
            },
            "type": "bar"
           }
          ],
          "barpolar": [
           {
            "marker": {
             "line": {
              "color": "#E5ECF6",
              "width": 0.5
             },
             "pattern": {
              "fillmode": "overlay",
              "size": 10,
              "solidity": 0.2
             }
            },
            "type": "barpolar"
           }
          ],
          "carpet": [
           {
            "aaxis": {
             "endlinecolor": "#2a3f5f",
             "gridcolor": "white",
             "linecolor": "white",
             "minorgridcolor": "white",
             "startlinecolor": "#2a3f5f"
            },
            "baxis": {
             "endlinecolor": "#2a3f5f",
             "gridcolor": "white",
             "linecolor": "white",
             "minorgridcolor": "white",
             "startlinecolor": "#2a3f5f"
            },
            "type": "carpet"
           }
          ],
          "choropleth": [
           {
            "colorbar": {
             "outlinewidth": 0,
             "ticks": ""
            },
            "type": "choropleth"
           }
          ],
          "contour": [
           {
            "colorbar": {
             "outlinewidth": 0,
             "ticks": ""
            },
            "colorscale": [
             [
              0,
              "#0d0887"
             ],
             [
              0.1111111111111111,
              "#46039f"
             ],
             [
              0.2222222222222222,
              "#7201a8"
             ],
             [
              0.3333333333333333,
              "#9c179e"
             ],
             [
              0.4444444444444444,
              "#bd3786"
             ],
             [
              0.5555555555555556,
              "#d8576b"
             ],
             [
              0.6666666666666666,
              "#ed7953"
             ],
             [
              0.7777777777777778,
              "#fb9f3a"
             ],
             [
              0.8888888888888888,
              "#fdca26"
             ],
             [
              1,
              "#f0f921"
             ]
            ],
            "type": "contour"
           }
          ],
          "contourcarpet": [
           {
            "colorbar": {
             "outlinewidth": 0,
             "ticks": ""
            },
            "type": "contourcarpet"
           }
          ],
          "heatmap": [
           {
            "colorbar": {
             "outlinewidth": 0,
             "ticks": ""
            },
            "colorscale": [
             [
              0,
              "#0d0887"
             ],
             [
              0.1111111111111111,
              "#46039f"
             ],
             [
              0.2222222222222222,
              "#7201a8"
             ],
             [
              0.3333333333333333,
              "#9c179e"
             ],
             [
              0.4444444444444444,
              "#bd3786"
             ],
             [
              0.5555555555555556,
              "#d8576b"
             ],
             [
              0.6666666666666666,
              "#ed7953"
             ],
             [
              0.7777777777777778,
              "#fb9f3a"
             ],
             [
              0.8888888888888888,
              "#fdca26"
             ],
             [
              1,
              "#f0f921"
             ]
            ],
            "type": "heatmap"
           }
          ],
          "heatmapgl": [
           {
            "colorbar": {
             "outlinewidth": 0,
             "ticks": ""
            },
            "colorscale": [
             [
              0,
              "#0d0887"
             ],
             [
              0.1111111111111111,
              "#46039f"
             ],
             [
              0.2222222222222222,
              "#7201a8"
             ],
             [
              0.3333333333333333,
              "#9c179e"
             ],
             [
              0.4444444444444444,
              "#bd3786"
             ],
             [
              0.5555555555555556,
              "#d8576b"
             ],
             [
              0.6666666666666666,
              "#ed7953"
             ],
             [
              0.7777777777777778,
              "#fb9f3a"
             ],
             [
              0.8888888888888888,
              "#fdca26"
             ],
             [
              1,
              "#f0f921"
             ]
            ],
            "type": "heatmapgl"
           }
          ],
          "histogram": [
           {
            "marker": {
             "pattern": {
              "fillmode": "overlay",
              "size": 10,
              "solidity": 0.2
             }
            },
            "type": "histogram"
           }
          ],
          "histogram2d": [
           {
            "colorbar": {
             "outlinewidth": 0,
             "ticks": ""
            },
            "colorscale": [
             [
              0,
              "#0d0887"
             ],
             [
              0.1111111111111111,
              "#46039f"
             ],
             [
              0.2222222222222222,
              "#7201a8"
             ],
             [
              0.3333333333333333,
              "#9c179e"
             ],
             [
              0.4444444444444444,
              "#bd3786"
             ],
             [
              0.5555555555555556,
              "#d8576b"
             ],
             [
              0.6666666666666666,
              "#ed7953"
             ],
             [
              0.7777777777777778,
              "#fb9f3a"
             ],
             [
              0.8888888888888888,
              "#fdca26"
             ],
             [
              1,
              "#f0f921"
             ]
            ],
            "type": "histogram2d"
           }
          ],
          "histogram2dcontour": [
           {
            "colorbar": {
             "outlinewidth": 0,
             "ticks": ""
            },
            "colorscale": [
             [
              0,
              "#0d0887"
             ],
             [
              0.1111111111111111,
              "#46039f"
             ],
             [
              0.2222222222222222,
              "#7201a8"
             ],
             [
              0.3333333333333333,
              "#9c179e"
             ],
             [
              0.4444444444444444,
              "#bd3786"
             ],
             [
              0.5555555555555556,
              "#d8576b"
             ],
             [
              0.6666666666666666,
              "#ed7953"
             ],
             [
              0.7777777777777778,
              "#fb9f3a"
             ],
             [
              0.8888888888888888,
              "#fdca26"
             ],
             [
              1,
              "#f0f921"
             ]
            ],
            "type": "histogram2dcontour"
           }
          ],
          "mesh3d": [
           {
            "colorbar": {
             "outlinewidth": 0,
             "ticks": ""
            },
            "type": "mesh3d"
           }
          ],
          "parcoords": [
           {
            "line": {
             "colorbar": {
              "outlinewidth": 0,
              "ticks": ""
             }
            },
            "type": "parcoords"
           }
          ],
          "pie": [
           {
            "automargin": true,
            "type": "pie"
           }
          ],
          "scatter": [
           {
            "fillpattern": {
             "fillmode": "overlay",
             "size": 10,
             "solidity": 0.2
            },
            "type": "scatter"
           }
          ],
          "scatter3d": [
           {
            "line": {
             "colorbar": {
              "outlinewidth": 0,
              "ticks": ""
             }
            },
            "marker": {
             "colorbar": {
              "outlinewidth": 0,
              "ticks": ""
             }
            },
            "type": "scatter3d"
           }
          ],
          "scattercarpet": [
           {
            "marker": {
             "colorbar": {
              "outlinewidth": 0,
              "ticks": ""
             }
            },
            "type": "scattercarpet"
           }
          ],
          "scattergeo": [
           {
            "marker": {
             "colorbar": {
              "outlinewidth": 0,
              "ticks": ""
             }
            },
            "type": "scattergeo"
           }
          ],
          "scattergl": [
           {
            "marker": {
             "colorbar": {
              "outlinewidth": 0,
              "ticks": ""
             }
            },
            "type": "scattergl"
           }
          ],
          "scattermapbox": [
           {
            "marker": {
             "colorbar": {
              "outlinewidth": 0,
              "ticks": ""
             }
            },
            "type": "scattermapbox"
           }
          ],
          "scatterpolar": [
           {
            "marker": {
             "colorbar": {
              "outlinewidth": 0,
              "ticks": ""
             }
            },
            "type": "scatterpolar"
           }
          ],
          "scatterpolargl": [
           {
            "marker": {
             "colorbar": {
              "outlinewidth": 0,
              "ticks": ""
             }
            },
            "type": "scatterpolargl"
           }
          ],
          "scatterternary": [
           {
            "marker": {
             "colorbar": {
              "outlinewidth": 0,
              "ticks": ""
             }
            },
            "type": "scatterternary"
           }
          ],
          "surface": [
           {
            "colorbar": {
             "outlinewidth": 0,
             "ticks": ""
            },
            "colorscale": [
             [
              0,
              "#0d0887"
             ],
             [
              0.1111111111111111,
              "#46039f"
             ],
             [
              0.2222222222222222,
              "#7201a8"
             ],
             [
              0.3333333333333333,
              "#9c179e"
             ],
             [
              0.4444444444444444,
              "#bd3786"
             ],
             [
              0.5555555555555556,
              "#d8576b"
             ],
             [
              0.6666666666666666,
              "#ed7953"
             ],
             [
              0.7777777777777778,
              "#fb9f3a"
             ],
             [
              0.8888888888888888,
              "#fdca26"
             ],
             [
              1,
              "#f0f921"
             ]
            ],
            "type": "surface"
           }
          ],
          "table": [
           {
            "cells": {
             "fill": {
              "color": "#EBF0F8"
             },
             "line": {
              "color": "white"
             }
            },
            "header": {
             "fill": {
              "color": "#C8D4E3"
             },
             "line": {
              "color": "white"
             }
            },
            "type": "table"
           }
          ]
         },
         "layout": {
          "annotationdefaults": {
           "arrowcolor": "#2a3f5f",
           "arrowhead": 0,
           "arrowwidth": 1
          },
          "autotypenumbers": "strict",
          "coloraxis": {
           "colorbar": {
            "outlinewidth": 0,
            "ticks": ""
           }
          },
          "colorscale": {
           "diverging": [
            [
             0,
             "#8e0152"
            ],
            [
             0.1,
             "#c51b7d"
            ],
            [
             0.2,
             "#de77ae"
            ],
            [
             0.3,
             "#f1b6da"
            ],
            [
             0.4,
             "#fde0ef"
            ],
            [
             0.5,
             "#f7f7f7"
            ],
            [
             0.6,
             "#e6f5d0"
            ],
            [
             0.7,
             "#b8e186"
            ],
            [
             0.8,
             "#7fbc41"
            ],
            [
             0.9,
             "#4d9221"
            ],
            [
             1,
             "#276419"
            ]
           ],
           "sequential": [
            [
             0,
             "#0d0887"
            ],
            [
             0.1111111111111111,
             "#46039f"
            ],
            [
             0.2222222222222222,
             "#7201a8"
            ],
            [
             0.3333333333333333,
             "#9c179e"
            ],
            [
             0.4444444444444444,
             "#bd3786"
            ],
            [
             0.5555555555555556,
             "#d8576b"
            ],
            [
             0.6666666666666666,
             "#ed7953"
            ],
            [
             0.7777777777777778,
             "#fb9f3a"
            ],
            [
             0.8888888888888888,
             "#fdca26"
            ],
            [
             1,
             "#f0f921"
            ]
           ],
           "sequentialminus": [
            [
             0,
             "#0d0887"
            ],
            [
             0.1111111111111111,
             "#46039f"
            ],
            [
             0.2222222222222222,
             "#7201a8"
            ],
            [
             0.3333333333333333,
             "#9c179e"
            ],
            [
             0.4444444444444444,
             "#bd3786"
            ],
            [
             0.5555555555555556,
             "#d8576b"
            ],
            [
             0.6666666666666666,
             "#ed7953"
            ],
            [
             0.7777777777777778,
             "#fb9f3a"
            ],
            [
             0.8888888888888888,
             "#fdca26"
            ],
            [
             1,
             "#f0f921"
            ]
           ]
          },
          "colorway": [
           "#636efa",
           "#EF553B",
           "#00cc96",
           "#ab63fa",
           "#FFA15A",
           "#19d3f3",
           "#FF6692",
           "#B6E880",
           "#FF97FF",
           "#FECB52"
          ],
          "font": {
           "color": "#2a3f5f"
          },
          "geo": {
           "bgcolor": "white",
           "lakecolor": "white",
           "landcolor": "#E5ECF6",
           "showlakes": true,
           "showland": true,
           "subunitcolor": "white"
          },
          "hoverlabel": {
           "align": "left"
          },
          "hovermode": "closest",
          "mapbox": {
           "style": "light"
          },
          "paper_bgcolor": "white",
          "plot_bgcolor": "#E5ECF6",
          "polar": {
           "angularaxis": {
            "gridcolor": "white",
            "linecolor": "white",
            "ticks": ""
           },
           "bgcolor": "#E5ECF6",
           "radialaxis": {
            "gridcolor": "white",
            "linecolor": "white",
            "ticks": ""
           }
          },
          "scene": {
           "xaxis": {
            "backgroundcolor": "#E5ECF6",
            "gridcolor": "white",
            "gridwidth": 2,
            "linecolor": "white",
            "showbackground": true,
            "ticks": "",
            "zerolinecolor": "white"
           },
           "yaxis": {
            "backgroundcolor": "#E5ECF6",
            "gridcolor": "white",
            "gridwidth": 2,
            "linecolor": "white",
            "showbackground": true,
            "ticks": "",
            "zerolinecolor": "white"
           },
           "zaxis": {
            "backgroundcolor": "#E5ECF6",
            "gridcolor": "white",
            "gridwidth": 2,
            "linecolor": "white",
            "showbackground": true,
            "ticks": "",
            "zerolinecolor": "white"
           }
          },
          "shapedefaults": {
           "line": {
            "color": "#2a3f5f"
           }
          },
          "ternary": {
           "aaxis": {
            "gridcolor": "white",
            "linecolor": "white",
            "ticks": ""
           },
           "baxis": {
            "gridcolor": "white",
            "linecolor": "white",
            "ticks": ""
           },
           "bgcolor": "#E5ECF6",
           "caxis": {
            "gridcolor": "white",
            "linecolor": "white",
            "ticks": ""
           }
          },
          "title": {
           "x": 0.05
          },
          "xaxis": {
           "automargin": true,
           "gridcolor": "white",
           "linecolor": "white",
           "ticks": "",
           "title": {
            "standoff": 15
           },
           "zerolinecolor": "white",
           "zerolinewidth": 2
          },
          "yaxis": {
           "automargin": true,
           "gridcolor": "white",
           "linecolor": "white",
           "ticks": "",
           "title": {
            "standoff": 15
           },
           "zerolinecolor": "white",
           "zerolinewidth": 2
          }
         }
        },
        "title": {
         "text": "treemap: 🪴 Contributor Count (NOT UNIQUE ACROSS PROJECTS!) 🪴"
        },
        "width": 1200
       }
      }
     },
     "metadata": {},
     "output_type": "display_data"
    }
   ],
   "source": [
    "figs['tree_contributorsCount'].show()"
   ]
  },
  {
   "cell_type": "markdown",
   "metadata": {},
   "source": [
    "### images for github rendering\n",
    "\n",
    "![Image description](generated/fig_sunb_contributorsCount.svg)\n",
    "![Image description](generated/fig_sunb_commitsThisYear.svg)\n",
    "![Image description](generated/fig_sunb_stars.svg)\n",
    "![Image description](generated/fig_tree_contributorsCount.svg)\n",
    "![Image description](generated/fig_tree_commitsThisYear.svg)\n",
    "![Image description](generated/fig_tree_stars.svg)"
   ]
  },
  {
   "cell_type": "markdown",
   "metadata": {},
   "source": [
    "## Generate Per TAG views."
   ]
  },
  {
   "cell_type": "code",
   "execution_count": 145,
   "metadata": {},
   "outputs": [
    {
     "name": "stdout",
     "output_type": "stream",
     "text": [
      "<class 'pandas.core.frame.DataFrame'>\n",
      "MultiIndex: 226 entries, ('App Definition and Development', ' Application Definition & Image Build', False, 'gefyra') to ('Wasm', ' Runtimes', 'sandbox', 'wasm-edge-wasm')\n",
      "Data columns (total 13 columns):\n",
      " #   Column             Non-Null Count  Dtype  \n",
      "---  ------             --------------  -----  \n",
      " 0   name               226 non-null    object \n",
      " 1   flatName           226 non-null    object \n",
      " 2   repo               226 non-null    string \n",
      " 3   repo_name          226 non-null    string \n",
      " 4   org_name           226 non-null    string \n",
      " 5   contributorsCount  226 non-null    float64\n",
      " 6   commitsThisYear    226 non-null    int64  \n",
      " 7   stars              226 non-null    float64\n",
      " 8   github_data        226 non-null    object \n",
      " 9   extra              226 non-null    object \n",
      " 10  industries         226 non-null    object \n",
      " 11  headquarters       226 non-null    object \n",
      " 12  image_data         226 non-null    object \n",
      "dtypes: float64(2), int64(1), object(7), string(3)\n",
      "memory usage: 36.0+ KB\n",
      "None\n",
      "index.names: ['category', 'subcategory', 'relation', 'id']\n"
     ]
    },
    {
     "data": {
      "text/html": [
       "<div>\n",
       "<style scoped>\n",
       "    .dataframe tbody tr th:only-of-type {\n",
       "        vertical-align: middle;\n",
       "    }\n",
       "\n",
       "    .dataframe tbody tr th {\n",
       "        vertical-align: top;\n",
       "    }\n",
       "\n",
       "    .dataframe thead th {\n",
       "        text-align: right;\n",
       "    }\n",
       "</style>\n",
       "<table border=\"1\" class=\"dataframe\">\n",
       "  <thead>\n",
       "    <tr style=\"text-align: right;\">\n",
       "      <th></th>\n",
       "      <th></th>\n",
       "      <th></th>\n",
       "      <th></th>\n",
       "      <th>name</th>\n",
       "      <th>flatName</th>\n",
       "      <th>repo</th>\n",
       "      <th>repo_name</th>\n",
       "      <th>org_name</th>\n",
       "      <th>contributorsCount</th>\n",
       "      <th>commitsThisYear</th>\n",
       "      <th>stars</th>\n",
       "      <th>github_data</th>\n",
       "      <th>extra</th>\n",
       "      <th>industries</th>\n",
       "      <th>headquarters</th>\n",
       "      <th>image_data</th>\n",
       "    </tr>\n",
       "    <tr>\n",
       "      <th>category</th>\n",
       "      <th>subcategory</th>\n",
       "      <th>relation</th>\n",
       "      <th>id</th>\n",
       "      <th></th>\n",
       "      <th></th>\n",
       "      <th></th>\n",
       "      <th></th>\n",
       "      <th></th>\n",
       "      <th></th>\n",
       "      <th></th>\n",
       "      <th></th>\n",
       "      <th></th>\n",
       "      <th></th>\n",
       "      <th></th>\n",
       "      <th></th>\n",
       "      <th></th>\n",
       "    </tr>\n",
       "  </thead>\n",
       "  <tbody>\n",
       "    <tr>\n",
       "      <th rowspan=\"5\" valign=\"top\">App Definition and Development</th>\n",
       "      <th rowspan=\"5\" valign=\"top\">Application Definition &amp; Image Build</th>\n",
       "      <th rowspan=\"2\" valign=\"top\">False</th>\n",
       "      <th>gefyra</th>\n",
       "      <td>Gefyra</td>\n",
       "      <td>Gefyra</td>\n",
       "      <td>gefyrahq/gefyra</td>\n",
       "      <td>gefyra</td>\n",
       "      <td>gefyrahq</td>\n",
       "      <td>13.0</td>\n",
       "      <td>786</td>\n",
       "      <td>550.0</td>\n",
       "      <td>{'languages': [{'name': 'Python', 'value': 386...</td>\n",
       "      <td>{'slack_url': 'https://discord.gg/8NTPMVPaKy'}</td>\n",
       "      <td>[Marketing, Software, Web Development]</td>\n",
       "      <td>Munich, Germany</td>\n",
       "      <td>{'fileName': 'gefyra.svg', 'hash': 'vGElpZyBbf...</td>\n",
       "    </tr>\n",
       "    <tr>\n",
       "      <th>mirrord</th>\n",
       "      <td>mirrord</td>\n",
       "      <td>mirrord</td>\n",
       "      <td>metalbear-co/mirrord</td>\n",
       "      <td>mirrord</td>\n",
       "      <td>metalbear-co</td>\n",
       "      <td>28.0</td>\n",
       "      <td>846</td>\n",
       "      <td>2949.0</td>\n",
       "      <td>{'languages': [{'name': 'Rust', 'value': 15028...</td>\n",
       "      <td>{'slack_url': 'https://discord.com/invite/pSKE...</td>\n",
       "      <td>[Developer Tools, Information Technology, Open...</td>\n",
       "      <td>Tel Aviv, Israel</td>\n",
       "      <td>{'fileName': 'mirrord.svg', 'hash': '866NcKcVN...</td>\n",
       "    </tr>\n",
       "    <tr>\n",
       "      <th>graduated</th>\n",
       "      <th>helm</th>\n",
       "      <td>Helm</td>\n",
       "      <td>Helm</td>\n",
       "      <td>helm/helm</td>\n",
       "      <td>helm</td>\n",
       "      <td>helm</td>\n",
       "      <td>766.0</td>\n",
       "      <td>407</td>\n",
       "      <td>24953.0</td>\n",
       "      <td>{'languages': [{'name': 'Go', 'value': 1807584...</td>\n",
       "      <td>{'accepted': '2018-06-01', 'incubating': '2018...</td>\n",
       "      <td>[Cloud Computing, Cloud Infrastructure, Non Pr...</td>\n",
       "      <td>San Francisco, California</td>\n",
       "      <td>{'fileName': 'helm.svg', 'hash': 'KhA6o4K6XUSq...</td>\n",
       "    </tr>\n",
       "    <tr>\n",
       "      <th rowspan=\"2\" valign=\"top\">incubating</th>\n",
       "      <th>backstage</th>\n",
       "      <td>Backstage</td>\n",
       "      <td>Backstage</td>\n",
       "      <td>backstage/backstage</td>\n",
       "      <td>backstage</td>\n",
       "      <td>backstage</td>\n",
       "      <td>1629.0</td>\n",
       "      <td>12533</td>\n",
       "      <td>23285.0</td>\n",
       "      <td>{'languages': [{'name': 'TypeScript', 'value':...</td>\n",
       "      <td>{'accepted': '2020-09-08', 'incubating': '2022...</td>\n",
       "      <td>[Cloud Computing, Cloud Infrastructure, Non Pr...</td>\n",
       "      <td>San Francisco, California</td>\n",
       "      <td>{'fileName': 'backstage.svg', 'hash': 'UDo/uyF...</td>\n",
       "    </tr>\n",
       "    <tr>\n",
       "      <th>buildpacks</th>\n",
       "      <td>Buildpacks</td>\n",
       "      <td>Buildpacks</td>\n",
       "      <td>buildpacks/pack</td>\n",
       "      <td>pack</td>\n",
       "      <td>buildpacks</td>\n",
       "      <td>123.0</td>\n",
       "      <td>951</td>\n",
       "      <td>2139.0</td>\n",
       "      <td>{'languages': [{'name': 'Go', 'value': 2266863...</td>\n",
       "      <td>{'accepted': '2018-10-03', 'incubating': '2020...</td>\n",
       "      <td>[Cloud Computing, Cloud Infrastructure, Non Pr...</td>\n",
       "      <td>San Francisco, California</td>\n",
       "      <td>{'fileName': 'buildpacks.svg', 'hash': 'yLJvp/...</td>\n",
       "    </tr>\n",
       "  </tbody>\n",
       "</table>\n",
       "</div>"
      ],
      "text/plain": [
       "                                                                                                  name    flatName                  repo  repo_name      org_name  contributorsCount  commitsThisYear    stars                                        github_data                                              extra                                         industries               headquarters                                         image_data\n",
       "category                       subcategory                           relation   id                                                                                                                                                                                                                                                                                                                                                                   \n",
       "App Definition and Development  Application Definition & Image Build False      gefyra          Gefyra      Gefyra       gefyrahq/gefyra     gefyra      gefyrahq               13.0              786    550.0  {'languages': [{'name': 'Python', 'value': 386...     {'slack_url': 'https://discord.gg/8NTPMVPaKy'}             [Marketing, Software, Web Development]            Munich, Germany  {'fileName': 'gefyra.svg', 'hash': 'vGElpZyBbf...\n",
       "                                                                                mirrord        mirrord     mirrord  metalbear-co/mirrord    mirrord  metalbear-co               28.0              846   2949.0  {'languages': [{'name': 'Rust', 'value': 15028...  {'slack_url': 'https://discord.com/invite/pSKE...  [Developer Tools, Information Technology, Open...           Tel Aviv, Israel  {'fileName': 'mirrord.svg', 'hash': '866NcKcVN...\n",
       "                                                                     graduated  helm              Helm        Helm             helm/helm       helm          helm              766.0              407  24953.0  {'languages': [{'name': 'Go', 'value': 1807584...  {'accepted': '2018-06-01', 'incubating': '2018...  [Cloud Computing, Cloud Infrastructure, Non Pr...  San Francisco, California  {'fileName': 'helm.svg', 'hash': 'KhA6o4K6XUSq...\n",
       "                                                                     incubating backstage    Backstage   Backstage   backstage/backstage  backstage     backstage             1629.0            12533  23285.0  {'languages': [{'name': 'TypeScript', 'value':...  {'accepted': '2020-09-08', 'incubating': '2022...  [Cloud Computing, Cloud Infrastructure, Non Pr...  San Francisco, California  {'fileName': 'backstage.svg', 'hash': 'UDo/uyF...\n",
       "                                                                                buildpacks  Buildpacks  Buildpacks       buildpacks/pack       pack    buildpacks              123.0              951   2139.0  {'languages': [{'name': 'Go', 'value': 2266863...  {'accepted': '2018-10-03', 'incubating': '2020...  [Cloud Computing, Cloud Infrastructure, Non Pr...  San Francisco, California  {'fileName': 'buildpacks.svg', 'hash': 'yLJvp/..."
      ]
     },
     "execution_count": 145,
     "metadata": {},
     "output_type": "execute_result"
    }
   ],
   "source": [
    "print(df.info())\n",
    "print(f'index.names: {df.index.names}')\n",
    "df.head()"
   ]
  },
  {
   "cell_type": "code",
   "execution_count": 148,
   "metadata": {},
   "outputs": [
    {
     "name": "stdout",
     "output_type": "stream",
     "text": [
      "<class 'pandas.core.frame.DataFrame'>\n",
      "MultiIndex: 226 entries, ('App Definition and Development', ' Application Definition & Image Build', False, 'gefyra') to ('Wasm', ' Runtimes', 'sandbox', 'wasm-edge-wasm')\n",
      "Data columns (total 13 columns):\n",
      " #   Column             Non-Null Count  Dtype  \n",
      "---  ------             --------------  -----  \n",
      " 0   name               226 non-null    object \n",
      " 1   flatName           226 non-null    object \n",
      " 2   repo               226 non-null    string \n",
      " 3   repo_name          226 non-null    string \n",
      " 4   org_name           226 non-null    string \n",
      " 5   contributorsCount  226 non-null    float64\n",
      " 6   commitsThisYear    226 non-null    int64  \n",
      " 7   stars              226 non-null    float64\n",
      " 8   github_data        226 non-null    object \n",
      " 9   extra              226 non-null    object \n",
      " 10  industries         226 non-null    object \n",
      " 11  headquarters       226 non-null    object \n",
      " 12  image_data         226 non-null    object \n",
      "dtypes: float64(2), int64(1), object(7), string(3)\n",
      "memory usage: 36.0+ KB\n"
     ]
    }
   ],
   "source": [
    "df.info()\n",
    "safe_set_index(df, ['category', 'subcategory', 'relation', 'id'])\n"
   ]
  },
  {
   "cell_type": "code",
   "execution_count": 149,
   "metadata": {},
   "outputs": [
    {
     "ename": "KeyError",
     "evalue": "\"None of ['relation'] are in the columns\"",
     "output_type": "error",
     "traceback": [
      "\u001b[0;31m---------------------------------------------------------------------------\u001b[0m",
      "\u001b[0;31mKeyError\u001b[0m                                  Traceback (most recent call last)",
      "\u001b[0;32m/var/folders/c1/8cr3x3sn78b_9jvn11z4zc_h0000gn/T/ipykernel_5438/2380331047.py\u001b[0m in \u001b[0;36m?\u001b[0;34m()\u001b[0m\n\u001b[1;32m      5\u001b[0m \u001b[0;34m\u001b[0m\u001b[0m\n\u001b[1;32m      6\u001b[0m \u001b[0mrepos_by_relation\u001b[0m \u001b[0;34m=\u001b[0m \u001b[0mdf\u001b[0m\u001b[0;34m.\u001b[0m\u001b[0mcopy\u001b[0m\u001b[0;34m(\u001b[0m\u001b[0;34m)\u001b[0m\u001b[0;34m\u001b[0m\u001b[0;34m\u001b[0m\u001b[0m\n\u001b[1;32m      7\u001b[0m \u001b[0mrepos_by_relation\u001b[0m\u001b[0;34m.\u001b[0m\u001b[0mgroupby\u001b[0m\u001b[0;34m(\u001b[0m\u001b[0;34m'relation'\u001b[0m\u001b[0;34m)\u001b[0m\u001b[0;34m[\u001b[0m\u001b[0;34m'repo'\u001b[0m\u001b[0;34m]\u001b[0m\u001b[0;34m.\u001b[0m\u001b[0magg\u001b[0m\u001b[0;34m(\u001b[0m\u001b[0;32mlambda\u001b[0m \u001b[0mx\u001b[0m\u001b[0;34m:\u001b[0m \u001b[0mlist\u001b[0m\u001b[0;34m(\u001b[0m\u001b[0mx\u001b[0m\u001b[0;34m)\u001b[0m\u001b[0;34m)\u001b[0m\u001b[0;34m.\u001b[0m\u001b[0mto_dict\u001b[0m\u001b[0;34m(\u001b[0m\u001b[0;34m)\u001b[0m\u001b[0;34m\u001b[0m\u001b[0;34m\u001b[0m\u001b[0m\n\u001b[1;32m      8\u001b[0m \u001b[0;34m\u001b[0m\u001b[0m\n\u001b[0;32m----> 9\u001b[0;31m \u001b[0msafe_set_index\u001b[0m\u001b[0;34m(\u001b[0m\u001b[0mrepos_by_relation\u001b[0m\u001b[0;34m,\u001b[0m \u001b[0midx_wanted\u001b[0m\u001b[0;34m=\u001b[0m\u001b[0;34m[\u001b[0m\u001b[0;34m'relation'\u001b[0m\u001b[0;34m,\u001b[0m \u001b[0;34m'name'\u001b[0m\u001b[0;34m]\u001b[0m\u001b[0;34m)\u001b[0m\u001b[0;34m\u001b[0m\u001b[0;34m\u001b[0m\u001b[0m\n\u001b[0m\u001b[1;32m     10\u001b[0m \u001b[0mrepos_by_relation\u001b[0m\u001b[0;34m.\u001b[0m\u001b[0msort_index\u001b[0m\u001b[0;34m(\u001b[0m\u001b[0;34m)\u001b[0m\u001b[0;34m\u001b[0m\u001b[0;34m\u001b[0m\u001b[0m\n",
      "\u001b[0;32m/var/folders/c1/8cr3x3sn78b_9jvn11z4zc_h0000gn/T/ipykernel_5438/863152932.py\u001b[0m in \u001b[0;36m?\u001b[0;34m(df, idx_wanted, sort, inplace)\u001b[0m\n\u001b[1;32m     17\u001b[0m \u001b[0;34m\u001b[0m\u001b[0m\n\u001b[1;32m     18\u001b[0m     \u001b[0;32mif\u001b[0m \u001b[0midx_wanted\u001b[0m \u001b[0;34m==\u001b[0m \u001b[0midx_existing\u001b[0m\u001b[0;34m:\u001b[0m\u001b[0;34m\u001b[0m\u001b[0;34m\u001b[0m\u001b[0m\n\u001b[1;32m     19\u001b[0m         \u001b[0mprint\u001b[0m\u001b[0;34m(\u001b[0m\u001b[0;34mf'\\n*** WARNING: attempt to set index to what it already is thwarted! \\n'\u001b[0m\u001b[0;34m)\u001b[0m\u001b[0;34m\u001b[0m\u001b[0;34m\u001b[0m\u001b[0m\n\u001b[1;32m     20\u001b[0m     \u001b[0;32melse\u001b[0m\u001b[0;34m:\u001b[0m\u001b[0;34m\u001b[0m\u001b[0;34m\u001b[0m\u001b[0m\n\u001b[0;32m---> 21\u001b[0;31m         \u001b[0mdf\u001b[0m\u001b[0;34m.\u001b[0m\u001b[0mset_index\u001b[0m\u001b[0;34m(\u001b[0m\u001b[0midx_wanted\u001b[0m\u001b[0;34m,\u001b[0m \u001b[0mverify_integrity\u001b[0m\u001b[0;34m=\u001b[0m\u001b[0;32mTrue\u001b[0m\u001b[0;34m,\u001b[0m \u001b[0minplace\u001b[0m\u001b[0;34m=\u001b[0m\u001b[0minplace\u001b[0m\u001b[0;34m)\u001b[0m\u001b[0;34m\u001b[0m\u001b[0;34m\u001b[0m\u001b[0m\n\u001b[0m\u001b[1;32m     22\u001b[0m         \u001b[0mprint\u001b[0m\u001b[0;34m(\u001b[0m\u001b[0;34mf'\\t Index changed from {idx_existing} --> {list(df.index.names)}'\u001b[0m\u001b[0;34m)\u001b[0m\u001b[0;34m\u001b[0m\u001b[0;34m\u001b[0m\u001b[0m\n\u001b[1;32m     23\u001b[0m \u001b[0;34m\u001b[0m\u001b[0m\n\u001b[1;32m     24\u001b[0m     \u001b[0;32mif\u001b[0m \u001b[0msort\u001b[0m\u001b[0;34m:\u001b[0m\u001b[0;34m\u001b[0m\u001b[0;34m\u001b[0m\u001b[0m\n",
      "\u001b[0;32m~/gh/cncf/landscape-graph/.venv-ipynb/lib/python3.11/site-packages/pandas/core/frame.py\u001b[0m in \u001b[0;36m?\u001b[0;34m(self, keys, drop, append, inplace, verify_integrity)\u001b[0m\n\u001b[1;32m   5866\u001b[0m                     \u001b[0;32mif\u001b[0m \u001b[0;32mnot\u001b[0m \u001b[0mfound\u001b[0m\u001b[0;34m:\u001b[0m\u001b[0;34m\u001b[0m\u001b[0;34m\u001b[0m\u001b[0m\n\u001b[1;32m   5867\u001b[0m                         \u001b[0mmissing\u001b[0m\u001b[0;34m.\u001b[0m\u001b[0mappend\u001b[0m\u001b[0;34m(\u001b[0m\u001b[0mcol\u001b[0m\u001b[0;34m)\u001b[0m\u001b[0;34m\u001b[0m\u001b[0;34m\u001b[0m\u001b[0m\n\u001b[1;32m   5868\u001b[0m \u001b[0;34m\u001b[0m\u001b[0m\n\u001b[1;32m   5869\u001b[0m         \u001b[0;32mif\u001b[0m \u001b[0mmissing\u001b[0m\u001b[0;34m:\u001b[0m\u001b[0;34m\u001b[0m\u001b[0;34m\u001b[0m\u001b[0m\n\u001b[0;32m-> 5870\u001b[0;31m             \u001b[0;32mraise\u001b[0m \u001b[0mKeyError\u001b[0m\u001b[0;34m(\u001b[0m\u001b[0;34mf\"None of {missing} are in the columns\"\u001b[0m\u001b[0;34m)\u001b[0m\u001b[0;34m\u001b[0m\u001b[0;34m\u001b[0m\u001b[0m\n\u001b[0m\u001b[1;32m   5871\u001b[0m \u001b[0;34m\u001b[0m\u001b[0m\n\u001b[1;32m   5872\u001b[0m         \u001b[0;32mif\u001b[0m \u001b[0minplace\u001b[0m\u001b[0;34m:\u001b[0m\u001b[0;34m\u001b[0m\u001b[0;34m\u001b[0m\u001b[0m\n\u001b[1;32m   5873\u001b[0m             \u001b[0mframe\u001b[0m \u001b[0;34m=\u001b[0m \u001b[0mself\u001b[0m\u001b[0;34m\u001b[0m\u001b[0;34m\u001b[0m\u001b[0m\n",
      "\u001b[0;31mKeyError\u001b[0m: \"None of ['relation'] are in the columns\""
     ]
    }
   ],
   "source": [
    "# debug - just Observability TAG Projects\n",
    "#repos_by_relation = df.query(\"`category` == 'Observability and Analysis'\")[['relation','repo', 'name']].copy()\n",
    "\n",
    "\n",
    "\n",
    "repos_by_relation = df.copy()\n",
    "repos_by_relation.groupby('relation')['repo'].agg(lambda x: list(x)).to_dict()\n",
    "\n",
    "safe_set_index(repos_by_relation, idx_wanted=['relation', 'name'])\n",
    "repos_by_relation.sort_index()"
   ]
  },
  {
   "cell_type": "code",
   "execution_count": null,
   "metadata": {},
   "outputs": [],
   "source": [
    "graduated_single_repos  = repos_by_relation.loc['graduated', :]['repo'].tolist()\n",
    "incubating_single_repos = repos_by_relation.loc['incubating', :]['repo'].tolist()\n",
    "sandbox_single_repos    = repos_by_relation.loc['sandbox', :]['repo'].tolist()\n",
    "\n",
    "display(graduated_single_repos, incubating_single_repos, sandbox_single_repos)"
   ]
  },
  {
   "cell_type": "markdown",
   "metadata": {},
   "source": [
    "## Fetch project release data from GitHub API"
   ]
  },
  {
   "cell_type": "code",
   "execution_count": null,
   "metadata": {},
   "outputs": [],
   "source": [
    "import time\n",
    "import os\n",
    "import json\n",
    "import pandas as pd\n",
    "from typing import List\n",
    "from datetime import datetime, timezone\n",
    "from github import Github, GithubException\n",
    "\n",
    "pd.set_option('display.max_rows', 500)\n",
    "pd.set_option('display.max_columns', 500)\n",
    "pd.set_option('display.width', 150)\n",
    "\n",
    "def fetch_repo_data(token: str, \n",
    "                    repo_list: List[str], \n",
    "                    since: datetime=None, \n",
    "                    json_file: str=None, \n",
    "                    csv_file: str=None, \n",
    "                    state_file: str=None) -> pd.DataFrame:\n",
    "\n",
    "    # Initialize DataFrame\n",
    "    # df = pd.DataFrame(columns=[\n",
    "    #     'repo_name', 'release_name', 'release_date', \n",
    "    #     'language', 'release_notes'\n",
    "    # ])\n",
    "\n",
    "    df = pd.DataFrame(columns=['repo_name', 'release_name', 'release_date', 'language'])\n",
    "\n",
    "    # Initialize GitHub client\n",
    "    g = Github(token)\n",
    "\n",
    "    # Initialize loop state\n",
    "    if state_file:\n",
    "        try:\n",
    "            with open(state_file, 'r') as f:\n",
    "                state = json.load(f)\n",
    "        except FileNotFoundError:\n",
    "            state = {'i': 0, 'repos_done': []}\n",
    "    else:\n",
    "        state = {'i': 0, 'repos_done': []}\n",
    "\n",
    "    # Loop over repositories\n",
    "    while state['i'] < len(repo_list):\n",
    "        repo_str = repo_list[state['i']]\n",
    "\n",
    "        if repo_str in state['repos_done']:\n",
    "            print(f\"Skipping: {repo_str}\")\n",
    "            state['i'] += 1\n",
    "            continue\n",
    "\n",
    "        while True:\n",
    "            try:\n",
    "                repo = g.get_repo(repo_str)\n",
    "                break\n",
    "            except GithubException as e:\n",
    "                if e.status == 404:\n",
    "                    print(f\"Repository {repo_str} not found\")\n",
    "                    break\n",
    "                elif e.status == 429:\n",
    "                    print(f\"Rate limit exceeded, waiting for {e.headers['Retry-After']} seconds...\")\n",
    "                    time.sleep(int(e.headers['Retry-After']))\n",
    "                else:\n",
    "                    print(f\"Error getting repository {repo_str}: {e}\")\n",
    "                    break\n",
    "\n",
    "        if not repo:\n",
    "            state['i'] += 1\n",
    "            continue\n",
    "\n",
    "        #\n",
    "        # Get all releases\n",
    "        #\n",
    "        releases = repo.get_releases()\n",
    "        language = repo.language\n",
    "\n",
    "        for release in releases:\n",
    "            if since is None or release.created_at >= since:\n",
    "                df = pd.concat([df, pd.DataFrame({\n",
    "                    'repo_name': [repo_str],\n",
    "                    'release_name': [release.title],\n",
    "                    'release_date': [str(release.published_at)],\n",
    "                    'language': [language],\n",
    "                    #'release_notes': [release.body]\n",
    "                })])\n",
    "                print(f\"Added {release.published_at}, {repo_str}::{release.title}  \")\n",
    "\n",
    "        # Save state\n",
    "        if state_file:\n",
    "            state['repos_done'].append(repo_str)\n",
    "            with open(state_file, 'w') as f:\n",
    "                json.dump(state, f, indent=4)\n",
    "\n",
    "        state['i'] += 1\n",
    "\n",
    "    #print (releases)\n",
    "    \n",
    "    # Save as CSV\n",
    "    if csv_file:\n",
    "        df.to_csv(csv_file, index=False)\n",
    "\n",
    "    # Save as JSON\n",
    "    if json_file:\n",
    "        df.to_json(json_file, orient='records', lines=True)\n",
    "    return df"
   ]
  },
  {
   "cell_type": "code",
   "execution_count": null,
   "metadata": {},
   "outputs": [],
   "source": [
    "!mkdir -p out"
   ]
  },
  {
   "cell_type": "code",
   "execution_count": null,
   "metadata": {},
   "outputs": [],
   "source": [
    "def fetch_one(token, since_date, level, repos):\n",
    "\n",
    "    json_file=f'out/{level}-github-releases.json' \n",
    "    csv_file=f'out/{level}-github-releases.csv'\n",
    "    state_file=f'out/.nukeme_state_file_{level}'\n",
    "    \n",
    "    print(f\"Fetching {len(repos)} repositories for {level} projects\")\n",
    "    \n",
    "    releases = fetch_repo_data( token, \n",
    "                                repos, \n",
    "                                since=since_date,\n",
    "                                json_file=json_file,\n",
    "                                csv_file=csv_file)"
   ]
  },
  {
   "cell_type": "code",
   "execution_count": null,
   "metadata": {},
   "outputs": [],
   "source": [
    "token = os.environ['GITHUB_TOKEN']\n",
    "since_date = datetime(2022, 11, 7, tzinfo=timezone.utc)"
   ]
  },
  {
   "cell_type": "code",
   "execution_count": null,
   "metadata": {},
   "outputs": [],
   "source": [
    "fetch_one(token, since_date, 'cncf-graduated', graduated_single_repos)"
   ]
  },
  {
   "cell_type": "code",
   "execution_count": null,
   "metadata": {},
   "outputs": [],
   "source": [
    "fetch_one(token, since_date, 'cncf-incubating', incubating_single_repos)"
   ]
  },
  {
   "cell_type": "code",
   "execution_count": null,
   "metadata": {},
   "outputs": [],
   "source": [
    "fetch_one(token, since_date, 'cncf-sandbox', sandbox_single_repos)"
   ]
  },
  {
   "cell_type": "markdown",
   "metadata": {},
   "source": [
    "## Visualize Releases"
   ]
  },
  {
   "cell_type": "code",
   "execution_count": null,
   "metadata": {},
   "outputs": [],
   "source": [
    "%pip install ipympl\n",
    "\n",
    "%matplotlib inline\n",
    "%matplotlib widget"
   ]
  },
  {
   "cell_type": "code",
   "execution_count": null,
   "metadata": {},
   "outputs": [],
   "source": [
    "import plotly.express as px\n",
    "import matplotlib.pyplot as plt\n",
    "\n",
    "# def plot_releases_timeline(releases: pd.DataFrame):\n",
    "#     fig = px.timeline(releases, x_start=\"release_date\", x_end=\"release_date\", y=\"repo_name\", color=\"language\", title=\"GitHub Releases Timeline\")\n",
    "#     fig.update_yaxes(autorange=\"reversed\")\n",
    "#     fig.show()\n",
    "\n",
    "# def plot_releases_scatter_simple(releases: pd.DataFrame):\n",
    "#     # Filter releases by year\n",
    "#     releases_2023 = releases[releases['release_date'].dt.year == 2023]\n",
    "\n",
    "#     # Create scatter plot\n",
    "#     fig = px.scatter(releases_2023, x=\"release_date\", y=\"repo_name\", color=\"language\")\n",
    "#     fig.update_yaxes(autorange=\"reversed\")\n",
    "#     fig.show()\n",
    "\n",
    "def plot_releases_scatter(releases: pd.DataFrame, title: str=None):\n",
    "    # # Filter releases by year\n",
    "    # releases_2023 = releases[releases['release_date'].dt.year == 2023]\n",
    "\n",
    "    if title is None:\n",
    "        title = \"GitHub Releases Timeline\"\n",
    "\n",
    "    # Group releases by organization\n",
    "    releases['organization'] = releases['repo_name'].apply(lambda x: x.split('/')[0])\n",
    "\n",
    "    # Create scatter plot\n",
    "    fig = px.scatter(releases, x=\"release_date\", y=\"repo_name\", color=\"organization\", symbol=\"language\", title=\"Project Releases\")\n",
    "    fig.update_yaxes(autorange=\"reversed\")\n",
    "    \n",
    "    fig.update_layout(showlegend=True,\n",
    "                      autosize=True,\n",
    "                      width=1000)\n",
    "                    #   height=2500,\n",
    "                    #   )\n",
    "    fig.show()"
   ]
  },
  {
   "cell_type": "code",
   "execution_count": null,
   "metadata": {},
   "outputs": [],
   "source": [
    "import pandas as pd\n",
    "import os\n",
    "\n",
    "def json_to_csv(json_file_path: str) -> None:\n",
    "    \"\"\"\n",
    "    Load a JSON file into a pandas DataFrame and save it as a CSV file with the same name.\n",
    "    \"\"\"\n",
    "    df = pd.read_json(json_file_path, lines=True)\n",
    "    \n",
    "    csv_file_path = os.path.splitext(json_file_path)[0] + '.csv'\n",
    "    df.to_csv(csv_file_path, index=False)"
   ]
  },
  {
   "cell_type": "code",
   "execution_count": null,
   "metadata": {},
   "outputs": [],
   "source": [
    "for level in ['graduated', 'incubating', 'sandbox']:\n",
    "    json_to_csv(f'out/cncf-{level}-github-releases.json')"
   ]
  },
  {
   "cell_type": "code",
   "execution_count": null,
   "metadata": {},
   "outputs": [],
   "source": [
    "def plot_releases_from_csv(csv_file: str, title: str) -> None:\n",
    "    csv_file =f'out/cncf-{level}-github-releases.csv'\n",
    "    if os.path.exists(csv_file):\n",
    "        df_releases = pd.read_csv(csv_file)\n",
    "        df_releases.release_date = pd.to_datetime(df_releases.release_date)\n",
    "        \n",
    "        plot_releases_scatter(df_releases, title)\n",
    "    else:\n",
    "        print(f\"CSV file {csv_file} not found\")"
   ]
  },
  {
   "cell_type": "code",
   "execution_count": null,
   "metadata": {
    "lines_to_next_cell": 2
   },
   "outputs": [],
   "source": [
    "import pandas as pd\n",
    "import os\n",
    "\n",
    "for level in ['graduated', 'incubating', 'sandbox']:\n",
    "    plot_releases_from_csv(f'out/cncf-{level}-github-releases.csv', f'Releases: {level}')\n"
   ]
  },
  {
   "cell_type": "code",
   "execution_count": null,
   "metadata": {},
   "outputs": [],
   "source": [
    "import pandas as pd\n",
    "import os\n",
    "\n",
    "\n",
    "# plot_releases_scatter(f'out/cncf-all-github-releases.csv')\n",
    "\n"
   ]
  },
  {
   "cell_type": "code",
   "execution_count": null,
   "metadata": {
    "editable": true,
    "slideshow": {
     "slide_type": ""
    },
    "tags": []
   },
   "outputs": [],
   "source": [
    "releases_by_repo = releases[['repo_name', 'release_date']].groupby('repo_name').count()\n",
    "releases_by_repo.to_csv('cncf_releases_by_repo.csv')"
   ]
  },
  {
   "cell_type": "code",
   "execution_count": null,
   "metadata": {},
   "outputs": [],
   "source": []
  },
  {
   "cell_type": "code",
   "execution_count": null,
   "metadata": {},
   "outputs": [],
   "source": []
  }
 ],
 "metadata": {
  "kernelspec": {
   "display_name": "Python 3 (ipykernel)",
   "language": "python",
   "name": "python3"
  },
  "language_info": {
   "codemirror_mode": {
    "name": "ipython",
    "version": 3
   },
   "file_extension": ".py",
   "mimetype": "text/x-python",
   "name": "python",
   "nbconvert_exporter": "python",
   "pygments_lexer": "ipython3",
   "version": "3.11.2"
  }
 },
 "nbformat": 4,
 "nbformat_minor": 4
}
