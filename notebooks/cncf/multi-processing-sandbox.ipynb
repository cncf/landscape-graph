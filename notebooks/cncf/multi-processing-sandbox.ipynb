{
 "cells": [
  {
   "cell_type": "code",
   "execution_count": 4,
   "metadata": {},
   "outputs": [
    {
     "name": "stdout",
     "output_type": "stream",
     "text": [
      "Writing pooltest.py\n"
     ]
    }
   ],
   "source": [
    "%%file pooltest.py\n",
    "\n",
    "from time import time, sleep\n",
    "    \n",
    "from multiprocessing import Pool\n",
    "\n",
    "def delayed_square(x):\n",
    "    sleep(1)\n",
    "    return x*x\n",
    "\n",
    "if __name__ == '__main__': # Executed only on main process.\n",
    "    start = time()\n",
    "    data = list(range(8))\n",
    "    with Pool() as p:\n",
    "        result = sum(p.map(delayed_square, data))\n",
    "    stop = time()\n",
    "    print(f\"result = {result} - Elapsed time {stop - start}\")"
   ]
  },
  {
   "cell_type": "code",
   "execution_count": 5,
   "metadata": {},
   "outputs": [
    {
     "name": "stdout",
     "output_type": "stream",
     "text": [
      "result = 140 - Elapsed time 1.100019931793213\n"
     ]
    }
   ],
   "source": [
    "import sys\n",
    "\n",
    "!{sys.executable} pooltest.py"
   ]
  },
  {
   "cell_type": "code",
   "execution_count": 3,
   "metadata": {},
   "outputs": [
    {
     "name": "stderr",
     "output_type": "stream",
     "text": [
      "UsageError: Cell magic `%%magic` not found (But line magic `%magic` exists, did you mean that instead?).\n"
     ]
    }
   ],
   "source": [
    "%%magic help"
   ]
  },
  {
   "cell_type": "code",
   "execution_count": null,
   "metadata": {},
   "outputs": [],
   "source": []
  }
 ],
 "metadata": {
  "kernelspec": {
   "display_name": ".venv-ipynb",
   "language": "python",
   "name": "python3"
  },
  "language_info": {
   "codemirror_mode": {
    "name": "ipython",
    "version": 3
   },
   "file_extension": ".py",
   "mimetype": "text/x-python",
   "name": "python",
   "nbconvert_exporter": "python",
   "pygments_lexer": "ipython3",
   "version": "3.11.6"
  }
 },
 "nbformat": 4,
 "nbformat_minor": 2
}
