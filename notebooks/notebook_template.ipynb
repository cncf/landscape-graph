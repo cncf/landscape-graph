{
 "cells": [
  {
   "cell_type": "markdown",
   "id": "bf275e6d",
   "metadata": {},
   "source": [
    "# Your Notebook Title Here\n",
    "\n",
    "This notebook is designed for use with Quarto and includes a Python module for core functionalities."
   ]
  },
  {
   "cell_type": "markdown",
   "id": "31367544",
   "metadata": {},
   "source": [
    "## How to Use this Template\n",
    "- To render this notebook using Quarto, run `quarto render your_notebook.ipynb` in your terminal.\n",
    "- The accompanying Python module can be used both in this notebook and as a standalone CLI tool.\n",
    "\n",
    "```bash\n",
    "# to html\n",
    "quarto render notebook_template.ipynb\n",
    "\n",
    "# to pdf\n",
    "quarto install tinytex\n",
    "quarto render notebook_template.ipynb --to pdf\n",
    "```"
   ]
  },
  {
   "cell_type": "markdown",
   "id": "e5dfea62",
   "metadata": {},
   "source": [
    "### Installing Quarto\n",
    "\n",
    "To install Quarto, don't use brew (it's outdated), see the [quarto docs](https://quarto.org/docs/get-started).\n",
    "\n",
    "**Quarto ([quarto.org](https://quarto.org)) is simply stunning si.**\n",
    "\n",
    "<https://quarto.org/docs/guide> is worth bookmarking."
   ]
  },
  {
   "cell_type": "markdown",
   "id": "9d0d7ffd",
   "metadata": {},
   "source": [
    "### How to use Quarto's live preview interactively\n",
    "\n",
    "<https://quarto.org/docs/tools/jupyter-lab.html#workflow>\n",
    "\n",
    "```bash\n",
    "# to html\n",
    "quarto preview notebook_template.ipynb\n",
    "``````"
   ]
  },
  {
   "cell_type": "markdown",
   "id": "a80b1b8f",
   "metadata": {},
   "source": [
    "### How to use Quarto's `render` command\n",
    "\n",
    "<https://quarto.org/docs/output-formats/all-formats.html>\n",
    "\n",
    "<details>\n",
    "  <summary>Quarto render help (click)</summary>\n",
    "\n",
    "```bash\n",
    "ᐅ quarto render --help\n",
    "\n",
    "  Usage:   quarto render [input] [args...]\n",
    "  Version: 1.4.537                        \n",
    "\n",
    "  Description:\n",
    "\n",
    "    Render files or projects to various document types.\n",
    "\n",
    "  Options:\n",
    "\n",
    "    -h, --help                          - Show this help.                                                   \n",
    "    -t, --to                            - Specify output format(s).                                         \n",
    "    -o, --output                        - Write output to FILE (use '--output -' for stdout).               \n",
    "    --output-dir                        - Write output to DIR (path is input/project relative)              \n",
    "    -M, --metadata                      - Metadata value (KEY:VALUE).                                       \n",
    "    --site-url                          - Override site-url for website or book output                      \n",
    "    --execute                           - Execute code (--no-execute to skip execution).                    \n",
    "    -P, --execute-param                 - Execution parameter (KEY:VALUE).                                  \n",
    "    --execute-params                    - YAML file with execution parameters.                              \n",
    "    --execute-dir                       - Working directory for code execution.                             \n",
    "    --execute-daemon                    - Keep Jupyter kernel alive (defaults to 300 seconds).              \n",
    "    --execute-daemon-restart            - Restart keepalive Jupyter kernel before render.                   \n",
    "    --execute-debug                     - Show debug output when executing computations.                    \n",
    "    --use-freezer                       - Force use of frozen computations for an incremental file render.  \n",
    "    --cache                             - Cache execution output (--no-cache to prevent cache).             \n",
    "    --cache-refresh                     - Force refresh of execution cache.                                 \n",
    "    --no-clean                          - Do not clean project output-dir prior to render                   \n",
    "    --debug                             - Leave intermediate files in place after render.                   \n",
    "    pandoc-args...                      - Additional pandoc command line arguments.                         \n",
    "    --log                     <file>    - Path to log file                                                  \n",
    "    --log-level               <level>   - Log level (info, warning, error, critical)                        \n",
    "    --log-format              <format>  - Log format (plain, json-stream)                                   \n",
    "    --quiet                             - Suppress console output.                                          \n",
    "    --profile                           - Active project profile(s)                                         \n",
    "\n",
    "  Commands:\n",
    "\n",
    "    help  [command]  - Show this help or the help of a sub-command.\n",
    "\n",
    "  Examples:\n",
    "\n",
    "    Render Markdown:    quarto render document.qmd                  \n",
    "                        quarto render document.qmd --to html        \n",
    "                        quarto render document.qmd --to pdf --toc   \n",
    "    Render Notebook:    quarto render notebook.ipynb                \n",
    "                        quarto render notebook.ipynb --to docx      \n",
    "                        quarto render notebook.ipynb --to pdf --toc \n",
    "    Render Project:     quarto render                               \n",
    "                        quarto render projdir                       \n",
    "    Render w/ Metadata: quarto render document.qmd -M echo:false    \n",
    "                        quarto render document.qmd -M code-fold:true\n",
    "    Render to Stdout:   quarto render document.qmd --output -    \n",
    "    ```\n",
    "\n",
    "</details>\n"
   ]
  },
  {
   "cell_type": "markdown",
   "id": "7e07d1fb",
   "metadata": {},
   "source": [
    "## Python Module and Autoreload Setup\n",
    "The Python module `notebook_utils.py` contains all the utility functions. `%autoreload` is a magic for automatic reloading of the module."
   ]
  },
  {
   "cell_type": "code",
   "execution_count": 15,
   "id": "85e3dbc2",
   "metadata": {},
   "outputs": [
    {
     "name": "stdout",
     "output_type": "stream",
     "text": [
      "The autoreload extension is already loaded. To reload it, use:\n",
      "  %reload_ext autoreload\n"
     ]
    }
   ],
   "source": [
    "# Enable autoreload\n",
    "%load_ext autoreload\n",
    "%autoreload 2"
   ]
  },
  {
   "cell_type": "code",
   "execution_count": 16,
   "id": "52eefaaf",
   "metadata": {},
   "outputs": [],
   "source": [
    "# Import the custom module\n",
    "import notebook_utils as nu\n"
   ]
  },
  {
   "cell_type": "code",
   "execution_count": 17,
   "id": "08819b12",
   "metadata": {},
   "outputs": [],
   "source": [
    "# Setup logging for all cells\n",
    "%config Application.log_level='INFO'"
   ]
  },
  {
   "cell_type": "markdown",
   "id": "cd9ccae8",
   "metadata": {},
   "source": [
    "## Architecture Workflow Diagram\n",
    "Below is a workflow diagram illustrating the architecture of this template, including file outputs and processing steps.\n",
    "\n",
    "TODO: diagram here"
   ]
  },
  {
   "cell_type": "markdown",
   "id": "7bd51ab2",
   "metadata": {},
   "source": [
    "## Imports\n",
    "Place all your imports in this section."
   ]
  },
  {
   "cell_type": "markdown",
   "id": "b7317960",
   "metadata": {},
   "source": [
    "### Installation Instructions for Java, Quarto, and Graphviz\n",
    "\n",
    "#### Local macOS System\n",
    "\n",
    "Install via brew\n",
    "\n",
    "```bash\n",
    "brew install graphviz\n",
    "brew install openjdk\n",
    "```\n",
    "\n",
    "**Run this locally and update your .zshrc file**\n",
    "\n",
    "```bash\n",
    "brew info openjdk\n",
    "sudo ln -sfn /opt/homebrew/opt/openjdk/libexec/openjdk.jdk /Library/Java/JavaVirtualMachines/openjdk.jdk\n",
    "```\n",
    "\n",
    "Add to ~/.zshrc **MANUALLY** - don't just `echo $STUFF >> ~/.zshrc`, it will break fig or other CLI integrations.\n",
    "\n",
    "```bash\n",
    "# add this to ~/.zshrc\n",
    "export CPPFLAGS=\"-I/opt/homebrew/opt/openjdk/include\"\n",
    "export PATH=\"/opt/homebrew/opt/openjdk/bin:$PATH\"\n",
    "```\n",
    "\n",
    "#### JupyterLab Custom Docker Image\n",
    "\n",
    "1. **Graphviz**:\n",
    "   - Add these lines to your Dockerfile:\n",
    "     ```Dockerfile\n",
    "     RUN apt-get update && \\\n",
    "         apt-get install -y graphviz\n",
    "     ```\n",
    "\n",
    "2. **Java**:\n",
    "   - Include these lines in your Dockerfile:\n",
    "     ```Dockerfile\n",
    "     RUN apt-get update && \\\n",
    "         apt-get install -y default-jdk\n",
    "     ```\n",
    "\n"
   ]
  },
  {
   "cell_type": "markdown",
   "id": "224a5d4b",
   "metadata": {},
   "source": [
    "#### Validate installation of Java and Graphviz\n",
    "\n",
    "```bash\n",
    "set -x && dot -V && java -version && python --version && python3 --version\n",
    "````"
   ]
  },
  {
   "cell_type": "code",
   "execution_count": 18,
   "id": "6866124a",
   "metadata": {},
   "outputs": [
    {
     "name": "stdout",
     "output_type": "stream",
     "text": [
      "+zsh:1> dot -V\n",
      "dot - graphviz version 9.0.0 (20230911.1827)\n",
      "+zsh:1> java -version\n",
      "openjdk version \"21.0.1\" 2023-10-17\n",
      "OpenJDK Runtime Environment Homebrew (build 21.0.1)\n",
      "OpenJDK 64-Bit Server VM Homebrew (build 21.0.1, mixed mode, sharing)\n",
      "+zsh:1> python --version\n"
     ]
    },
    {
     "name": "stdout",
     "output_type": "stream",
     "text": [
      "Python 3.11.6\n",
      "+zsh:1> python3 --version\n",
      "Python 3.11.6\n"
     ]
    }
   ],
   "source": [
    "!set -x && dot -V && java -version && python --version && python3 --version"
   ]
  },
  {
   "cell_type": "markdown",
   "id": "263483e8",
   "metadata": {},
   "source": [
    "#### Validate quarto installation\n",
    "\n",
    "```bash\n",
    "quarto --version\n",
    "1.4.537\n",
    "```"
   ]
  }
 ],
 "metadata": {
  "kernelspec": {
   "display_name": ".venv-ipynb",
   "language": "python",
   "name": "python3"
  },
  "language_info": {
   "codemirror_mode": {
    "name": "ipython",
    "version": 3
   },
   "file_extension": ".py",
   "mimetype": "text/x-python",
   "name": "python",
   "nbconvert_exporter": "python",
   "pygments_lexer": "ipython3",
   "version": "3.11.6"
  }
 },
 "nbformat": 4,
 "nbformat_minor": 5
}
